{
 "cells": [
  {
   "cell_type": "code",
   "execution_count": 12,
   "metadata": {},
   "outputs": [
    {
     "name": "stdout",
     "output_type": "stream",
     "text": [
      "File: Ridership_202007.xlsx, Rows: 52, Columns: 52\n"
     ]
    }
   ],
   "source": [
    "import pandas as pd\n",
    "df = pd.read_excel('/Users/marvinlee/Downloads/ridership_2020/Ridership_202001.xlsx', sheet_name='Total Trips OD', engine='openpyxl')\n",
    "print(f\"File: {file}, Rows: {df.shape[0]}, Columns: {df.shape[1]}\")"
   ]
  },
  {
   "cell_type": "code",
   "execution_count": null,
   "metadata": {},
   "outputs": [
    {
     "name": "stdout",
     "output_type": "stream",
     "text": [
      "Error processing file Ridership_201804.xlsx: index 51 is out of bounds for axis 0 with size 48\n",
      "Error processing file Ridership_201803.xlsx: index 51 is out of bounds for axis 0 with size 48\n",
      "Error processing file Ridership_201802.xlsx: index 51 is out of bounds for axis 0 with size 48\n",
      "Error processing file Ridership_201801.xlsx: Worksheet named 'Total Trips OD' not found\n"
     ]
    }
   ],
   "source": [
    "import pandas as pd\n",
    "import os\n",
    "\n",
    "# Path to the folder containing the Excel files\n",
    "folder_path = '/Users/marvinlee/Downloads/ridership_2017'\n",
    "\n",
    "# File for which we want to calculate the total (e.g., ridership_201801.xlsx)\n",
    "file_name = 'ridership_201701.xlsx'\n",
    "file_path = os.path.join(folder_path, file_name)\n",
    "\n",
    "try:\n",
    "    # Read the \"Weekday OD\", \"Saturday OD\", and \"Sunday OD\" sheets\n",
    "    weekday_df = pd.read_excel(file_path, sheet_name='Weekday OD', engine='openpyxl')\n",
    "    saturday_df = pd.read_excel(file_path, sheet_name='Saturday OD', engine='openpyxl')\n",
    "    sunday_df = pd.read_excel(file_path, sheet_name='Sunday OD', engine='openpyxl')\n",
    "\n",
    "    # Extract the value from row 48, column 48 in each sheet (adjusted for zero-based indexing)\n",
    "    weekday_value = weekday_df.iloc[47, 47]  \n",
    "    saturday_value = saturday_df.iloc[47, 47]  \n",
    "    sunday_value = sunday_df.iloc[47, 47]  \n",
    "\n",
    "    # Calculate the total for weekdays (multiply by 5)\n",
    "    weekday_total = weekday_value * 5  \n",
    "\n",
    "    # Calculate the total for weekends (Saturday and Sunday, multiply by 4)\n",
    "    weekend_total = (saturday_value * 4) + (sunday_value * 4)\n",
    "\n",
    "    # Print the results\n",
    "    print(f\"Weekday Total for {file_name}: {weekday_total}\")\n",
    "    print(f\"Weekend Total for {file_name}: {weekend_total}\")\n",
    "\n",
    "    # Calculate overall total\n",
    "    overall_total = weekday_total + weekend_total\n",
    "    print(f\"Overall Total for {file_name}: {overall_total}\")\n",
    "\n",
    "except Exception as e:\n",
    "    print(f\"Error processing file {file_name}: {e}\")\n"
   ]
  },
  {
   "cell_type": "code",
   "execution_count": null,
   "metadata": {},
   "outputs": [
    {
     "name": "stdout",
     "output_type": "stream",
     "text": [
      "Weekday Total for Ridership_December2017.xlsx: 8998038.210526314\n",
      "Weekend Total for Ridership_December2017.xlsx: 1235456.0\n",
      "Overall Total for Ridership_December2017.xlsx: 10233494.210526314\n"
     ]
    }
   ],
   "source": [
    "import pandas as pd\n",
    "import os\n",
    "\n",
    "# Path to the folder containing the Excel files\n",
    "folder_path = '/Users/marvinlee/Downloads/ridership_2016'\n",
    "\n",
    "# File for which we want to calculate the total (e.g., ridership_201801.xlsx)\n",
    "file_name = 'Ridership_December2017.xlsx'\n",
    "file_path = os.path.join(folder_path, file_name)\n",
    "\n",
    "try:\n",
    "    # Read the \"Weekday OD\", \"Saturday OD\", and \"Sunday OD\" sheets\n",
    "    weekday_df = pd.read_excel(file_path, sheet_name='Weekday OD', engine='openpyxl')\n",
    "    saturday_df = pd.read_excel(file_path, sheet_name='Saturday OD', engine='openpyxl')\n",
    "    sunday_df = pd.read_excel(file_path, sheet_name='Sunday OD', engine='openpyxl')\n",
    "\n",
    "    # Extract the value from row 48, column 48 in each sheet (adjusted for zero-based indexing)\n",
    "    weekday_value = weekday_df.iloc[47, 47]  \n",
    "    saturday_value = saturday_df.iloc[47, 47]  \n",
    "    sunday_value = sunday_df.iloc[47, 47]  \n",
    "\n",
    "    # Calculate the total for weekdays (multiply by 5)\n",
    "    weekday_total = weekday_value * 23  \n",
    "\n",
    "    # Calculate the total for weekends (Saturday and Sunday, multiply by 4)\n",
    "    weekend_total = (saturday_value * 4) + (sunday_value * 4)\n",
    "\n",
    "    # Print the results\n",
    "    print(f\"Weekday Total for {file_name}: {weekday_total}\")\n",
    "    print(f\"Weekend Total for {file_name}: {weekend_total}\")\n",
    "\n",
    "    # Calculate overall total\n",
    "    overall_total = weekday_total + weekend_total\n",
    "    print(f\"Overall Total for {file_name}: {overall_total}\")\n",
    "\n",
    "except Exception as e:\n",
    "    print(f\"Error processing file {file_name}: {e}\")\n"
   ]
  },
  {
   "cell_type": "code",
   "execution_count": 59,
   "metadata": {},
   "outputs": [
    {
     "name": "stdout",
     "output_type": "stream",
     "text": [
      "       File  Weekday Total  Weekend Total  Overall Total\n",
      "11  01.xlsx     8217242.20     1159542.00     9376784.20\n",
      "1   02.xlsx     8584200.30     1362266.00     9946466.30\n",
      "0   03.xlsx     8465282.77     1186646.40     9651929.17\n",
      "6   04.xlsx     8601371.33     1275060.40     9876431.73\n",
      "2   05.xlsx     8663071.27     1410102.00    10073173.27\n",
      "9   06.xlsx     8580072.24     1507987.60    10088059.84\n",
      "8   07.xlsx     8640845.90     1328249.80     9969095.70\n",
      "4   08.xlsx     8838776.00     1421999.00    10260775.00\n",
      "3   09.xlsx     9267968.63     1447127.20    10715095.83\n",
      "10  10.xlsx     9589434.95     1624550.00    11213984.95\n",
      "7   11.xlsx     9046553.68     1385115.00    10431668.68\n",
      "5   12.xlsx     8627113.44     1310915.20     9938028.64\n",
      "Monthly totals saved to /Users/marvinlee/Downloads/ridership_monthly_totals.csv\n"
     ]
    }
   ],
   "source": [
    "import pandas as pd\n",
    "import os\n",
    "pd.set_option('display.float_format', '{:.2f}'.format)\n",
    "# Path to the folder containing the Excel files\n",
    "folder_path = '/Users/marvinlee/Downloads/ridership_2012'\n",
    "\n",
    "# List to store the results\n",
    "results = []\n",
    "\n",
    "# Loop through each Excel file in the folder\n",
    "for file in os.listdir(folder_path):\n",
    "    if file.endswith('.xlsx'):  # Ensure it's an Excel file\n",
    "        file_path = os.path.join(folder_path, file)\n",
    "        try:\n",
    "            # Read the \"Weekday OD\", \"Saturday OD\", and \"Sunday OD\" sheets\n",
    "            weekday_df = pd.read_excel(file_path, sheet_name='Weekday OD', engine='openpyxl')\n",
    "            saturday_df = pd.read_excel(file_path, sheet_name='Saturday OD', engine='openpyxl')\n",
    "            sunday_df = pd.read_excel(file_path, sheet_name='Sunday OD', engine='openpyxl')\n",
    "\n",
    "            # Extract the value from row 48, column 48 in each sheet (adjusted for zero-based indexing)\n",
    "            weekday_value = weekday_df.iloc[45, 45]\n",
    "            saturday_value = saturday_df.iloc[45, 45]\n",
    "            sunday_value = sunday_df.iloc[45, 45]\n",
    "\n",
    "            # Assuming a standard month:\n",
    "            # - Weekdays (Mon-Fri): 23 days\n",
    "            # - Weekends (Sat-Sun): 4 Saturdays and 4 Sundays\n",
    "            weekday_total = weekday_value * 23\n",
    "            weekend_total = (saturday_value * 4) + (sunday_value * 4)\n",
    "\n",
    "            # Calculate overall total\n",
    "            overall_total = weekday_total + weekend_total\n",
    "\n",
    "            # Store the results in a dictionary\n",
    "            results.append({\n",
    "                'File': file,\n",
    "                'Weekday Total': weekday_total,\n",
    "                'Weekend Total': weekend_total,\n",
    "                'Overall Total': overall_total\n",
    "            })\n",
    "\n",
    "        except Exception as e:\n",
    "            print(f\"Error processing file {file}: {e}\")\n",
    "\n",
    "# Convert the results to a DataFrame for better visualization\n",
    "results_df = pd.DataFrame(results)\n",
    "results_df = results_df.sort_values(by='File')\n",
    "\n",
    "# Display the results\n",
    "print(results_df)\n",
    "\n",
    "# Save the results to a CSV file\n",
    "csv_path = '/Users/marvinlee/Downloads/ridership_monthly_totals.csv'\n",
    "results_df.to_csv(csv_path, index=False)\n",
    "\n",
    "print(f\"Monthly totals saved to {csv_path}\")\n"
   ]
  }
 ],
 "metadata": {
  "kernelspec": {
   "display_name": "base",
   "language": "python",
   "name": "python3"
  },
  "language_info": {
   "codemirror_mode": {
    "name": "ipython",
    "version": 3
   },
   "file_extension": ".py",
   "mimetype": "text/x-python",
   "name": "python",
   "nbconvert_exporter": "python",
   "pygments_lexer": "ipython3",
   "version": "3.12.4"
  }
 },
 "nbformat": 4,
 "nbformat_minor": 2
}
