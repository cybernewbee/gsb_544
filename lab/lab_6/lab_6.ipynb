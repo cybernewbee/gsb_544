{
 "cells": [
  {
   "cell_type": "markdown",
   "metadata": {},
   "source": [
    "---\n",
    "title: Lab 6 \n",
    "author: Marvin (Wenxiang) Li\n",
    "format:\n",
    "    html:\n",
    "        toc: true\n",
    "        code-fold: true\n",
    "embed-resources: true\n",
    "---"
   ]
  },
  {
   "cell_type": "code",
   "execution_count": 51,
   "metadata": {
    "id": "If-t17DuaYSt"
   },
   "outputs": [],
   "source": [
    "import numpy as np\n",
    "import pandas as pd\n",
    "baseball = pd.read_csv(\"https://www.dropbox.com/s/boshaqfgdjiaxh4/Hitters.csv?dl=1\")\n",
    "baseball = baseball.dropna().reset_index(drop=True)"
   ]
  },
  {
   "cell_type": "code",
   "execution_count": 52,
   "metadata": {
    "colab": {
     "base_uri": "https://localhost:8080/"
    },
    "id": "lmGl_Hr_f5XC",
    "outputId": "a59c4b71-0ccd-431f-93f9-7d5d221aac03"
   },
   "outputs": [
    {
     "name": "stdout",
     "output_type": "stream",
     "text": [
      "<class 'pandas.core.frame.DataFrame'>\n",
      "RangeIndex: 263 entries, 0 to 262\n",
      "Data columns (total 20 columns):\n",
      " #   Column     Non-Null Count  Dtype  \n",
      "---  ------     --------------  -----  \n",
      " 0   AtBat      263 non-null    int64  \n",
      " 1   Hits       263 non-null    int64  \n",
      " 2   HmRun      263 non-null    int64  \n",
      " 3   Runs       263 non-null    int64  \n",
      " 4   RBI        263 non-null    int64  \n",
      " 5   Walks      263 non-null    int64  \n",
      " 6   Years      263 non-null    int64  \n",
      " 7   CAtBat     263 non-null    int64  \n",
      " 8   CHits      263 non-null    int64  \n",
      " 9   CHmRun     263 non-null    int64  \n",
      " 10  CRuns      263 non-null    int64  \n",
      " 11  CRBI       263 non-null    int64  \n",
      " 12  CWalks     263 non-null    int64  \n",
      " 13  League     263 non-null    object \n",
      " 14  Division   263 non-null    object \n",
      " 15  PutOuts    263 non-null    int64  \n",
      " 16  Assists    263 non-null    int64  \n",
      " 17  Errors     263 non-null    int64  \n",
      " 18  Salary     263 non-null    float64\n",
      " 19  NewLeague  263 non-null    object \n",
      "dtypes: float64(1), int64(16), object(3)\n",
      "memory usage: 41.2+ KB\n"
     ]
    }
   ],
   "source": [
    "baseball.info()"
   ]
  },
  {
   "cell_type": "markdown",
   "metadata": {
    "id": "zSVrOzuVaz_S"
   },
   "source": [
    "## Part I: Different Model Specs"
   ]
  },
  {
   "cell_type": "code",
   "execution_count": 53,
   "metadata": {
    "id": "DXiwvnPDapwX"
   },
   "outputs": [],
   "source": [
    "from sklearn.compose import ColumnTransformer, make_column_selector\n",
    "from sklearn.linear_model import LinearRegression, Ridge, Lasso, ElasticNet\n",
    "from sklearn.pipeline import Pipeline\n",
    "from sklearn.preprocessing import OneHotEncoder, StandardScaler, PolynomialFeatures, FunctionTransformer\n",
    "from sklearn.model_selection import train_test_split\n",
    "from sklearn.model_selection import cross_val_score\n",
    "from sklearn.metrics import mean_squared_error"
   ]
  },
  {
   "cell_type": "code",
   "execution_count": 54,
   "metadata": {
    "id": "FgY27yoZuWLG"
   },
   "outputs": [],
   "source": [
    "import plotnine as p9"
   ]
  },
  {
   "cell_type": "code",
   "execution_count": 55,
   "metadata": {
    "id": "YYckGNnsXK45"
   },
   "outputs": [],
   "source": [
    "from sklearn.model_selection import GridSearchCV"
   ]
  },
  {
   "cell_type": "markdown",
   "metadata": {
    "id": "VoIPeKJdEspB"
   },
   "source": [
    "### A. Regression without regulation"
   ]
  },
  {
   "cell_type": "code",
   "execution_count": 56,
   "metadata": {
    "id": "Ibuxt6wabHQ5"
   },
   "outputs": [],
   "source": [
    "X = baseball.drop([\"Salary\"], axis = 1)\n",
    "y = baseball[\"Salary\"]"
   ]
  },
  {
   "cell_type": "markdown",
   "metadata": {
    "id": "sDlpWMeoFZqA"
   },
   "source": [
    "#### 1. create a pipeline includes all the columns as predictors"
   ]
  },
  {
   "cell_type": "code",
   "execution_count": 57,
   "metadata": {
    "id": "WvFEX-rVdDDv"
   },
   "outputs": [],
   "source": [
    "ct = ColumnTransformer(\n",
    "  [\n",
    "    (\"dummify\",\n",
    "    OneHotEncoder(drop='first', sparse_output = False, handle_unknown='ignore'),\n",
    "    make_column_selector(dtype_include=object)),\n",
    "    (\"standardize\",\n",
    "    StandardScaler(),\n",
    "    make_column_selector(dtype_include=np.number))\n",
    "  ],\n",
    "  remainder = \"passthrough\"\n",
    ")\n",
    "\n",
    "model_1 = Pipeline(\n",
    "  [(\"preprocessing\", ct),\n",
    "  (\"linear_regression\", LinearRegression())]\n",
    ")"
   ]
  },
  {
   "cell_type": "markdown",
   "metadata": {
    "id": "U2LbGlFLFhZK"
   },
   "source": [
    "#### 2. Fit this pipeline to the full dataset, and interpret a few of the most important coefficients."
   ]
  },
  {
   "cell_type": "code",
   "execution_count": 58,
   "metadata": {
    "colab": {
     "base_uri": "https://localhost:8080/",
     "height": 645
    },
    "id": "ATW5vivfdEKp",
    "outputId": "51bd2f91-b80f-496d-8ce6-3be6052c586e"
   },
   "outputs": [
    {
     "data": {
      "text/html": [
       "<div>\n",
       "<style scoped>\n",
       "    .dataframe tbody tr th:only-of-type {\n",
       "        vertical-align: middle;\n",
       "    }\n",
       "\n",
       "    .dataframe tbody tr th {\n",
       "        vertical-align: top;\n",
       "    }\n",
       "\n",
       "    .dataframe thead th {\n",
       "        text-align: right;\n",
       "    }\n",
       "</style>\n",
       "<table border=\"1\" class=\"dataframe\">\n",
       "  <thead>\n",
       "    <tr style=\"text-align: right;\">\n",
       "      <th></th>\n",
       "      <th>Feature</th>\n",
       "      <th>OLS</th>\n",
       "    </tr>\n",
       "  </thead>\n",
       "  <tbody>\n",
       "    <tr>\n",
       "      <th>13</th>\n",
       "      <td>standardize__CRuns</td>\n",
       "      <td>480.747135</td>\n",
       "    </tr>\n",
       "    <tr>\n",
       "      <th>4</th>\n",
       "      <td>standardize__Hits</td>\n",
       "      <td>337.830479</td>\n",
       "    </tr>\n",
       "    <tr>\n",
       "      <th>14</th>\n",
       "      <td>standardize__CRBI</td>\n",
       "      <td>260.689886</td>\n",
       "    </tr>\n",
       "    <tr>\n",
       "      <th>8</th>\n",
       "      <td>standardize__Walks</td>\n",
       "      <td>135.073897</td>\n",
       "    </tr>\n",
       "    <tr>\n",
       "      <th>11</th>\n",
       "      <td>standardize__CHits</td>\n",
       "      <td>86.687617</td>\n",
       "    </tr>\n",
       "    <tr>\n",
       "      <th>16</th>\n",
       "      <td>standardize__PutOuts</td>\n",
       "      <td>78.761296</td>\n",
       "    </tr>\n",
       "    <tr>\n",
       "      <th>0</th>\n",
       "      <td>dummify__League_N</td>\n",
       "      <td>62.599423</td>\n",
       "    </tr>\n",
       "    <tr>\n",
       "      <th>17</th>\n",
       "      <td>standardize__Assists</td>\n",
       "      <td>53.732490</td>\n",
       "    </tr>\n",
       "    <tr>\n",
       "      <th>5</th>\n",
       "      <td>standardize__HmRun</td>\n",
       "      <td>37.853837</td>\n",
       "    </tr>\n",
       "    <tr>\n",
       "      <th>12</th>\n",
       "      <td>standardize__CHmRun</td>\n",
       "      <td>-14.181723</td>\n",
       "    </tr>\n",
       "    <tr>\n",
       "      <th>9</th>\n",
       "      <td>standardize__Years</td>\n",
       "      <td>-16.693359</td>\n",
       "    </tr>\n",
       "    <tr>\n",
       "      <th>18</th>\n",
       "      <td>standardize__Errors</td>\n",
       "      <td>-22.160862</td>\n",
       "    </tr>\n",
       "    <tr>\n",
       "      <th>2</th>\n",
       "      <td>dummify__NewLeague_N</td>\n",
       "      <td>-24.762325</td>\n",
       "    </tr>\n",
       "    <tr>\n",
       "      <th>7</th>\n",
       "      <td>standardize__RBI</td>\n",
       "      <td>-26.994984</td>\n",
       "    </tr>\n",
       "    <tr>\n",
       "      <th>6</th>\n",
       "      <td>standardize__Runs</td>\n",
       "      <td>-60.572479</td>\n",
       "    </tr>\n",
       "    <tr>\n",
       "      <th>1</th>\n",
       "      <td>dummify__Division_W</td>\n",
       "      <td>-116.849246</td>\n",
       "    </tr>\n",
       "    <tr>\n",
       "      <th>15</th>\n",
       "      <td>standardize__CWalks</td>\n",
       "      <td>-213.892259</td>\n",
       "    </tr>\n",
       "    <tr>\n",
       "      <th>3</th>\n",
       "      <td>standardize__AtBat</td>\n",
       "      <td>-291.094556</td>\n",
       "    </tr>\n",
       "    <tr>\n",
       "      <th>10</th>\n",
       "      <td>standardize__CAtBat</td>\n",
       "      <td>-391.038655</td>\n",
       "    </tr>\n",
       "  </tbody>\n",
       "</table>\n",
       "</div>"
      ],
      "text/plain": [
       "                 Feature         OLS\n",
       "13    standardize__CRuns  480.747135\n",
       "4      standardize__Hits  337.830479\n",
       "14     standardize__CRBI  260.689886\n",
       "8     standardize__Walks  135.073897\n",
       "11    standardize__CHits   86.687617\n",
       "16  standardize__PutOuts   78.761296\n",
       "0      dummify__League_N   62.599423\n",
       "17  standardize__Assists   53.732490\n",
       "5     standardize__HmRun   37.853837\n",
       "12   standardize__CHmRun  -14.181723\n",
       "9     standardize__Years  -16.693359\n",
       "18   standardize__Errors  -22.160862\n",
       "2   dummify__NewLeague_N  -24.762325\n",
       "7       standardize__RBI  -26.994984\n",
       "6      standardize__Runs  -60.572479\n",
       "1    dummify__Division_W -116.849246\n",
       "15   standardize__CWalks -213.892259\n",
       "3     standardize__AtBat -291.094556\n",
       "10   standardize__CAtBat -391.038655"
      ]
     },
     "execution_count": 58,
     "metadata": {},
     "output_type": "execute_result"
    }
   ],
   "source": [
    "model_1_fitted = model_1.fit(X, y)\n",
    "coef1 = model_1_fitted.named_steps['linear_regression'].coef_\n",
    "feature_names = ct.fit(X).get_feature_names_out()  # Assuming X has column names\n",
    "df_coef = pd.DataFrame({'Feature': feature_names, 'OLS': coef1})\n",
    "df_coef.sort_values(by = 'OLS', ascending = False)"
   ]
  },
  {
   "cell_type": "code",
   "execution_count": 59,
   "metadata": {
    "colab": {
     "base_uri": "https://localhost:8080/"
    },
    "id": "JY-b76N5ILIR",
    "outputId": "e01c7c57-e9e6-473d-996d-fdf358a2a5d1"
   },
   "outputs": [
    {
     "data": {
      "text/plain": [
       "331.19857059564885"
      ]
     },
     "execution_count": 59,
     "metadata": {},
     "output_type": "execute_result"
    }
   ],
   "source": [
    "X['CRuns'].std()"
   ]
  },
  {
   "cell_type": "markdown",
   "metadata": {
    "id": "hetuofN0LAw5"
   },
   "source": [
    "- for every 331 runs increases in a player's career, there will be a $480740 increase."
   ]
  },
  {
   "cell_type": "code",
   "execution_count": 60,
   "metadata": {
    "colab": {
     "base_uri": "https://localhost:8080/"
    },
    "id": "uYi71W-jIk9u",
    "outputId": "432d8187-19a3-4ec3-a4c0-14b99f36f2da"
   },
   "outputs": [
    {
     "data": {
      "text/plain": [
       "45.12532592258135"
      ]
     },
     "execution_count": 60,
     "metadata": {},
     "output_type": "execute_result"
    }
   ],
   "source": [
    "X['Hits'].std()"
   ]
  },
  {
   "cell_type": "markdown",
   "metadata": {
    "id": "eAEJVgOcLZKd"
   },
   "source": [
    "- for every 45.12 hits increases in 1986, there will be a $337870 increase."
   ]
  },
  {
   "cell_type": "code",
   "execution_count": 61,
   "metadata": {
    "colab": {
     "base_uri": "https://localhost:8080/"
    },
    "id": "b2JHeHvrJw8l",
    "outputId": "90344196-f7bf-4079-b609-cd79897230ca"
   },
   "outputs": [
    {
     "data": {
      "text/plain": [
       "323.3676681827309"
      ]
     },
     "execution_count": 61,
     "metadata": {},
     "output_type": "execute_result"
    }
   ],
   "source": [
    "X['CRBI'].std()"
   ]
  },
  {
   "cell_type": "markdown",
   "metadata": {
    "id": "MTT8OXhdLy2y"
   },
   "source": [
    "- for every 323.36 runs batted increases in a player's career, there will be a $260690 increase."
   ]
  },
  {
   "cell_type": "code",
   "execution_count": 62,
   "metadata": {
    "colab": {
     "base_uri": "https://localhost:8080/"
    },
    "id": "TrkMhUT0MRXe",
    "outputId": "723555b2-d621-4985-d12f-c29f80153135"
   },
   "outputs": [
    {
     "data": {
      "text/plain": [
       "2286.5829294625905"
      ]
     },
     "execution_count": 62,
     "metadata": {},
     "output_type": "execute_result"
    }
   ],
   "source": [
    "X['CAtBat'].std()"
   ]
  },
  {
   "cell_type": "markdown",
   "metadata": {
    "id": "4PZKeQlHNC8c"
   },
   "source": [
    "- for every 2286.58 at batted increases in a player's career, there will be a $391040 decrease."
   ]
  },
  {
   "cell_type": "code",
   "execution_count": 63,
   "metadata": {
    "colab": {
     "base_uri": "https://localhost:8080/"
    },
    "id": "Z_DSHEP7fUPY",
    "outputId": "094100d0-9669-4894-a93f-f12869317bec"
   },
   "outputs": [
    {
     "data": {
      "text/plain": [
       "-121136.31031816879"
      ]
     },
     "execution_count": 63,
     "metadata": {},
     "output_type": "execute_result"
    }
   ],
   "source": [
    "mse = cross_val_score(model_1, X, y, cv = 5, scoring = 'neg_mean_squared_error')\n",
    "mse.mean()"
   ]
  },
  {
   "cell_type": "markdown",
   "metadata": {
    "id": "6YmQ7WWYk0Ng"
   },
   "source": [
    "#### 4. MSE would be -121136.31"
   ]
  },
  {
   "cell_type": "markdown",
   "metadata": {
    "id": "voQKxKEBOTsK"
   },
   "source": [
    "### B. Ridge Regression"
   ]
  },
  {
   "cell_type": "markdown",
   "metadata": {
    "id": "B2M_Ciczhkw6"
   },
   "source": [
    "#### 1. build a def function for model"
   ]
  },
  {
   "cell_type": "code",
   "execution_count": 64,
   "metadata": {
    "id": "hBYnFGakOTNR"
   },
   "outputs": [],
   "source": [
    "def model_try(model):\n",
    "  ct = ColumnTransformer(\n",
    "    [\n",
    "      (\"dummify\",\n",
    "      OneHotEncoder(drop='first', sparse_output = False, handle_unknown='ignore'),\n",
    "      make_column_selector(dtype_include=object)),\n",
    "      (\"standardize\",\n",
    "      StandardScaler(),\n",
    "      make_column_selector(dtype_include=np.number))\n",
    "    ],remainder = \"passthrough\"\n",
    "    )\n",
    "\n",
    "  pipeline = Pipeline(\n",
    "    [(\"preprocessing\", ct),\n",
    "    (\"model\", model)] # the only changing part\n",
    "  )\n",
    "  return pipeline"
   ]
  },
  {
   "cell_type": "markdown",
   "metadata": {
    "id": "xb3qcGS6hq4h"
   },
   "source": [
    "#### 2. Gridsearch the best lambda"
   ]
  },
  {
   "cell_type": "code",
   "execution_count": 65,
   "metadata": {
    "colab": {
     "base_uri": "https://localhost:8080/",
     "height": 206
    },
    "id": "RLhUvWpQUOa2",
    "outputId": "82e8c791-61ae-471a-b907-f39dbc6970eb"
   },
   "outputs": [
    {
     "data": {
      "text/html": [
       "<div>\n",
       "<style scoped>\n",
       "    .dataframe tbody tr th:only-of-type {\n",
       "        vertical-align: middle;\n",
       "    }\n",
       "\n",
       "    .dataframe tbody tr th {\n",
       "        vertical-align: top;\n",
       "    }\n",
       "\n",
       "    .dataframe thead th {\n",
       "        text-align: right;\n",
       "    }\n",
       "</style>\n",
       "<table border=\"1\" class=\"dataframe\">\n",
       "  <thead>\n",
       "    <tr style=\"text-align: right;\">\n",
       "      <th></th>\n",
       "      <th>param_grid</th>\n",
       "      <th>scores</th>\n",
       "    </tr>\n",
       "  </thead>\n",
       "  <tbody>\n",
       "    <tr>\n",
       "      <th>3</th>\n",
       "      <td>1.0</td>\n",
       "      <td>-119034.332720</td>\n",
       "    </tr>\n",
       "    <tr>\n",
       "      <th>4</th>\n",
       "      <td>10.0</td>\n",
       "      <td>-119073.956166</td>\n",
       "    </tr>\n",
       "    <tr>\n",
       "      <th>2</th>\n",
       "      <td>0.1</td>\n",
       "      <td>-120329.936014</td>\n",
       "    </tr>\n",
       "    <tr>\n",
       "      <th>1</th>\n",
       "      <td>0.01</td>\n",
       "      <td>-121021.508944</td>\n",
       "    </tr>\n",
       "    <tr>\n",
       "      <th>0</th>\n",
       "      <td>0.001</td>\n",
       "      <td>-121124.318914</td>\n",
       "    </tr>\n",
       "  </tbody>\n",
       "</table>\n",
       "</div>"
      ],
      "text/plain": [
       "  param_grid         scores\n",
       "3        1.0 -119034.332720\n",
       "4       10.0 -119073.956166\n",
       "2        0.1 -120329.936014\n",
       "1       0.01 -121021.508944\n",
       "0      0.001 -121124.318914"
      ]
     },
     "execution_count": 65,
     "metadata": {},
     "output_type": "execute_result"
    }
   ],
   "source": [
    "alpha_range = np.logspace(-3, 1, num=5)\n",
    "param_grid = {\n",
    "    'model__alpha': alpha_range,\n",
    "}\n",
    "\n",
    "model_2 = model_try(Ridge())\n",
    "gscv2 = GridSearchCV(model_2, param_grid, cv = 5, scoring='neg_mean_squared_error')\n",
    "gscv2_fitted = gscv2.fit(X, y)\n",
    "gscv2_fitted.cv_results_\n",
    "mse2 = pd.DataFrame(data = {\"param_grid\":  gscv2_fitted.cv_results_['param_model__alpha'], \"scores\": gscv2_fitted.cv_results_['mean_test_score']}).sort_values(by = \"scores\", ascending = False)\n",
    "mse2\n"
   ]
  },
  {
   "cell_type": "markdown",
   "metadata": {
    "id": "G5EKb1gXiFVg"
   },
   "source": [
    "#### 3. use lambda 1 to compte coef_"
   ]
  },
  {
   "cell_type": "code",
   "execution_count": 66,
   "metadata": {
    "colab": {
     "base_uri": "https://localhost:8080/",
     "height": 645
    },
    "id": "rzihZllweI94",
    "outputId": "99a903dd-a42e-4f39-a786-c6dfa01652ee"
   },
   "outputs": [
    {
     "data": {
      "text/html": [
       "<div>\n",
       "<style scoped>\n",
       "    .dataframe tbody tr th:only-of-type {\n",
       "        vertical-align: middle;\n",
       "    }\n",
       "\n",
       "    .dataframe tbody tr th {\n",
       "        vertical-align: top;\n",
       "    }\n",
       "\n",
       "    .dataframe thead th {\n",
       "        text-align: right;\n",
       "    }\n",
       "</style>\n",
       "<table border=\"1\" class=\"dataframe\">\n",
       "  <thead>\n",
       "    <tr style=\"text-align: right;\">\n",
       "      <th></th>\n",
       "      <th>Feature</th>\n",
       "      <th>Ridge</th>\n",
       "    </tr>\n",
       "  </thead>\n",
       "  <tbody>\n",
       "    <tr>\n",
       "      <th>13</th>\n",
       "      <td>standardize__CRuns</td>\n",
       "      <td>320.802717</td>\n",
       "    </tr>\n",
       "    <tr>\n",
       "      <th>4</th>\n",
       "      <td>standardize__Hits</td>\n",
       "      <td>296.801967</td>\n",
       "    </tr>\n",
       "    <tr>\n",
       "      <th>14</th>\n",
       "      <td>standardize__CRBI</td>\n",
       "      <td>160.409497</td>\n",
       "    </tr>\n",
       "    <tr>\n",
       "      <th>11</th>\n",
       "      <td>standardize__CHits</td>\n",
       "      <td>126.210585</td>\n",
       "    </tr>\n",
       "    <tr>\n",
       "      <th>8</th>\n",
       "      <td>standardize__Walks</td>\n",
       "      <td>124.344012</td>\n",
       "    </tr>\n",
       "    <tr>\n",
       "      <th>16</th>\n",
       "      <td>standardize__PutOuts</td>\n",
       "      <td>78.651037</td>\n",
       "    </tr>\n",
       "    <tr>\n",
       "      <th>0</th>\n",
       "      <td>dummify__League_N</td>\n",
       "      <td>58.555947</td>\n",
       "    </tr>\n",
       "    <tr>\n",
       "      <th>17</th>\n",
       "      <td>standardize__Assists</td>\n",
       "      <td>47.493631</td>\n",
       "    </tr>\n",
       "    <tr>\n",
       "      <th>12</th>\n",
       "      <td>standardize__CHmRun</td>\n",
       "      <td>39.055346</td>\n",
       "    </tr>\n",
       "    <tr>\n",
       "      <th>5</th>\n",
       "      <td>standardize__HmRun</td>\n",
       "      <td>17.973971</td>\n",
       "    </tr>\n",
       "    <tr>\n",
       "      <th>7</th>\n",
       "      <td>standardize__RBI</td>\n",
       "      <td>-8.909304</td>\n",
       "    </tr>\n",
       "    <tr>\n",
       "      <th>18</th>\n",
       "      <td>standardize__Errors</td>\n",
       "      <td>-23.651303</td>\n",
       "    </tr>\n",
       "    <tr>\n",
       "      <th>2</th>\n",
       "      <td>dummify__NewLeague_N</td>\n",
       "      <td>-24.027205</td>\n",
       "    </tr>\n",
       "    <tr>\n",
       "      <th>6</th>\n",
       "      <td>standardize__Runs</td>\n",
       "      <td>-29.212352</td>\n",
       "    </tr>\n",
       "    <tr>\n",
       "      <th>9</th>\n",
       "      <td>standardize__Years</td>\n",
       "      <td>-38.619131</td>\n",
       "    </tr>\n",
       "    <tr>\n",
       "      <th>1</th>\n",
       "      <td>dummify__Division_W</td>\n",
       "      <td>-119.076927</td>\n",
       "    </tr>\n",
       "    <tr>\n",
       "      <th>15</th>\n",
       "      <td>standardize__CWalks</td>\n",
       "      <td>-184.289408</td>\n",
       "    </tr>\n",
       "    <tr>\n",
       "      <th>10</th>\n",
       "      <td>standardize__CAtBat</td>\n",
       "      <td>-225.511649</td>\n",
       "    </tr>\n",
       "    <tr>\n",
       "      <th>3</th>\n",
       "      <td>standardize__AtBat</td>\n",
       "      <td>-271.088165</td>\n",
       "    </tr>\n",
       "  </tbody>\n",
       "</table>\n",
       "</div>"
      ],
      "text/plain": [
       "                 Feature       Ridge\n",
       "13    standardize__CRuns  320.802717\n",
       "4      standardize__Hits  296.801967\n",
       "14     standardize__CRBI  160.409497\n",
       "11    standardize__CHits  126.210585\n",
       "8     standardize__Walks  124.344012\n",
       "16  standardize__PutOuts   78.651037\n",
       "0      dummify__League_N   58.555947\n",
       "17  standardize__Assists   47.493631\n",
       "12   standardize__CHmRun   39.055346\n",
       "5     standardize__HmRun   17.973971\n",
       "7       standardize__RBI   -8.909304\n",
       "18   standardize__Errors  -23.651303\n",
       "2   dummify__NewLeague_N  -24.027205\n",
       "6      standardize__Runs  -29.212352\n",
       "9     standardize__Years  -38.619131\n",
       "1    dummify__Division_W -119.076927\n",
       "15   standardize__CWalks -184.289408\n",
       "10   standardize__CAtBat -225.511649\n",
       "3     standardize__AtBat -271.088165"
      ]
     },
     "execution_count": 66,
     "metadata": {},
     "output_type": "execute_result"
    }
   ],
   "source": [
    "model_2_selected = model_try(Ridge(alpha = 1))\n",
    "model_2_selected_fitted = model_2_selected.fit(X, y)\n",
    "coef2 = model_2_selected_fitted.named_steps['model'].coef_\n",
    "feature_names = ct.fit(X).get_feature_names_out()  # Assuming X has column names\n",
    "df_coef2 = pd.DataFrame({'Feature': feature_names, 'Ridge': coef2})\n",
    "df_coef2.sort_values(by = 'Ridge', ascending = False)"
   ]
  },
  {
   "cell_type": "markdown",
   "metadata": {
    "id": "le3hxvoXixKf"
   },
   "source": [
    "- for every 331 runs increases in a player's career, there will be a 320.80 increase.\n",
    "- for every 45.12 hits increases in 1986, there will be a 296.80 increase.\n",
    "- for every 323.36 runs batted increases in a player's career, there will be a 160.40 increase."
   ]
  },
  {
   "cell_type": "markdown",
   "metadata": {
    "id": "Ni9fKECKkrYo"
   },
   "source": [
    "#### 4. MSE would be 119034.332720"
   ]
  },
  {
   "cell_type": "markdown",
   "metadata": {
    "id": "rNf1qDv8k5uI"
   },
   "source": [
    "### C. Lasso Regression"
   ]
  },
  {
   "cell_type": "markdown",
   "metadata": {
    "id": "N-3WLnXChS9m"
   },
   "source": [
    "#### 1. fit a model and tune lambda"
   ]
  },
  {
   "cell_type": "code",
   "execution_count": 67,
   "metadata": {
    "colab": {
     "base_uri": "https://localhost:8080/",
     "height": 206
    },
    "id": "AQZ7vyBOmGr6",
    "outputId": "bba3812d-6670-4465-a2fa-fc4062ac52a3"
   },
   "outputs": [
    {
     "data": {
      "text/html": [
       "<div>\n",
       "<style scoped>\n",
       "    .dataframe tbody tr th:only-of-type {\n",
       "        vertical-align: middle;\n",
       "    }\n",
       "\n",
       "    .dataframe tbody tr th {\n",
       "        vertical-align: top;\n",
       "    }\n",
       "\n",
       "    .dataframe thead th {\n",
       "        text-align: right;\n",
       "    }\n",
       "</style>\n",
       "<table border=\"1\" class=\"dataframe\">\n",
       "  <thead>\n",
       "    <tr style=\"text-align: right;\">\n",
       "      <th></th>\n",
       "      <th>param_grid</th>\n",
       "      <th>scores</th>\n",
       "    </tr>\n",
       "  </thead>\n",
       "  <tbody>\n",
       "    <tr>\n",
       "      <th>3</th>\n",
       "      <td>1.0</td>\n",
       "      <td>-119758.108873</td>\n",
       "    </tr>\n",
       "    <tr>\n",
       "      <th>2</th>\n",
       "      <td>0.1</td>\n",
       "      <td>-120758.508162</td>\n",
       "    </tr>\n",
       "    <tr>\n",
       "      <th>1</th>\n",
       "      <td>0.01</td>\n",
       "      <td>-121096.159270</td>\n",
       "    </tr>\n",
       "    <tr>\n",
       "      <th>0</th>\n",
       "      <td>0.001</td>\n",
       "      <td>-121132.276754</td>\n",
       "    </tr>\n",
       "    <tr>\n",
       "      <th>4</th>\n",
       "      <td>10.0</td>\n",
       "      <td>-121828.141333</td>\n",
       "    </tr>\n",
       "  </tbody>\n",
       "</table>\n",
       "</div>"
      ],
      "text/plain": [
       "  param_grid         scores\n",
       "3        1.0 -119758.108873\n",
       "2        0.1 -120758.508162\n",
       "1       0.01 -121096.159270\n",
       "0      0.001 -121132.276754\n",
       "4       10.0 -121828.141333"
      ]
     },
     "execution_count": 67,
     "metadata": {},
     "output_type": "execute_result"
    }
   ],
   "source": [
    "alpha_range = np.logspace(-3, 1, num=5)\n",
    "param_grid = {\n",
    "    'model__alpha': alpha_range\n",
    "}\n",
    "model_3 = model_try(Lasso(max_iter = 100000000))\n",
    "gscv3 = GridSearchCV(model_3, param_grid, cv = 5, scoring='neg_mean_squared_error')\n",
    "gscv3_fitted = gscv3.fit(X, y)\n",
    "gscv3_fitted.cv_results_\n",
    "mse3 = pd.DataFrame(data = {\"param_grid\":  gscv3_fitted.cv_results_['param_model__alpha'],\n",
    "                              \"scores\": gscv3_fitted.cv_results_['mean_test_score']}).sort_values(by = \"scores\", ascending = False)\n",
    "mse3"
   ]
  },
  {
   "cell_type": "markdown",
   "metadata": {
    "id": "nnBHqcIahnFL"
   },
   "source": [
    "#### 2. Obtian and interpret coeeficients"
   ]
  },
  {
   "cell_type": "code",
   "execution_count": 68,
   "metadata": {
    "colab": {
     "base_uri": "https://localhost:8080/",
     "height": 645
    },
    "id": "pmzO4Rjln6Kq",
    "outputId": "aba934cd-1eb6-40bd-cf4f-738f6d40e319"
   },
   "outputs": [
    {
     "data": {
      "text/html": [
       "<div>\n",
       "<style scoped>\n",
       "    .dataframe tbody tr th:only-of-type {\n",
       "        vertical-align: middle;\n",
       "    }\n",
       "\n",
       "    .dataframe tbody tr th {\n",
       "        vertical-align: top;\n",
       "    }\n",
       "\n",
       "    .dataframe thead th {\n",
       "        text-align: right;\n",
       "    }\n",
       "</style>\n",
       "<table border=\"1\" class=\"dataframe\">\n",
       "  <thead>\n",
       "    <tr style=\"text-align: right;\">\n",
       "      <th></th>\n",
       "      <th>Feature</th>\n",
       "      <th>Lasso</th>\n",
       "    </tr>\n",
       "  </thead>\n",
       "  <tbody>\n",
       "    <tr>\n",
       "      <th>13</th>\n",
       "      <td>standardize__CRuns</td>\n",
       "      <td>375.565519</td>\n",
       "    </tr>\n",
       "    <tr>\n",
       "      <th>4</th>\n",
       "      <td>standardize__Hits</td>\n",
       "      <td>304.359509</td>\n",
       "    </tr>\n",
       "    <tr>\n",
       "      <th>14</th>\n",
       "      <td>standardize__CRBI</td>\n",
       "      <td>192.610892</td>\n",
       "    </tr>\n",
       "    <tr>\n",
       "      <th>8</th>\n",
       "      <td>standardize__Walks</td>\n",
       "      <td>120.695275</td>\n",
       "    </tr>\n",
       "    <tr>\n",
       "      <th>16</th>\n",
       "      <td>standardize__PutOuts</td>\n",
       "      <td>78.760366</td>\n",
       "    </tr>\n",
       "    <tr>\n",
       "      <th>17</th>\n",
       "      <td>standardize__Assists</td>\n",
       "      <td>41.996680</td>\n",
       "    </tr>\n",
       "    <tr>\n",
       "      <th>0</th>\n",
       "      <td>dummify__League_N</td>\n",
       "      <td>35.826072</td>\n",
       "    </tr>\n",
       "    <tr>\n",
       "      <th>12</th>\n",
       "      <td>standardize__CHmRun</td>\n",
       "      <td>14.225993</td>\n",
       "    </tr>\n",
       "    <tr>\n",
       "      <th>5</th>\n",
       "      <td>standardize__HmRun</td>\n",
       "      <td>11.127022</td>\n",
       "    </tr>\n",
       "    <tr>\n",
       "      <th>2</th>\n",
       "      <td>dummify__NewLeague_N</td>\n",
       "      <td>-0.000000</td>\n",
       "    </tr>\n",
       "    <tr>\n",
       "      <th>7</th>\n",
       "      <td>standardize__RBI</td>\n",
       "      <td>-0.000000</td>\n",
       "    </tr>\n",
       "    <tr>\n",
       "      <th>11</th>\n",
       "      <td>standardize__CHits</td>\n",
       "      <td>0.000000</td>\n",
       "    </tr>\n",
       "    <tr>\n",
       "      <th>18</th>\n",
       "      <td>standardize__Errors</td>\n",
       "      <td>-18.479378</td>\n",
       "    </tr>\n",
       "    <tr>\n",
       "      <th>6</th>\n",
       "      <td>standardize__Runs</td>\n",
       "      <td>-24.966507</td>\n",
       "    </tr>\n",
       "    <tr>\n",
       "      <th>9</th>\n",
       "      <td>standardize__Years</td>\n",
       "      <td>-34.948148</td>\n",
       "    </tr>\n",
       "    <tr>\n",
       "      <th>1</th>\n",
       "      <td>dummify__Division_W</td>\n",
       "      <td>-114.412951</td>\n",
       "    </tr>\n",
       "    <tr>\n",
       "      <th>10</th>\n",
       "      <td>standardize__CAtBat</td>\n",
       "      <td>-162.639794</td>\n",
       "    </tr>\n",
       "    <tr>\n",
       "      <th>15</th>\n",
       "      <td>standardize__CWalks</td>\n",
       "      <td>-189.644642</td>\n",
       "    </tr>\n",
       "    <tr>\n",
       "      <th>3</th>\n",
       "      <td>standardize__AtBat</td>\n",
       "      <td>-282.370957</td>\n",
       "    </tr>\n",
       "  </tbody>\n",
       "</table>\n",
       "</div>"
      ],
      "text/plain": [
       "                 Feature       Lasso\n",
       "13    standardize__CRuns  375.565519\n",
       "4      standardize__Hits  304.359509\n",
       "14     standardize__CRBI  192.610892\n",
       "8     standardize__Walks  120.695275\n",
       "16  standardize__PutOuts   78.760366\n",
       "17  standardize__Assists   41.996680\n",
       "0      dummify__League_N   35.826072\n",
       "12   standardize__CHmRun   14.225993\n",
       "5     standardize__HmRun   11.127022\n",
       "2   dummify__NewLeague_N   -0.000000\n",
       "7       standardize__RBI   -0.000000\n",
       "11    standardize__CHits    0.000000\n",
       "18   standardize__Errors  -18.479378\n",
       "6      standardize__Runs  -24.966507\n",
       "9     standardize__Years  -34.948148\n",
       "1    dummify__Division_W -114.412951\n",
       "10   standardize__CAtBat -162.639794\n",
       "15   standardize__CWalks -189.644642\n",
       "3     standardize__AtBat -282.370957"
      ]
     },
     "execution_count": 68,
     "metadata": {},
     "output_type": "execute_result"
    }
   ],
   "source": [
    "model_3_selected = model_try(Lasso(alpha = 1, max_iter = 100000000))\n",
    "model_3_selected_fitted = model_3_selected.fit(X, y)\n",
    "coef3 = model_3_selected_fitted.named_steps['model'].coef_\n",
    "feature_names = ct.fit(X).get_feature_names_out()  # Assuming X has column names\n",
    "df_coef3 = pd.DataFrame({'Feature': feature_names, 'Lasso': coef3})\n",
    "df_coef3.sort_values(by = 'Lasso', ascending = False)"
   ]
  },
  {
   "cell_type": "markdown",
   "metadata": {
    "id": "z9FgPWpid4mf"
   },
   "source": [
    "- for every 331 runs increases in a player's career, there will be a 375.56 increase.\n",
    "- for every 45.12 hits increases in 1986, there will be a 304.35 increase.\n",
    "- for every 323.36 runs batted increases in a player's career, there will be a 192.61 increase."
   ]
  },
  {
   "cell_type": "markdown",
   "metadata": {
    "id": "wBYidjGwg1WI"
   },
   "source": [
    "#### 3. MSE would be-119758.108873"
   ]
  },
  {
   "cell_type": "markdown",
   "metadata": {
    "id": "ODyGcwZdo8Y5"
   },
   "source": [
    "### D. Elastic Net"
   ]
  },
  {
   "cell_type": "markdown",
   "metadata": {
    "id": "sjSiW6JbhxK4"
   },
   "source": [
    "#### 1. fit a model and tune lambda"
   ]
  },
  {
   "cell_type": "code",
   "execution_count": null,
   "metadata": {
    "colab": {
     "base_uri": "https://localhost:8080/",
     "height": 206
    },
    "id": "-4eUg5YPpNoo",
    "outputId": "2a2d365f-bffe-421e-fb36-dfb4ed022fc8"
   },
   "outputs": [
    {
     "data": {
      "text/html": [
       "<div>\n",
       "<style scoped>\n",
       "    .dataframe tbody tr th:only-of-type {\n",
       "        vertical-align: middle;\n",
       "    }\n",
       "\n",
       "    .dataframe tbody tr th {\n",
       "        vertical-align: top;\n",
       "    }\n",
       "\n",
       "    .dataframe thead th {\n",
       "        text-align: right;\n",
       "    }\n",
       "</style>\n",
       "<table border=\"1\" class=\"dataframe\">\n",
       "  <thead>\n",
       "    <tr style=\"text-align: right;\">\n",
       "      <th></th>\n",
       "      <th>elastic_alpha</th>\n",
       "      <th>elastic_l1_ratio</th>\n",
       "      <th>scores</th>\n",
       "    </tr>\n",
       "  </thead>\n",
       "  <tbody>\n",
       "    <tr>\n",
       "      <th>13</th>\n",
       "      <td>0.1</td>\n",
       "      <td>0.775</td>\n",
       "      <td>-118752.856590</td>\n",
       "    </tr>\n",
       "    <tr>\n",
       "      <th>5</th>\n",
       "      <td>0.01</td>\n",
       "      <td>0.1</td>\n",
       "      <td>-118802.210703</td>\n",
       "    </tr>\n",
       "    <tr>\n",
       "      <th>6</th>\n",
       "      <td>0.01</td>\n",
       "      <td>0.325</td>\n",
       "      <td>-118893.327156</td>\n",
       "    </tr>\n",
       "    <tr>\n",
       "      <th>12</th>\n",
       "      <td>0.1</td>\n",
       "      <td>0.55</td>\n",
       "      <td>-119054.255261</td>\n",
       "    </tr>\n",
       "    <tr>\n",
       "      <th>7</th>\n",
       "      <td>0.01</td>\n",
       "      <td>0.55</td>\n",
       "      <td>-119054.795881</td>\n",
       "    </tr>\n",
       "  </tbody>\n",
       "</table>\n",
       "</div>"
      ],
      "text/plain": [
       "   elastic_alpha elastic_l1_ratio         scores\n",
       "13           0.1            0.775 -118752.856590\n",
       "5           0.01              0.1 -118802.210703\n",
       "6           0.01            0.325 -118893.327156\n",
       "12           0.1             0.55 -119054.255261\n",
       "7           0.01             0.55 -119054.795881"
      ]
     },
     "execution_count": 69,
     "metadata": {},
     "output_type": "execute_result"
    }
   ],
   "source": [
    "alpha_range = np.logspace(-3, 2, num=6)\n",
    "l1_ratio_range = np.linspace(0.1, 1, num=10)\n",
    "param_grid2 = {\n",
    "    'model__alpha': alpha_range,\n",
    "    'model__l1_ratio': l1_ratio_range\n",
    "}\n",
    "model_4 = model_try(ElasticNet(max_iter = 10000000))\n",
    "gscv4 = GridSearchCV(model_4, param_grid2, cv = 5, scoring='neg_mean_squared_error')\n",
    "gscv4_fitted = gscv4.fit(X, y)\n",
    "gscv4_fitted.cv_results_\n",
    "mse4 = pd.DataFrame({\n",
    "    'elastic_alpha': gscv4_fitted.cv_results_['param_model__alpha'],\n",
    "    'elastic_l1_ratio': gscv4_fitted.cv_results_['param_model__l1_ratio'],\n",
    "    'scores': gscv4_fitted.cv_results_['mean_test_score']\n",
    "}).sort_values(by = \"scores\", ascending = False)\n",
    "mse4.head()"
   ]
  },
  {
   "cell_type": "markdown",
   "metadata": {
    "id": "6_jUWpKWhzBE"
   },
   "source": [
    "#### 2. Obtain and interpret coefficients"
   ]
  },
  {
   "cell_type": "code",
   "execution_count": 70,
   "metadata": {
    "colab": {
     "base_uri": "https://localhost:8080/",
     "height": 645
    },
    "id": "Qk8Mr_JBsFla",
    "outputId": "54f87735-0e07-497e-98a6-0b557d86d87e"
   },
   "outputs": [
    {
     "data": {
      "text/html": [
       "<div>\n",
       "<style scoped>\n",
       "    .dataframe tbody tr th:only-of-type {\n",
       "        vertical-align: middle;\n",
       "    }\n",
       "\n",
       "    .dataframe tbody tr th {\n",
       "        vertical-align: top;\n",
       "    }\n",
       "\n",
       "    .dataframe thead th {\n",
       "        text-align: right;\n",
       "    }\n",
       "</style>\n",
       "<table border=\"1\" class=\"dataframe\">\n",
       "  <thead>\n",
       "    <tr style=\"text-align: right;\">\n",
       "      <th></th>\n",
       "      <th>Feature</th>\n",
       "      <th>Elastic Net</th>\n",
       "    </tr>\n",
       "  </thead>\n",
       "  <tbody>\n",
       "    <tr>\n",
       "      <th>4</th>\n",
       "      <td>standardize__Hits</td>\n",
       "      <td>191.915457</td>\n",
       "    </tr>\n",
       "    <tr>\n",
       "      <th>13</th>\n",
       "      <td>standardize__CRuns</td>\n",
       "      <td>154.853871</td>\n",
       "    </tr>\n",
       "    <tr>\n",
       "      <th>11</th>\n",
       "      <td>standardize__CHits</td>\n",
       "      <td>107.827265</td>\n",
       "    </tr>\n",
       "    <tr>\n",
       "      <th>14</th>\n",
       "      <td>standardize__CRBI</td>\n",
       "      <td>102.155652</td>\n",
       "    </tr>\n",
       "    <tr>\n",
       "      <th>8</th>\n",
       "      <td>standardize__Walks</td>\n",
       "      <td>94.647003</td>\n",
       "    </tr>\n",
       "    <tr>\n",
       "      <th>16</th>\n",
       "      <td>standardize__PutOuts</td>\n",
       "      <td>76.676660</td>\n",
       "    </tr>\n",
       "    <tr>\n",
       "      <th>12</th>\n",
       "      <td>standardize__CHmRun</td>\n",
       "      <td>59.375268</td>\n",
       "    </tr>\n",
       "    <tr>\n",
       "      <th>0</th>\n",
       "      <td>dummify__League_N</td>\n",
       "      <td>44.260380</td>\n",
       "    </tr>\n",
       "    <tr>\n",
       "      <th>17</th>\n",
       "      <td>standardize__Assists</td>\n",
       "      <td>33.991693</td>\n",
       "    </tr>\n",
       "    <tr>\n",
       "      <th>6</th>\n",
       "      <td>standardize__Runs</td>\n",
       "      <td>12.540359</td>\n",
       "    </tr>\n",
       "    <tr>\n",
       "      <th>7</th>\n",
       "      <td>standardize__RBI</td>\n",
       "      <td>11.525382</td>\n",
       "    </tr>\n",
       "    <tr>\n",
       "      <th>5</th>\n",
       "      <td>standardize__HmRun</td>\n",
       "      <td>-5.256872</td>\n",
       "    </tr>\n",
       "    <tr>\n",
       "      <th>2</th>\n",
       "      <td>dummify__NewLeague_N</td>\n",
       "      <td>-11.801761</td>\n",
       "    </tr>\n",
       "    <tr>\n",
       "      <th>18</th>\n",
       "      <td>standardize__Errors</td>\n",
       "      <td>-24.777323</td>\n",
       "    </tr>\n",
       "    <tr>\n",
       "      <th>10</th>\n",
       "      <td>standardize__CAtBat</td>\n",
       "      <td>-49.233501</td>\n",
       "    </tr>\n",
       "    <tr>\n",
       "      <th>9</th>\n",
       "      <td>standardize__Years</td>\n",
       "      <td>-51.790020</td>\n",
       "    </tr>\n",
       "    <tr>\n",
       "      <th>1</th>\n",
       "      <td>dummify__Division_W</td>\n",
       "      <td>-116.091776</td>\n",
       "    </tr>\n",
       "    <tr>\n",
       "      <th>15</th>\n",
       "      <td>standardize__CWalks</td>\n",
       "      <td>-119.457902</td>\n",
       "    </tr>\n",
       "    <tr>\n",
       "      <th>3</th>\n",
       "      <td>standardize__AtBat</td>\n",
       "      <td>-177.081202</td>\n",
       "    </tr>\n",
       "  </tbody>\n",
       "</table>\n",
       "</div>"
      ],
      "text/plain": [
       "                 Feature  Elastic Net\n",
       "4      standardize__Hits   191.915457\n",
       "13    standardize__CRuns   154.853871\n",
       "11    standardize__CHits   107.827265\n",
       "14     standardize__CRBI   102.155652\n",
       "8     standardize__Walks    94.647003\n",
       "16  standardize__PutOuts    76.676660\n",
       "12   standardize__CHmRun    59.375268\n",
       "0      dummify__League_N    44.260380\n",
       "17  standardize__Assists    33.991693\n",
       "6      standardize__Runs    12.540359\n",
       "7       standardize__RBI    11.525382\n",
       "5     standardize__HmRun    -5.256872\n",
       "2   dummify__NewLeague_N   -11.801761\n",
       "18   standardize__Errors   -24.777323\n",
       "10   standardize__CAtBat   -49.233501\n",
       "9     standardize__Years   -51.790020\n",
       "1    dummify__Division_W  -116.091776\n",
       "15   standardize__CWalks  -119.457902\n",
       "3     standardize__AtBat  -177.081202"
      ]
     },
     "execution_count": 70,
     "metadata": {},
     "output_type": "execute_result"
    }
   ],
   "source": [
    "model_4_selected = model_try(ElasticNet(alpha=0.1, l1_ratio=0.775, max_iter = 1000000))\n",
    "model_4_selected_fitted = model_4_selected.fit(X, y)\n",
    "coef4 = model_4_selected_fitted.named_steps['model'].coef_\n",
    "feature_names = ct.fit(X).get_feature_names_out()  # Assuming X has column names\n",
    "df_coef4 = pd.DataFrame({'Feature': feature_names, 'Elastic Net': coef4})\n",
    "df_coef4.sort_values(by = 'Elastic Net', ascending = False)"
   ]
  },
  {
   "cell_type": "code",
   "execution_count": 71,
   "metadata": {
    "colab": {
     "base_uri": "https://localhost:8080/"
    },
    "id": "0P8ztZ1kfFXO",
    "outputId": "3c525413-ad4a-4b41-978f-5a200fa6e83c"
   },
   "outputs": [
    {
     "data": {
      "text/plain": [
       "648.1996437306398"
      ]
     },
     "execution_count": 71,
     "metadata": {},
     "output_type": "execute_result"
    }
   ],
   "source": [
    "X['CHits'].std()"
   ]
  },
  {
   "cell_type": "markdown",
   "metadata": {
    "id": "wHmO0L4-ef6l"
   },
   "source": [
    "- for every 45.12 hits increases in 1986, there will be a 191.91 increase.\n",
    "- for every 331.19 runs increases in a player's career, there will be a 154.85 increase.\n",
    "- for every 648.19 hits increases in a player's career, there will be a 107.82 increase."
   ]
  },
  {
   "cell_type": "markdown",
   "metadata": {
    "id": "8Rw7Gl8ehAJE"
   },
   "source": [
    "#### 3. MSE would be -118752.856590"
   ]
  },
  {
   "cell_type": "markdown",
   "metadata": {
    "id": "n2P54SjIh6iY"
   },
   "source": [
    "## Part II. Variable Selection"
   ]
  },
  {
   "cell_type": "markdown",
   "metadata": {
    "id": "9g9krwX_iFGi"
   },
   "source": [
    "- Based on the absoulte values of the coefficients, the most important variable across all 4 models is CRuns\n",
    "- The five most important numeric variables are CRuns,\n",
    "Hits, CRBI, CHits, and Walks.\n",
    "- Division_W is the most important cat variable"
   ]
  },
  {
   "cell_type": "markdown",
   "metadata": {
    "id": "ImKU5su8lVSx"
   },
   "source": [
    "### 1. Use only the best variable"
   ]
  },
  {
   "cell_type": "code",
   "execution_count": 72,
   "metadata": {
    "id": "vWvfdep5le9U"
   },
   "outputs": [],
   "source": [
    "X2 = baseball[[\"CRuns\"]]"
   ]
  },
  {
   "cell_type": "markdown",
   "metadata": {
    "id": "ovkRic5VopxI"
   },
   "source": [
    "- Model 1 OLS"
   ]
  },
  {
   "cell_type": "code",
   "execution_count": 73,
   "metadata": {
    "colab": {
     "base_uri": "https://localhost:8080/"
    },
    "id": "P1tesILjltSS",
    "outputId": "b7845af7-c8f3-4af8-96b3-bba8238f3854"
   },
   "outputs": [
    {
     "data": {
      "text/plain": [
       "-143812.9359162973"
      ]
     },
     "execution_count": 73,
     "metadata": {},
     "output_type": "execute_result"
    }
   ],
   "source": [
    "model_2_1 = model_try(LinearRegression())\n",
    "model_2_1_fitted = model_2_1.fit(X2, y)\n",
    "mse21 = cross_val_score(model_2_1, X2, y, cv = 5, scoring = 'neg_mean_squared_error')\n",
    "mse21.mean()"
   ]
  },
  {
   "cell_type": "code",
   "execution_count": 74,
   "metadata": {
    "colab": {
     "base_uri": "https://localhost:8080/",
     "height": 81
    },
    "id": "oUylfFhySgmn",
    "outputId": "7f835b94-1b34-44a7-b495-6cfe27797777"
   },
   "outputs": [
    {
     "data": {
      "text/html": [
       "<div>\n",
       "<style scoped>\n",
       "    .dataframe tbody tr th:only-of-type {\n",
       "        vertical-align: middle;\n",
       "    }\n",
       "\n",
       "    .dataframe tbody tr th {\n",
       "        vertical-align: top;\n",
       "    }\n",
       "\n",
       "    .dataframe thead th {\n",
       "        text-align: right;\n",
       "    }\n",
       "</style>\n",
       "<table border=\"1\" class=\"dataframe\">\n",
       "  <thead>\n",
       "    <tr style=\"text-align: right;\">\n",
       "      <th></th>\n",
       "      <th>Feature</th>\n",
       "      <th>OLS</th>\n",
       "    </tr>\n",
       "  </thead>\n",
       "  <tbody>\n",
       "    <tr>\n",
       "      <th>0</th>\n",
       "      <td>standardize__CRuns</td>\n",
       "      <td>253.351392</td>\n",
       "    </tr>\n",
       "  </tbody>\n",
       "</table>\n",
       "</div>"
      ],
      "text/plain": [
       "              Feature         OLS\n",
       "0  standardize__CRuns  253.351392"
      ]
     },
     "execution_count": 74,
     "metadata": {},
     "output_type": "execute_result"
    }
   ],
   "source": [
    "coef21 = model_2_1_fitted.named_steps['model'].coef_\n",
    "feature_names = ct.fit(X2).get_feature_names_out()  # Assuming X has column names\n",
    "df_coef21 = pd.DataFrame({'Feature': feature_names, 'OLS': coef21})\n",
    "df_coef21.sort_values(by = 'OLS', ascending = False)"
   ]
  },
  {
   "cell_type": "markdown",
   "metadata": {
    "id": "J1AIZwippwAj"
   },
   "source": [
    "- Model 2 Ridge"
   ]
  },
  {
   "cell_type": "code",
   "execution_count": 75,
   "metadata": {
    "colab": {
     "base_uri": "https://localhost:8080/",
     "height": 206
    },
    "id": "QEnCZ4WlpzIh",
    "outputId": "e493f529-d4f6-47c6-ec4c-64f97f87ace0"
   },
   "outputs": [
    {
     "data": {
      "text/html": [
       "<div>\n",
       "<style scoped>\n",
       "    .dataframe tbody tr th:only-of-type {\n",
       "        vertical-align: middle;\n",
       "    }\n",
       "\n",
       "    .dataframe tbody tr th {\n",
       "        vertical-align: top;\n",
       "    }\n",
       "\n",
       "    .dataframe thead th {\n",
       "        text-align: right;\n",
       "    }\n",
       "</style>\n",
       "<table border=\"1\" class=\"dataframe\">\n",
       "  <thead>\n",
       "    <tr style=\"text-align: right;\">\n",
       "      <th></th>\n",
       "      <th>param_grid</th>\n",
       "      <th>scores</th>\n",
       "    </tr>\n",
       "  </thead>\n",
       "  <tbody>\n",
       "    <tr>\n",
       "      <th>4</th>\n",
       "      <td>10.0</td>\n",
       "      <td>-143658.517369</td>\n",
       "    </tr>\n",
       "    <tr>\n",
       "      <th>3</th>\n",
       "      <td>1.0</td>\n",
       "      <td>-143783.706854</td>\n",
       "    </tr>\n",
       "    <tr>\n",
       "      <th>2</th>\n",
       "      <td>0.1</td>\n",
       "      <td>-143809.862456</td>\n",
       "    </tr>\n",
       "    <tr>\n",
       "      <th>1</th>\n",
       "      <td>0.01</td>\n",
       "      <td>-143812.627051</td>\n",
       "    </tr>\n",
       "    <tr>\n",
       "      <th>0</th>\n",
       "      <td>0.001</td>\n",
       "      <td>-143812.905015</td>\n",
       "    </tr>\n",
       "  </tbody>\n",
       "</table>\n",
       "</div>"
      ],
      "text/plain": [
       "  param_grid         scores\n",
       "4       10.0 -143658.517369\n",
       "3        1.0 -143783.706854\n",
       "2        0.1 -143809.862456\n",
       "1       0.01 -143812.627051\n",
       "0      0.001 -143812.905015"
      ]
     },
     "execution_count": 75,
     "metadata": {},
     "output_type": "execute_result"
    }
   ],
   "source": [
    "gscv2_2_fitted = gscv2.fit(X2, y)\n",
    "gscv2_2_fitted.cv_results_\n",
    "mse22 = pd.DataFrame(data =\n",
    " {\"param_grid\":  gscv2_2_fitted.cv_results_['param_model__alpha'],\n",
    "  \"scores\": gscv2_2_fitted.cv_results_['mean_test_score']\n",
    "  }).sort_values(by = \"scores\", ascending = False)\n",
    "mse22"
   ]
  },
  {
   "cell_type": "code",
   "execution_count": 76,
   "metadata": {
    "colab": {
     "base_uri": "https://localhost:8080/",
     "height": 81
    },
    "id": "cQOZZXt0TUJY",
    "outputId": "ef594369-784b-41a6-ff6b-bd4d8de2f73e"
   },
   "outputs": [
    {
     "data": {
      "text/html": [
       "<div>\n",
       "<style scoped>\n",
       "    .dataframe tbody tr th:only-of-type {\n",
       "        vertical-align: middle;\n",
       "    }\n",
       "\n",
       "    .dataframe tbody tr th {\n",
       "        vertical-align: top;\n",
       "    }\n",
       "\n",
       "    .dataframe thead th {\n",
       "        text-align: right;\n",
       "    }\n",
       "</style>\n",
       "<table border=\"1\" class=\"dataframe\">\n",
       "  <thead>\n",
       "    <tr style=\"text-align: right;\">\n",
       "      <th></th>\n",
       "      <th>Feature</th>\n",
       "      <th>Ridge</th>\n",
       "    </tr>\n",
       "  </thead>\n",
       "  <tbody>\n",
       "    <tr>\n",
       "      <th>0</th>\n",
       "      <td>standardize__CRuns</td>\n",
       "      <td>244.071121</td>\n",
       "    </tr>\n",
       "  </tbody>\n",
       "</table>\n",
       "</div>"
      ],
      "text/plain": [
       "              Feature       Ridge\n",
       "0  standardize__CRuns  244.071121"
      ]
     },
     "execution_count": 76,
     "metadata": {},
     "output_type": "execute_result"
    }
   ],
   "source": [
    "model_2_2_selected = model_try(Ridge(alpha = 10))\n",
    "model_2_2_selected_fitted = model_2_2_selected.fit(X2, y)\n",
    "coef22 = model_2_2_selected_fitted.named_steps['model'].coef_\n",
    "feature_names = ct.fit(X2).get_feature_names_out()  # Assuming X has column names\n",
    "df_coef22 = pd.DataFrame({'Feature': feature_names, 'Ridge': coef22})\n",
    "df_coef22.sort_values(by = 'Ridge', ascending = False)"
   ]
  },
  {
   "cell_type": "markdown",
   "metadata": {
    "id": "RIrDnkkYqbNs"
   },
   "source": [
    "- Model 3 Lasso"
   ]
  },
  {
   "cell_type": "code",
   "execution_count": 77,
   "metadata": {
    "colab": {
     "base_uri": "https://localhost:8080/",
     "height": 206
    },
    "id": "v-eTa1z5qlz4",
    "outputId": "8d296cd4-dbdd-418f-de28-9392adc71c81"
   },
   "outputs": [
    {
     "data": {
      "text/html": [
       "<div>\n",
       "<style scoped>\n",
       "    .dataframe tbody tr th:only-of-type {\n",
       "        vertical-align: middle;\n",
       "    }\n",
       "\n",
       "    .dataframe tbody tr th {\n",
       "        vertical-align: top;\n",
       "    }\n",
       "\n",
       "    .dataframe thead th {\n",
       "        text-align: right;\n",
       "    }\n",
       "</style>\n",
       "<table border=\"1\" class=\"dataframe\">\n",
       "  <thead>\n",
       "    <tr style=\"text-align: right;\">\n",
       "      <th></th>\n",
       "      <th>param_grid</th>\n",
       "      <th>scores</th>\n",
       "    </tr>\n",
       "  </thead>\n",
       "  <tbody>\n",
       "    <tr>\n",
       "      <th>4</th>\n",
       "      <td>10.0</td>\n",
       "      <td>-143793.449159</td>\n",
       "    </tr>\n",
       "    <tr>\n",
       "      <th>3</th>\n",
       "      <td>1.0</td>\n",
       "      <td>-143801.606084</td>\n",
       "    </tr>\n",
       "    <tr>\n",
       "      <th>2</th>\n",
       "      <td>0.1</td>\n",
       "      <td>-143811.709122</td>\n",
       "    </tr>\n",
       "    <tr>\n",
       "      <th>1</th>\n",
       "      <td>0.01</td>\n",
       "      <td>-143812.812299</td>\n",
       "    </tr>\n",
       "    <tr>\n",
       "      <th>0</th>\n",
       "      <td>0.001</td>\n",
       "      <td>-143812.923545</td>\n",
       "    </tr>\n",
       "  </tbody>\n",
       "</table>\n",
       "</div>"
      ],
      "text/plain": [
       "  param_grid         scores\n",
       "4       10.0 -143793.449159\n",
       "3        1.0 -143801.606084\n",
       "2        0.1 -143811.709122\n",
       "1       0.01 -143812.812299\n",
       "0      0.001 -143812.923545"
      ]
     },
     "execution_count": 77,
     "metadata": {},
     "output_type": "execute_result"
    }
   ],
   "source": [
    "gscv2_3_fitted = gscv3.fit(X2, y)\n",
    "gscv2_3_fitted.cv_results_\n",
    "mse23 = pd.DataFrame(data =\n",
    " {\"param_grid\":  gscv2_3_fitted.cv_results_['param_model__alpha'],\n",
    "  \"scores\": gscv2_3_fitted.cv_results_['mean_test_score']\n",
    "  }).sort_values(by = \"scores\", ascending = False)\n",
    "mse23"
   ]
  },
  {
   "cell_type": "markdown",
   "metadata": {
    "id": "kMX0V0fKtyMB"
   },
   "source": [
    "- Model 4 Elastic Net"
   ]
  },
  {
   "cell_type": "code",
   "execution_count": 78,
   "metadata": {
    "colab": {
     "base_uri": "https://localhost:8080/",
     "height": 206
    },
    "id": "u3AXYkc9txa-",
    "outputId": "c744a811-d49c-4aec-ea56-1707eac383c4"
   },
   "outputs": [
    {
     "data": {
      "text/html": [
       "<div>\n",
       "<style scoped>\n",
       "    .dataframe tbody tr th:only-of-type {\n",
       "        vertical-align: middle;\n",
       "    }\n",
       "\n",
       "    .dataframe tbody tr th {\n",
       "        vertical-align: top;\n",
       "    }\n",
       "\n",
       "    .dataframe thead th {\n",
       "        text-align: right;\n",
       "    }\n",
       "</style>\n",
       "<table border=\"1\" class=\"dataframe\">\n",
       "  <thead>\n",
       "    <tr style=\"text-align: right;\">\n",
       "      <th></th>\n",
       "      <th>elastic_alpha</th>\n",
       "      <th>elastic_l1_ratio</th>\n",
       "      <th>scores</th>\n",
       "    </tr>\n",
       "  </thead>\n",
       "  <tbody>\n",
       "    <tr>\n",
       "      <th>12</th>\n",
       "      <td>0.1</td>\n",
       "      <td>0.55</td>\n",
       "      <td>-143656.753620</td>\n",
       "    </tr>\n",
       "    <tr>\n",
       "      <th>11</th>\n",
       "      <td>0.1</td>\n",
       "      <td>0.325</td>\n",
       "      <td>-143670.690061</td>\n",
       "    </tr>\n",
       "    <tr>\n",
       "      <th>13</th>\n",
       "      <td>0.1</td>\n",
       "      <td>0.775</td>\n",
       "      <td>-143701.093907</td>\n",
       "    </tr>\n",
       "    <tr>\n",
       "      <th>10</th>\n",
       "      <td>0.1</td>\n",
       "      <td>0.1</td>\n",
       "      <td>-143735.873327</td>\n",
       "    </tr>\n",
       "    <tr>\n",
       "      <th>5</th>\n",
       "      <td>0.01</td>\n",
       "      <td>0.1</td>\n",
       "      <td>-143759.624708</td>\n",
       "    </tr>\n",
       "  </tbody>\n",
       "</table>\n",
       "</div>"
      ],
      "text/plain": [
       "   elastic_alpha elastic_l1_ratio         scores\n",
       "12           0.1             0.55 -143656.753620\n",
       "11           0.1            0.325 -143670.690061\n",
       "13           0.1            0.775 -143701.093907\n",
       "10           0.1              0.1 -143735.873327\n",
       "5           0.01              0.1 -143759.624708"
      ]
     },
     "execution_count": 78,
     "metadata": {},
     "output_type": "execute_result"
    }
   ],
   "source": [
    "gscv2_4_fitted = gscv4.fit(X2, y)\n",
    "gscv2_4_fitted.cv_results_\n",
    "mse24 = pd.DataFrame({\n",
    "    'elastic_alpha': gscv2_4_fitted.cv_results_['param_model__alpha'],\n",
    "    'elastic_l1_ratio': gscv2_4_fitted.cv_results_['param_model__l1_ratio'],\n",
    "    'scores': gscv2_4_fitted.cv_results_['mean_test_score']\n",
    "}).sort_values(by = \"scores\", ascending = False)\n",
    "mse24.head()"
   ]
  },
  {
   "cell_type": "markdown",
   "metadata": {
    "id": "eEwJAtd4ueFG"
   },
   "source": [
    "### 2. Use only the five important variables"
   ]
  },
  {
   "cell_type": "code",
   "execution_count": 79,
   "metadata": {
    "id": "UojEtX59uujJ"
   },
   "outputs": [],
   "source": [
    "X3 = baseball[['CRuns', 'Hits', 'CRBI', 'CHits', 'Walks']]"
   ]
  },
  {
   "cell_type": "markdown",
   "metadata": {
    "id": "rQJk6pVrvvsd"
   },
   "source": [
    "- Model 1 OLS"
   ]
  },
  {
   "cell_type": "code",
   "execution_count": 80,
   "metadata": {
    "colab": {
     "base_uri": "https://localhost:8080/"
    },
    "id": "aipbfwO0v7gu",
    "outputId": "0f8e9ce4-af9a-46ba-ec0c-fe3c2fdc1f49"
   },
   "outputs": [
    {
     "data": {
      "text/plain": [
       "-126047.77085146765"
      ]
     },
     "execution_count": 80,
     "metadata": {},
     "output_type": "execute_result"
    }
   ],
   "source": [
    "model_3_1 = model_try(LinearRegression())\n",
    "model_3_1_fitted = model_3_1.fit(X3, y)\n",
    "mse31 = cross_val_score(model_3_1, X3, y, cv = 5, scoring = 'neg_mean_squared_error')\n",
    "mse31.mean()"
   ]
  },
  {
   "cell_type": "code",
   "execution_count": 81,
   "metadata": {
    "colab": {
     "base_uri": "https://localhost:8080/",
     "height": 206
    },
    "id": "axL26lYF2qGj",
    "outputId": "85d86e14-fb9b-445d-806d-933bf16fd6b3"
   },
   "outputs": [
    {
     "data": {
      "text/html": [
       "<div>\n",
       "<style scoped>\n",
       "    .dataframe tbody tr th:only-of-type {\n",
       "        vertical-align: middle;\n",
       "    }\n",
       "\n",
       "    .dataframe tbody tr th {\n",
       "        vertical-align: top;\n",
       "    }\n",
       "\n",
       "    .dataframe thead th {\n",
       "        text-align: right;\n",
       "    }\n",
       "</style>\n",
       "<table border=\"1\" class=\"dataframe\">\n",
       "  <thead>\n",
       "    <tr style=\"text-align: right;\">\n",
       "      <th></th>\n",
       "      <th>Feature</th>\n",
       "      <th>OLS</th>\n",
       "    </tr>\n",
       "  </thead>\n",
       "  <tbody>\n",
       "    <tr>\n",
       "      <th>2</th>\n",
       "      <td>standardize__CRBI</td>\n",
       "      <td>162.874117</td>\n",
       "    </tr>\n",
       "    <tr>\n",
       "      <th>1</th>\n",
       "      <td>standardize__Hits</td>\n",
       "      <td>112.191438</td>\n",
       "    </tr>\n",
       "    <tr>\n",
       "      <th>0</th>\n",
       "      <td>standardize__CRuns</td>\n",
       "      <td>91.951326</td>\n",
       "    </tr>\n",
       "    <tr>\n",
       "      <th>4</th>\n",
       "      <td>standardize__Walks</td>\n",
       "      <td>63.583665</td>\n",
       "    </tr>\n",
       "    <tr>\n",
       "      <th>3</th>\n",
       "      <td>standardize__CHits</td>\n",
       "      <td>-41.237667</td>\n",
       "    </tr>\n",
       "  </tbody>\n",
       "</table>\n",
       "</div>"
      ],
      "text/plain": [
       "              Feature         OLS\n",
       "2   standardize__CRBI  162.874117\n",
       "1   standardize__Hits  112.191438\n",
       "0  standardize__CRuns   91.951326\n",
       "4  standardize__Walks   63.583665\n",
       "3  standardize__CHits  -41.237667"
      ]
     },
     "execution_count": 81,
     "metadata": {},
     "output_type": "execute_result"
    }
   ],
   "source": [
    "coef31 = model_3_1_fitted.named_steps['model'].coef_\n",
    "feature_names = ct.fit(X3).get_feature_names_out()  # Assuming X has column names\n",
    "df_coef31 = pd.DataFrame({'Feature': feature_names, 'OLS': coef31})\n",
    "df_coef31.sort_values(by = 'OLS', ascending = False)"
   ]
  },
  {
   "cell_type": "markdown",
   "metadata": {
    "id": "s6oJa3OPvyie"
   },
   "source": [
    "- Model 2 Ridge"
   ]
  },
  {
   "cell_type": "code",
   "execution_count": 82,
   "metadata": {
    "colab": {
     "base_uri": "https://localhost:8080/",
     "height": 206
    },
    "id": "rrHmSJ5cwNfs",
    "outputId": "06381b5d-f085-4769-9219-56a5e0aae350"
   },
   "outputs": [
    {
     "data": {
      "text/html": [
       "<div>\n",
       "<style scoped>\n",
       "    .dataframe tbody tr th:only-of-type {\n",
       "        vertical-align: middle;\n",
       "    }\n",
       "\n",
       "    .dataframe tbody tr th {\n",
       "        vertical-align: top;\n",
       "    }\n",
       "\n",
       "    .dataframe thead th {\n",
       "        text-align: right;\n",
       "    }\n",
       "</style>\n",
       "<table border=\"1\" class=\"dataframe\">\n",
       "  <thead>\n",
       "    <tr style=\"text-align: right;\">\n",
       "      <th></th>\n",
       "      <th>param_grid</th>\n",
       "      <th>scores</th>\n",
       "    </tr>\n",
       "  </thead>\n",
       "  <tbody>\n",
       "    <tr>\n",
       "      <th>4</th>\n",
       "      <td>10.0</td>\n",
       "      <td>-123172.832275</td>\n",
       "    </tr>\n",
       "    <tr>\n",
       "      <th>3</th>\n",
       "      <td>1.0</td>\n",
       "      <td>-125269.250471</td>\n",
       "    </tr>\n",
       "    <tr>\n",
       "      <th>2</th>\n",
       "      <td>0.1</td>\n",
       "      <td>-125949.562233</td>\n",
       "    </tr>\n",
       "    <tr>\n",
       "      <th>1</th>\n",
       "      <td>0.01</td>\n",
       "      <td>-126037.669848</td>\n",
       "    </tr>\n",
       "    <tr>\n",
       "      <th>0</th>\n",
       "      <td>0.001</td>\n",
       "      <td>-126046.757841</td>\n",
       "    </tr>\n",
       "  </tbody>\n",
       "</table>\n",
       "</div>"
      ],
      "text/plain": [
       "  param_grid         scores\n",
       "4       10.0 -123172.832275\n",
       "3        1.0 -125269.250471\n",
       "2        0.1 -125949.562233\n",
       "1       0.01 -126037.669848\n",
       "0      0.001 -126046.757841"
      ]
     },
     "execution_count": 82,
     "metadata": {},
     "output_type": "execute_result"
    }
   ],
   "source": [
    "gscv3_2_fitted = gscv2.fit(X3, y)\n",
    "gscv3_2_fitted.cv_results_\n",
    "mse32 = pd.DataFrame(data =\n",
    " {\"param_grid\":  gscv3_2_fitted.cv_results_['param_model__alpha'],\n",
    "  \"scores\": gscv3_2_fitted.cv_results_['mean_test_score']\n",
    "  }).sort_values(by = \"scores\", ascending = False)\n",
    "mse32"
   ]
  },
  {
   "cell_type": "code",
   "execution_count": 83,
   "metadata": {
    "colab": {
     "base_uri": "https://localhost:8080/",
     "height": 206
    },
    "id": "EXnLwZlv2CRT",
    "outputId": "701eda0a-2fb1-4de9-dcf3-cfc9d9d0bdc2"
   },
   "outputs": [
    {
     "data": {
      "text/html": [
       "<div>\n",
       "<style scoped>\n",
       "    .dataframe tbody tr th:only-of-type {\n",
       "        vertical-align: middle;\n",
       "    }\n",
       "\n",
       "    .dataframe tbody tr th {\n",
       "        vertical-align: top;\n",
       "    }\n",
       "\n",
       "    .dataframe thead th {\n",
       "        text-align: right;\n",
       "    }\n",
       "</style>\n",
       "<table border=\"1\" class=\"dataframe\">\n",
       "  <thead>\n",
       "    <tr style=\"text-align: right;\">\n",
       "      <th></th>\n",
       "      <th>Feature</th>\n",
       "      <th>Ridge</th>\n",
       "    </tr>\n",
       "  </thead>\n",
       "  <tbody>\n",
       "    <tr>\n",
       "      <th>2</th>\n",
       "      <td>standardize__CRBI</td>\n",
       "      <td>126.472957</td>\n",
       "    </tr>\n",
       "    <tr>\n",
       "      <th>1</th>\n",
       "      <td>standardize__Hits</td>\n",
       "      <td>104.861189</td>\n",
       "    </tr>\n",
       "    <tr>\n",
       "      <th>4</th>\n",
       "      <td>standardize__Walks</td>\n",
       "      <td>69.846563</td>\n",
       "    </tr>\n",
       "    <tr>\n",
       "      <th>0</th>\n",
       "      <td>standardize__CRuns</td>\n",
       "      <td>57.286936</td>\n",
       "    </tr>\n",
       "    <tr>\n",
       "      <th>3</th>\n",
       "      <td>standardize__CHits</td>\n",
       "      <td>26.383317</td>\n",
       "    </tr>\n",
       "  </tbody>\n",
       "</table>\n",
       "</div>"
      ],
      "text/plain": [
       "              Feature       Ridge\n",
       "2   standardize__CRBI  126.472957\n",
       "1   standardize__Hits  104.861189\n",
       "4  standardize__Walks   69.846563\n",
       "0  standardize__CRuns   57.286936\n",
       "3  standardize__CHits   26.383317"
      ]
     },
     "execution_count": 83,
     "metadata": {},
     "output_type": "execute_result"
    }
   ],
   "source": [
    "model_3_2_selected = model_try(Ridge(alpha = 10))\n",
    "model_3_2_selected_fitted = model_3_2_selected.fit(X3, y)\n",
    "coef32 = model_3_2_selected_fitted.named_steps['model'].coef_\n",
    "feature_names = ct.fit(X3).get_feature_names_out()  # Assuming X has column names\n",
    "df_coef32 = pd.DataFrame({'Feature': feature_names, 'Ridge': coef32})\n",
    "df_coef32.sort_values(by = 'Ridge', ascending = False)"
   ]
  },
  {
   "cell_type": "markdown",
   "metadata": {
    "id": "Bx7ror3gv1Wr"
   },
   "source": [
    "- Model 3 Lasso"
   ]
  },
  {
   "cell_type": "code",
   "execution_count": 84,
   "metadata": {
    "colab": {
     "base_uri": "https://localhost:8080/",
     "height": 206
    },
    "id": "Xs8DfT6rweeK",
    "outputId": "30e4e8ec-7a81-44a0-e662-022135655b36"
   },
   "outputs": [
    {
     "data": {
      "text/html": [
       "<div>\n",
       "<style scoped>\n",
       "    .dataframe tbody tr th:only-of-type {\n",
       "        vertical-align: middle;\n",
       "    }\n",
       "\n",
       "    .dataframe tbody tr th {\n",
       "        vertical-align: top;\n",
       "    }\n",
       "\n",
       "    .dataframe thead th {\n",
       "        text-align: right;\n",
       "    }\n",
       "</style>\n",
       "<table border=\"1\" class=\"dataframe\">\n",
       "  <thead>\n",
       "    <tr style=\"text-align: right;\">\n",
       "      <th></th>\n",
       "      <th>param_grid</th>\n",
       "      <th>scores</th>\n",
       "    </tr>\n",
       "  </thead>\n",
       "  <tbody>\n",
       "    <tr>\n",
       "      <th>4</th>\n",
       "      <td>10.0</td>\n",
       "      <td>-124607.123928</td>\n",
       "    </tr>\n",
       "    <tr>\n",
       "      <th>3</th>\n",
       "      <td>1.0</td>\n",
       "      <td>-125054.402877</td>\n",
       "    </tr>\n",
       "    <tr>\n",
       "      <th>2</th>\n",
       "      <td>0.1</td>\n",
       "      <td>-125915.133673</td>\n",
       "    </tr>\n",
       "    <tr>\n",
       "      <th>1</th>\n",
       "      <td>0.01</td>\n",
       "      <td>-126036.097664</td>\n",
       "    </tr>\n",
       "    <tr>\n",
       "      <th>0</th>\n",
       "      <td>0.001</td>\n",
       "      <td>-126046.612418</td>\n",
       "    </tr>\n",
       "  </tbody>\n",
       "</table>\n",
       "</div>"
      ],
      "text/plain": [
       "  param_grid         scores\n",
       "4       10.0 -124607.123928\n",
       "3        1.0 -125054.402877\n",
       "2        0.1 -125915.133673\n",
       "1       0.01 -126036.097664\n",
       "0      0.001 -126046.612418"
      ]
     },
     "execution_count": 84,
     "metadata": {},
     "output_type": "execute_result"
    }
   ],
   "source": [
    "gscv3_3_fitted = gscv3.fit(X3, y)\n",
    "gscv3_3_fitted.cv_results_\n",
    "mse33 = pd.DataFrame(data =\n",
    " {\"param_grid\":  gscv3_3_fitted.cv_results_['param_model__alpha'],\n",
    "  \"scores\": gscv3_3_fitted.cv_results_['mean_test_score']\n",
    "  }).sort_values(by = \"scores\", ascending = False)\n",
    "mse33"
   ]
  },
  {
   "cell_type": "markdown",
   "metadata": {
    "id": "8LdHzALjv3-c"
   },
   "source": [
    "- Model 4 Elastic Net"
   ]
  },
  {
   "cell_type": "code",
   "execution_count": 85,
   "metadata": {
    "colab": {
     "base_uri": "https://localhost:8080/",
     "height": 206
    },
    "id": "TS5pRlbNwoxc",
    "outputId": "e814093e-9d1d-46e2-c6ae-06241c9192a5"
   },
   "outputs": [
    {
     "data": {
      "text/html": [
       "<div>\n",
       "<style scoped>\n",
       "    .dataframe tbody tr th:only-of-type {\n",
       "        vertical-align: middle;\n",
       "    }\n",
       "\n",
       "    .dataframe tbody tr th {\n",
       "        vertical-align: top;\n",
       "    }\n",
       "\n",
       "    .dataframe thead th {\n",
       "        text-align: right;\n",
       "    }\n",
       "</style>\n",
       "<table border=\"1\" class=\"dataframe\">\n",
       "  <thead>\n",
       "    <tr style=\"text-align: right;\">\n",
       "      <th></th>\n",
       "      <th>elastic_alpha</th>\n",
       "      <th>elastic_l1_ratio</th>\n",
       "      <th>scores</th>\n",
       "    </tr>\n",
       "  </thead>\n",
       "  <tbody>\n",
       "    <tr>\n",
       "      <th>18</th>\n",
       "      <td>1.0</td>\n",
       "      <td>0.775</td>\n",
       "      <td>-122089.248214</td>\n",
       "    </tr>\n",
       "    <tr>\n",
       "      <th>17</th>\n",
       "      <td>1.0</td>\n",
       "      <td>0.55</td>\n",
       "      <td>-122440.117631</td>\n",
       "    </tr>\n",
       "    <tr>\n",
       "      <th>10</th>\n",
       "      <td>0.1</td>\n",
       "      <td>0.1</td>\n",
       "      <td>-122588.577519</td>\n",
       "    </tr>\n",
       "    <tr>\n",
       "      <th>11</th>\n",
       "      <td>0.1</td>\n",
       "      <td>0.325</td>\n",
       "      <td>-122837.367932</td>\n",
       "    </tr>\n",
       "    <tr>\n",
       "      <th>12</th>\n",
       "      <td>0.1</td>\n",
       "      <td>0.55</td>\n",
       "      <td>-123223.674716</td>\n",
       "    </tr>\n",
       "  </tbody>\n",
       "</table>\n",
       "</div>"
      ],
      "text/plain": [
       "   elastic_alpha elastic_l1_ratio         scores\n",
       "18           1.0            0.775 -122089.248214\n",
       "17           1.0             0.55 -122440.117631\n",
       "10           0.1              0.1 -122588.577519\n",
       "11           0.1            0.325 -122837.367932\n",
       "12           0.1             0.55 -123223.674716"
      ]
     },
     "execution_count": 85,
     "metadata": {},
     "output_type": "execute_result"
    }
   ],
   "source": [
    "gscv3_4_fitted = gscv4.fit(X3, y)\n",
    "gscv3_4_fitted.cv_results_\n",
    "mse34 = pd.DataFrame({\n",
    "    'elastic_alpha': gscv3_4_fitted.cv_results_['param_model__alpha'],\n",
    "    'elastic_l1_ratio': gscv3_4_fitted.cv_results_['param_model__l1_ratio'],\n",
    "    'scores': gscv3_4_fitted.cv_results_['mean_test_score']\n",
    "}).sort_values(by = \"scores\", ascending = False)\n",
    "mse34.head()"
   ]
  },
  {
   "cell_type": "markdown",
   "metadata": {
    "id": "8YV-G3Jcxz1N"
   },
   "source": [
    "### 3. Use five variables and interaction with the most important dummy"
   ]
  },
  {
   "cell_type": "code",
   "execution_count": 86,
   "metadata": {
    "id": "LZYuklnrzSU_"
   },
   "outputs": [],
   "source": [
    "X4 = baseball[['CRuns', 'Hits', 'CRBI', 'CHits', 'Walks', 'Division']]"
   ]
  },
  {
   "cell_type": "code",
   "execution_count": 87,
   "metadata": {
    "id": "_ZwbnItYx88Z"
   },
   "outputs": [],
   "source": [
    "def model_try2(model):\n",
    "  ct = ColumnTransformer(\n",
    "    [\n",
    "      (\"dummify\",\n",
    "      OneHotEncoder(drop='first', sparse_output = False, handle_unknown='ignore'),\n",
    "      make_column_selector(dtype_include=object)),\n",
    "      (\"standardize\",\n",
    "      StandardScaler(),\n",
    "      make_column_selector(dtype_include=np.number))\n",
    "    ],remainder = \"passthrough\"\n",
    "    ).set_output(transform=\"pandas\")\n",
    "  ct2 = ColumnTransformer(\n",
    "    [\n",
    "        ('interaction1', PolynomialFeatures(interaction_only=True, include_bias=False), ['standardize__CRuns', 'dummify__Division_W']),\n",
    "        ('interaction2', PolynomialFeatures(interaction_only=True, include_bias=False), ['standardize__Hits', 'dummify__Division_W']),\n",
    "        ('interaction3', PolynomialFeatures(interaction_only=True, include_bias=False), ['standardize__CRBI', 'dummify__Division_W']),\n",
    "        ('interaction4', PolynomialFeatures(interaction_only=True, include_bias=False), ['standardize__CHits', 'dummify__Division_W']),\n",
    "        ('interaction5', PolynomialFeatures(interaction_only=True, include_bias=False), ['standardize__Walks', 'dummify__Division_W'])\n",
    "    ],\n",
    "    remainder= \"drop\"\n",
    "    ).set_output(transform=\"pandas\")\n",
    "\n",
    "  pipeline = Pipeline(\n",
    "    [(\"preprocessing\", ct),\n",
    "     (\"interaction\", ct2),\n",
    "     (\"model\", model)] # the only changing part\n",
    "    )\n",
    "  return pipeline"
   ]
  },
  {
   "cell_type": "markdown",
   "metadata": {
    "id": "VqUpVDLPDytY"
   },
   "source": [
    "- Model 1 OLS"
   ]
  },
  {
   "cell_type": "code",
   "execution_count": 88,
   "metadata": {
    "colab": {
     "base_uri": "https://localhost:8080/"
    },
    "id": "MsRN61YQ03o2",
    "outputId": "47ebf3eb-33d0-4f41-f6f9-79d2a87f8285"
   },
   "outputs": [
    {
     "data": {
      "text/plain": [
       "-134896.04426742907"
      ]
     },
     "execution_count": 88,
     "metadata": {},
     "output_type": "execute_result"
    }
   ],
   "source": [
    "model_4_1 = model_try2(LinearRegression())\n",
    "model_4_1_fitted = model_4_1.fit(X4, y)\n",
    "mse41 = cross_val_score(model_4_1, X4, y, cv = 5, scoring = 'neg_mean_squared_error')\n",
    "mse41.mean()"
   ]
  },
  {
   "cell_type": "code",
   "execution_count": 89,
   "metadata": {
    "colab": {
     "base_uri": "https://localhost:8080/",
     "height": 520
    },
    "id": "u7U_fb0reKwu",
    "outputId": "c793c259-4e9f-4f94-b844-8903c9470b05"
   },
   "outputs": [
    {
     "data": {
      "text/html": [
       "<div>\n",
       "<style scoped>\n",
       "    .dataframe tbody tr th:only-of-type {\n",
       "        vertical-align: middle;\n",
       "    }\n",
       "\n",
       "    .dataframe tbody tr th {\n",
       "        vertical-align: top;\n",
       "    }\n",
       "\n",
       "    .dataframe thead th {\n",
       "        text-align: right;\n",
       "    }\n",
       "</style>\n",
       "<table border=\"1\" class=\"dataframe\">\n",
       "  <thead>\n",
       "    <tr style=\"text-align: right;\">\n",
       "      <th></th>\n",
       "      <th>feature</th>\n",
       "      <th>OLS</th>\n",
       "    </tr>\n",
       "  </thead>\n",
       "  <tbody>\n",
       "    <tr>\n",
       "      <th>11</th>\n",
       "      <td>interaction4__standardize__CHits dummify__Divi...</td>\n",
       "      <td>372.090166</td>\n",
       "    </tr>\n",
       "    <tr>\n",
       "      <th>6</th>\n",
       "      <td>interaction3__standardize__CRBI</td>\n",
       "      <td>315.889028</td>\n",
       "    </tr>\n",
       "    <tr>\n",
       "      <th>3</th>\n",
       "      <td>interaction2__standardize__Hits</td>\n",
       "      <td>112.136085</td>\n",
       "    </tr>\n",
       "    <tr>\n",
       "      <th>12</th>\n",
       "      <td>interaction5__standardize__Walks</td>\n",
       "      <td>82.046526</td>\n",
       "    </tr>\n",
       "    <tr>\n",
       "      <th>0</th>\n",
       "      <td>interaction1__standardize__CRuns</td>\n",
       "      <td>69.574498</td>\n",
       "    </tr>\n",
       "    <tr>\n",
       "      <th>5</th>\n",
       "      <td>interaction2__standardize__Hits dummify__Divis...</td>\n",
       "      <td>-27.691808</td>\n",
       "    </tr>\n",
       "    <tr>\n",
       "      <th>4</th>\n",
       "      <td>interaction2__dummify__Division_W</td>\n",
       "      <td>-27.909572</td>\n",
       "    </tr>\n",
       "    <tr>\n",
       "      <th>10</th>\n",
       "      <td>interaction4__dummify__Division_W</td>\n",
       "      <td>-27.909572</td>\n",
       "    </tr>\n",
       "    <tr>\n",
       "      <th>13</th>\n",
       "      <td>interaction5__dummify__Division_W</td>\n",
       "      <td>-27.909572</td>\n",
       "    </tr>\n",
       "    <tr>\n",
       "      <th>7</th>\n",
       "      <td>interaction3__dummify__Division_W</td>\n",
       "      <td>-27.909572</td>\n",
       "    </tr>\n",
       "    <tr>\n",
       "      <th>1</th>\n",
       "      <td>interaction1__dummify__Division_W</td>\n",
       "      <td>-27.909572</td>\n",
       "    </tr>\n",
       "    <tr>\n",
       "      <th>14</th>\n",
       "      <td>interaction5__standardize__Walks dummify__Divi...</td>\n",
       "      <td>-31.461988</td>\n",
       "    </tr>\n",
       "    <tr>\n",
       "      <th>9</th>\n",
       "      <td>interaction4__standardize__CHits</td>\n",
       "      <td>-127.553748</td>\n",
       "    </tr>\n",
       "    <tr>\n",
       "      <th>2</th>\n",
       "      <td>interaction1__standardize__CRuns dummify__Divi...</td>\n",
       "      <td>-208.146842</td>\n",
       "    </tr>\n",
       "    <tr>\n",
       "      <th>8</th>\n",
       "      <td>interaction3__standardize__CRBI dummify__Divis...</td>\n",
       "      <td>-257.125901</td>\n",
       "    </tr>\n",
       "  </tbody>\n",
       "</table>\n",
       "</div>"
      ],
      "text/plain": [
       "                                              feature         OLS\n",
       "11  interaction4__standardize__CHits dummify__Divi...  372.090166\n",
       "6                     interaction3__standardize__CRBI  315.889028\n",
       "3                     interaction2__standardize__Hits  112.136085\n",
       "12                   interaction5__standardize__Walks   82.046526\n",
       "0                    interaction1__standardize__CRuns   69.574498\n",
       "5   interaction2__standardize__Hits dummify__Divis...  -27.691808\n",
       "4                   interaction2__dummify__Division_W  -27.909572\n",
       "10                  interaction4__dummify__Division_W  -27.909572\n",
       "13                  interaction5__dummify__Division_W  -27.909572\n",
       "7                   interaction3__dummify__Division_W  -27.909572\n",
       "1                   interaction1__dummify__Division_W  -27.909572\n",
       "14  interaction5__standardize__Walks dummify__Divi...  -31.461988\n",
       "9                    interaction4__standardize__CHits -127.553748\n",
       "2   interaction1__standardize__CRuns dummify__Divi... -208.146842\n",
       "8   interaction3__standardize__CRBI dummify__Divis... -257.125901"
      ]
     },
     "execution_count": 89,
     "metadata": {},
     "output_type": "execute_result"
    }
   ],
   "source": [
    "feature_name41 = model_4_1.named_steps['interaction'].get_feature_names_out()\n",
    "coef41 = model_4_1_fitted.named_steps['model'].coef_\n",
    "\n",
    "df_coef41 = pd.DataFrame({\n",
    "    \"feature\": feature_name41, \"OLS\": coef41})\n",
    "df_coef41 = df_coef41.sort_values(by=\"OLS\", ascending=False)\n",
    "df_coef41"
   ]
  },
  {
   "cell_type": "markdown",
   "metadata": {
    "id": "4DItNFmDFj78"
   },
   "source": [
    "- Model 2 Ridge"
   ]
  },
  {
   "cell_type": "code",
   "execution_count": 90,
   "metadata": {
    "colab": {
     "base_uri": "https://localhost:8080/",
     "height": 206
    },
    "id": "JD5ewCt5DvhA",
    "outputId": "33bebccc-f491-4cca-b6fb-9feb796f15c2"
   },
   "outputs": [
    {
     "data": {
      "text/html": [
       "<div>\n",
       "<style scoped>\n",
       "    .dataframe tbody tr th:only-of-type {\n",
       "        vertical-align: middle;\n",
       "    }\n",
       "\n",
       "    .dataframe tbody tr th {\n",
       "        vertical-align: top;\n",
       "    }\n",
       "\n",
       "    .dataframe thead th {\n",
       "        text-align: right;\n",
       "    }\n",
       "</style>\n",
       "<table border=\"1\" class=\"dataframe\">\n",
       "  <thead>\n",
       "    <tr style=\"text-align: right;\">\n",
       "      <th></th>\n",
       "      <th>param_grid</th>\n",
       "      <th>scores</th>\n",
       "    </tr>\n",
       "  </thead>\n",
       "  <tbody>\n",
       "    <tr>\n",
       "      <th>4</th>\n",
       "      <td>10.0</td>\n",
       "      <td>-120167.252960</td>\n",
       "    </tr>\n",
       "    <tr>\n",
       "      <th>3</th>\n",
       "      <td>1.0</td>\n",
       "      <td>-126996.127537</td>\n",
       "    </tr>\n",
       "    <tr>\n",
       "      <th>2</th>\n",
       "      <td>0.1</td>\n",
       "      <td>-133141.977056</td>\n",
       "    </tr>\n",
       "    <tr>\n",
       "      <th>1</th>\n",
       "      <td>0.01</td>\n",
       "      <td>-134691.592069</td>\n",
       "    </tr>\n",
       "    <tr>\n",
       "      <th>0</th>\n",
       "      <td>0.001</td>\n",
       "      <td>-134875.244943</td>\n",
       "    </tr>\n",
       "  </tbody>\n",
       "</table>\n",
       "</div>"
      ],
      "text/plain": [
       "  param_grid         scores\n",
       "4       10.0 -120167.252960\n",
       "3        1.0 -126996.127537\n",
       "2        0.1 -133141.977056\n",
       "1       0.01 -134691.592069\n",
       "0      0.001 -134875.244943"
      ]
     },
     "execution_count": 90,
     "metadata": {},
     "output_type": "execute_result"
    }
   ],
   "source": [
    "model_4_2 = model_try2(Ridge())\n",
    "gscv4_2 = GridSearchCV(model_4_2, param_grid, cv = 5, scoring='neg_mean_squared_error')\n",
    "gscv4_2_fitted = gscv4_2.fit(X4, y)\n",
    "gscv4_2_fitted.cv_results_\n",
    "mse42 = pd.DataFrame(data =\n",
    " {\"param_grid\":  gscv4_2_fitted.cv_results_['param_model__alpha'],\n",
    "  \"scores\": gscv4_2_fitted.cv_results_['mean_test_score']\n",
    "  }).sort_values(by = \"scores\", ascending = False)\n",
    "mse42"
   ]
  },
  {
   "cell_type": "code",
   "execution_count": 91,
   "metadata": {
    "colab": {
     "base_uri": "https://localhost:8080/",
     "height": 520
    },
    "id": "etT4d9MSZZxh",
    "outputId": "578bf3b5-554b-40f8-8a56-549d6fce567e"
   },
   "outputs": [
    {
     "data": {
      "text/html": [
       "<div>\n",
       "<style scoped>\n",
       "    .dataframe tbody tr th:only-of-type {\n",
       "        vertical-align: middle;\n",
       "    }\n",
       "\n",
       "    .dataframe tbody tr th {\n",
       "        vertical-align: top;\n",
       "    }\n",
       "\n",
       "    .dataframe thead th {\n",
       "        text-align: right;\n",
       "    }\n",
       "</style>\n",
       "<table border=\"1\" class=\"dataframe\">\n",
       "  <thead>\n",
       "    <tr style=\"text-align: right;\">\n",
       "      <th></th>\n",
       "      <th>feature</th>\n",
       "      <th>Ridge</th>\n",
       "    </tr>\n",
       "  </thead>\n",
       "  <tbody>\n",
       "    <tr>\n",
       "      <th>6</th>\n",
       "      <td>interaction3__standardize__CRBI</td>\n",
       "      <td>157.459941</td>\n",
       "    </tr>\n",
       "    <tr>\n",
       "      <th>3</th>\n",
       "      <td>interaction2__standardize__Hits</td>\n",
       "      <td>100.259869</td>\n",
       "    </tr>\n",
       "    <tr>\n",
       "      <th>12</th>\n",
       "      <td>interaction5__standardize__Walks</td>\n",
       "      <td>89.552809</td>\n",
       "    </tr>\n",
       "    <tr>\n",
       "      <th>9</th>\n",
       "      <td>interaction4__standardize__CHits</td>\n",
       "      <td>57.994893</td>\n",
       "    </tr>\n",
       "    <tr>\n",
       "      <th>0</th>\n",
       "      <td>interaction1__standardize__CRuns</td>\n",
       "      <td>38.253567</td>\n",
       "    </tr>\n",
       "    <tr>\n",
       "      <th>11</th>\n",
       "      <td>interaction4__standardize__CHits dummify__Divi...</td>\n",
       "      <td>15.235975</td>\n",
       "    </tr>\n",
       "    <tr>\n",
       "      <th>5</th>\n",
       "      <td>interaction2__standardize__Hits dummify__Divis...</td>\n",
       "      <td>-9.930896</td>\n",
       "    </tr>\n",
       "    <tr>\n",
       "      <th>13</th>\n",
       "      <td>interaction5__dummify__Division_W</td>\n",
       "      <td>-26.633144</td>\n",
       "    </tr>\n",
       "    <tr>\n",
       "      <th>10</th>\n",
       "      <td>interaction4__dummify__Division_W</td>\n",
       "      <td>-26.633144</td>\n",
       "    </tr>\n",
       "    <tr>\n",
       "      <th>7</th>\n",
       "      <td>interaction3__dummify__Division_W</td>\n",
       "      <td>-26.633144</td>\n",
       "    </tr>\n",
       "    <tr>\n",
       "      <th>4</th>\n",
       "      <td>interaction2__dummify__Division_W</td>\n",
       "      <td>-26.633144</td>\n",
       "    </tr>\n",
       "    <tr>\n",
       "      <th>1</th>\n",
       "      <td>interaction1__dummify__Division_W</td>\n",
       "      <td>-26.633144</td>\n",
       "    </tr>\n",
       "    <tr>\n",
       "      <th>2</th>\n",
       "      <td>interaction1__standardize__CRuns dummify__Divi...</td>\n",
       "      <td>-32.258948</td>\n",
       "    </tr>\n",
       "    <tr>\n",
       "      <th>14</th>\n",
       "      <td>interaction5__standardize__Walks dummify__Divi...</td>\n",
       "      <td>-47.467078</td>\n",
       "    </tr>\n",
       "    <tr>\n",
       "      <th>8</th>\n",
       "      <td>interaction3__standardize__CRBI dummify__Divis...</td>\n",
       "      <td>-63.429145</td>\n",
       "    </tr>\n",
       "  </tbody>\n",
       "</table>\n",
       "</div>"
      ],
      "text/plain": [
       "                                              feature       Ridge\n",
       "6                     interaction3__standardize__CRBI  157.459941\n",
       "3                     interaction2__standardize__Hits  100.259869\n",
       "12                   interaction5__standardize__Walks   89.552809\n",
       "9                    interaction4__standardize__CHits   57.994893\n",
       "0                    interaction1__standardize__CRuns   38.253567\n",
       "11  interaction4__standardize__CHits dummify__Divi...   15.235975\n",
       "5   interaction2__standardize__Hits dummify__Divis...   -9.930896\n",
       "13                  interaction5__dummify__Division_W  -26.633144\n",
       "10                  interaction4__dummify__Division_W  -26.633144\n",
       "7                   interaction3__dummify__Division_W  -26.633144\n",
       "4                   interaction2__dummify__Division_W  -26.633144\n",
       "1                   interaction1__dummify__Division_W  -26.633144\n",
       "2   interaction1__standardize__CRuns dummify__Divi...  -32.258948\n",
       "14  interaction5__standardize__Walks dummify__Divi...  -47.467078\n",
       "8   interaction3__standardize__CRBI dummify__Divis...  -63.429145"
      ]
     },
     "execution_count": 91,
     "metadata": {},
     "output_type": "execute_result"
    }
   ],
   "source": [
    "model_4_2_selected = model_try2(Ridge(alpha=10))\n",
    "model_4_2_selected_fitted = model_4_2_selected.fit(X4, y)\n",
    "\n",
    "feature_name42 = model_4_2_selected.named_steps['interaction'].get_feature_names_out()\n",
    "coef42 = model_4_2_selected_fitted.named_steps['model'].coef_\n",
    "\n",
    "df_coef42 = pd.DataFrame({\n",
    "    \"feature\": feature_name42, \"Ridge\": coef42})\n",
    "df_coef42 = df_coef42.sort_values(by=\"Ridge\", ascending=False)\n",
    "df_coef42"
   ]
  },
  {
   "cell_type": "markdown",
   "metadata": {
    "id": "uw-EcigrZWn3"
   },
   "source": [
    "- Model 3 Lasso"
   ]
  },
  {
   "cell_type": "code",
   "execution_count": 92,
   "metadata": {
    "colab": {
     "base_uri": "https://localhost:8080/",
     "height": 206
    },
    "id": "HzpKEL72Fn8e",
    "outputId": "f3bdd91a-0fda-457f-f399-c6e4c15fcaed"
   },
   "outputs": [
    {
     "data": {
      "text/html": [
       "<div>\n",
       "<style scoped>\n",
       "    .dataframe tbody tr th:only-of-type {\n",
       "        vertical-align: middle;\n",
       "    }\n",
       "\n",
       "    .dataframe tbody tr th {\n",
       "        vertical-align: top;\n",
       "    }\n",
       "\n",
       "    .dataframe thead th {\n",
       "        text-align: right;\n",
       "    }\n",
       "</style>\n",
       "<table border=\"1\" class=\"dataframe\">\n",
       "  <thead>\n",
       "    <tr style=\"text-align: right;\">\n",
       "      <th></th>\n",
       "      <th>param_grid</th>\n",
       "      <th>scores</th>\n",
       "    </tr>\n",
       "  </thead>\n",
       "  <tbody>\n",
       "    <tr>\n",
       "      <th>4</th>\n",
       "      <td>10.0</td>\n",
       "      <td>-121683.328737</td>\n",
       "    </tr>\n",
       "    <tr>\n",
       "      <th>3</th>\n",
       "      <td>1.0</td>\n",
       "      <td>-127988.983194</td>\n",
       "    </tr>\n",
       "    <tr>\n",
       "      <th>2</th>\n",
       "      <td>0.1</td>\n",
       "      <td>-133883.172855</td>\n",
       "    </tr>\n",
       "    <tr>\n",
       "      <th>1</th>\n",
       "      <td>0.01</td>\n",
       "      <td>-134792.864612</td>\n",
       "    </tr>\n",
       "    <tr>\n",
       "      <th>0</th>\n",
       "      <td>0.001</td>\n",
       "      <td>-134885.971588</td>\n",
       "    </tr>\n",
       "  </tbody>\n",
       "</table>\n",
       "</div>"
      ],
      "text/plain": [
       "  param_grid         scores\n",
       "4       10.0 -121683.328737\n",
       "3        1.0 -127988.983194\n",
       "2        0.1 -133883.172855\n",
       "1       0.01 -134792.864612\n",
       "0      0.001 -134885.971588"
      ]
     },
     "execution_count": 92,
     "metadata": {},
     "output_type": "execute_result"
    }
   ],
   "source": [
    "model_4_3 = model_try2(Lasso(max_iter = 1000000))\n",
    "gscv4_3 = GridSearchCV(model_4_3, param_grid, cv = 5, scoring='neg_mean_squared_error')\n",
    "gscv4_3_fitted = gscv4_3.fit(X4, y)\n",
    "gscv4_3_fitted.cv_results_\n",
    "mse43 = pd.DataFrame(data =\n",
    " {\"param_grid\":  gscv4_3_fitted.cv_results_['param_model__alpha'],\n",
    "  \"scores\": gscv4_3_fitted.cv_results_['mean_test_score']\n",
    "  }).sort_values(by = \"scores\", ascending = False)\n",
    "mse43"
   ]
  },
  {
   "cell_type": "markdown",
   "metadata": {
    "id": "1ESEI2QdGc8e"
   },
   "source": [
    "- Model 4 Elastic Net"
   ]
  },
  {
   "cell_type": "code",
   "execution_count": 93,
   "metadata": {
    "colab": {
     "base_uri": "https://localhost:8080/",
     "height": 206
    },
    "id": "ZXAVApCCG_yx",
    "outputId": "8ecc7d44-e6c0-439f-cb36-36caf7dfe1f1"
   },
   "outputs": [
    {
     "data": {
      "text/html": [
       "<div>\n",
       "<style scoped>\n",
       "    .dataframe tbody tr th:only-of-type {\n",
       "        vertical-align: middle;\n",
       "    }\n",
       "\n",
       "    .dataframe tbody tr th {\n",
       "        vertical-align: top;\n",
       "    }\n",
       "\n",
       "    .dataframe thead th {\n",
       "        text-align: right;\n",
       "    }\n",
       "</style>\n",
       "<table border=\"1\" class=\"dataframe\">\n",
       "  <thead>\n",
       "    <tr style=\"text-align: right;\">\n",
       "      <th></th>\n",
       "      <th>elastic_alpha</th>\n",
       "      <th>elastic_l1_ratio</th>\n",
       "      <th>scores</th>\n",
       "    </tr>\n",
       "  </thead>\n",
       "  <tbody>\n",
       "    <tr>\n",
       "      <th>18</th>\n",
       "      <td>1.0</td>\n",
       "      <td>0.775</td>\n",
       "      <td>-117726.929165</td>\n",
       "    </tr>\n",
       "    <tr>\n",
       "      <th>17</th>\n",
       "      <td>1.0</td>\n",
       "      <td>0.55</td>\n",
       "      <td>-118757.391139</td>\n",
       "    </tr>\n",
       "    <tr>\n",
       "      <th>10</th>\n",
       "      <td>0.1</td>\n",
       "      <td>0.1</td>\n",
       "      <td>-118763.994627</td>\n",
       "    </tr>\n",
       "    <tr>\n",
       "      <th>11</th>\n",
       "      <td>0.1</td>\n",
       "      <td>0.325</td>\n",
       "      <td>-119350.126418</td>\n",
       "    </tr>\n",
       "    <tr>\n",
       "      <th>12</th>\n",
       "      <td>0.1</td>\n",
       "      <td>0.55</td>\n",
       "      <td>-120277.023531</td>\n",
       "    </tr>\n",
       "  </tbody>\n",
       "</table>\n",
       "</div>"
      ],
      "text/plain": [
       "   elastic_alpha elastic_l1_ratio         scores\n",
       "18           1.0            0.775 -117726.929165\n",
       "17           1.0             0.55 -118757.391139\n",
       "10           0.1              0.1 -118763.994627\n",
       "11           0.1            0.325 -119350.126418\n",
       "12           0.1             0.55 -120277.023531"
      ]
     },
     "execution_count": 93,
     "metadata": {},
     "output_type": "execute_result"
    }
   ],
   "source": [
    "model_4_4 = model_try2(ElasticNet(max_iter = 1000000))\n",
    "gscv4_4 = GridSearchCV(model_4_4, param_grid2, cv = 5, scoring='neg_mean_squared_error')\n",
    "gscv4_4_fitted = gscv4_4.fit(X4, y)\n",
    "gscv4_4_fitted.cv_results_\n",
    "mse44 = pd.DataFrame({\n",
    "    'elastic_alpha': gscv4_4_fitted.cv_results_['param_model__alpha'],\n",
    "    'elastic_l1_ratio': gscv4_4_fitted.cv_results_['param_model__l1_ratio'],\n",
    "    'scores': gscv4_4_fitted.cv_results_['mean_test_score']\n",
    "}).sort_values(by = \"scores\", ascending = False)\n",
    "mse44.head()"
   ]
  },
  {
   "cell_type": "markdown",
   "metadata": {
    "id": "KWzoGVkxOLWj"
   },
   "source": [
    "## Part III. Discussion"
   ]
  },
  {
   "cell_type": "markdown",
   "metadata": {
    "id": "rW0umnxSOO71"
   },
   "source": [
    "### A. Ridge"
   ]
  },
  {
   "cell_type": "code",
   "execution_count": 94,
   "metadata": {
    "colab": {
     "base_uri": "https://localhost:8080/",
     "height": 645
    },
    "id": "hUe4cmGFOUo6",
    "outputId": "097da116-61db-4064-9523-c47d4f0ae7ac"
   },
   "outputs": [
    {
     "data": {
      "text/html": [
       "<div>\n",
       "<style scoped>\n",
       "    .dataframe tbody tr th:only-of-type {\n",
       "        vertical-align: middle;\n",
       "    }\n",
       "\n",
       "    .dataframe tbody tr th {\n",
       "        vertical-align: top;\n",
       "    }\n",
       "\n",
       "    .dataframe thead th {\n",
       "        text-align: right;\n",
       "    }\n",
       "</style>\n",
       "<table border=\"1\" class=\"dataframe\">\n",
       "  <thead>\n",
       "    <tr style=\"text-align: right;\">\n",
       "      <th></th>\n",
       "      <th>Feature</th>\n",
       "      <th>OLS</th>\n",
       "      <th>Ridge</th>\n",
       "    </tr>\n",
       "  </thead>\n",
       "  <tbody>\n",
       "    <tr>\n",
       "      <th>0</th>\n",
       "      <td>dummify__League_N</td>\n",
       "      <td>62.599423</td>\n",
       "      <td>58.555947</td>\n",
       "    </tr>\n",
       "    <tr>\n",
       "      <th>1</th>\n",
       "      <td>dummify__Division_W</td>\n",
       "      <td>-116.849246</td>\n",
       "      <td>-119.076927</td>\n",
       "    </tr>\n",
       "    <tr>\n",
       "      <th>2</th>\n",
       "      <td>dummify__NewLeague_N</td>\n",
       "      <td>-24.762325</td>\n",
       "      <td>-24.027205</td>\n",
       "    </tr>\n",
       "    <tr>\n",
       "      <th>3</th>\n",
       "      <td>standardize__AtBat</td>\n",
       "      <td>-291.094556</td>\n",
       "      <td>-271.088165</td>\n",
       "    </tr>\n",
       "    <tr>\n",
       "      <th>4</th>\n",
       "      <td>standardize__Hits</td>\n",
       "      <td>337.830479</td>\n",
       "      <td>296.801967</td>\n",
       "    </tr>\n",
       "    <tr>\n",
       "      <th>5</th>\n",
       "      <td>standardize__HmRun</td>\n",
       "      <td>37.853837</td>\n",
       "      <td>17.973971</td>\n",
       "    </tr>\n",
       "    <tr>\n",
       "      <th>6</th>\n",
       "      <td>standardize__Runs</td>\n",
       "      <td>-60.572479</td>\n",
       "      <td>-29.212352</td>\n",
       "    </tr>\n",
       "    <tr>\n",
       "      <th>7</th>\n",
       "      <td>standardize__RBI</td>\n",
       "      <td>-26.994984</td>\n",
       "      <td>-8.909304</td>\n",
       "    </tr>\n",
       "    <tr>\n",
       "      <th>8</th>\n",
       "      <td>standardize__Walks</td>\n",
       "      <td>135.073897</td>\n",
       "      <td>124.344012</td>\n",
       "    </tr>\n",
       "    <tr>\n",
       "      <th>9</th>\n",
       "      <td>standardize__Years</td>\n",
       "      <td>-16.693359</td>\n",
       "      <td>-38.619131</td>\n",
       "    </tr>\n",
       "    <tr>\n",
       "      <th>10</th>\n",
       "      <td>standardize__CAtBat</td>\n",
       "      <td>-391.038655</td>\n",
       "      <td>-225.511649</td>\n",
       "    </tr>\n",
       "    <tr>\n",
       "      <th>11</th>\n",
       "      <td>standardize__CHits</td>\n",
       "      <td>86.687617</td>\n",
       "      <td>126.210585</td>\n",
       "    </tr>\n",
       "    <tr>\n",
       "      <th>12</th>\n",
       "      <td>standardize__CHmRun</td>\n",
       "      <td>-14.181723</td>\n",
       "      <td>39.055346</td>\n",
       "    </tr>\n",
       "    <tr>\n",
       "      <th>13</th>\n",
       "      <td>standardize__CRuns</td>\n",
       "      <td>480.747135</td>\n",
       "      <td>320.802717</td>\n",
       "    </tr>\n",
       "    <tr>\n",
       "      <th>14</th>\n",
       "      <td>standardize__CRBI</td>\n",
       "      <td>260.689886</td>\n",
       "      <td>160.409497</td>\n",
       "    </tr>\n",
       "    <tr>\n",
       "      <th>15</th>\n",
       "      <td>standardize__CWalks</td>\n",
       "      <td>-213.892259</td>\n",
       "      <td>-184.289408</td>\n",
       "    </tr>\n",
       "    <tr>\n",
       "      <th>16</th>\n",
       "      <td>standardize__PutOuts</td>\n",
       "      <td>78.761296</td>\n",
       "      <td>78.651037</td>\n",
       "    </tr>\n",
       "    <tr>\n",
       "      <th>17</th>\n",
       "      <td>standardize__Assists</td>\n",
       "      <td>53.732490</td>\n",
       "      <td>47.493631</td>\n",
       "    </tr>\n",
       "    <tr>\n",
       "      <th>18</th>\n",
       "      <td>standardize__Errors</td>\n",
       "      <td>-22.160862</td>\n",
       "      <td>-23.651303</td>\n",
       "    </tr>\n",
       "  </tbody>\n",
       "</table>\n",
       "</div>"
      ],
      "text/plain": [
       "                 Feature         OLS       Ridge\n",
       "0      dummify__League_N   62.599423   58.555947\n",
       "1    dummify__Division_W -116.849246 -119.076927\n",
       "2   dummify__NewLeague_N  -24.762325  -24.027205\n",
       "3     standardize__AtBat -291.094556 -271.088165\n",
       "4      standardize__Hits  337.830479  296.801967\n",
       "5     standardize__HmRun   37.853837   17.973971\n",
       "6      standardize__Runs  -60.572479  -29.212352\n",
       "7       standardize__RBI  -26.994984   -8.909304\n",
       "8     standardize__Walks  135.073897  124.344012\n",
       "9     standardize__Years  -16.693359  -38.619131\n",
       "10   standardize__CAtBat -391.038655 -225.511649\n",
       "11    standardize__CHits   86.687617  126.210585\n",
       "12   standardize__CHmRun  -14.181723   39.055346\n",
       "13    standardize__CRuns  480.747135  320.802717\n",
       "14     standardize__CRBI  260.689886  160.409497\n",
       "15   standardize__CWalks -213.892259 -184.289408\n",
       "16  standardize__PutOuts   78.761296   78.651037\n",
       "17  standardize__Assists   53.732490   47.493631\n",
       "18   standardize__Errors  -22.160862  -23.651303"
      ]
     },
     "execution_count": 94,
     "metadata": {},
     "output_type": "execute_result"
    }
   ],
   "source": [
    "a1 = df_coef.merge(df_coef2, on = 'Feature', how = 'left')\n",
    "a1"
   ]
  },
  {
   "cell_type": "code",
   "execution_count": 95,
   "metadata": {
    "colab": {
     "base_uri": "https://localhost:8080/",
     "height": 89
    },
    "id": "ILgfGMfzY5Rn",
    "outputId": "6c062565-12c2-4002-8df3-38ffeaf3e8e2"
   },
   "outputs": [
    {
     "data": {
      "text/html": [
       "<div>\n",
       "<style scoped>\n",
       "    .dataframe tbody tr th:only-of-type {\n",
       "        vertical-align: middle;\n",
       "    }\n",
       "\n",
       "    .dataframe tbody tr th {\n",
       "        vertical-align: top;\n",
       "    }\n",
       "\n",
       "    .dataframe thead th {\n",
       "        text-align: right;\n",
       "    }\n",
       "</style>\n",
       "<table border=\"1\" class=\"dataframe\">\n",
       "  <thead>\n",
       "    <tr style=\"text-align: right;\">\n",
       "      <th></th>\n",
       "      <th>Feature</th>\n",
       "      <th>OLS</th>\n",
       "      <th>Ridge</th>\n",
       "    </tr>\n",
       "  </thead>\n",
       "  <tbody>\n",
       "    <tr>\n",
       "      <th>0</th>\n",
       "      <td>standardize__CRuns</td>\n",
       "      <td>253.351392</td>\n",
       "      <td>244.071121</td>\n",
       "    </tr>\n",
       "  </tbody>\n",
       "</table>\n",
       "</div>"
      ],
      "text/plain": [
       "              Feature         OLS       Ridge\n",
       "0  standardize__CRuns  253.351392  244.071121"
      ]
     },
     "execution_count": 95,
     "metadata": {},
     "output_type": "execute_result"
    }
   ],
   "source": [
    "a2 = df_coef21.merge(df_coef22, on = 'Feature', how = 'left')\n",
    "a2"
   ]
  },
  {
   "cell_type": "code",
   "execution_count": 96,
   "metadata": {
    "colab": {
     "base_uri": "https://localhost:8080/",
     "height": 206
    },
    "id": "TAyVPpof1cm0",
    "outputId": "6a49a964-aa63-4e38-8db1-745973af99c5"
   },
   "outputs": [
    {
     "data": {
      "text/html": [
       "<div>\n",
       "<style scoped>\n",
       "    .dataframe tbody tr th:only-of-type {\n",
       "        vertical-align: middle;\n",
       "    }\n",
       "\n",
       "    .dataframe tbody tr th {\n",
       "        vertical-align: top;\n",
       "    }\n",
       "\n",
       "    .dataframe thead th {\n",
       "        text-align: right;\n",
       "    }\n",
       "</style>\n",
       "<table border=\"1\" class=\"dataframe\">\n",
       "  <thead>\n",
       "    <tr style=\"text-align: right;\">\n",
       "      <th></th>\n",
       "      <th>Feature</th>\n",
       "      <th>OLS</th>\n",
       "      <th>Ridge</th>\n",
       "    </tr>\n",
       "  </thead>\n",
       "  <tbody>\n",
       "    <tr>\n",
       "      <th>0</th>\n",
       "      <td>standardize__CRuns</td>\n",
       "      <td>91.951326</td>\n",
       "      <td>57.286936</td>\n",
       "    </tr>\n",
       "    <tr>\n",
       "      <th>1</th>\n",
       "      <td>standardize__Hits</td>\n",
       "      <td>112.191438</td>\n",
       "      <td>104.861189</td>\n",
       "    </tr>\n",
       "    <tr>\n",
       "      <th>2</th>\n",
       "      <td>standardize__CRBI</td>\n",
       "      <td>162.874117</td>\n",
       "      <td>126.472957</td>\n",
       "    </tr>\n",
       "    <tr>\n",
       "      <th>3</th>\n",
       "      <td>standardize__CHits</td>\n",
       "      <td>-41.237667</td>\n",
       "      <td>26.383317</td>\n",
       "    </tr>\n",
       "    <tr>\n",
       "      <th>4</th>\n",
       "      <td>standardize__Walks</td>\n",
       "      <td>63.583665</td>\n",
       "      <td>69.846563</td>\n",
       "    </tr>\n",
       "  </tbody>\n",
       "</table>\n",
       "</div>"
      ],
      "text/plain": [
       "              Feature         OLS       Ridge\n",
       "0  standardize__CRuns   91.951326   57.286936\n",
       "1   standardize__Hits  112.191438  104.861189\n",
       "2   standardize__CRBI  162.874117  126.472957\n",
       "3  standardize__CHits  -41.237667   26.383317\n",
       "4  standardize__Walks   63.583665   69.846563"
      ]
     },
     "execution_count": 96,
     "metadata": {},
     "output_type": "execute_result"
    }
   ],
   "source": [
    "a3 = df_coef31.merge(df_coef32, on = 'Feature', how = 'left')\n",
    "a3"
   ]
  },
  {
   "cell_type": "code",
   "execution_count": 97,
   "metadata": {
    "colab": {
     "base_uri": "https://localhost:8080/",
     "height": 520
    },
    "id": "_DMLw49hZQCP",
    "outputId": "b95bcafb-6daa-4217-a477-2a1346d2a623"
   },
   "outputs": [
    {
     "data": {
      "text/html": [
       "<div>\n",
       "<style scoped>\n",
       "    .dataframe tbody tr th:only-of-type {\n",
       "        vertical-align: middle;\n",
       "    }\n",
       "\n",
       "    .dataframe tbody tr th {\n",
       "        vertical-align: top;\n",
       "    }\n",
       "\n",
       "    .dataframe thead th {\n",
       "        text-align: right;\n",
       "    }\n",
       "</style>\n",
       "<table border=\"1\" class=\"dataframe\">\n",
       "  <thead>\n",
       "    <tr style=\"text-align: right;\">\n",
       "      <th></th>\n",
       "      <th>feature</th>\n",
       "      <th>OLS</th>\n",
       "      <th>Ridge</th>\n",
       "    </tr>\n",
       "  </thead>\n",
       "  <tbody>\n",
       "    <tr>\n",
       "      <th>0</th>\n",
       "      <td>interaction4__standardize__CHits dummify__Divi...</td>\n",
       "      <td>372.090166</td>\n",
       "      <td>15.235975</td>\n",
       "    </tr>\n",
       "    <tr>\n",
       "      <th>1</th>\n",
       "      <td>interaction3__standardize__CRBI</td>\n",
       "      <td>315.889028</td>\n",
       "      <td>157.459941</td>\n",
       "    </tr>\n",
       "    <tr>\n",
       "      <th>2</th>\n",
       "      <td>interaction2__standardize__Hits</td>\n",
       "      <td>112.136085</td>\n",
       "      <td>100.259869</td>\n",
       "    </tr>\n",
       "    <tr>\n",
       "      <th>3</th>\n",
       "      <td>interaction5__standardize__Walks</td>\n",
       "      <td>82.046526</td>\n",
       "      <td>89.552809</td>\n",
       "    </tr>\n",
       "    <tr>\n",
       "      <th>4</th>\n",
       "      <td>interaction1__standardize__CRuns</td>\n",
       "      <td>69.574498</td>\n",
       "      <td>38.253567</td>\n",
       "    </tr>\n",
       "    <tr>\n",
       "      <th>5</th>\n",
       "      <td>interaction2__standardize__Hits dummify__Divis...</td>\n",
       "      <td>-27.691808</td>\n",
       "      <td>-9.930896</td>\n",
       "    </tr>\n",
       "    <tr>\n",
       "      <th>6</th>\n",
       "      <td>interaction2__dummify__Division_W</td>\n",
       "      <td>-27.909572</td>\n",
       "      <td>-26.633144</td>\n",
       "    </tr>\n",
       "    <tr>\n",
       "      <th>7</th>\n",
       "      <td>interaction4__dummify__Division_W</td>\n",
       "      <td>-27.909572</td>\n",
       "      <td>-26.633144</td>\n",
       "    </tr>\n",
       "    <tr>\n",
       "      <th>8</th>\n",
       "      <td>interaction5__dummify__Division_W</td>\n",
       "      <td>-27.909572</td>\n",
       "      <td>-26.633144</td>\n",
       "    </tr>\n",
       "    <tr>\n",
       "      <th>9</th>\n",
       "      <td>interaction3__dummify__Division_W</td>\n",
       "      <td>-27.909572</td>\n",
       "      <td>-26.633144</td>\n",
       "    </tr>\n",
       "    <tr>\n",
       "      <th>10</th>\n",
       "      <td>interaction1__dummify__Division_W</td>\n",
       "      <td>-27.909572</td>\n",
       "      <td>-26.633144</td>\n",
       "    </tr>\n",
       "    <tr>\n",
       "      <th>11</th>\n",
       "      <td>interaction5__standardize__Walks dummify__Divi...</td>\n",
       "      <td>-31.461988</td>\n",
       "      <td>-47.467078</td>\n",
       "    </tr>\n",
       "    <tr>\n",
       "      <th>12</th>\n",
       "      <td>interaction4__standardize__CHits</td>\n",
       "      <td>-127.553748</td>\n",
       "      <td>57.994893</td>\n",
       "    </tr>\n",
       "    <tr>\n",
       "      <th>13</th>\n",
       "      <td>interaction1__standardize__CRuns dummify__Divi...</td>\n",
       "      <td>-208.146842</td>\n",
       "      <td>-32.258948</td>\n",
       "    </tr>\n",
       "    <tr>\n",
       "      <th>14</th>\n",
       "      <td>interaction3__standardize__CRBI dummify__Divis...</td>\n",
       "      <td>-257.125901</td>\n",
       "      <td>-63.429145</td>\n",
       "    </tr>\n",
       "  </tbody>\n",
       "</table>\n",
       "</div>"
      ],
      "text/plain": [
       "                                              feature         OLS       Ridge\n",
       "0   interaction4__standardize__CHits dummify__Divi...  372.090166   15.235975\n",
       "1                     interaction3__standardize__CRBI  315.889028  157.459941\n",
       "2                     interaction2__standardize__Hits  112.136085  100.259869\n",
       "3                    interaction5__standardize__Walks   82.046526   89.552809\n",
       "4                    interaction1__standardize__CRuns   69.574498   38.253567\n",
       "5   interaction2__standardize__Hits dummify__Divis...  -27.691808   -9.930896\n",
       "6                   interaction2__dummify__Division_W  -27.909572  -26.633144\n",
       "7                   interaction4__dummify__Division_W  -27.909572  -26.633144\n",
       "8                   interaction5__dummify__Division_W  -27.909572  -26.633144\n",
       "9                   interaction3__dummify__Division_W  -27.909572  -26.633144\n",
       "10                  interaction1__dummify__Division_W  -27.909572  -26.633144\n",
       "11  interaction5__standardize__Walks dummify__Divi...  -31.461988  -47.467078\n",
       "12                   interaction4__standardize__CHits -127.553748   57.994893\n",
       "13  interaction1__standardize__CRuns dummify__Divi... -208.146842  -32.258948\n",
       "14  interaction3__standardize__CRBI dummify__Divis... -257.125901  -63.429145"
      ]
     },
     "execution_count": 97,
     "metadata": {},
     "output_type": "execute_result"
    }
   ],
   "source": [
    "a4 = df_coef41.merge(df_coef42, on = 'feature', how = 'left')\n",
    "a4"
   ]
  },
  {
   "cell_type": "markdown",
   "metadata": {
    "id": "US38tngzfdSF"
   },
   "source": [
    "- the above comparisons show that coefficients produced by Ridge models are smaller. It is due to the bias added to the model to make it less flexible."
   ]
  },
  {
   "cell_type": "markdown",
   "metadata": {
    "id": "zKapCSNKJ9d6"
   },
   "source": [
    "### B. LASSO"
   ]
  },
  {
   "cell_type": "code",
   "execution_count": 98,
   "metadata": {
    "colab": {
     "base_uri": "https://localhost:8080/",
     "height": 206
    },
    "id": "b2S-zEbiO9LR",
    "outputId": "39fc29bb-ffde-4f38-f9ed-bdb326a63c31"
   },
   "outputs": [
    {
     "data": {
      "text/html": [
       "<div>\n",
       "<style scoped>\n",
       "    .dataframe tbody tr th:only-of-type {\n",
       "        vertical-align: middle;\n",
       "    }\n",
       "\n",
       "    .dataframe tbody tr th {\n",
       "        vertical-align: top;\n",
       "    }\n",
       "\n",
       "    .dataframe thead th {\n",
       "        text-align: right;\n",
       "    }\n",
       "</style>\n",
       "<table border=\"1\" class=\"dataframe\">\n",
       "  <thead>\n",
       "    <tr style=\"text-align: right;\">\n",
       "      <th></th>\n",
       "      <th>param_grid</th>\n",
       "      <th>scores</th>\n",
       "    </tr>\n",
       "  </thead>\n",
       "  <tbody>\n",
       "    <tr>\n",
       "      <th>3</th>\n",
       "      <td>1.0</td>\n",
       "      <td>-119758.108873</td>\n",
       "    </tr>\n",
       "    <tr>\n",
       "      <th>2</th>\n",
       "      <td>0.1</td>\n",
       "      <td>-120758.508162</td>\n",
       "    </tr>\n",
       "    <tr>\n",
       "      <th>1</th>\n",
       "      <td>0.01</td>\n",
       "      <td>-121096.159270</td>\n",
       "    </tr>\n",
       "    <tr>\n",
       "      <th>0</th>\n",
       "      <td>0.001</td>\n",
       "      <td>-121132.276754</td>\n",
       "    </tr>\n",
       "    <tr>\n",
       "      <th>4</th>\n",
       "      <td>10.0</td>\n",
       "      <td>-121828.141333</td>\n",
       "    </tr>\n",
       "  </tbody>\n",
       "</table>\n",
       "</div>"
      ],
      "text/plain": [
       "  param_grid         scores\n",
       "3        1.0 -119758.108873\n",
       "2        0.1 -120758.508162\n",
       "1       0.01 -121096.159270\n",
       "0      0.001 -121132.276754\n",
       "4       10.0 -121828.141333"
      ]
     },
     "execution_count": 98,
     "metadata": {},
     "output_type": "execute_result"
    }
   ],
   "source": [
    "mse3"
   ]
  },
  {
   "cell_type": "code",
   "execution_count": 99,
   "metadata": {
    "colab": {
     "base_uri": "https://localhost:8080/",
     "height": 206
    },
    "id": "iDrj2v7-KLuB",
    "outputId": "17b836c4-c237-4e7a-d677-a46c055c56af"
   },
   "outputs": [
    {
     "data": {
      "text/html": [
       "<div>\n",
       "<style scoped>\n",
       "    .dataframe tbody tr th:only-of-type {\n",
       "        vertical-align: middle;\n",
       "    }\n",
       "\n",
       "    .dataframe tbody tr th {\n",
       "        vertical-align: top;\n",
       "    }\n",
       "\n",
       "    .dataframe thead th {\n",
       "        text-align: right;\n",
       "    }\n",
       "</style>\n",
       "<table border=\"1\" class=\"dataframe\">\n",
       "  <thead>\n",
       "    <tr style=\"text-align: right;\">\n",
       "      <th></th>\n",
       "      <th>param_grid</th>\n",
       "      <th>mse23_score</th>\n",
       "      <th>mse33_score</th>\n",
       "      <th>mse43_score</th>\n",
       "    </tr>\n",
       "  </thead>\n",
       "  <tbody>\n",
       "    <tr>\n",
       "      <th>0</th>\n",
       "      <td>10.0</td>\n",
       "      <td>-143793.449159</td>\n",
       "      <td>-124607.123928</td>\n",
       "      <td>-121683.328737</td>\n",
       "    </tr>\n",
       "    <tr>\n",
       "      <th>1</th>\n",
       "      <td>1.0</td>\n",
       "      <td>-143801.606084</td>\n",
       "      <td>-125054.402877</td>\n",
       "      <td>-127988.983194</td>\n",
       "    </tr>\n",
       "    <tr>\n",
       "      <th>2</th>\n",
       "      <td>0.1</td>\n",
       "      <td>-143811.709122</td>\n",
       "      <td>-125915.133673</td>\n",
       "      <td>-133883.172855</td>\n",
       "    </tr>\n",
       "    <tr>\n",
       "      <th>3</th>\n",
       "      <td>0.01</td>\n",
       "      <td>-143812.812299</td>\n",
       "      <td>-126036.097664</td>\n",
       "      <td>-134792.864612</td>\n",
       "    </tr>\n",
       "    <tr>\n",
       "      <th>4</th>\n",
       "      <td>0.001</td>\n",
       "      <td>-143812.923545</td>\n",
       "      <td>-126046.612418</td>\n",
       "      <td>-134885.971588</td>\n",
       "    </tr>\n",
       "  </tbody>\n",
       "</table>\n",
       "</div>"
      ],
      "text/plain": [
       "  param_grid    mse23_score    mse33_score    mse43_score\n",
       "0       10.0 -143793.449159 -124607.123928 -121683.328737\n",
       "1        1.0 -143801.606084 -125054.402877 -127988.983194\n",
       "2        0.1 -143811.709122 -125915.133673 -133883.172855\n",
       "3       0.01 -143812.812299 -126036.097664 -134792.864612\n",
       "4      0.001 -143812.923545 -126046.612418 -134885.971588"
      ]
     },
     "execution_count": 99,
     "metadata": {},
     "output_type": "execute_result"
    }
   ],
   "source": [
    "b1 = mse23.merge(mse33, on = 'param_grid')\n",
    "b2 = b1.merge(mse43, on = 'param_grid')\n",
    "b2.columns = ['param_grid', 'mse23_score', 'mse33_score', 'mse43_score']\n",
    "b2"
   ]
  },
  {
   "cell_type": "markdown",
   "metadata": {
    "id": "_dc1-_bDXmMi"
   },
   "source": [
    "- Lasso model in I results in lambda 1, while models in II result in lambda 10.\n",
    "- The model in I result in a smaller lambda because it has 19 variables, so the penalty term is big enough with a smaller lambda.\n",
    "- Models in II has less variables so that a bigger lambda is needed for the penalty term to be effective."
   ]
  },
  {
   "cell_type": "markdown",
   "metadata": {
    "id": "aprgky0LbVzA"
   },
   "source": [
    "### C. Elastic Net"
   ]
  },
  {
   "cell_type": "markdown",
   "metadata": {
    "id": "_sDhqv-edWO4"
   },
   "source": [
    "- Part I"
   ]
  },
  {
   "cell_type": "markdown",
   "metadata": {
    "id": "XMEP9pqj4Lk2"
   },
   "source": [
    "- Result MSEs of Elastic Net is listed as first"
   ]
  },
  {
   "cell_type": "code",
   "execution_count": 100,
   "metadata": {
    "colab": {
     "base_uri": "https://localhost:8080/"
    },
    "id": "4DoX2IwYdYYe",
    "outputId": "37f9d1e0-98dc-4393-8021-6cae1dd3a2bc"
   },
   "outputs": [
    {
     "ename": "KeyError",
     "evalue": "'mean_test_score'",
     "output_type": "error",
     "traceback": [
      "\u001b[0;31m---------------------------------------------------------------------------\u001b[0m",
      "\u001b[0;31mKeyError\u001b[0m                                  Traceback (most recent call last)",
      "File \u001b[0;32m/opt/anaconda3/lib/python3.12/site-packages/pandas/core/indexes/base.py:3805\u001b[0m, in \u001b[0;36mIndex.get_loc\u001b[0;34m(self, key)\u001b[0m\n\u001b[1;32m   3804\u001b[0m \u001b[38;5;28;01mtry\u001b[39;00m:\n\u001b[0;32m-> 3805\u001b[0m     \u001b[38;5;28;01mreturn\u001b[39;00m \u001b[38;5;28mself\u001b[39m\u001b[38;5;241m.\u001b[39m_engine\u001b[38;5;241m.\u001b[39mget_loc(casted_key)\n\u001b[1;32m   3806\u001b[0m \u001b[38;5;28;01mexcept\u001b[39;00m \u001b[38;5;167;01mKeyError\u001b[39;00m \u001b[38;5;28;01mas\u001b[39;00m err:\n",
      "File \u001b[0;32mindex.pyx:167\u001b[0m, in \u001b[0;36mpandas._libs.index.IndexEngine.get_loc\u001b[0;34m()\u001b[0m\n",
      "File \u001b[0;32mindex.pyx:196\u001b[0m, in \u001b[0;36mpandas._libs.index.IndexEngine.get_loc\u001b[0;34m()\u001b[0m\n",
      "File \u001b[0;32mpandas/_libs/hashtable_class_helper.pxi:7081\u001b[0m, in \u001b[0;36mpandas._libs.hashtable.PyObjectHashTable.get_item\u001b[0;34m()\u001b[0m\n",
      "File \u001b[0;32mpandas/_libs/hashtable_class_helper.pxi:7089\u001b[0m, in \u001b[0;36mpandas._libs.hashtable.PyObjectHashTable.get_item\u001b[0;34m()\u001b[0m\n",
      "\u001b[0;31mKeyError\u001b[0m: 'mean_test_score'",
      "\nThe above exception was the direct cause of the following exception:\n",
      "\u001b[0;31mKeyError\u001b[0m                                  Traceback (most recent call last)",
      "Cell \u001b[0;32mIn[100], line 2\u001b[0m\n\u001b[1;32m      1\u001b[0m \u001b[38;5;28mprint\u001b[39m(\n\u001b[0;32m----> 2\u001b[0m     mse4[\u001b[38;5;124m'\u001b[39m\u001b[38;5;124mmean_test_score\u001b[39m\u001b[38;5;124m'\u001b[39m]\u001b[38;5;241m.\u001b[39mmax(),\n\u001b[1;32m      3\u001b[0m mse3[\u001b[38;5;124m'\u001b[39m\u001b[38;5;124mscores\u001b[39m\u001b[38;5;124m'\u001b[39m]\u001b[38;5;241m.\u001b[39mmax(),\n\u001b[1;32m      4\u001b[0m mse2[\u001b[38;5;124m'\u001b[39m\u001b[38;5;124mscores\u001b[39m\u001b[38;5;124m'\u001b[39m]\u001b[38;5;241m.\u001b[39mmax(),\n\u001b[1;32m      5\u001b[0m mse\u001b[38;5;241m.\u001b[39mmean()\n\u001b[1;32m      6\u001b[0m )\n",
      "File \u001b[0;32m/opt/anaconda3/lib/python3.12/site-packages/pandas/core/frame.py:4102\u001b[0m, in \u001b[0;36mDataFrame.__getitem__\u001b[0;34m(self, key)\u001b[0m\n\u001b[1;32m   4100\u001b[0m \u001b[38;5;28;01mif\u001b[39;00m \u001b[38;5;28mself\u001b[39m\u001b[38;5;241m.\u001b[39mcolumns\u001b[38;5;241m.\u001b[39mnlevels \u001b[38;5;241m>\u001b[39m \u001b[38;5;241m1\u001b[39m:\n\u001b[1;32m   4101\u001b[0m     \u001b[38;5;28;01mreturn\u001b[39;00m \u001b[38;5;28mself\u001b[39m\u001b[38;5;241m.\u001b[39m_getitem_multilevel(key)\n\u001b[0;32m-> 4102\u001b[0m indexer \u001b[38;5;241m=\u001b[39m \u001b[38;5;28mself\u001b[39m\u001b[38;5;241m.\u001b[39mcolumns\u001b[38;5;241m.\u001b[39mget_loc(key)\n\u001b[1;32m   4103\u001b[0m \u001b[38;5;28;01mif\u001b[39;00m is_integer(indexer):\n\u001b[1;32m   4104\u001b[0m     indexer \u001b[38;5;241m=\u001b[39m [indexer]\n",
      "File \u001b[0;32m/opt/anaconda3/lib/python3.12/site-packages/pandas/core/indexes/base.py:3812\u001b[0m, in \u001b[0;36mIndex.get_loc\u001b[0;34m(self, key)\u001b[0m\n\u001b[1;32m   3807\u001b[0m     \u001b[38;5;28;01mif\u001b[39;00m \u001b[38;5;28misinstance\u001b[39m(casted_key, \u001b[38;5;28mslice\u001b[39m) \u001b[38;5;129;01mor\u001b[39;00m (\n\u001b[1;32m   3808\u001b[0m         \u001b[38;5;28misinstance\u001b[39m(casted_key, abc\u001b[38;5;241m.\u001b[39mIterable)\n\u001b[1;32m   3809\u001b[0m         \u001b[38;5;129;01mand\u001b[39;00m \u001b[38;5;28many\u001b[39m(\u001b[38;5;28misinstance\u001b[39m(x, \u001b[38;5;28mslice\u001b[39m) \u001b[38;5;28;01mfor\u001b[39;00m x \u001b[38;5;129;01min\u001b[39;00m casted_key)\n\u001b[1;32m   3810\u001b[0m     ):\n\u001b[1;32m   3811\u001b[0m         \u001b[38;5;28;01mraise\u001b[39;00m InvalidIndexError(key)\n\u001b[0;32m-> 3812\u001b[0m     \u001b[38;5;28;01mraise\u001b[39;00m \u001b[38;5;167;01mKeyError\u001b[39;00m(key) \u001b[38;5;28;01mfrom\u001b[39;00m \u001b[38;5;21;01merr\u001b[39;00m\n\u001b[1;32m   3813\u001b[0m \u001b[38;5;28;01mexcept\u001b[39;00m \u001b[38;5;167;01mTypeError\u001b[39;00m:\n\u001b[1;32m   3814\u001b[0m     \u001b[38;5;66;03m# If we have a listlike key, _check_indexing_error will raise\u001b[39;00m\n\u001b[1;32m   3815\u001b[0m     \u001b[38;5;66;03m#  InvalidIndexError. Otherwise we fall through and re-raise\u001b[39;00m\n\u001b[1;32m   3816\u001b[0m     \u001b[38;5;66;03m#  the TypeError.\u001b[39;00m\n\u001b[1;32m   3817\u001b[0m     \u001b[38;5;28mself\u001b[39m\u001b[38;5;241m.\u001b[39m_check_indexing_error(key)\n",
      "\u001b[0;31mKeyError\u001b[0m: 'mean_test_score'"
     ]
    }
   ],
   "source": [
    "print(\n",
    "    mse4['mean_test_score'].max(),\n",
    "mse3['scores'].max(),\n",
    "mse2['scores'].max(),\n",
    "mse.mean()\n",
    ")"
   ]
  },
  {
   "cell_type": "markdown",
   "metadata": {
    "id": "Uj1rBsvYdKGX"
   },
   "source": [
    "- Part II 1"
   ]
  },
  {
   "cell_type": "code",
   "execution_count": null,
   "metadata": {
    "colab": {
     "base_uri": "https://localhost:8080/"
    },
    "id": "FbQ5G1qqdPkj",
    "outputId": "9d68fb6f-598a-4d99-deef-980f38e43138"
   },
   "outputs": [
    {
     "name": "stdout",
     "output_type": "stream",
     "text": [
      "-143656.7536197924 -143793.4491585397 -143658.5173685888 -143812.9359162973\n"
     ]
    }
   ],
   "source": [
    "print(\n",
    "    mse24['mean_test_score'].max(),\n",
    "mse23['scores'].max(),\n",
    "mse22['scores'].max(),\n",
    "mse21.mean()\n",
    ")"
   ]
  },
  {
   "cell_type": "markdown",
   "metadata": {
    "id": "dGgMXD0DdB_R"
   },
   "source": [
    "- Part II 2"
   ]
  },
  {
   "cell_type": "code",
   "execution_count": null,
   "metadata": {
    "colab": {
     "base_uri": "https://localhost:8080/"
    },
    "id": "bc9pc7xhcv9j",
    "outputId": "aad84f2f-7299-4a39-81b9-6a22d7c6af3e"
   },
   "outputs": [
    {
     "name": "stdout",
     "output_type": "stream",
     "text": [
      "-122089.24821369346 -124607.12392785048 -123172.83227523179 -126047.77085146765\n"
     ]
    }
   ],
   "source": [
    "print(\n",
    "    mse34['mean_test_score'].max(),\n",
    "mse33['scores'].max(),\n",
    "mse32['scores'].max(),\n",
    "mse31.mean()\n",
    ")"
   ]
  },
  {
   "cell_type": "markdown",
   "metadata": {
    "id": "2SZt1vcgcwlm"
   },
   "source": [
    "- Part II 3"
   ]
  },
  {
   "cell_type": "code",
   "execution_count": null,
   "metadata": {
    "colab": {
     "base_uri": "https://localhost:8080/"
    },
    "id": "3jA_mjgZbkD7",
    "outputId": "3d871325-1c8c-40bd-8712-82041944cadf"
   },
   "outputs": [
    {
     "name": "stdout",
     "output_type": "stream",
     "text": [
      "-117726.92916476393 -121683.32873692471 -120167.2529598724 -134896.04426742913\n"
     ]
    }
   ],
   "source": [
    "print(\n",
    "    mse44['mean_test_score'].max(),\n",
    "mse43['scores'].max(),\n",
    "mse42['scores'].max(),\n",
    "mse41.mean()\n",
    ")"
   ]
  },
  {
   "cell_type": "markdown",
   "metadata": {
    "id": "N5KguOhadlQ6"
   },
   "source": [
    "- The Elastic Net models indeed have the lowest mse in all evaluations.\n",
    "- It always wins because it the lasso regularizaton helps eleminate uncorrelated variables while the ridge component helps reduce overfitting."
   ]
  },
  {
   "cell_type": "markdown",
   "metadata": {
    "id": "FxjKPHgMeo5l"
   },
   "source": [
    "## Part IV: Final Model"
   ]
  },
  {
   "cell_type": "markdown",
   "metadata": {
    "id": "iSyBOc-Moh1R"
   },
   "source": [
    "- fit full dataset using all variable with interaction with division west"
   ]
  },
  {
   "cell_type": "code",
   "execution_count": null,
   "metadata": {
    "colab": {
     "base_uri": "https://localhost:8080/",
     "height": 520
    },
    "id": "Id4wd3c0fSZz",
    "outputId": "031c8c84-db4a-44e1-91a8-e0d08d61508e"
   },
   "outputs": [
    {
     "data": {
      "application/vnd.google.colaboratory.intrinsic+json": {
       "summary": "{\n  \"name\": \"df_coef44\",\n  \"rows\": 15,\n  \"fields\": [\n    {\n      \"column\": \"feature\",\n      \"properties\": {\n        \"dtype\": \"string\",\n        \"num_unique_values\": 15,\n        \"samples\": [\n          \"interaction5__standardize__Walks dummify__Division_W\",\n          \"interaction2__dummify__Division_W\",\n          \"interaction3__standardize__CRBI\"\n        ],\n        \"semantic_type\": \"\",\n        \"description\": \"\"\n      }\n    },\n    {\n      \"column\": \"Coefficient\",\n      \"properties\": {\n        \"dtype\": \"number\",\n        \"std\": 47.5391417569302,\n        \"min\": -22.88055121726199,\n        \"max\": 95.84790008131596,\n        \"num_unique_values\": 15,\n        \"samples\": [\n          -22.6663810453368,\n          -22.879594268993678,\n          95.84790008131596\n        ],\n        \"semantic_type\": \"\",\n        \"description\": \"\"\n      }\n    }\n  ]\n}",
       "type": "dataframe",
       "variable_name": "df_coef44"
      },
      "text/html": [
       "\n",
       "  <div id=\"df-24cbde3d-847e-40ac-8a2e-f06b69920122\" class=\"colab-df-container\">\n",
       "    <div>\n",
       "<style scoped>\n",
       "    .dataframe tbody tr th:only-of-type {\n",
       "        vertical-align: middle;\n",
       "    }\n",
       "\n",
       "    .dataframe tbody tr th {\n",
       "        vertical-align: top;\n",
       "    }\n",
       "\n",
       "    .dataframe thead th {\n",
       "        text-align: right;\n",
       "    }\n",
       "</style>\n",
       "<table border=\"1\" class=\"dataframe\">\n",
       "  <thead>\n",
       "    <tr style=\"text-align: right;\">\n",
       "      <th></th>\n",
       "      <th>feature</th>\n",
       "      <th>Coefficient</th>\n",
       "    </tr>\n",
       "  </thead>\n",
       "  <tbody>\n",
       "    <tr>\n",
       "      <th>6</th>\n",
       "      <td>interaction3__standardize__CRBI</td>\n",
       "      <td>95.847900</td>\n",
       "    </tr>\n",
       "    <tr>\n",
       "      <th>3</th>\n",
       "      <td>interaction2__standardize__Hits</td>\n",
       "      <td>86.775884</td>\n",
       "    </tr>\n",
       "    <tr>\n",
       "      <th>12</th>\n",
       "      <td>interaction5__standardize__Walks</td>\n",
       "      <td>74.363063</td>\n",
       "    </tr>\n",
       "    <tr>\n",
       "      <th>9</th>\n",
       "      <td>interaction4__standardize__CHits</td>\n",
       "      <td>64.508326</td>\n",
       "    </tr>\n",
       "    <tr>\n",
       "      <th>0</th>\n",
       "      <td>interaction1__standardize__CRuns</td>\n",
       "      <td>63.683523</td>\n",
       "    </tr>\n",
       "    <tr>\n",
       "      <th>5</th>\n",
       "      <td>interaction2__standardize__Hits dummify__Divis...</td>\n",
       "      <td>-1.044242</td>\n",
       "    </tr>\n",
       "    <tr>\n",
       "      <th>11</th>\n",
       "      <td>interaction4__standardize__CHits dummify__Divi...</td>\n",
       "      <td>-8.567672</td>\n",
       "    </tr>\n",
       "    <tr>\n",
       "      <th>2</th>\n",
       "      <td>interaction1__standardize__CRuns dummify__Divi...</td>\n",
       "      <td>-17.975950</td>\n",
       "    </tr>\n",
       "    <tr>\n",
       "      <th>8</th>\n",
       "      <td>interaction3__standardize__CRBI dummify__Divis...</td>\n",
       "      <td>-18.900487</td>\n",
       "    </tr>\n",
       "    <tr>\n",
       "      <th>14</th>\n",
       "      <td>interaction5__standardize__Walks dummify__Divi...</td>\n",
       "      <td>-22.666381</td>\n",
       "    </tr>\n",
       "    <tr>\n",
       "      <th>1</th>\n",
       "      <td>interaction1__dummify__Division_W</td>\n",
       "      <td>-22.879130</td>\n",
       "    </tr>\n",
       "    <tr>\n",
       "      <th>4</th>\n",
       "      <td>interaction2__dummify__Division_W</td>\n",
       "      <td>-22.879594</td>\n",
       "    </tr>\n",
       "    <tr>\n",
       "      <th>13</th>\n",
       "      <td>interaction5__dummify__Division_W</td>\n",
       "      <td>-22.880006</td>\n",
       "    </tr>\n",
       "    <tr>\n",
       "      <th>7</th>\n",
       "      <td>interaction3__dummify__Division_W</td>\n",
       "      <td>-22.880419</td>\n",
       "    </tr>\n",
       "    <tr>\n",
       "      <th>10</th>\n",
       "      <td>interaction4__dummify__Division_W</td>\n",
       "      <td>-22.880551</td>\n",
       "    </tr>\n",
       "  </tbody>\n",
       "</table>\n",
       "</div>\n",
       "    <div class=\"colab-df-buttons\">\n",
       "\n",
       "  <div class=\"colab-df-container\">\n",
       "    <button class=\"colab-df-convert\" onclick=\"convertToInteractive('df-24cbde3d-847e-40ac-8a2e-f06b69920122')\"\n",
       "            title=\"Convert this dataframe to an interactive table.\"\n",
       "            style=\"display:none;\">\n",
       "\n",
       "  <svg xmlns=\"http://www.w3.org/2000/svg\" height=\"24px\" viewBox=\"0 -960 960 960\">\n",
       "    <path d=\"M120-120v-720h720v720H120Zm60-500h600v-160H180v160Zm220 220h160v-160H400v160Zm0 220h160v-160H400v160ZM180-400h160v-160H180v160Zm440 0h160v-160H620v160ZM180-180h160v-160H180v160Zm440 0h160v-160H620v160Z\"/>\n",
       "  </svg>\n",
       "    </button>\n",
       "\n",
       "  <style>\n",
       "    .colab-df-container {\n",
       "      display:flex;\n",
       "      gap: 12px;\n",
       "    }\n",
       "\n",
       "    .colab-df-convert {\n",
       "      background-color: #E8F0FE;\n",
       "      border: none;\n",
       "      border-radius: 50%;\n",
       "      cursor: pointer;\n",
       "      display: none;\n",
       "      fill: #1967D2;\n",
       "      height: 32px;\n",
       "      padding: 0 0 0 0;\n",
       "      width: 32px;\n",
       "    }\n",
       "\n",
       "    .colab-df-convert:hover {\n",
       "      background-color: #E2EBFA;\n",
       "      box-shadow: 0px 1px 2px rgba(60, 64, 67, 0.3), 0px 1px 3px 1px rgba(60, 64, 67, 0.15);\n",
       "      fill: #174EA6;\n",
       "    }\n",
       "\n",
       "    .colab-df-buttons div {\n",
       "      margin-bottom: 4px;\n",
       "    }\n",
       "\n",
       "    [theme=dark] .colab-df-convert {\n",
       "      background-color: #3B4455;\n",
       "      fill: #D2E3FC;\n",
       "    }\n",
       "\n",
       "    [theme=dark] .colab-df-convert:hover {\n",
       "      background-color: #434B5C;\n",
       "      box-shadow: 0px 1px 3px 1px rgba(0, 0, 0, 0.15);\n",
       "      filter: drop-shadow(0px 1px 2px rgba(0, 0, 0, 0.3));\n",
       "      fill: #FFFFFF;\n",
       "    }\n",
       "  </style>\n",
       "\n",
       "    <script>\n",
       "      const buttonEl =\n",
       "        document.querySelector('#df-24cbde3d-847e-40ac-8a2e-f06b69920122 button.colab-df-convert');\n",
       "      buttonEl.style.display =\n",
       "        google.colab.kernel.accessAllowed ? 'block' : 'none';\n",
       "\n",
       "      async function convertToInteractive(key) {\n",
       "        const element = document.querySelector('#df-24cbde3d-847e-40ac-8a2e-f06b69920122');\n",
       "        const dataTable =\n",
       "          await google.colab.kernel.invokeFunction('convertToInteractive',\n",
       "                                                    [key], {});\n",
       "        if (!dataTable) return;\n",
       "\n",
       "        const docLinkHtml = 'Like what you see? Visit the ' +\n",
       "          '<a target=\"_blank\" href=https://colab.research.google.com/notebooks/data_table.ipynb>data table notebook</a>'\n",
       "          + ' to learn more about interactive tables.';\n",
       "        element.innerHTML = '';\n",
       "        dataTable['output_type'] = 'display_data';\n",
       "        await google.colab.output.renderOutput(dataTable, element);\n",
       "        const docLink = document.createElement('div');\n",
       "        docLink.innerHTML = docLinkHtml;\n",
       "        element.appendChild(docLink);\n",
       "      }\n",
       "    </script>\n",
       "  </div>\n",
       "\n",
       "\n",
       "<div id=\"df-1b011a38-f145-4a58-857b-fb7cffcb6317\">\n",
       "  <button class=\"colab-df-quickchart\" onclick=\"quickchart('df-1b011a38-f145-4a58-857b-fb7cffcb6317')\"\n",
       "            title=\"Suggest charts\"\n",
       "            style=\"display:none;\">\n",
       "\n",
       "<svg xmlns=\"http://www.w3.org/2000/svg\" height=\"24px\"viewBox=\"0 0 24 24\"\n",
       "     width=\"24px\">\n",
       "    <g>\n",
       "        <path d=\"M19 3H5c-1.1 0-2 .9-2 2v14c0 1.1.9 2 2 2h14c1.1 0 2-.9 2-2V5c0-1.1-.9-2-2-2zM9 17H7v-7h2v7zm4 0h-2V7h2v10zm4 0h-2v-4h2v4z\"/>\n",
       "    </g>\n",
       "</svg>\n",
       "  </button>\n",
       "\n",
       "<style>\n",
       "  .colab-df-quickchart {\n",
       "      --bg-color: #E8F0FE;\n",
       "      --fill-color: #1967D2;\n",
       "      --hover-bg-color: #E2EBFA;\n",
       "      --hover-fill-color: #174EA6;\n",
       "      --disabled-fill-color: #AAA;\n",
       "      --disabled-bg-color: #DDD;\n",
       "  }\n",
       "\n",
       "  [theme=dark] .colab-df-quickchart {\n",
       "      --bg-color: #3B4455;\n",
       "      --fill-color: #D2E3FC;\n",
       "      --hover-bg-color: #434B5C;\n",
       "      --hover-fill-color: #FFFFFF;\n",
       "      --disabled-bg-color: #3B4455;\n",
       "      --disabled-fill-color: #666;\n",
       "  }\n",
       "\n",
       "  .colab-df-quickchart {\n",
       "    background-color: var(--bg-color);\n",
       "    border: none;\n",
       "    border-radius: 50%;\n",
       "    cursor: pointer;\n",
       "    display: none;\n",
       "    fill: var(--fill-color);\n",
       "    height: 32px;\n",
       "    padding: 0;\n",
       "    width: 32px;\n",
       "  }\n",
       "\n",
       "  .colab-df-quickchart:hover {\n",
       "    background-color: var(--hover-bg-color);\n",
       "    box-shadow: 0 1px 2px rgba(60, 64, 67, 0.3), 0 1px 3px 1px rgba(60, 64, 67, 0.15);\n",
       "    fill: var(--button-hover-fill-color);\n",
       "  }\n",
       "\n",
       "  .colab-df-quickchart-complete:disabled,\n",
       "  .colab-df-quickchart-complete:disabled:hover {\n",
       "    background-color: var(--disabled-bg-color);\n",
       "    fill: var(--disabled-fill-color);\n",
       "    box-shadow: none;\n",
       "  }\n",
       "\n",
       "  .colab-df-spinner {\n",
       "    border: 2px solid var(--fill-color);\n",
       "    border-color: transparent;\n",
       "    border-bottom-color: var(--fill-color);\n",
       "    animation:\n",
       "      spin 1s steps(1) infinite;\n",
       "  }\n",
       "\n",
       "  @keyframes spin {\n",
       "    0% {\n",
       "      border-color: transparent;\n",
       "      border-bottom-color: var(--fill-color);\n",
       "      border-left-color: var(--fill-color);\n",
       "    }\n",
       "    20% {\n",
       "      border-color: transparent;\n",
       "      border-left-color: var(--fill-color);\n",
       "      border-top-color: var(--fill-color);\n",
       "    }\n",
       "    30% {\n",
       "      border-color: transparent;\n",
       "      border-left-color: var(--fill-color);\n",
       "      border-top-color: var(--fill-color);\n",
       "      border-right-color: var(--fill-color);\n",
       "    }\n",
       "    40% {\n",
       "      border-color: transparent;\n",
       "      border-right-color: var(--fill-color);\n",
       "      border-top-color: var(--fill-color);\n",
       "    }\n",
       "    60% {\n",
       "      border-color: transparent;\n",
       "      border-right-color: var(--fill-color);\n",
       "    }\n",
       "    80% {\n",
       "      border-color: transparent;\n",
       "      border-right-color: var(--fill-color);\n",
       "      border-bottom-color: var(--fill-color);\n",
       "    }\n",
       "    90% {\n",
       "      border-color: transparent;\n",
       "      border-bottom-color: var(--fill-color);\n",
       "    }\n",
       "  }\n",
       "</style>\n",
       "\n",
       "  <script>\n",
       "    async function quickchart(key) {\n",
       "      const quickchartButtonEl =\n",
       "        document.querySelector('#' + key + ' button');\n",
       "      quickchartButtonEl.disabled = true;  // To prevent multiple clicks.\n",
       "      quickchartButtonEl.classList.add('colab-df-spinner');\n",
       "      try {\n",
       "        const charts = await google.colab.kernel.invokeFunction(\n",
       "            'suggestCharts', [key], {});\n",
       "      } catch (error) {\n",
       "        console.error('Error during call to suggestCharts:', error);\n",
       "      }\n",
       "      quickchartButtonEl.classList.remove('colab-df-spinner');\n",
       "      quickchartButtonEl.classList.add('colab-df-quickchart-complete');\n",
       "    }\n",
       "    (() => {\n",
       "      let quickchartButtonEl =\n",
       "        document.querySelector('#df-1b011a38-f145-4a58-857b-fb7cffcb6317 button');\n",
       "      quickchartButtonEl.style.display =\n",
       "        google.colab.kernel.accessAllowed ? 'block' : 'none';\n",
       "    })();\n",
       "  </script>\n",
       "</div>\n",
       "\n",
       "  <div id=\"id_9b33395b-dd95-41c8-af24-99f9897bd6de\">\n",
       "    <style>\n",
       "      .colab-df-generate {\n",
       "        background-color: #E8F0FE;\n",
       "        border: none;\n",
       "        border-radius: 50%;\n",
       "        cursor: pointer;\n",
       "        display: none;\n",
       "        fill: #1967D2;\n",
       "        height: 32px;\n",
       "        padding: 0 0 0 0;\n",
       "        width: 32px;\n",
       "      }\n",
       "\n",
       "      .colab-df-generate:hover {\n",
       "        background-color: #E2EBFA;\n",
       "        box-shadow: 0px 1px 2px rgba(60, 64, 67, 0.3), 0px 1px 3px 1px rgba(60, 64, 67, 0.15);\n",
       "        fill: #174EA6;\n",
       "      }\n",
       "\n",
       "      [theme=dark] .colab-df-generate {\n",
       "        background-color: #3B4455;\n",
       "        fill: #D2E3FC;\n",
       "      }\n",
       "\n",
       "      [theme=dark] .colab-df-generate:hover {\n",
       "        background-color: #434B5C;\n",
       "        box-shadow: 0px 1px 3px 1px rgba(0, 0, 0, 0.15);\n",
       "        filter: drop-shadow(0px 1px 2px rgba(0, 0, 0, 0.3));\n",
       "        fill: #FFFFFF;\n",
       "      }\n",
       "    </style>\n",
       "    <button class=\"colab-df-generate\" onclick=\"generateWithVariable('df_coef44')\"\n",
       "            title=\"Generate code using this dataframe.\"\n",
       "            style=\"display:none;\">\n",
       "\n",
       "  <svg xmlns=\"http://www.w3.org/2000/svg\" height=\"24px\"viewBox=\"0 0 24 24\"\n",
       "       width=\"24px\">\n",
       "    <path d=\"M7,19H8.4L18.45,9,17,7.55,7,17.6ZM5,21V16.75L18.45,3.32a2,2,0,0,1,2.83,0l1.4,1.43a1.91,1.91,0,0,1,.58,1.4,1.91,1.91,0,0,1-.58,1.4L9.25,21ZM18.45,9,17,7.55Zm-12,3A5.31,5.31,0,0,0,4.9,8.1,5.31,5.31,0,0,0,1,6.5,5.31,5.31,0,0,0,4.9,4.9,5.31,5.31,0,0,0,6.5,1,5.31,5.31,0,0,0,8.1,4.9,5.31,5.31,0,0,0,12,6.5,5.46,5.46,0,0,0,6.5,12Z\"/>\n",
       "  </svg>\n",
       "    </button>\n",
       "    <script>\n",
       "      (() => {\n",
       "      const buttonEl =\n",
       "        document.querySelector('#id_9b33395b-dd95-41c8-af24-99f9897bd6de button.colab-df-generate');\n",
       "      buttonEl.style.display =\n",
       "        google.colab.kernel.accessAllowed ? 'block' : 'none';\n",
       "\n",
       "      buttonEl.onclick = () => {\n",
       "        google.colab.notebook.generateWithVariable('df_coef44');\n",
       "      }\n",
       "      })();\n",
       "    </script>\n",
       "  </div>\n",
       "\n",
       "    </div>\n",
       "  </div>\n"
      ],
      "text/plain": [
       "                                              feature  Coefficient\n",
       "6                     interaction3__standardize__CRBI    95.847900\n",
       "3                     interaction2__standardize__Hits    86.775884\n",
       "12                   interaction5__standardize__Walks    74.363063\n",
       "9                    interaction4__standardize__CHits    64.508326\n",
       "0                    interaction1__standardize__CRuns    63.683523\n",
       "5   interaction2__standardize__Hits dummify__Divis...    -1.044242\n",
       "11  interaction4__standardize__CHits dummify__Divi...    -8.567672\n",
       "2   interaction1__standardize__CRuns dummify__Divi...   -17.975950\n",
       "8   interaction3__standardize__CRBI dummify__Divis...   -18.900487\n",
       "14  interaction5__standardize__Walks dummify__Divi...   -22.666381\n",
       "1                   interaction1__dummify__Division_W   -22.879130\n",
       "4                   interaction2__dummify__Division_W   -22.879594\n",
       "13                  interaction5__dummify__Division_W   -22.880006\n",
       "7                   interaction3__dummify__Division_W   -22.880419\n",
       "10                  interaction4__dummify__Division_W   -22.880551"
      ]
     },
     "execution_count": 122,
     "metadata": {},
     "output_type": "execute_result"
    }
   ],
   "source": [
    "model_4_4_selected = model_try2(ElasticNet(alpha=1, l1_ratio= 0.775, max_iter = 1000000))\n",
    "model_4_4_selected_fitted = model_4_4_selected.fit(X, y)\n",
    "\n",
    "\n",
    "feature_name44 = model_4_4_selected.named_steps['interaction'].get_feature_names_out()\n",
    "coef44 = model_4_4_selected_fitted.named_steps['model'].coef_\n",
    "\n",
    "df_coef44 = pd.DataFrame({\n",
    "    \"feature\": feature_name44, \"Coefficient\": coef44})\n",
    "df_coef44 = df_coef44.sort_values(by=\"Coefficient\", ascending=False)\n",
    "df_coef44"
   ]
  },
  {
   "cell_type": "code",
   "execution_count": null,
   "metadata": {
    "colab": {
     "base_uri": "https://localhost:8080/"
    },
    "id": "4ivFDtKflRVz",
    "outputId": "7ed444c7-30a7-429d-e712-7ef7a92c9034"
   },
   "outputs": [
    {
     "name": "stdout",
     "output_type": "stream",
     "text": [
      "-335.2658474558724 0.40400152243344084\n"
     ]
    }
   ],
   "source": [
    "mse44_rmse = cross_val_score(model_4_4_selected, X, y, cv = 5, scoring = 'neg_root_mean_squared_error')\n",
    "mse44_r2 = cross_val_score(model_4_4_selected, X, y, cv = 5, scoring = 'r2')\n",
    "print(\n",
    "    mse44_rmse.mean(),\n",
    "    mse44_r2.mean()\n",
    ")"
   ]
  },
  {
   "cell_type": "code",
   "execution_count": null,
   "metadata": {
    "id": "GgpZinwbr-4-"
   },
   "outputs": [],
   "source": [
    "pred = model_4_4_selected_fitted.predict(X)\n",
    "residuals = y - pred\n",
    "df_final = pd.DataFrame({'y': y, 'pred': pred, 'residuals': residuals})"
   ]
  },
  {
   "cell_type": "code",
   "execution_count": null,
   "metadata": {
    "colab": {
     "base_uri": "https://localhost:8080/",
     "height": 497
    },
    "id": "54YGW16tsZVC",
    "outputId": "c58140d0-3aba-4ff0-e0ae-b69a68a9e1c6"
   },
   "outputs": [
    {
     "data": {
      "image/png": "[encoded data removed]"
     },
     "metadata": {
      "image/png": {
       "height": 480,
       "width": 640
      }
     },
     "output_type": "display_data"
    }
   ],
   "source": [
    "plot = (p9.ggplot(df_final,p9.aes(x='pred', y='residuals')) +\n",
    "    p9.geom_point() +\n",
    "    p9.geom_smooth(method='lm', se=False, color = \"red\") +\n",
    "    p9.labs(title='Residual vs Fitted', x='Predicted Values', y='Residuals')\n",
    ")\n",
    "plot"
   ]
  },
  {
   "cell_type": "markdown",
   "metadata": {
    "id": "DVd2izGmvKXU"
   },
   "source": [
    "- Based on the above results, the best model results in an average RMSE of 335270 dollars. The R2 is 0.404 meaning the model explains about 40% of the data.\n",
    "- the residual shows heteroscedasticity exsits in this model."
   ]
  }
 ],
 "metadata": {
  "colab": {
   "collapsed_sections": [
    "zSVrOzuVaz_S"
   ],
   "provenance": []
  },
  "kernelspec": {
   "display_name": "base",
   "language": "python",
   "name": "python3"
  },
  "language_info": {
   "codemirror_mode": {
    "name": "ipython",
    "version": 3
   },
   "file_extension": ".py",
   "mimetype": "text/x-python",
   "name": "python",
   "nbconvert_exporter": "python",
   "pygments_lexer": "ipython3",
   "version": "3.12.4"
  }
 },
 "nbformat": 4,
 "nbformat_minor": 0
}
