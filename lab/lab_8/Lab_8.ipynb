{
 "cells": [
  {
   "cell_type": "markdown",
   "metadata": {},
   "source": [
    "---\n",
    "title: Lab 8 \n",
    "author: Marvin (Wenxiang) Li\n",
    "format:\n",
    "    html:\n",
    "        toc: true\n",
    "        code-fold: true\n",
    "embed-resources: true\n",
    "---"
   ]
  },
  {
   "cell_type": "code",
   "execution_count": 1,
   "metadata": {
    "id": "gongI19jRFwL"
   },
   "outputs": [],
   "source": [
    "import numpy as np\n",
    "import pandas as pd\n",
    "from sklearn.compose import ColumnTransformer, make_column_selector\n",
    "from sklearn.pipeline import Pipeline\n",
    "from sklearn.preprocessing import StandardScaler\n",
    "from sklearn.model_selection import cross_val_score, cross_val_predict\n",
    "from sklearn.metrics import confusion_matrix, classification_report, roc_auc_score, confusion_matrix, ConfusionMatrixDisplay\n",
    "from sklearn.metrics import roc_curve, roc_auc_score\n",
    "from sklearn.model_selection import GridSearchCV\n",
    "from sklearn.preprocessing import OneHotEncoder, StandardScaler, PolynomialFeatures, FunctionTransformer"
   ]
  },
  {
   "cell_type": "code",
   "execution_count": 2,
   "metadata": {
    "id": "nPYsJHFsRvHX"
   },
   "outputs": [],
   "source": [
    "pot = pd.read_csv(\"https://www.dropbox.com/scl/fi/o312hqpeagalzimtzidyc/cannabis_full.csv?rlkey=9wd11b3c4iwesx1nxidof27pz&st=j9bk4pnq&dl=1\")"
   ]
  },
  {
   "cell_type": "code",
   "execution_count": 3,
   "metadata": {
    "colab": {
     "base_uri": "https://localhost:8080/",
     "height": 325
    },
    "id": "2Taj863vUUGN",
    "outputId": "f4a6cfc9-9a50-4546-cb16-c379084bd5c2"
   },
   "outputs": [
    {
     "data": {
      "application/vnd.google.colaboratory.intrinsic+json": {
       "type": "dataframe",
       "variable_name": "pot"
      },
      "text/html": [
       "\n",
       "  <div id=\"df-9c538bc5-8b3a-4dce-a22c-41ce8f7f47bd\" class=\"colab-df-container\">\n",
       "    <div>\n",
       "<style scoped>\n",
       "    .dataframe tbody tr th:only-of-type {\n",
       "        vertical-align: middle;\n",
       "    }\n",
       "\n",
       "    .dataframe tbody tr th {\n",
       "        vertical-align: top;\n",
       "    }\n",
       "\n",
       "    .dataframe thead th {\n",
       "        text-align: right;\n",
       "    }\n",
       "</style>\n",
       "<table border=\"1\" class=\"dataframe\">\n",
       "  <thead>\n",
       "    <tr style=\"text-align: right;\">\n",
       "      <th></th>\n",
       "      <th>Strain</th>\n",
       "      <th>Type</th>\n",
       "      <th>Rating</th>\n",
       "      <th>Effects</th>\n",
       "      <th>Flavor</th>\n",
       "      <th>Creative</th>\n",
       "      <th>Energetic</th>\n",
       "      <th>Tingly</th>\n",
       "      <th>Euphoric</th>\n",
       "      <th>Relaxed</th>\n",
       "      <th>...</th>\n",
       "      <th>Ammonia</th>\n",
       "      <th>Minty</th>\n",
       "      <th>Tree</th>\n",
       "      <th>Fruit</th>\n",
       "      <th>Butter</th>\n",
       "      <th>Pineapple</th>\n",
       "      <th>Tar</th>\n",
       "      <th>Rose</th>\n",
       "      <th>Plum</th>\n",
       "      <th>Pear</th>\n",
       "    </tr>\n",
       "  </thead>\n",
       "  <tbody>\n",
       "    <tr>\n",
       "      <th>0</th>\n",
       "      <td>100-Og</td>\n",
       "      <td>hybrid</td>\n",
       "      <td>4.0</td>\n",
       "      <td>Creative,Energetic,Tingly,Euphoric,Relaxed</td>\n",
       "      <td>Earthy,Sweet,Citrus</td>\n",
       "      <td>1.0</td>\n",
       "      <td>1.0</td>\n",
       "      <td>1.0</td>\n",
       "      <td>1.0</td>\n",
       "      <td>1.0</td>\n",
       "      <td>...</td>\n",
       "      <td>0.0</td>\n",
       "      <td>0.0</td>\n",
       "      <td>0.0</td>\n",
       "      <td>0.0</td>\n",
       "      <td>0.0</td>\n",
       "      <td>0.0</td>\n",
       "      <td>0.0</td>\n",
       "      <td>0.0</td>\n",
       "      <td>0.0</td>\n",
       "      <td>0.0</td>\n",
       "    </tr>\n",
       "    <tr>\n",
       "      <th>1</th>\n",
       "      <td>98-White-Widow</td>\n",
       "      <td>hybrid</td>\n",
       "      <td>4.7</td>\n",
       "      <td>Relaxed,Aroused,Creative,Happy,Energetic</td>\n",
       "      <td>Flowery,Violet,Diesel</td>\n",
       "      <td>1.0</td>\n",
       "      <td>1.0</td>\n",
       "      <td>0.0</td>\n",
       "      <td>0.0</td>\n",
       "      <td>1.0</td>\n",
       "      <td>...</td>\n",
       "      <td>0.0</td>\n",
       "      <td>0.0</td>\n",
       "      <td>0.0</td>\n",
       "      <td>0.0</td>\n",
       "      <td>0.0</td>\n",
       "      <td>0.0</td>\n",
       "      <td>0.0</td>\n",
       "      <td>0.0</td>\n",
       "      <td>0.0</td>\n",
       "      <td>0.0</td>\n",
       "    </tr>\n",
       "    <tr>\n",
       "      <th>2</th>\n",
       "      <td>1024</td>\n",
       "      <td>sativa</td>\n",
       "      <td>4.4</td>\n",
       "      <td>Uplifted,Happy,Relaxed,Energetic,Creative</td>\n",
       "      <td>Spicy/Herbal,Sage,Woody</td>\n",
       "      <td>1.0</td>\n",
       "      <td>1.0</td>\n",
       "      <td>0.0</td>\n",
       "      <td>0.0</td>\n",
       "      <td>1.0</td>\n",
       "      <td>...</td>\n",
       "      <td>0.0</td>\n",
       "      <td>0.0</td>\n",
       "      <td>0.0</td>\n",
       "      <td>0.0</td>\n",
       "      <td>0.0</td>\n",
       "      <td>0.0</td>\n",
       "      <td>0.0</td>\n",
       "      <td>0.0</td>\n",
       "      <td>0.0</td>\n",
       "      <td>0.0</td>\n",
       "    </tr>\n",
       "    <tr>\n",
       "      <th>3</th>\n",
       "      <td>13-Dawgs</td>\n",
       "      <td>hybrid</td>\n",
       "      <td>4.2</td>\n",
       "      <td>Tingly,Creative,Hungry,Relaxed,Uplifted</td>\n",
       "      <td>Apricot,Citrus,Grapefruit</td>\n",
       "      <td>1.0</td>\n",
       "      <td>0.0</td>\n",
       "      <td>1.0</td>\n",
       "      <td>0.0</td>\n",
       "      <td>1.0</td>\n",
       "      <td>...</td>\n",
       "      <td>0.0</td>\n",
       "      <td>0.0</td>\n",
       "      <td>0.0</td>\n",
       "      <td>0.0</td>\n",
       "      <td>0.0</td>\n",
       "      <td>0.0</td>\n",
       "      <td>0.0</td>\n",
       "      <td>0.0</td>\n",
       "      <td>0.0</td>\n",
       "      <td>0.0</td>\n",
       "    </tr>\n",
       "    <tr>\n",
       "      <th>4</th>\n",
       "      <td>24K-Gold</td>\n",
       "      <td>hybrid</td>\n",
       "      <td>4.6</td>\n",
       "      <td>Happy,Relaxed,Euphoric,Uplifted,Talkative</td>\n",
       "      <td>Citrus,Earthy,Orange</td>\n",
       "      <td>0.0</td>\n",
       "      <td>0.0</td>\n",
       "      <td>0.0</td>\n",
       "      <td>1.0</td>\n",
       "      <td>1.0</td>\n",
       "      <td>...</td>\n",
       "      <td>0.0</td>\n",
       "      <td>0.0</td>\n",
       "      <td>0.0</td>\n",
       "      <td>0.0</td>\n",
       "      <td>0.0</td>\n",
       "      <td>0.0</td>\n",
       "      <td>0.0</td>\n",
       "      <td>0.0</td>\n",
       "      <td>0.0</td>\n",
       "      <td>0.0</td>\n",
       "    </tr>\n",
       "  </tbody>\n",
       "</table>\n",
       "<p>5 rows × 69 columns</p>\n",
       "</div>\n",
       "    <div class=\"colab-df-buttons\">\n",
       "\n",
       "  <div class=\"colab-df-container\">\n",
       "    <button class=\"colab-df-convert\" onclick=\"convertToInteractive('df-9c538bc5-8b3a-4dce-a22c-41ce8f7f47bd')\"\n",
       "            title=\"Convert this dataframe to an interactive table.\"\n",
       "            style=\"display:none;\">\n",
       "\n",
       "  <svg xmlns=\"http://www.w3.org/2000/svg\" height=\"24px\" viewBox=\"0 -960 960 960\">\n",
       "    <path d=\"M120-120v-720h720v720H120Zm60-500h600v-160H180v160Zm220 220h160v-160H400v160Zm0 220h160v-160H400v160ZM180-400h160v-160H180v160Zm440 0h160v-160H620v160ZM180-180h160v-160H180v160Zm440 0h160v-160H620v160Z\"/>\n",
       "  </svg>\n",
       "    </button>\n",
       "\n",
       "  <style>\n",
       "    .colab-df-container {\n",
       "      display:flex;\n",
       "      gap: 12px;\n",
       "    }\n",
       "\n",
       "    .colab-df-convert {\n",
       "      background-color: #E8F0FE;\n",
       "      border: none;\n",
       "      border-radius: 50%;\n",
       "      cursor: pointer;\n",
       "      display: none;\n",
       "      fill: #1967D2;\n",
       "      height: 32px;\n",
       "      padding: 0 0 0 0;\n",
       "      width: 32px;\n",
       "    }\n",
       "\n",
       "    .colab-df-convert:hover {\n",
       "      background-color: #E2EBFA;\n",
       "      box-shadow: 0px 1px 2px rgba(60, 64, 67, 0.3), 0px 1px 3px 1px rgba(60, 64, 67, 0.15);\n",
       "      fill: #174EA6;\n",
       "    }\n",
       "\n",
       "    .colab-df-buttons div {\n",
       "      margin-bottom: 4px;\n",
       "    }\n",
       "\n",
       "    [theme=dark] .colab-df-convert {\n",
       "      background-color: #3B4455;\n",
       "      fill: #D2E3FC;\n",
       "    }\n",
       "\n",
       "    [theme=dark] .colab-df-convert:hover {\n",
       "      background-color: #434B5C;\n",
       "      box-shadow: 0px 1px 3px 1px rgba(0, 0, 0, 0.15);\n",
       "      filter: drop-shadow(0px 1px 2px rgba(0, 0, 0, 0.3));\n",
       "      fill: #FFFFFF;\n",
       "    }\n",
       "  </style>\n",
       "\n",
       "    <script>\n",
       "      const buttonEl =\n",
       "        document.querySelector('#df-9c538bc5-8b3a-4dce-a22c-41ce8f7f47bd button.colab-df-convert');\n",
       "      buttonEl.style.display =\n",
       "        google.colab.kernel.accessAllowed ? 'block' : 'none';\n",
       "\n",
       "      async function convertToInteractive(key) {\n",
       "        const element = document.querySelector('#df-9c538bc5-8b3a-4dce-a22c-41ce8f7f47bd');\n",
       "        const dataTable =\n",
       "          await google.colab.kernel.invokeFunction('convertToInteractive',\n",
       "                                                    [key], {});\n",
       "        if (!dataTable) return;\n",
       "\n",
       "        const docLinkHtml = 'Like what you see? Visit the ' +\n",
       "          '<a target=\"_blank\" href=https://colab.research.google.com/notebooks/data_table.ipynb>data table notebook</a>'\n",
       "          + ' to learn more about interactive tables.';\n",
       "        element.innerHTML = '';\n",
       "        dataTable['output_type'] = 'display_data';\n",
       "        await google.colab.output.renderOutput(dataTable, element);\n",
       "        const docLink = document.createElement('div');\n",
       "        docLink.innerHTML = docLinkHtml;\n",
       "        element.appendChild(docLink);\n",
       "      }\n",
       "    </script>\n",
       "  </div>\n",
       "\n",
       "\n",
       "<div id=\"df-fe88673e-3427-4378-a256-8c6dee379ac9\">\n",
       "  <button class=\"colab-df-quickchart\" onclick=\"quickchart('df-fe88673e-3427-4378-a256-8c6dee379ac9')\"\n",
       "            title=\"Suggest charts\"\n",
       "            style=\"display:none;\">\n",
       "\n",
       "<svg xmlns=\"http://www.w3.org/2000/svg\" height=\"24px\"viewBox=\"0 0 24 24\"\n",
       "     width=\"24px\">\n",
       "    <g>\n",
       "        <path d=\"M19 3H5c-1.1 0-2 .9-2 2v14c0 1.1.9 2 2 2h14c1.1 0 2-.9 2-2V5c0-1.1-.9-2-2-2zM9 17H7v-7h2v7zm4 0h-2V7h2v10zm4 0h-2v-4h2v4z\"/>\n",
       "    </g>\n",
       "</svg>\n",
       "  </button>\n",
       "\n",
       "<style>\n",
       "  .colab-df-quickchart {\n",
       "      --bg-color: #E8F0FE;\n",
       "      --fill-color: #1967D2;\n",
       "      --hover-bg-color: #E2EBFA;\n",
       "      --hover-fill-color: #174EA6;\n",
       "      --disabled-fill-color: #AAA;\n",
       "      --disabled-bg-color: #DDD;\n",
       "  }\n",
       "\n",
       "  [theme=dark] .colab-df-quickchart {\n",
       "      --bg-color: #3B4455;\n",
       "      --fill-color: #D2E3FC;\n",
       "      --hover-bg-color: #434B5C;\n",
       "      --hover-fill-color: #FFFFFF;\n",
       "      --disabled-bg-color: #3B4455;\n",
       "      --disabled-fill-color: #666;\n",
       "  }\n",
       "\n",
       "  .colab-df-quickchart {\n",
       "    background-color: var(--bg-color);\n",
       "    border: none;\n",
       "    border-radius: 50%;\n",
       "    cursor: pointer;\n",
       "    display: none;\n",
       "    fill: var(--fill-color);\n",
       "    height: 32px;\n",
       "    padding: 0;\n",
       "    width: 32px;\n",
       "  }\n",
       "\n",
       "  .colab-df-quickchart:hover {\n",
       "    background-color: var(--hover-bg-color);\n",
       "    box-shadow: 0 1px 2px rgba(60, 64, 67, 0.3), 0 1px 3px 1px rgba(60, 64, 67, 0.15);\n",
       "    fill: var(--button-hover-fill-color);\n",
       "  }\n",
       "\n",
       "  .colab-df-quickchart-complete:disabled,\n",
       "  .colab-df-quickchart-complete:disabled:hover {\n",
       "    background-color: var(--disabled-bg-color);\n",
       "    fill: var(--disabled-fill-color);\n",
       "    box-shadow: none;\n",
       "  }\n",
       "\n",
       "  .colab-df-spinner {\n",
       "    border: 2px solid var(--fill-color);\n",
       "    border-color: transparent;\n",
       "    border-bottom-color: var(--fill-color);\n",
       "    animation:\n",
       "      spin 1s steps(1) infinite;\n",
       "  }\n",
       "\n",
       "  @keyframes spin {\n",
       "    0% {\n",
       "      border-color: transparent;\n",
       "      border-bottom-color: var(--fill-color);\n",
       "      border-left-color: var(--fill-color);\n",
       "    }\n",
       "    20% {\n",
       "      border-color: transparent;\n",
       "      border-left-color: var(--fill-color);\n",
       "      border-top-color: var(--fill-color);\n",
       "    }\n",
       "    30% {\n",
       "      border-color: transparent;\n",
       "      border-left-color: var(--fill-color);\n",
       "      border-top-color: var(--fill-color);\n",
       "      border-right-color: var(--fill-color);\n",
       "    }\n",
       "    40% {\n",
       "      border-color: transparent;\n",
       "      border-right-color: var(--fill-color);\n",
       "      border-top-color: var(--fill-color);\n",
       "    }\n",
       "    60% {\n",
       "      border-color: transparent;\n",
       "      border-right-color: var(--fill-color);\n",
       "    }\n",
       "    80% {\n",
       "      border-color: transparent;\n",
       "      border-right-color: var(--fill-color);\n",
       "      border-bottom-color: var(--fill-color);\n",
       "    }\n",
       "    90% {\n",
       "      border-color: transparent;\n",
       "      border-bottom-color: var(--fill-color);\n",
       "    }\n",
       "  }\n",
       "</style>\n",
       "\n",
       "  <script>\n",
       "    async function quickchart(key) {\n",
       "      const quickchartButtonEl =\n",
       "        document.querySelector('#' + key + ' button');\n",
       "      quickchartButtonEl.disabled = true;  // To prevent multiple clicks.\n",
       "      quickchartButtonEl.classList.add('colab-df-spinner');\n",
       "      try {\n",
       "        const charts = await google.colab.kernel.invokeFunction(\n",
       "            'suggestCharts', [key], {});\n",
       "      } catch (error) {\n",
       "        console.error('Error during call to suggestCharts:', error);\n",
       "      }\n",
       "      quickchartButtonEl.classList.remove('colab-df-spinner');\n",
       "      quickchartButtonEl.classList.add('colab-df-quickchart-complete');\n",
       "    }\n",
       "    (() => {\n",
       "      let quickchartButtonEl =\n",
       "        document.querySelector('#df-fe88673e-3427-4378-a256-8c6dee379ac9 button');\n",
       "      quickchartButtonEl.style.display =\n",
       "        google.colab.kernel.accessAllowed ? 'block' : 'none';\n",
       "    })();\n",
       "  </script>\n",
       "</div>\n",
       "\n",
       "    </div>\n",
       "  </div>\n"
      ],
      "text/plain": [
       "           Strain    Type  Rating                                     Effects  \\\n",
       "0          100-Og  hybrid     4.0  Creative,Energetic,Tingly,Euphoric,Relaxed   \n",
       "1  98-White-Widow  hybrid     4.7    Relaxed,Aroused,Creative,Happy,Energetic   \n",
       "2            1024  sativa     4.4   Uplifted,Happy,Relaxed,Energetic,Creative   \n",
       "3        13-Dawgs  hybrid     4.2     Tingly,Creative,Hungry,Relaxed,Uplifted   \n",
       "4        24K-Gold  hybrid     4.6   Happy,Relaxed,Euphoric,Uplifted,Talkative   \n",
       "\n",
       "                      Flavor  Creative  Energetic  Tingly  Euphoric  Relaxed  \\\n",
       "0        Earthy,Sweet,Citrus       1.0        1.0     1.0       1.0      1.0   \n",
       "1      Flowery,Violet,Diesel       1.0        1.0     0.0       0.0      1.0   \n",
       "2    Spicy/Herbal,Sage,Woody       1.0        1.0     0.0       0.0      1.0   \n",
       "3  Apricot,Citrus,Grapefruit       1.0        0.0     1.0       0.0      1.0   \n",
       "4       Citrus,Earthy,Orange       0.0        0.0     0.0       1.0      1.0   \n",
       "\n",
       "   ...  Ammonia  Minty  Tree  Fruit  Butter  Pineapple  Tar  Rose  Plum  Pear  \n",
       "0  ...      0.0    0.0   0.0    0.0     0.0        0.0  0.0   0.0   0.0   0.0  \n",
       "1  ...      0.0    0.0   0.0    0.0     0.0        0.0  0.0   0.0   0.0   0.0  \n",
       "2  ...      0.0    0.0   0.0    0.0     0.0        0.0  0.0   0.0   0.0   0.0  \n",
       "3  ...      0.0    0.0   0.0    0.0     0.0        0.0  0.0   0.0   0.0   0.0  \n",
       "4  ...      0.0    0.0   0.0    0.0     0.0        0.0  0.0   0.0   0.0   0.0  \n",
       "\n",
       "[5 rows x 69 columns]"
      ]
     },
     "execution_count": 3,
     "metadata": {},
     "output_type": "execute_result"
    }
   ],
   "source": [
    "pot = pot.dropna()\n",
    "pot.head()"
   ]
  },
  {
   "cell_type": "markdown",
   "metadata": {
    "id": "TbUKJ8d0UBx-"
   },
   "source": [
    "## Part One: Binary Classification"
   ]
  },
  {
   "cell_type": "code",
   "execution_count": 4,
   "metadata": {
    "colab": {
     "base_uri": "https://localhost:8080/",
     "height": 290
    },
    "id": "kpxLC4QRqr4X",
    "outputId": "453a0d32-f53d-49bd-9391-bbab58ec0929"
   },
   "outputs": [
    {
     "data": {
      "application/vnd.google.colaboratory.intrinsic+json": {
       "type": "dataframe",
       "variable_name": "pot_1"
      },
      "text/html": [
       "\n",
       "  <div id=\"df-626298f0-e0c8-4210-b1f3-9fa5bd45db25\" class=\"colab-df-container\">\n",
       "    <div>\n",
       "<style scoped>\n",
       "    .dataframe tbody tr th:only-of-type {\n",
       "        vertical-align: middle;\n",
       "    }\n",
       "\n",
       "    .dataframe tbody tr th {\n",
       "        vertical-align: top;\n",
       "    }\n",
       "\n",
       "    .dataframe thead th {\n",
       "        text-align: right;\n",
       "    }\n",
       "</style>\n",
       "<table border=\"1\" class=\"dataframe\">\n",
       "  <thead>\n",
       "    <tr style=\"text-align: right;\">\n",
       "      <th></th>\n",
       "      <th>Strain</th>\n",
       "      <th>Type</th>\n",
       "      <th>Rating</th>\n",
       "      <th>Effects</th>\n",
       "      <th>Flavor</th>\n",
       "      <th>Creative</th>\n",
       "      <th>Energetic</th>\n",
       "      <th>Tingly</th>\n",
       "      <th>Euphoric</th>\n",
       "      <th>Relaxed</th>\n",
       "      <th>...</th>\n",
       "      <th>Ammonia</th>\n",
       "      <th>Minty</th>\n",
       "      <th>Tree</th>\n",
       "      <th>Fruit</th>\n",
       "      <th>Butter</th>\n",
       "      <th>Pineapple</th>\n",
       "      <th>Tar</th>\n",
       "      <th>Rose</th>\n",
       "      <th>Plum</th>\n",
       "      <th>Pear</th>\n",
       "    </tr>\n",
       "  </thead>\n",
       "  <tbody>\n",
       "    <tr>\n",
       "      <th>2</th>\n",
       "      <td>1024</td>\n",
       "      <td>sativa</td>\n",
       "      <td>4.4</td>\n",
       "      <td>Uplifted,Happy,Relaxed,Energetic,Creative</td>\n",
       "      <td>Spicy/Herbal,Sage,Woody</td>\n",
       "      <td>1.0</td>\n",
       "      <td>1.0</td>\n",
       "      <td>0.0</td>\n",
       "      <td>0.0</td>\n",
       "      <td>1.0</td>\n",
       "      <td>...</td>\n",
       "      <td>0.0</td>\n",
       "      <td>0.0</td>\n",
       "      <td>0.0</td>\n",
       "      <td>0.0</td>\n",
       "      <td>0.0</td>\n",
       "      <td>0.0</td>\n",
       "      <td>0.0</td>\n",
       "      <td>0.0</td>\n",
       "      <td>0.0</td>\n",
       "      <td>0.0</td>\n",
       "    </tr>\n",
       "    <tr>\n",
       "      <th>7</th>\n",
       "      <td>303-Og</td>\n",
       "      <td>indica</td>\n",
       "      <td>4.2</td>\n",
       "      <td>Relaxed,Happy,Euphoric,Uplifted,Giggly</td>\n",
       "      <td>Citrus,Pungent,Earthy</td>\n",
       "      <td>0.0</td>\n",
       "      <td>0.0</td>\n",
       "      <td>0.0</td>\n",
       "      <td>1.0</td>\n",
       "      <td>1.0</td>\n",
       "      <td>...</td>\n",
       "      <td>0.0</td>\n",
       "      <td>0.0</td>\n",
       "      <td>0.0</td>\n",
       "      <td>0.0</td>\n",
       "      <td>0.0</td>\n",
       "      <td>0.0</td>\n",
       "      <td>0.0</td>\n",
       "      <td>0.0</td>\n",
       "      <td>0.0</td>\n",
       "      <td>0.0</td>\n",
       "    </tr>\n",
       "    <tr>\n",
       "      <th>8</th>\n",
       "      <td>3D-Cbd</td>\n",
       "      <td>sativa</td>\n",
       "      <td>4.6</td>\n",
       "      <td>Uplifted,Focused,Happy,Talkative,Relaxed</td>\n",
       "      <td>Earthy,Woody,Flowery</td>\n",
       "      <td>0.0</td>\n",
       "      <td>0.0</td>\n",
       "      <td>0.0</td>\n",
       "      <td>0.0</td>\n",
       "      <td>1.0</td>\n",
       "      <td>...</td>\n",
       "      <td>0.0</td>\n",
       "      <td>0.0</td>\n",
       "      <td>0.0</td>\n",
       "      <td>0.0</td>\n",
       "      <td>0.0</td>\n",
       "      <td>0.0</td>\n",
       "      <td>0.0</td>\n",
       "      <td>0.0</td>\n",
       "      <td>0.0</td>\n",
       "      <td>0.0</td>\n",
       "    </tr>\n",
       "    <tr>\n",
       "      <th>9</th>\n",
       "      <td>3X-Crazy</td>\n",
       "      <td>indica</td>\n",
       "      <td>4.4</td>\n",
       "      <td>Relaxed,Tingly,Happy,Euphoric,Uplifted</td>\n",
       "      <td>Earthy,Grape,Sweet</td>\n",
       "      <td>0.0</td>\n",
       "      <td>0.0</td>\n",
       "      <td>1.0</td>\n",
       "      <td>1.0</td>\n",
       "      <td>1.0</td>\n",
       "      <td>...</td>\n",
       "      <td>0.0</td>\n",
       "      <td>0.0</td>\n",
       "      <td>0.0</td>\n",
       "      <td>0.0</td>\n",
       "      <td>0.0</td>\n",
       "      <td>0.0</td>\n",
       "      <td>0.0</td>\n",
       "      <td>0.0</td>\n",
       "      <td>0.0</td>\n",
       "      <td>0.0</td>\n",
       "    </tr>\n",
       "    <tr>\n",
       "      <th>12</th>\n",
       "      <td>5Th-Element</td>\n",
       "      <td>indica</td>\n",
       "      <td>4.4</td>\n",
       "      <td>Relaxed,Focused,Euphoric,Uplifted,Aroused</td>\n",
       "      <td>Earthy,Woody,Pine</td>\n",
       "      <td>0.0</td>\n",
       "      <td>0.0</td>\n",
       "      <td>0.0</td>\n",
       "      <td>1.0</td>\n",
       "      <td>1.0</td>\n",
       "      <td>...</td>\n",
       "      <td>0.0</td>\n",
       "      <td>0.0</td>\n",
       "      <td>0.0</td>\n",
       "      <td>0.0</td>\n",
       "      <td>0.0</td>\n",
       "      <td>0.0</td>\n",
       "      <td>0.0</td>\n",
       "      <td>0.0</td>\n",
       "      <td>0.0</td>\n",
       "      <td>0.0</td>\n",
       "    </tr>\n",
       "  </tbody>\n",
       "</table>\n",
       "<p>5 rows × 69 columns</p>\n",
       "</div>\n",
       "    <div class=\"colab-df-buttons\">\n",
       "\n",
       "  <div class=\"colab-df-container\">\n",
       "    <button class=\"colab-df-convert\" onclick=\"convertToInteractive('df-626298f0-e0c8-4210-b1f3-9fa5bd45db25')\"\n",
       "            title=\"Convert this dataframe to an interactive table.\"\n",
       "            style=\"display:none;\">\n",
       "\n",
       "  <svg xmlns=\"http://www.w3.org/2000/svg\" height=\"24px\" viewBox=\"0 -960 960 960\">\n",
       "    <path d=\"M120-120v-720h720v720H120Zm60-500h600v-160H180v160Zm220 220h160v-160H400v160Zm0 220h160v-160H400v160ZM180-400h160v-160H180v160Zm440 0h160v-160H620v160ZM180-180h160v-160H180v160Zm440 0h160v-160H620v160Z\"/>\n",
       "  </svg>\n",
       "    </button>\n",
       "\n",
       "  <style>\n",
       "    .colab-df-container {\n",
       "      display:flex;\n",
       "      gap: 12px;\n",
       "    }\n",
       "\n",
       "    .colab-df-convert {\n",
       "      background-color: #E8F0FE;\n",
       "      border: none;\n",
       "      border-radius: 50%;\n",
       "      cursor: pointer;\n",
       "      display: none;\n",
       "      fill: #1967D2;\n",
       "      height: 32px;\n",
       "      padding: 0 0 0 0;\n",
       "      width: 32px;\n",
       "    }\n",
       "\n",
       "    .colab-df-convert:hover {\n",
       "      background-color: #E2EBFA;\n",
       "      box-shadow: 0px 1px 2px rgba(60, 64, 67, 0.3), 0px 1px 3px 1px rgba(60, 64, 67, 0.15);\n",
       "      fill: #174EA6;\n",
       "    }\n",
       "\n",
       "    .colab-df-buttons div {\n",
       "      margin-bottom: 4px;\n",
       "    }\n",
       "\n",
       "    [theme=dark] .colab-df-convert {\n",
       "      background-color: #3B4455;\n",
       "      fill: #D2E3FC;\n",
       "    }\n",
       "\n",
       "    [theme=dark] .colab-df-convert:hover {\n",
       "      background-color: #434B5C;\n",
       "      box-shadow: 0px 1px 3px 1px rgba(0, 0, 0, 0.15);\n",
       "      filter: drop-shadow(0px 1px 2px rgba(0, 0, 0, 0.3));\n",
       "      fill: #FFFFFF;\n",
       "    }\n",
       "  </style>\n",
       "\n",
       "    <script>\n",
       "      const buttonEl =\n",
       "        document.querySelector('#df-626298f0-e0c8-4210-b1f3-9fa5bd45db25 button.colab-df-convert');\n",
       "      buttonEl.style.display =\n",
       "        google.colab.kernel.accessAllowed ? 'block' : 'none';\n",
       "\n",
       "      async function convertToInteractive(key) {\n",
       "        const element = document.querySelector('#df-626298f0-e0c8-4210-b1f3-9fa5bd45db25');\n",
       "        const dataTable =\n",
       "          await google.colab.kernel.invokeFunction('convertToInteractive',\n",
       "                                                    [key], {});\n",
       "        if (!dataTable) return;\n",
       "\n",
       "        const docLinkHtml = 'Like what you see? Visit the ' +\n",
       "          '<a target=\"_blank\" href=https://colab.research.google.com/notebooks/data_table.ipynb>data table notebook</a>'\n",
       "          + ' to learn more about interactive tables.';\n",
       "        element.innerHTML = '';\n",
       "        dataTable['output_type'] = 'display_data';\n",
       "        await google.colab.output.renderOutput(dataTable, element);\n",
       "        const docLink = document.createElement('div');\n",
       "        docLink.innerHTML = docLinkHtml;\n",
       "        element.appendChild(docLink);\n",
       "      }\n",
       "    </script>\n",
       "  </div>\n",
       "\n",
       "\n",
       "<div id=\"df-b3b98524-0f4c-447f-a3da-6b8279e6197f\">\n",
       "  <button class=\"colab-df-quickchart\" onclick=\"quickchart('df-b3b98524-0f4c-447f-a3da-6b8279e6197f')\"\n",
       "            title=\"Suggest charts\"\n",
       "            style=\"display:none;\">\n",
       "\n",
       "<svg xmlns=\"http://www.w3.org/2000/svg\" height=\"24px\"viewBox=\"0 0 24 24\"\n",
       "     width=\"24px\">\n",
       "    <g>\n",
       "        <path d=\"M19 3H5c-1.1 0-2 .9-2 2v14c0 1.1.9 2 2 2h14c1.1 0 2-.9 2-2V5c0-1.1-.9-2-2-2zM9 17H7v-7h2v7zm4 0h-2V7h2v10zm4 0h-2v-4h2v4z\"/>\n",
       "    </g>\n",
       "</svg>\n",
       "  </button>\n",
       "\n",
       "<style>\n",
       "  .colab-df-quickchart {\n",
       "      --bg-color: #E8F0FE;\n",
       "      --fill-color: #1967D2;\n",
       "      --hover-bg-color: #E2EBFA;\n",
       "      --hover-fill-color: #174EA6;\n",
       "      --disabled-fill-color: #AAA;\n",
       "      --disabled-bg-color: #DDD;\n",
       "  }\n",
       "\n",
       "  [theme=dark] .colab-df-quickchart {\n",
       "      --bg-color: #3B4455;\n",
       "      --fill-color: #D2E3FC;\n",
       "      --hover-bg-color: #434B5C;\n",
       "      --hover-fill-color: #FFFFFF;\n",
       "      --disabled-bg-color: #3B4455;\n",
       "      --disabled-fill-color: #666;\n",
       "  }\n",
       "\n",
       "  .colab-df-quickchart {\n",
       "    background-color: var(--bg-color);\n",
       "    border: none;\n",
       "    border-radius: 50%;\n",
       "    cursor: pointer;\n",
       "    display: none;\n",
       "    fill: var(--fill-color);\n",
       "    height: 32px;\n",
       "    padding: 0;\n",
       "    width: 32px;\n",
       "  }\n",
       "\n",
       "  .colab-df-quickchart:hover {\n",
       "    background-color: var(--hover-bg-color);\n",
       "    box-shadow: 0 1px 2px rgba(60, 64, 67, 0.3), 0 1px 3px 1px rgba(60, 64, 67, 0.15);\n",
       "    fill: var(--button-hover-fill-color);\n",
       "  }\n",
       "\n",
       "  .colab-df-quickchart-complete:disabled,\n",
       "  .colab-df-quickchart-complete:disabled:hover {\n",
       "    background-color: var(--disabled-bg-color);\n",
       "    fill: var(--disabled-fill-color);\n",
       "    box-shadow: none;\n",
       "  }\n",
       "\n",
       "  .colab-df-spinner {\n",
       "    border: 2px solid var(--fill-color);\n",
       "    border-color: transparent;\n",
       "    border-bottom-color: var(--fill-color);\n",
       "    animation:\n",
       "      spin 1s steps(1) infinite;\n",
       "  }\n",
       "\n",
       "  @keyframes spin {\n",
       "    0% {\n",
       "      border-color: transparent;\n",
       "      border-bottom-color: var(--fill-color);\n",
       "      border-left-color: var(--fill-color);\n",
       "    }\n",
       "    20% {\n",
       "      border-color: transparent;\n",
       "      border-left-color: var(--fill-color);\n",
       "      border-top-color: var(--fill-color);\n",
       "    }\n",
       "    30% {\n",
       "      border-color: transparent;\n",
       "      border-left-color: var(--fill-color);\n",
       "      border-top-color: var(--fill-color);\n",
       "      border-right-color: var(--fill-color);\n",
       "    }\n",
       "    40% {\n",
       "      border-color: transparent;\n",
       "      border-right-color: var(--fill-color);\n",
       "      border-top-color: var(--fill-color);\n",
       "    }\n",
       "    60% {\n",
       "      border-color: transparent;\n",
       "      border-right-color: var(--fill-color);\n",
       "    }\n",
       "    80% {\n",
       "      border-color: transparent;\n",
       "      border-right-color: var(--fill-color);\n",
       "      border-bottom-color: var(--fill-color);\n",
       "    }\n",
       "    90% {\n",
       "      border-color: transparent;\n",
       "      border-bottom-color: var(--fill-color);\n",
       "    }\n",
       "  }\n",
       "</style>\n",
       "\n",
       "  <script>\n",
       "    async function quickchart(key) {\n",
       "      const quickchartButtonEl =\n",
       "        document.querySelector('#' + key + ' button');\n",
       "      quickchartButtonEl.disabled = true;  // To prevent multiple clicks.\n",
       "      quickchartButtonEl.classList.add('colab-df-spinner');\n",
       "      try {\n",
       "        const charts = await google.colab.kernel.invokeFunction(\n",
       "            'suggestCharts', [key], {});\n",
       "      } catch (error) {\n",
       "        console.error('Error during call to suggestCharts:', error);\n",
       "      }\n",
       "      quickchartButtonEl.classList.remove('colab-df-spinner');\n",
       "      quickchartButtonEl.classList.add('colab-df-quickchart-complete');\n",
       "    }\n",
       "    (() => {\n",
       "      let quickchartButtonEl =\n",
       "        document.querySelector('#df-b3b98524-0f4c-447f-a3da-6b8279e6197f button');\n",
       "      quickchartButtonEl.style.display =\n",
       "        google.colab.kernel.accessAllowed ? 'block' : 'none';\n",
       "    })();\n",
       "  </script>\n",
       "</div>\n",
       "\n",
       "    </div>\n",
       "  </div>\n"
      ],
      "text/plain": [
       "         Strain    Type  Rating                                    Effects  \\\n",
       "2          1024  sativa     4.4  Uplifted,Happy,Relaxed,Energetic,Creative   \n",
       "7        303-Og  indica     4.2     Relaxed,Happy,Euphoric,Uplifted,Giggly   \n",
       "8        3D-Cbd  sativa     4.6   Uplifted,Focused,Happy,Talkative,Relaxed   \n",
       "9      3X-Crazy  indica     4.4     Relaxed,Tingly,Happy,Euphoric,Uplifted   \n",
       "12  5Th-Element  indica     4.4  Relaxed,Focused,Euphoric,Uplifted,Aroused   \n",
       "\n",
       "                     Flavor  Creative  Energetic  Tingly  Euphoric  Relaxed  \\\n",
       "2   Spicy/Herbal,Sage,Woody       1.0        1.0     0.0       0.0      1.0   \n",
       "7     Citrus,Pungent,Earthy       0.0        0.0     0.0       1.0      1.0   \n",
       "8      Earthy,Woody,Flowery       0.0        0.0     0.0       0.0      1.0   \n",
       "9        Earthy,Grape,Sweet       0.0        0.0     1.0       1.0      1.0   \n",
       "12        Earthy,Woody,Pine       0.0        0.0     0.0       1.0      1.0   \n",
       "\n",
       "    ...  Ammonia  Minty  Tree  Fruit  Butter  Pineapple  Tar  Rose  Plum  Pear  \n",
       "2   ...      0.0    0.0   0.0    0.0     0.0        0.0  0.0   0.0   0.0   0.0  \n",
       "7   ...      0.0    0.0   0.0    0.0     0.0        0.0  0.0   0.0   0.0   0.0  \n",
       "8   ...      0.0    0.0   0.0    0.0     0.0        0.0  0.0   0.0   0.0   0.0  \n",
       "9   ...      0.0    0.0   0.0    0.0     0.0        0.0  0.0   0.0   0.0   0.0  \n",
       "12  ...      0.0    0.0   0.0    0.0     0.0        0.0  0.0   0.0   0.0   0.0  \n",
       "\n",
       "[5 rows x 69 columns]"
      ]
     },
     "execution_count": 4,
     "metadata": {},
     "output_type": "execute_result"
    }
   ],
   "source": [
    "pot_1 = pot[pot['Type'].isin(['sativa', 'indica'])]\n",
    "pot_1.head()"
   ]
  },
  {
   "cell_type": "code",
   "execution_count": 5,
   "metadata": {
    "id": "yrEVJqDAtR8z"
   },
   "outputs": [],
   "source": [
    "X1 = pot_1.drop([\"Strain\",'Type', 'Effects','Flavor'],axis = 1)\n",
    "y1 = pot_1['Type']"
   ]
  },
  {
   "cell_type": "code",
   "execution_count": 6,
   "metadata": {
    "colab": {
     "base_uri": "https://localhost:8080/"
    },
    "id": "KUuBloKitmkC",
    "outputId": "2ea11eb8-489e-4e6c-892b-2ba1f3fc8ba1"
   },
   "outputs": [
    {
     "name": "stdout",
     "output_type": "stream",
     "text": [
      "['indica' 'sativa']\n"
     ]
    }
   ],
   "source": [
    "from sklearn.preprocessing import LabelEncoder\n",
    "# Encoding the labels\n",
    "label_encoder = LabelEncoder()\n",
    "y_encoded1 = label_encoder.fit_transform(y1)\n",
    "\n",
    "# Check the mapping\n",
    "print(label_encoder.classes_)  # ['Disease', 'No Disease']"
   ]
  },
  {
   "cell_type": "markdown",
   "metadata": {
    "id": "t92cS3kruTbl"
   },
   "source": [
    "### 1. LDA"
   ]
  },
  {
   "cell_type": "code",
   "execution_count": 7,
   "metadata": {
    "id": "_oZlf7t8u9tD"
   },
   "outputs": [],
   "source": [
    "from sklearn.discriminant_analysis import LinearDiscriminantAnalysis"
   ]
  },
  {
   "cell_type": "code",
   "execution_count": 8,
   "metadata": {
    "id": "wiPCIsLeuzwW"
   },
   "outputs": [],
   "source": [
    "lda1 = LinearDiscriminantAnalysis()"
   ]
  },
  {
   "cell_type": "code",
   "execution_count": 9,
   "metadata": {
    "colab": {
     "base_uri": "https://localhost:8080/"
    },
    "id": "qb8zjU9CvAPi",
    "outputId": "b0e5d104-d3af-46a9-8ff2-f2e72e00f27a"
   },
   "outputs": [
    {
     "name": "stdout",
     "output_type": "stream",
     "text": [
      "Best parameters: {'shrinkage': 0.5, 'solver': 'lsqr'}\n",
      "Best cross-validation scores:\n",
      "ROC AUC: 0.9412791642052694\n",
      "Accuracy: 0.8707779386599974\n"
     ]
    }
   ],
   "source": [
    "param_lda1 = [\n",
    "    {'solver': ['lsqr'], 'shrinkage': [None, 'auto', 0.1, 0.5, 1.0]},\n",
    "    {'solver': ['svd'], 'shrinkage': [None]}\n",
    "]\n",
    "grid_search_lda1 = GridSearchCV(lda1, param_lda1, cv=5, scoring=['roc_auc', 'accuracy'], refit='accuracy')\n",
    "grid_search_lda1.fit(X1, y1)\n",
    "\n",
    "# Print the best parameters\n",
    "print(\"Best parameters:\", grid_search_lda1.best_params_)\n",
    "\n",
    "# Print the best score for each metric\n",
    "print(\"Best cross-validation scores:\")\n",
    "print(\"ROC AUC:\", grid_search_lda1.cv_results_['mean_test_roc_auc'][grid_search_lda1.best_index_])\n",
    "print(\"Accuracy:\", grid_search_lda1.cv_results_['mean_test_accuracy'][grid_search_lda1.best_index_])"
   ]
  },
  {
   "cell_type": "code",
   "execution_count": 10,
   "metadata": {
    "colab": {
     "base_uri": "https://localhost:8080/",
     "height": 467
    },
    "id": "QdgAA1SnCXzX",
    "outputId": "a98e415e-46fa-42a5-d390-f61ebdf267ff"
   },
   "outputs": [
    {
     "data": {
      "text/plain": [
       "<sklearn.metrics._plot.confusion_matrix.ConfusionMatrixDisplay at 0x78292bb35060>"
      ]
     },
     "execution_count": 10,
     "metadata": {},
     "output_type": "execute_result"
    },
    {
     "data": {
      "image/png": "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",
      "text/plain": [
       "<Figure size 640x480 with 2 Axes>"
      ]
     },
     "metadata": {},
     "output_type": "display_data"
    }
   ],
   "source": [
    "best_lda1 = grid_search_lda1.best_estimator_\n",
    "y_pred_lda1 = cross_val_predict(best_lda1, X1, y1, cv=5)\n",
    "cm_lda1 = confusion_matrix(y1, y_pred_lda1)\n",
    "disp_lda1 = ConfusionMatrixDisplay(confusion_matrix=cm_lda1, display_labels=best_lda1.classes_)\n",
    "disp_lda1.plot(cmap='Blues', values_format='d')"
   ]
  },
  {
   "cell_type": "markdown",
   "metadata": {
    "id": "xD_kxPsZuV5K"
   },
   "source": [
    "### 2. QDA"
   ]
  },
  {
   "cell_type": "code",
   "execution_count": 11,
   "metadata": {
    "id": "WI6SuUbt3lQh"
   },
   "outputs": [],
   "source": [
    "from sklearn.discriminant_analysis import QuadraticDiscriminantAnalysis"
   ]
  },
  {
   "cell_type": "code",
   "execution_count": 12,
   "metadata": {
    "id": "aoc3p0LK3pdI"
   },
   "outputs": [],
   "source": [
    "qda1 = QuadraticDiscriminantAnalysis()"
   ]
  },
  {
   "cell_type": "code",
   "execution_count": 13,
   "metadata": {
    "id": "0GzRPZjE6n_E"
   },
   "outputs": [],
   "source": [
    "import warnings\n",
    "\n",
    "# Suppress the specific warning for collinearity\n",
    "warnings.filterwarnings('ignore', category=UserWarning, message=\"Variables are collinear\")\n"
   ]
  },
  {
   "cell_type": "code",
   "execution_count": 14,
   "metadata": {
    "colab": {
     "base_uri": "https://localhost:8080/"
    },
    "id": "8tcrd05r3_Z8",
    "outputId": "7027009e-048e-43f0-ceb6-78be1477d240"
   },
   "outputs": [
    {
     "name": "stdout",
     "output_type": "stream",
     "text": [
      "Best parameters: {'reg_param': 0.1}\n",
      "Best cross-validation scores:\n",
      "ROC AUC: 0.9368688000563917\n",
      "Accuracy: 0.8661225922513273\n"
     ]
    }
   ],
   "source": [
    "param_qda1 = [\n",
    "    {\n",
    "     'reg_param': [0.1, 0.5, 1.0]}\n",
    "]\n",
    "grid_search_qda1 = GridSearchCV(qda1, param_qda1, cv=5, scoring=['roc_auc', 'accuracy'], refit='accuracy')\n",
    "grid_search_qda1.fit(X1, y1)\n",
    "\n",
    "# Print the best parameters\n",
    "print(\"Best parameters:\", grid_search_qda1.best_params_)\n",
    "\n",
    "# Print the best score for each metric\n",
    "print(\"Best cross-validation scores:\")\n",
    "print(\"ROC AUC:\", grid_search_qda1.cv_results_['mean_test_roc_auc'][grid_search_qda1.best_index_])\n",
    "print(\"Accuracy:\", grid_search_qda1.cv_results_['mean_test_accuracy'][grid_search_qda1.best_index_])"
   ]
  },
  {
   "cell_type": "code",
   "execution_count": 15,
   "metadata": {
    "colab": {
     "base_uri": "https://localhost:8080/",
     "height": 467
    },
    "id": "uWpWtDR5DvyU",
    "outputId": "5f6b775e-2860-40c3-b5a8-f80b362f610b"
   },
   "outputs": [
    {
     "data": {
      "text/plain": [
       "<sklearn.metrics._plot.confusion_matrix.ConfusionMatrixDisplay at 0x78292bb35900>"
      ]
     },
     "execution_count": 15,
     "metadata": {},
     "output_type": "execute_result"
    },
    {
     "data": {
      "image/png": "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",
      "text/plain": [
       "<Figure size 640x480 with 2 Axes>"
      ]
     },
     "metadata": {},
     "output_type": "display_data"
    }
   ],
   "source": [
    "best_qda1 = grid_search_qda1.best_estimator_\n",
    "y_pred_qda1 = cross_val_predict(best_qda1, X1, y1, cv=5)\n",
    "cm_qda1 = confusion_matrix(y1, y_pred_qda1)\n",
    "disp_qda1 = ConfusionMatrixDisplay(confusion_matrix=cm_qda1, display_labels=best_qda1.classes_)\n",
    "disp_qda1.plot(cmap='Blues', values_format='d')"
   ]
  },
  {
   "cell_type": "markdown",
   "metadata": {
    "id": "QDAKsUo4uYmF"
   },
   "source": [
    "### 3. SVC"
   ]
  },
  {
   "cell_type": "code",
   "execution_count": 16,
   "metadata": {
    "id": "xMWUtF186yWq"
   },
   "outputs": [],
   "source": [
    "from sklearn.svm import SVC"
   ]
  },
  {
   "cell_type": "code",
   "execution_count": 17,
   "metadata": {
    "id": "rW3r85yO9SkB"
   },
   "outputs": [],
   "source": [
    "svc1 = SVC()"
   ]
  },
  {
   "cell_type": "code",
   "execution_count": 55,
   "metadata": {
    "colab": {
     "base_uri": "https://localhost:8080/"
    },
    "id": "fjnrf6B6_ueo",
    "outputId": "36cb8d82-df57-487c-edf6-3626a9ae39ae"
   },
   "outputs": [
    {
     "name": "stdout",
     "output_type": "stream",
     "text": [
      "Best parameters: {'C': 1, 'degree': 3, 'kernel': 'poly'}\n",
      "ROC AUC: 0.9389835991363743\n",
      "Accuracy: 0.8661269799482252\n"
     ]
    }
   ],
   "source": [
    "param_svc1 = {\n",
    "    'kernel': ['linear', 'poly', 'rbf', 'sigmoid'],\n",
    "    'C': [0.1, 1, 10],\n",
    "    'degree': [2, 3, 4],\n",
    "}\n",
    "grid_search_svc1 = GridSearchCV(svc1, param_svc1, cv=5, scoring=['roc_auc', 'accuracy'], refit='accuracy')\n",
    "grid_search_svc1.fit(X1, y1)\n",
    "\n",
    "print(\"Best parameters:\", grid_search_svc1.best_params_)\n",
    "print(\"ROC AUC:\", grid_search_svc1.cv_results_['mean_test_roc_auc'][grid_search_svc1.best_index_])\n",
    "print(\"Accuracy:\", grid_search_svc1.cv_results_['mean_test_accuracy'][grid_search_svc1.best_index_])"
   ]
  },
  {
   "cell_type": "code",
   "execution_count": 56,
   "metadata": {
    "colab": {
     "base_uri": "https://localhost:8080/",
     "height": 471
    },
    "id": "bbLH90GfEipD",
    "outputId": "c73da33a-444b-4bab-931d-db1bef1338c6"
   },
   "outputs": [
    {
     "data": {
      "text/plain": [
       "<sklearn.metrics._plot.confusion_matrix.ConfusionMatrixDisplay at 0x7829254c56f0>"
      ]
     },
     "execution_count": 56,
     "metadata": {},
     "output_type": "execute_result"
    },
    {
     "data": {
      "image/png": "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",
      "text/plain": [
       "<Figure size 640x480 with 2 Axes>"
      ]
     },
     "metadata": {},
     "output_type": "display_data"
    }
   ],
   "source": [
    "best_svc1 = grid_search_svc1.best_estimator_\n",
    "y_pred3 = cross_val_predict(best_svc1, X1, y1, cv=5)\n",
    "cm_svc1 = confusion_matrix(y1, y_pred3)\n",
    "disp_svc1 = ConfusionMatrixDisplay(confusion_matrix=cm_svc1, display_labels=best_svc1.classes_)\n",
    "disp_svc1.plot(cmap='Blues', values_format='d')"
   ]
  },
  {
   "cell_type": "markdown",
   "metadata": {
    "id": "kuV2KzAh_M-q"
   },
   "source": [
    "- write a functin for svc"
   ]
  },
  {
   "cell_type": "code",
   "execution_count": 132,
   "metadata": {
    "id": "c_Ih2r-n-RxF"
   },
   "outputs": [],
   "source": [
    "def svc_model(X,y):\n",
    "  param_svc_ovo2 = [\n",
    "    {'kernel': ['linear'],'C': [0.1, 1],},\n",
    "    {'kernel': ['rbf'],'C': [0.1, 1],},\n",
    "    {'kernel': ['poly'],'C': [0.1, 1],'degree': [2, 3, 4],},\n",
    "  ]\n",
    "  grid_svc_ovo2 = GridSearchCV(svc1, param_svc_ovo2, cv=5, scoring='f1_weighted', n_jobs= -1)\n",
    "  grid_svc_ovo2.fit(X, y)\n",
    "  print(\"Best parameters:\", grid_svc_ovo2.best_params_)\n",
    "  print(\"f1_weighted:\", grid_svc_ovo2.cv_results_['mean_test_score'][grid_svc_ovo2.best_index_])\n",
    "  best_svc_ovo2 = grid_svc_ovo2.best_estimator_\n",
    "  y_pred_svc_ovo2 = cross_val_predict(best_svc_ovo2, X, y, cv=5)\n",
    "  cm_svc_ovo2 = confusion_matrix(y, y_pred_svc_ovo2)\n",
    "  disp_svc_ovo2 = ConfusionMatrixDisplay(confusion_matrix=cm_svc_ovo2, display_labels=best_svc_ovo2.classes_)\n",
    "  disp_svc_ovo2.plot(cmap='Blues', values_format='d')"
   ]
  },
  {
   "cell_type": "markdown",
   "metadata": {
    "id": "1RwyuVfpucNU"
   },
   "source": [
    "### 4. SVM"
   ]
  },
  {
   "cell_type": "code",
   "execution_count": 20,
   "metadata": {
    "id": "JUFL7dDI6y9t"
   },
   "outputs": [],
   "source": [
    "from sklearn.svm import LinearSVC"
   ]
  },
  {
   "cell_type": "code",
   "execution_count": 21,
   "metadata": {
    "id": "EIWVOaH1A7C5"
   },
   "outputs": [],
   "source": [
    "svm1 = LinearSVC()"
   ]
  },
  {
   "cell_type": "code",
   "execution_count": 22,
   "metadata": {
    "id": "wrSeIa8s2Hkt"
   },
   "outputs": [],
   "source": [
    "param_svm1 = {\n",
    "    'C': [0.1, 1, 10, 100],  # Regularization parameter\n",
    "    'penalty': ['l2', 'l1'],  # Penalty for regularization\n",
    "    'max_iter': [1000000],  # Maximum iterations for convergence\n",
    "}"
   ]
  },
  {
   "cell_type": "code",
   "execution_count": 23,
   "metadata": {
    "colab": {
     "base_uri": "https://localhost:8080/"
    },
    "id": "BExwoLUD2ome",
    "outputId": "1213cf6c-f299-497a-fef3-88876e93b7da"
   },
   "outputs": [
    {
     "name": "stdout",
     "output_type": "stream",
     "text": [
      "Best parameters: {'C': 0.1, 'max_iter': 1000000, 'penalty': 'l1'}\n",
      "ROC AUC: 0.9395744816194659\n",
      "Accuracy: 0.8745338072045982\n"
     ]
    }
   ],
   "source": [
    "grid_search_svm1 = GridSearchCV(svm1, param_svm1, cv=5, scoring=['roc_auc', 'accuracy'], refit='accuracy')\n",
    "grid_search_svm1.fit(X1, y1)\n",
    "\n",
    "print(\"Best parameters:\", grid_search_svm1.best_params_)\n",
    "print(\"ROC AUC:\", grid_search_svm1.cv_results_['mean_test_roc_auc'][grid_search_svm1.best_index_])\n",
    "print(\"Accuracy:\", grid_search_svm1.cv_results_['mean_test_accuracy'][grid_search_svm1.best_index_])"
   ]
  },
  {
   "cell_type": "code",
   "execution_count": 24,
   "metadata": {
    "colab": {
     "base_uri": "https://localhost:8080/",
     "height": 468
    },
    "id": "SCmJWQyS2rCd",
    "outputId": "95714d0b-d4e8-4eb9-9485-84f37e36d17e"
   },
   "outputs": [
    {
     "data": {
      "text/plain": [
       "<sklearn.metrics._plot.confusion_matrix.ConfusionMatrixDisplay at 0x782926ee5d20>"
      ]
     },
     "execution_count": 24,
     "metadata": {},
     "output_type": "execute_result"
    },
    {
     "data": {
      "image/png": "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",
      "text/plain": [
       "<Figure size 640x480 with 2 Axes>"
      ]
     },
     "metadata": {},
     "output_type": "display_data"
    }
   ],
   "source": [
    "best_svm1 = grid_search_svm1.best_estimator_\n",
    "y_pred4 = cross_val_predict(best_svm1, X1, y1, cv=5)\n",
    "cm_svm1 = confusion_matrix(y1, y_pred4)\n",
    "disp_svm1 = ConfusionMatrixDisplay(confusion_matrix=cm_svm1, display_labels=best_svm1.classes_)\n",
    "disp_svm1.plot(cmap='Blues', values_format='d')"
   ]
  },
  {
   "cell_type": "markdown",
   "metadata": {
    "id": "EbD7I0vf5lvT"
   },
   "source": [
    "### Decision\n",
    "- Overall, the LDA model is relatively the best with a ROC AUC of 0.9412791642052694 and Accuracy of 0.8707779386599974.\n",
    "- The confusion matrix also shows a better performance with less false positive and negative."
   ]
  },
  {
   "cell_type": "markdown",
   "metadata": {
    "id": "Ecal22mh7b6o"
   },
   "source": [
    "## Part Two: Natural Multiclass"
   ]
  },
  {
   "cell_type": "code",
   "execution_count": 25,
   "metadata": {
    "id": "gAEEsh_I7qDm"
   },
   "outputs": [],
   "source": [
    "X2 = pot.drop([\"Strain\",'Type', 'Effects','Flavor'],axis = 1)\n",
    "y2 = pot['Type']"
   ]
  },
  {
   "cell_type": "markdown",
   "metadata": {
    "id": "1ycvk7oR-hy5"
   },
   "source": [
    "### Q1. Decision Tree"
   ]
  },
  {
   "cell_type": "code",
   "execution_count": 26,
   "metadata": {
    "id": "09KCVy-N-Ihm"
   },
   "outputs": [],
   "source": [
    "from sklearn.tree import DecisionTreeClassifier, plot_tree"
   ]
  },
  {
   "cell_type": "code",
   "execution_count": 27,
   "metadata": {
    "id": "cenr2q97-pDC"
   },
   "outputs": [],
   "source": [
    "tree1 = DecisionTreeClassifier(random_state= 42)"
   ]
  },
  {
   "cell_type": "code",
   "execution_count": 28,
   "metadata": {
    "id": "cIpzaJ7k-q4T"
   },
   "outputs": [],
   "source": [
    "param_tree1 = {\n",
    "    'criterion': ['gini', 'entropy'],\n",
    "    'max_depth': [None, 5, 10, 20],\n",
    "    'min_samples_split': [2, 5, 10],\n",
    "    'min_samples_leaf': [1, 2, 5],\n",
    "    'class_weight': [None, 'balanced']\n",
    "}"
   ]
  },
  {
   "cell_type": "code",
   "execution_count": 29,
   "metadata": {
    "colab": {
     "base_uri": "https://localhost:8080/"
    },
    "id": "tgjoxLWLANia",
    "outputId": "4458a784-f587-498e-c911-670067df4e26"
   },
   "outputs": [
    {
     "name": "stdout",
     "output_type": "stream",
     "text": [
      "Best parameters: {'class_weight': None, 'criterion': 'entropy', 'max_depth': 5, 'min_samples_leaf': 2, 'min_samples_split': 2}\n",
      "Accuracy: 0.6257496801572691\n"
     ]
    }
   ],
   "source": [
    "grid_search_tree1 = GridSearchCV(tree1, param_tree1, cv=5, scoring='accuracy', n_jobs=-1)\n",
    "grid_search_tree1.fit(X2, y2)\n",
    "\n",
    "print(\"Best parameters:\", grid_search_tree1.best_params_)\n",
    "print(\"Accuracy:\", grid_search_tree1.cv_results_['mean_test_score'][grid_search_tree1.best_index_])"
   ]
  },
  {
   "cell_type": "code",
   "execution_count": 30,
   "metadata": {
    "colab": {
     "base_uri": "https://localhost:8080/"
    },
    "id": "4zfFz4BGFpT5",
    "outputId": "c78d681d-0e25-4162-f53c-6b30baccd69e"
   },
   "outputs": [
    {
     "name": "stdout",
     "output_type": "stream",
     "text": [
      "\n",
      "Classification Report:\n",
      "               precision    recall  f1-score   support\n",
      "\n",
      "      hybrid       0.64      0.69      0.67      1123\n",
      "      indica       0.65      0.64      0.65       659\n",
      "      sativa       0.53      0.41      0.46       409\n",
      "\n",
      "    accuracy                           0.63      2191\n",
      "   macro avg       0.60      0.58      0.59      2191\n",
      "weighted avg       0.62      0.63      0.62      2191\n",
      "\n"
     ]
    }
   ],
   "source": [
    "best_tree1 = grid_search_tree1.best_estimator_\n",
    "y_pred_tree1 = cross_val_predict(best_tree1, X2, y2, cv=5)\n",
    "print(\"\\nClassification Report:\\n\", classification_report(y2, y_pred_tree1))"
   ]
  },
  {
   "cell_type": "code",
   "execution_count": 32,
   "metadata": {
    "id": "I4G-HJpoLNIJ"
   },
   "outputs": [],
   "source": [
    "from sklearn.tree import export_graphviz\n",
    "import graphviz"
   ]
  },
  {
   "cell_type": "code",
   "execution_count": 33,
   "metadata": {
    "colab": {
     "base_uri": "https://localhost:8080/",
     "height": 734
    },
    "id": "nDX9g9VPOtYR",
    "outputId": "4798e72f-4506-4fa4-8531-0a4ac5b457e6"
   },
   "outputs": [
    {
     "data": {
      "image/svg+xml": [
       "<?xml version=\"1.0\" encoding=\"UTF-8\" standalone=\"no\"?>\n",
       "<!DOCTYPE svg PUBLIC \"-//W3C//DTD SVG 1.1//EN\"\n",
       " \"http://www.w3.org/Graphics/SVG/1.1/DTD/svg11.dtd\">\n",
       "<!-- Generated by graphviz version 2.43.0 (0)\n",
       " -->\n",
       "<!-- Title: Tree Pages: 1 -->\n",
       "<svg width=\"1244pt\" height=\"520pt\"\n",
       " viewBox=\"0.00 0.00 1243.50 520.00\" xmlns=\"http://www.w3.org/2000/svg\" xmlns:xlink=\"http://www.w3.org/1999/xlink\">\n",
       "<g id=\"graph0\" class=\"graph\" transform=\"scale(1 1) rotate(0) translate(4 516)\">\n",
       "<title>Tree</title>\n",
       "<polygon fill=\"white\" stroke=\"transparent\" points=\"-4,4 -4,-516 1239.5,-516 1239.5,4 -4,4\"/>\n",
       "<!-- 0 -->\n",
       "<g id=\"node1\" class=\"node\">\n",
       "<title>0</title>\n",
       "<path fill=\"#f7d9c3\" stroke=\"black\" d=\"M685,-512C685,-512 547,-512 547,-512 541,-512 535,-506 535,-500 535,-500 535,-441 535,-441 535,-435 541,-429 547,-429 547,-429 685,-429 685,-429 691,-429 697,-435 697,-441 697,-441 697,-500 697,-500 697,-506 691,-512 685,-512\"/>\n",
       "<text text-anchor=\"start\" x=\"578\" y=\"-496.8\" font-family=\"Helvetica,sans-Serif\" font-size=\"14.00\">Sleepy ≤ 0.5</text>\n",
       "<text text-anchor=\"start\" x=\"568.5\" y=\"-481.8\" font-family=\"Helvetica,sans-Serif\" font-size=\"14.00\">entropy = 1.468</text>\n",
       "<text text-anchor=\"start\" x=\"567.5\" y=\"-466.8\" font-family=\"Helvetica,sans-Serif\" font-size=\"14.00\">samples = 2191</text>\n",
       "<text text-anchor=\"start\" x=\"543\" y=\"-451.8\" font-family=\"Helvetica,sans-Serif\" font-size=\"14.00\">value = [1123, 659, 409]</text>\n",
       "<text text-anchor=\"start\" x=\"574\" y=\"-436.8\" font-family=\"Helvetica,sans-Serif\" font-size=\"14.00\">class = hybrid</text>\n",
       "</g>\n",
       "<!-- 1 -->\n",
       "<g id=\"node2\" class=\"node\">\n",
       "<title>1</title>\n",
       "<path fill=\"#f3c4a3\" stroke=\"black\" d=\"M544,-393C544,-393 380,-393 380,-393 374,-393 368,-387 368,-381 368,-381 368,-322 368,-322 368,-316 374,-310 380,-310 380,-310 544,-310 544,-310 550,-310 556,-316 556,-322 556,-322 556,-381 556,-381 556,-387 550,-393 544,-393\"/>\n",
       "<text text-anchor=\"start\" x=\"416.5\" y=\"-377.8\" font-family=\"Helvetica,sans-Serif\" font-size=\"14.00\">Energetic ≤ 0.5</text>\n",
       "<text text-anchor=\"start\" x=\"414.5\" y=\"-362.8\" font-family=\"Helvetica,sans-Serif\" font-size=\"14.00\">entropy = 1.338</text>\n",
       "<text text-anchor=\"start\" x=\"413.5\" y=\"-347.8\" font-family=\"Helvetica,sans-Serif\" font-size=\"14.00\">samples = 1473</text>\n",
       "<text text-anchor=\"start\" x=\"376\" y=\"-332.8\" font-family=\"Helvetica,sans-Serif\" font-size=\"14.00\">value = [889.0, 203.0, 381.0]</text>\n",
       "<text text-anchor=\"start\" x=\"420\" y=\"-317.8\" font-family=\"Helvetica,sans-Serif\" font-size=\"14.00\">class = hybrid</text>\n",
       "</g>\n",
       "<!-- 0&#45;&gt;1 -->\n",
       "<g id=\"edge1\" class=\"edge\">\n",
       "<title>0&#45;&gt;1</title>\n",
       "<path fill=\"none\" stroke=\"black\" d=\"M562.57,-428.91C549.91,-419.29 536.31,-408.95 523.32,-399.09\"/>\n",
       "<polygon fill=\"black\" stroke=\"black\" points=\"525.42,-396.28 515.34,-393.02 521.18,-401.86 525.42,-396.28\"/>\n",
       "<text text-anchor=\"middle\" x=\"518.72\" y=\"-414.09\" font-family=\"Helvetica,sans-Serif\" font-size=\"14.00\">True</text>\n",
       "</g>\n",
       "<!-- 32 -->\n",
       "<g id=\"node17\" class=\"node\">\n",
       "<title>32</title>\n",
       "<path fill=\"#a4f3c5\" stroke=\"black\" d=\"M868.5,-393C868.5,-393 711.5,-393 711.5,-393 705.5,-393 699.5,-387 699.5,-381 699.5,-381 699.5,-322 699.5,-322 699.5,-316 705.5,-310 711.5,-310 711.5,-310 868.5,-310 868.5,-310 874.5,-310 880.5,-316 880.5,-322 880.5,-322 880.5,-381 880.5,-381 880.5,-387 874.5,-393 868.5,-393\"/>\n",
       "<text text-anchor=\"start\" x=\"748\" y=\"-377.8\" font-family=\"Helvetica,sans-Serif\" font-size=\"14.00\">Relaxed ≤ 0.5</text>\n",
       "<text text-anchor=\"start\" x=\"742.5\" y=\"-362.8\" font-family=\"Helvetica,sans-Serif\" font-size=\"14.00\">entropy = 1.126</text>\n",
       "<text text-anchor=\"start\" x=\"745\" y=\"-347.8\" font-family=\"Helvetica,sans-Serif\" font-size=\"14.00\">samples = 718</text>\n",
       "<text text-anchor=\"start\" x=\"707.5\" y=\"-332.8\" font-family=\"Helvetica,sans-Serif\" font-size=\"14.00\">value = [234.0, 456.0, 28.0]</text>\n",
       "<text text-anchor=\"start\" x=\"749\" y=\"-317.8\" font-family=\"Helvetica,sans-Serif\" font-size=\"14.00\">class = indica</text>\n",
       "</g>\n",
       "<!-- 0&#45;&gt;32 -->\n",
       "<g id=\"edge16\" class=\"edge\">\n",
       "<title>0&#45;&gt;32</title>\n",
       "<path fill=\"none\" stroke=\"black\" d=\"M676.37,-428.91C690.81,-419.2 706.33,-408.76 721.13,-398.81\"/>\n",
       "<polygon fill=\"black\" stroke=\"black\" points=\"723.39,-401.51 729.74,-393.02 719.49,-395.7 723.39,-401.51\"/>\n",
       "<text text-anchor=\"middle\" x=\"724.93\" y=\"-413.85\" font-family=\"Helvetica,sans-Serif\" font-size=\"14.00\">False</text>\n",
       "</g>\n",
       "<!-- 2 -->\n",
       "<g id=\"node3\" class=\"node\">\n",
       "<title>2</title>\n",
       "<path fill=\"#f0b78e\" stroke=\"black\" d=\"M289.5,-274C289.5,-274 158.5,-274 158.5,-274 152.5,-274 146.5,-268 146.5,-262 146.5,-262 146.5,-203 146.5,-203 146.5,-197 152.5,-191 158.5,-191 158.5,-191 289.5,-191 289.5,-191 295.5,-191 301.5,-197 301.5,-203 301.5,-203 301.5,-262 301.5,-262 301.5,-268 295.5,-274 289.5,-274\"/>\n",
       "<text text-anchor=\"start\" x=\"182\" y=\"-258.8\" font-family=\"Helvetica,sans-Serif\" font-size=\"14.00\">Relaxed ≤ 0.5</text>\n",
       "<text text-anchor=\"start\" x=\"176.5\" y=\"-243.8\" font-family=\"Helvetica,sans-Serif\" font-size=\"14.00\">entropy = 1.262</text>\n",
       "<text text-anchor=\"start\" x=\"179\" y=\"-228.8\" font-family=\"Helvetica,sans-Serif\" font-size=\"14.00\">samples = 884</text>\n",
       "<text text-anchor=\"start\" x=\"154.5\" y=\"-213.8\" font-family=\"Helvetica,sans-Serif\" font-size=\"14.00\">value = [581, 179, 124]</text>\n",
       "<text text-anchor=\"start\" x=\"182\" y=\"-198.8\" font-family=\"Helvetica,sans-Serif\" font-size=\"14.00\">class = hybrid</text>\n",
       "</g>\n",
       "<!-- 1&#45;&gt;2 -->\n",
       "<g id=\"edge2\" class=\"edge\">\n",
       "<title>1&#45;&gt;2</title>\n",
       "<path fill=\"none\" stroke=\"black\" d=\"M379.43,-309.91C357.24,-299 333.19,-287.18 310.78,-276.16\"/>\n",
       "<polygon fill=\"black\" stroke=\"black\" points=\"312.14,-272.93 301.63,-271.66 309.06,-279.21 312.14,-272.93\"/>\n",
       "</g>\n",
       "<!-- 17 -->\n",
       "<g id=\"node10\" class=\"node\">\n",
       "<title>17</title>\n",
       "<path fill=\"#fbece1\" stroke=\"black\" d=\"M540.5,-274C540.5,-274 383.5,-274 383.5,-274 377.5,-274 371.5,-268 371.5,-262 371.5,-262 371.5,-203 371.5,-203 371.5,-197 377.5,-191 383.5,-191 383.5,-191 540.5,-191 540.5,-191 546.5,-191 552.5,-197 552.5,-203 552.5,-203 552.5,-262 552.5,-262 552.5,-268 546.5,-274 540.5,-274\"/>\n",
       "<text text-anchor=\"start\" x=\"420\" y=\"-258.8\" font-family=\"Helvetica,sans-Serif\" font-size=\"14.00\">Relaxed ≤ 0.5</text>\n",
       "<text text-anchor=\"start\" x=\"414.5\" y=\"-243.8\" font-family=\"Helvetica,sans-Serif\" font-size=\"14.00\">entropy = 1.199</text>\n",
       "<text text-anchor=\"start\" x=\"417\" y=\"-228.8\" font-family=\"Helvetica,sans-Serif\" font-size=\"14.00\">samples = 589</text>\n",
       "<text text-anchor=\"start\" x=\"379.5\" y=\"-213.8\" font-family=\"Helvetica,sans-Serif\" font-size=\"14.00\">value = [308.0, 24.0, 257.0]</text>\n",
       "<text text-anchor=\"start\" x=\"420\" y=\"-198.8\" font-family=\"Helvetica,sans-Serif\" font-size=\"14.00\">class = hybrid</text>\n",
       "</g>\n",
       "<!-- 1&#45;&gt;17 -->\n",
       "<g id=\"edge9\" class=\"edge\">\n",
       "<title>1&#45;&gt;17</title>\n",
       "<path fill=\"none\" stroke=\"black\" d=\"M462,-309.91C462,-301.65 462,-292.86 462,-284.3\"/>\n",
       "<polygon fill=\"black\" stroke=\"black\" points=\"465.5,-284.02 462,-274.02 458.5,-284.02 465.5,-284.02\"/>\n",
       "</g>\n",
       "<!-- 3 -->\n",
       "<g id=\"node4\" class=\"node\">\n",
       "<title>3</title>\n",
       "<path fill=\"#f1ba92\" stroke=\"black\" d=\"M120,-155C120,-155 12,-155 12,-155 6,-155 0,-149 0,-143 0,-143 0,-84 0,-84 0,-78 6,-72 12,-72 12,-72 120,-72 120,-72 126,-72 132,-78 132,-84 132,-84 132,-143 132,-143 132,-149 126,-155 120,-155\"/>\n",
       "<text text-anchor=\"start\" x=\"31\" y=\"-139.8\" font-family=\"Helvetica,sans-Serif\" font-size=\"14.00\">Tingly ≤ 0.5</text>\n",
       "<text text-anchor=\"start\" x=\"22\" y=\"-124.8\" font-family=\"Helvetica,sans-Serif\" font-size=\"14.00\">entropy = 1.19</text>\n",
       "<text text-anchor=\"start\" x=\"21\" y=\"-109.8\" font-family=\"Helvetica,sans-Serif\" font-size=\"14.00\">samples = 134</text>\n",
       "<text text-anchor=\"start\" x=\"8\" y=\"-94.8\" font-family=\"Helvetica,sans-Serif\" font-size=\"14.00\">value = [89, 11, 34]</text>\n",
       "<text text-anchor=\"start\" x=\"24\" y=\"-79.8\" font-family=\"Helvetica,sans-Serif\" font-size=\"14.00\">class = hybrid</text>\n",
       "</g>\n",
       "<!-- 2&#45;&gt;3 -->\n",
       "<g id=\"edge3\" class=\"edge\">\n",
       "<title>2&#45;&gt;3</title>\n",
       "<path fill=\"none\" stroke=\"black\" d=\"M169.18,-190.91C156.19,-181.29 142.24,-170.95 128.92,-161.09\"/>\n",
       "<polygon fill=\"black\" stroke=\"black\" points=\"130.84,-158.16 120.72,-155.02 126.67,-163.78 130.84,-158.16\"/>\n",
       "</g>\n",
       "<!-- 10 -->\n",
       "<g id=\"node7\" class=\"node\">\n",
       "<title>10</title>\n",
       "<path fill=\"#f1b991\" stroke=\"black\" d=\"M285.5,-155C285.5,-155 162.5,-155 162.5,-155 156.5,-155 150.5,-149 150.5,-143 150.5,-143 150.5,-84 150.5,-84 150.5,-78 156.5,-72 162.5,-72 162.5,-72 285.5,-72 285.5,-72 291.5,-72 297.5,-78 297.5,-84 297.5,-84 297.5,-143 297.5,-143 297.5,-149 291.5,-155 285.5,-155\"/>\n",
       "<text text-anchor=\"start\" x=\"187.5\" y=\"-139.8\" font-family=\"Helvetica,sans-Serif\" font-size=\"14.00\">Grape ≤ 0.5</text>\n",
       "<text text-anchor=\"start\" x=\"180\" y=\"-124.8\" font-family=\"Helvetica,sans-Serif\" font-size=\"14.00\">entropy = 1.25</text>\n",
       "<text text-anchor=\"start\" x=\"179\" y=\"-109.8\" font-family=\"Helvetica,sans-Serif\" font-size=\"14.00\">samples = 750</text>\n",
       "<text text-anchor=\"start\" x=\"158.5\" y=\"-94.8\" font-family=\"Helvetica,sans-Serif\" font-size=\"14.00\">value = [492, 168, 90]</text>\n",
       "<text text-anchor=\"start\" x=\"182\" y=\"-79.8\" font-family=\"Helvetica,sans-Serif\" font-size=\"14.00\">class = hybrid</text>\n",
       "</g>\n",
       "<!-- 2&#45;&gt;10 -->\n",
       "<g id=\"edge6\" class=\"edge\">\n",
       "<title>2&#45;&gt;10</title>\n",
       "<path fill=\"none\" stroke=\"black\" d=\"M224,-190.91C224,-182.65 224,-173.86 224,-165.3\"/>\n",
       "<polygon fill=\"black\" stroke=\"black\" points=\"227.5,-165.02 224,-155.02 220.5,-165.02 227.5,-165.02\"/>\n",
       "</g>\n",
       "<!-- 4 -->\n",
       "<g id=\"node5\" class=\"node\">\n",
       "<title>4</title>\n",
       "<path fill=\"#c0c0c0\" stroke=\"black\" d=\"M45,-36C45,-36 15,-36 15,-36 9,-36 3,-30 3,-24 3,-24 3,-12 3,-12 3,-6 9,0 15,0 15,0 45,0 45,0 51,0 57,-6 57,-12 57,-12 57,-24 57,-24 57,-30 51,-36 45,-36\"/>\n",
       "<text text-anchor=\"middle\" x=\"30\" y=\"-14.3\" font-family=\"Helvetica,sans-Serif\" font-size=\"14.00\">(...)</text>\n",
       "</g>\n",
       "<!-- 3&#45;&gt;4 -->\n",
       "<g id=\"edge4\" class=\"edge\">\n",
       "<title>3&#45;&gt;4</title>\n",
       "<path fill=\"none\" stroke=\"black\" d=\"M50.31,-71.76C46.96,-63.04 43.49,-54.04 40.39,-45.99\"/>\n",
       "<polygon fill=\"black\" stroke=\"black\" points=\"43.56,-44.48 36.7,-36.41 37.03,-46.99 43.56,-44.48\"/>\n",
       "</g>\n",
       "<!-- 7 -->\n",
       "<g id=\"node6\" class=\"node\">\n",
       "<title>7</title>\n",
       "<path fill=\"#c0c0c0\" stroke=\"black\" d=\"M117,-36C117,-36 87,-36 87,-36 81,-36 75,-30 75,-24 75,-24 75,-12 75,-12 75,-6 81,0 87,0 87,0 117,0 117,0 123,0 129,-6 129,-12 129,-12 129,-24 129,-24 129,-30 123,-36 117,-36\"/>\n",
       "<text text-anchor=\"middle\" x=\"102\" y=\"-14.3\" font-family=\"Helvetica,sans-Serif\" font-size=\"14.00\">(...)</text>\n",
       "</g>\n",
       "<!-- 3&#45;&gt;7 -->\n",
       "<g id=\"edge5\" class=\"edge\">\n",
       "<title>3&#45;&gt;7</title>\n",
       "<path fill=\"none\" stroke=\"black\" d=\"M81.69,-71.76C85.04,-63.04 88.51,-54.04 91.61,-45.99\"/>\n",
       "<polygon fill=\"black\" stroke=\"black\" points=\"94.97,-46.99 95.3,-36.41 88.44,-44.48 94.97,-46.99\"/>\n",
       "</g>\n",
       "<!-- 11 -->\n",
       "<g id=\"node8\" class=\"node\">\n",
       "<title>11</title>\n",
       "<path fill=\"#c0c0c0\" stroke=\"black\" d=\"M198,-36C198,-36 168,-36 168,-36 162,-36 156,-30 156,-24 156,-24 156,-12 156,-12 156,-6 162,0 168,0 168,0 198,0 198,0 204,0 210,-6 210,-12 210,-12 210,-24 210,-24 210,-30 204,-36 198,-36\"/>\n",
       "<text text-anchor=\"middle\" x=\"183\" y=\"-14.3\" font-family=\"Helvetica,sans-Serif\" font-size=\"14.00\">(...)</text>\n",
       "</g>\n",
       "<!-- 10&#45;&gt;11 -->\n",
       "<g id=\"edge7\" class=\"edge\">\n",
       "<title>10&#45;&gt;11</title>\n",
       "<path fill=\"none\" stroke=\"black\" d=\"M206.14,-71.76C202.27,-62.94 198.28,-53.84 194.72,-45.72\"/>\n",
       "<polygon fill=\"black\" stroke=\"black\" points=\"197.85,-44.16 190.63,-36.41 191.44,-46.97 197.85,-44.16\"/>\n",
       "</g>\n",
       "<!-- 14 -->\n",
       "<g id=\"node9\" class=\"node\">\n",
       "<title>14</title>\n",
       "<path fill=\"#c0c0c0\" stroke=\"black\" d=\"M270,-36C270,-36 240,-36 240,-36 234,-36 228,-30 228,-24 228,-24 228,-12 228,-12 228,-6 234,0 240,0 240,0 270,0 270,0 276,0 282,-6 282,-12 282,-12 282,-24 282,-24 282,-30 276,-36 270,-36\"/>\n",
       "<text text-anchor=\"middle\" x=\"255\" y=\"-14.3\" font-family=\"Helvetica,sans-Serif\" font-size=\"14.00\">(...)</text>\n",
       "</g>\n",
       "<!-- 10&#45;&gt;14 -->\n",
       "<g id=\"edge8\" class=\"edge\">\n",
       "<title>10&#45;&gt;14</title>\n",
       "<path fill=\"none\" stroke=\"black\" d=\"M237.51,-71.76C240.4,-63.04 243.38,-54.04 246.05,-45.99\"/>\n",
       "<polygon fill=\"black\" stroke=\"black\" points=\"249.4,-47 249.23,-36.41 242.76,-44.8 249.4,-47\"/>\n",
       "</g>\n",
       "<!-- 18 -->\n",
       "<g id=\"node11\" class=\"node\">\n",
       "<title>18</title>\n",
       "<path fill=\"#e6d8fa\" stroke=\"black\" d=\"M450.5,-155C450.5,-155 327.5,-155 327.5,-155 321.5,-155 315.5,-149 315.5,-143 315.5,-143 315.5,-84 315.5,-84 315.5,-78 321.5,-72 327.5,-72 327.5,-72 450.5,-72 450.5,-72 456.5,-72 462.5,-78 462.5,-84 462.5,-84 462.5,-143 462.5,-143 462.5,-149 456.5,-155 450.5,-155\"/>\n",
       "<text text-anchor=\"start\" x=\"352.5\" y=\"-139.8\" font-family=\"Helvetica,sans-Serif\" font-size=\"14.00\">Honey ≤ 0.5</text>\n",
       "<text text-anchor=\"start\" x=\"341.5\" y=\"-124.8\" font-family=\"Helvetica,sans-Serif\" font-size=\"14.00\">entropy = 1.164</text>\n",
       "<text text-anchor=\"start\" x=\"344\" y=\"-109.8\" font-family=\"Helvetica,sans-Serif\" font-size=\"14.00\">samples = 309</text>\n",
       "<text text-anchor=\"start\" x=\"323.5\" y=\"-94.8\" font-family=\"Helvetica,sans-Serif\" font-size=\"14.00\">value = [132, 10, 167]</text>\n",
       "<text text-anchor=\"start\" x=\"348\" y=\"-79.8\" font-family=\"Helvetica,sans-Serif\" font-size=\"14.00\">class = sativa</text>\n",
       "</g>\n",
       "<!-- 17&#45;&gt;18 -->\n",
       "<g id=\"edge10\" class=\"edge\">\n",
       "<title>17&#45;&gt;18</title>\n",
       "<path fill=\"none\" stroke=\"black\" d=\"M436.67,-190.91C431.18,-182.1 425.31,-172.7 419.64,-163.61\"/>\n",
       "<polygon fill=\"black\" stroke=\"black\" points=\"422.55,-161.65 414.28,-155.02 416.61,-165.36 422.55,-161.65\"/>\n",
       "</g>\n",
       "<!-- 25 -->\n",
       "<g id=\"node14\" class=\"node\">\n",
       "<title>25</title>\n",
       "<path fill=\"#f3c6a5\" stroke=\"black\" d=\"M609,-155C609,-155 493,-155 493,-155 487,-155 481,-149 481,-143 481,-143 481,-84 481,-84 481,-78 487,-72 493,-72 493,-72 609,-72 609,-72 615,-72 621,-78 621,-84 621,-84 621,-143 621,-143 621,-149 615,-155 609,-155\"/>\n",
       "<text text-anchor=\"start\" x=\"510\" y=\"-139.8\" font-family=\"Helvetica,sans-Serif\" font-size=\"14.00\">Tropical ≤ 0.5</text>\n",
       "<text text-anchor=\"start\" x=\"503.5\" y=\"-124.8\" font-family=\"Helvetica,sans-Serif\" font-size=\"14.00\">entropy = 1.163</text>\n",
       "<text text-anchor=\"start\" x=\"506\" y=\"-109.8\" font-family=\"Helvetica,sans-Serif\" font-size=\"14.00\">samples = 280</text>\n",
       "<text text-anchor=\"start\" x=\"489\" y=\"-94.8\" font-family=\"Helvetica,sans-Serif\" font-size=\"14.00\">value = [176, 14, 90]</text>\n",
       "<text text-anchor=\"start\" x=\"509\" y=\"-79.8\" font-family=\"Helvetica,sans-Serif\" font-size=\"14.00\">class = hybrid</text>\n",
       "</g>\n",
       "<!-- 17&#45;&gt;25 -->\n",
       "<g id=\"edge13\" class=\"edge\">\n",
       "<title>17&#45;&gt;25</title>\n",
       "<path fill=\"none\" stroke=\"black\" d=\"M492.88,-190.91C499.71,-181.92 507.02,-172.32 514.07,-163.05\"/>\n",
       "<polygon fill=\"black\" stroke=\"black\" points=\"516.91,-165.1 520.18,-155.02 511.34,-160.86 516.91,-165.1\"/>\n",
       "</g>\n",
       "<!-- 19 -->\n",
       "<g id=\"node12\" class=\"node\">\n",
       "<title>19</title>\n",
       "<path fill=\"#c0c0c0\" stroke=\"black\" d=\"M362,-36C362,-36 332,-36 332,-36 326,-36 320,-30 320,-24 320,-24 320,-12 320,-12 320,-6 326,0 332,0 332,0 362,0 362,0 368,0 374,-6 374,-12 374,-12 374,-24 374,-24 374,-30 368,-36 362,-36\"/>\n",
       "<text text-anchor=\"middle\" x=\"347\" y=\"-14.3\" font-family=\"Helvetica,sans-Serif\" font-size=\"14.00\">(...)</text>\n",
       "</g>\n",
       "<!-- 18&#45;&gt;19 -->\n",
       "<g id=\"edge11\" class=\"edge\">\n",
       "<title>18&#45;&gt;19</title>\n",
       "<path fill=\"none\" stroke=\"black\" d=\"M370.7,-71.76C366.74,-62.94 362.65,-53.84 359,-45.72\"/>\n",
       "<polygon fill=\"black\" stroke=\"black\" points=\"362.11,-44.09 354.82,-36.41 355.72,-46.96 362.11,-44.09\"/>\n",
       "</g>\n",
       "<!-- 22 -->\n",
       "<g id=\"node13\" class=\"node\">\n",
       "<title>22</title>\n",
       "<path fill=\"#c0c0c0\" stroke=\"black\" d=\"M434,-36C434,-36 404,-36 404,-36 398,-36 392,-30 392,-24 392,-24 392,-12 392,-12 392,-6 398,0 404,0 404,0 434,0 434,0 440,0 446,-6 446,-12 446,-12 446,-24 446,-24 446,-30 440,-36 434,-36\"/>\n",
       "<text text-anchor=\"middle\" x=\"419\" y=\"-14.3\" font-family=\"Helvetica,sans-Serif\" font-size=\"14.00\">(...)</text>\n",
       "</g>\n",
       "<!-- 18&#45;&gt;22 -->\n",
       "<g id=\"edge12\" class=\"edge\">\n",
       "<title>18&#45;&gt;22</title>\n",
       "<path fill=\"none\" stroke=\"black\" d=\"M402.07,-71.76C404.87,-63.04 407.76,-54.04 410.34,-45.99\"/>\n",
       "<polygon fill=\"black\" stroke=\"black\" points=\"413.69,-47 413.42,-36.41 407.03,-44.86 413.69,-47\"/>\n",
       "</g>\n",
       "<!-- 26 -->\n",
       "<g id=\"node15\" class=\"node\">\n",
       "<title>26</title>\n",
       "<path fill=\"#c0c0c0\" stroke=\"black\" d=\"M516,-36C516,-36 486,-36 486,-36 480,-36 474,-30 474,-24 474,-24 474,-12 474,-12 474,-6 480,0 486,0 486,0 516,0 516,0 522,0 528,-6 528,-12 528,-12 528,-24 528,-24 528,-30 522,-36 516,-36\"/>\n",
       "<text text-anchor=\"middle\" x=\"501\" y=\"-14.3\" font-family=\"Helvetica,sans-Serif\" font-size=\"14.00\">(...)</text>\n",
       "</g>\n",
       "<!-- 25&#45;&gt;26 -->\n",
       "<g id=\"edge14\" class=\"edge\">\n",
       "<title>25&#45;&gt;26</title>\n",
       "<path fill=\"none\" stroke=\"black\" d=\"M529.21,-71.76C524.45,-62.85 519.52,-53.64 515.15,-45.46\"/>\n",
       "<polygon fill=\"black\" stroke=\"black\" points=\"518.11,-43.57 510.31,-36.41 511.94,-46.87 518.11,-43.57\"/>\n",
       "</g>\n",
       "<!-- 29 -->\n",
       "<g id=\"node16\" class=\"node\">\n",
       "<title>29</title>\n",
       "<path fill=\"#c0c0c0\" stroke=\"black\" d=\"M588,-36C588,-36 558,-36 558,-36 552,-36 546,-30 546,-24 546,-24 546,-12 546,-12 546,-6 552,0 558,0 558,0 588,0 588,0 594,0 600,-6 600,-12 600,-12 600,-24 600,-24 600,-30 594,-36 588,-36\"/>\n",
       "<text text-anchor=\"middle\" x=\"573\" y=\"-14.3\" font-family=\"Helvetica,sans-Serif\" font-size=\"14.00\">(...)</text>\n",
       "</g>\n",
       "<!-- 25&#45;&gt;29 -->\n",
       "<g id=\"edge15\" class=\"edge\">\n",
       "<title>25&#45;&gt;29</title>\n",
       "<path fill=\"none\" stroke=\"black\" d=\"M560.59,-71.76C562.61,-63.14 564.71,-54.24 566.59,-46.26\"/>\n",
       "<polygon fill=\"black\" stroke=\"black\" points=\"570.02,-46.94 568.9,-36.41 563.21,-45.34 570.02,-46.94\"/>\n",
       "</g>\n",
       "<!-- 33 -->\n",
       "<g id=\"node18\" class=\"node\">\n",
       "<title>33</title>\n",
       "<path fill=\"#f9fefb\" stroke=\"black\" d=\"M840.5,-274C840.5,-274 739.5,-274 739.5,-274 733.5,-274 727.5,-268 727.5,-262 727.5,-262 727.5,-203 727.5,-203 727.5,-197 733.5,-191 739.5,-191 739.5,-191 840.5,-191 840.5,-191 846.5,-191 852.5,-197 852.5,-203 852.5,-203 852.5,-262 852.5,-262 852.5,-268 846.5,-274 840.5,-274\"/>\n",
       "<text text-anchor=\"start\" x=\"747\" y=\"-258.8\" font-family=\"Helvetica,sans-Serif\" font-size=\"14.00\">Focused ≤ 0.5</text>\n",
       "<text text-anchor=\"start\" x=\"742.5\" y=\"-243.8\" font-family=\"Helvetica,sans-Serif\" font-size=\"14.00\">entropy = 1.475</text>\n",
       "<text text-anchor=\"start\" x=\"749\" y=\"-228.8\" font-family=\"Helvetica,sans-Serif\" font-size=\"14.00\">samples = 56</text>\n",
       "<text text-anchor=\"start\" x=\"735.5\" y=\"-213.8\" font-family=\"Helvetica,sans-Serif\" font-size=\"14.00\">value = [23, 24, 9]</text>\n",
       "<text text-anchor=\"start\" x=\"749\" y=\"-198.8\" font-family=\"Helvetica,sans-Serif\" font-size=\"14.00\">class = indica</text>\n",
       "</g>\n",
       "<!-- 32&#45;&gt;33 -->\n",
       "<g id=\"edge17\" class=\"edge\">\n",
       "<title>32&#45;&gt;33</title>\n",
       "<path fill=\"none\" stroke=\"black\" d=\"M790,-309.91C790,-301.65 790,-292.86 790,-284.3\"/>\n",
       "<polygon fill=\"black\" stroke=\"black\" points=\"793.5,-284.02 790,-274.02 786.5,-284.02 793.5,-284.02\"/>\n",
       "</g>\n",
       "<!-- 46 -->\n",
       "<g id=\"node25\" class=\"node\">\n",
       "<title>46</title>\n",
       "<path fill=\"#9ef2c1\" stroke=\"black\" d=\"M1078.5,-274C1078.5,-274 955.5,-274 955.5,-274 949.5,-274 943.5,-268 943.5,-262 943.5,-262 943.5,-203 943.5,-203 943.5,-197 949.5,-191 955.5,-191 955.5,-191 1078.5,-191 1078.5,-191 1084.5,-191 1090.5,-197 1090.5,-203 1090.5,-203 1090.5,-262 1090.5,-262 1090.5,-268 1084.5,-274 1078.5,-274\"/>\n",
       "<text text-anchor=\"start\" x=\"982\" y=\"-258.8\" font-family=\"Helvetica,sans-Serif\" font-size=\"14.00\">Citrus ≤ 0.5</text>\n",
       "<text text-anchor=\"start\" x=\"969.5\" y=\"-243.8\" font-family=\"Helvetica,sans-Serif\" font-size=\"14.00\">entropy = 1.075</text>\n",
       "<text text-anchor=\"start\" x=\"972\" y=\"-228.8\" font-family=\"Helvetica,sans-Serif\" font-size=\"14.00\">samples = 662</text>\n",
       "<text text-anchor=\"start\" x=\"951.5\" y=\"-213.8\" font-family=\"Helvetica,sans-Serif\" font-size=\"14.00\">value = [211, 432, 19]</text>\n",
       "<text text-anchor=\"start\" x=\"976\" y=\"-198.8\" font-family=\"Helvetica,sans-Serif\" font-size=\"14.00\">class = indica</text>\n",
       "</g>\n",
       "<!-- 32&#45;&gt;46 -->\n",
       "<g id=\"edge24\" class=\"edge\">\n",
       "<title>32&#45;&gt;46</title>\n",
       "<path fill=\"none\" stroke=\"black\" d=\"M868.76,-309.91C889.93,-298.99 912.9,-287.16 934.28,-276.13\"/>\n",
       "<polygon fill=\"black\" stroke=\"black\" points=\"936.05,-279.16 943.34,-271.47 932.85,-272.94 936.05,-279.16\"/>\n",
       "</g>\n",
       "<!-- 34 -->\n",
       "<g id=\"node19\" class=\"node\">\n",
       "<title>34</title>\n",
       "<path fill=\"#f0fdf5\" stroke=\"black\" d=\"M785,-155C785,-155 651,-155 651,-155 645,-155 639,-149 639,-143 639,-143 639,-84 639,-84 639,-78 645,-72 651,-72 651,-72 785,-72 785,-72 791,-72 797,-78 797,-84 797,-84 797,-143 797,-143 797,-149 791,-155 785,-155\"/>\n",
       "<text text-anchor=\"start\" x=\"682\" y=\"-139.8\" font-family=\"Helvetica,sans-Serif\" font-size=\"14.00\">Sweet ≤ 0.5</text>\n",
       "<text text-anchor=\"start\" x=\"670.5\" y=\"-124.8\" font-family=\"Helvetica,sans-Serif\" font-size=\"14.00\">entropy = 1.277</text>\n",
       "<text text-anchor=\"start\" x=\"677\" y=\"-109.8\" font-family=\"Helvetica,sans-Serif\" font-size=\"14.00\">samples = 47</text>\n",
       "<text text-anchor=\"start\" x=\"647\" y=\"-94.8\" font-family=\"Helvetica,sans-Serif\" font-size=\"14.00\">value = [21.0, 23.0, 3.0]</text>\n",
       "<text text-anchor=\"start\" x=\"677\" y=\"-79.8\" font-family=\"Helvetica,sans-Serif\" font-size=\"14.00\">class = indica</text>\n",
       "</g>\n",
       "<!-- 33&#45;&gt;34 -->\n",
       "<g id=\"edge18\" class=\"edge\">\n",
       "<title>33&#45;&gt;34</title>\n",
       "<path fill=\"none\" stroke=\"black\" d=\"M765.02,-190.91C759.6,-182.1 753.82,-172.7 748.22,-163.61\"/>\n",
       "<polygon fill=\"black\" stroke=\"black\" points=\"751.16,-161.7 742.94,-155.02 745.2,-165.37 751.16,-161.7\"/>\n",
       "</g>\n",
       "<!-- 41 -->\n",
       "<g id=\"node22\" class=\"node\">\n",
       "<title>41</title>\n",
       "<path fill=\"#b78ef0\" stroke=\"black\" d=\"M913.5,-155C913.5,-155 826.5,-155 826.5,-155 820.5,-155 814.5,-149 814.5,-143 814.5,-143 814.5,-84 814.5,-84 814.5,-78 820.5,-72 826.5,-72 826.5,-72 913.5,-72 913.5,-72 919.5,-72 925.5,-78 925.5,-84 925.5,-84 925.5,-143 925.5,-143 925.5,-149 919.5,-155 913.5,-155\"/>\n",
       "<text text-anchor=\"start\" x=\"829.5\" y=\"-139.8\" font-family=\"Helvetica,sans-Serif\" font-size=\"14.00\">Rating ≤ 4.65</text>\n",
       "<text text-anchor=\"start\" x=\"822.5\" y=\"-124.8\" font-family=\"Helvetica,sans-Serif\" font-size=\"14.00\">entropy = 1.224</text>\n",
       "<text text-anchor=\"start\" x=\"832.5\" y=\"-109.8\" font-family=\"Helvetica,sans-Serif\" font-size=\"14.00\">samples = 9</text>\n",
       "<text text-anchor=\"start\" x=\"823\" y=\"-94.8\" font-family=\"Helvetica,sans-Serif\" font-size=\"14.00\">value = [2, 1, 6]</text>\n",
       "<text text-anchor=\"start\" x=\"829\" y=\"-79.8\" font-family=\"Helvetica,sans-Serif\" font-size=\"14.00\">class = sativa</text>\n",
       "</g>\n",
       "<!-- 33&#45;&gt;41 -->\n",
       "<g id=\"edge21\" class=\"edge\">\n",
       "<title>33&#45;&gt;41</title>\n",
       "<path fill=\"none\" stroke=\"black\" d=\"M817.76,-190.91C823.84,-182.01 830.34,-172.51 836.61,-163.33\"/>\n",
       "<polygon fill=\"black\" stroke=\"black\" points=\"839.54,-165.25 842.29,-155.02 833.76,-161.3 839.54,-165.25\"/>\n",
       "</g>\n",
       "<!-- 35 -->\n",
       "<g id=\"node20\" class=\"node\">\n",
       "<title>35</title>\n",
       "<path fill=\"#c0c0c0\" stroke=\"black\" d=\"M665,-36C665,-36 635,-36 635,-36 629,-36 623,-30 623,-24 623,-24 623,-12 623,-12 623,-6 629,0 635,0 635,0 665,0 665,0 671,0 677,-6 677,-12 677,-12 677,-24 677,-24 677,-30 671,-36 665,-36\"/>\n",
       "<text text-anchor=\"middle\" x=\"650\" y=\"-14.3\" font-family=\"Helvetica,sans-Serif\" font-size=\"14.00\">(...)</text>\n",
       "</g>\n",
       "<!-- 34&#45;&gt;35 -->\n",
       "<g id=\"edge19\" class=\"edge\">\n",
       "<title>34&#45;&gt;35</title>\n",
       "<path fill=\"none\" stroke=\"black\" d=\"M688.37,-71.76C681.68,-62.56 674.75,-53.04 668.66,-44.66\"/>\n",
       "<polygon fill=\"black\" stroke=\"black\" points=\"671.37,-42.43 662.66,-36.41 665.71,-46.55 671.37,-42.43\"/>\n",
       "</g>\n",
       "<!-- 38 -->\n",
       "<g id=\"node21\" class=\"node\">\n",
       "<title>38</title>\n",
       "<path fill=\"#c0c0c0\" stroke=\"black\" d=\"M737,-36C737,-36 707,-36 707,-36 701,-36 695,-30 695,-24 695,-24 695,-12 695,-12 695,-6 701,0 707,0 707,0 737,0 737,0 743,0 749,-6 749,-12 749,-12 749,-24 749,-24 749,-30 743,-36 737,-36\"/>\n",
       "<text text-anchor=\"middle\" x=\"722\" y=\"-14.3\" font-family=\"Helvetica,sans-Serif\" font-size=\"14.00\">(...)</text>\n",
       "</g>\n",
       "<!-- 34&#45;&gt;38 -->\n",
       "<g id=\"edge20\" class=\"edge\">\n",
       "<title>34&#45;&gt;38</title>\n",
       "<path fill=\"none\" stroke=\"black\" d=\"M719.74,-71.76C720.11,-63.24 720.48,-54.44 720.82,-46.53\"/>\n",
       "<polygon fill=\"black\" stroke=\"black\" points=\"724.32,-46.55 721.26,-36.41 717.33,-46.25 724.32,-46.55\"/>\n",
       "</g>\n",
       "<!-- 42 -->\n",
       "<g id=\"node23\" class=\"node\">\n",
       "<title>42</title>\n",
       "<path fill=\"#c0c0c0\" stroke=\"black\" d=\"M814,-36C814,-36 784,-36 784,-36 778,-36 772,-30 772,-24 772,-24 772,-12 772,-12 772,-6 778,0 784,0 784,0 814,0 814,0 820,0 826,-6 826,-12 826,-12 826,-24 826,-24 826,-30 820,-36 814,-36\"/>\n",
       "<text text-anchor=\"middle\" x=\"799\" y=\"-14.3\" font-family=\"Helvetica,sans-Serif\" font-size=\"14.00\">(...)</text>\n",
       "</g>\n",
       "<!-- 41&#45;&gt;42 -->\n",
       "<g id=\"edge22\" class=\"edge\">\n",
       "<title>41&#45;&gt;42</title>\n",
       "<path fill=\"none\" stroke=\"black\" d=\"M839.06,-71.76C832,-62.46 824.69,-52.84 818.28,-44.4\"/>\n",
       "<polygon fill=\"black\" stroke=\"black\" points=\"821.05,-42.25 812.22,-36.41 815.48,-46.49 821.05,-42.25\"/>\n",
       "</g>\n",
       "<!-- 43 -->\n",
       "<g id=\"node24\" class=\"node\">\n",
       "<title>43</title>\n",
       "<path fill=\"#c0c0c0\" stroke=\"black\" d=\"M886,-36C886,-36 856,-36 856,-36 850,-36 844,-30 844,-24 844,-24 844,-12 844,-12 844,-6 850,0 856,0 856,0 886,0 886,0 892,0 898,-6 898,-12 898,-12 898,-24 898,-24 898,-30 892,-36 886,-36\"/>\n",
       "<text text-anchor=\"middle\" x=\"871\" y=\"-14.3\" font-family=\"Helvetica,sans-Serif\" font-size=\"14.00\">(...)</text>\n",
       "</g>\n",
       "<!-- 41&#45;&gt;43 -->\n",
       "<g id=\"edge23\" class=\"edge\">\n",
       "<title>41&#45;&gt;43</title>\n",
       "<path fill=\"none\" stroke=\"black\" d=\"M870.44,-71.76C870.53,-63.24 870.62,-54.44 870.71,-46.53\"/>\n",
       "<polygon fill=\"black\" stroke=\"black\" points=\"874.21,-46.44 870.81,-36.41 867.21,-46.37 874.21,-46.44\"/>\n",
       "</g>\n",
       "<!-- 47 -->\n",
       "<g id=\"node26\" class=\"node\">\n",
       "<title>47</title>\n",
       "<path fill=\"#93f1ba\" stroke=\"black\" d=\"M1078.5,-155C1078.5,-155 955.5,-155 955.5,-155 949.5,-155 943.5,-149 943.5,-143 943.5,-143 943.5,-84 943.5,-84 943.5,-78 949.5,-72 955.5,-72 955.5,-72 1078.5,-72 1078.5,-72 1084.5,-72 1090.5,-78 1090.5,-84 1090.5,-84 1090.5,-143 1090.5,-143 1090.5,-149 1084.5,-155 1078.5,-155\"/>\n",
       "<text text-anchor=\"start\" x=\"971.5\" y=\"-139.8\" font-family=\"Helvetica,sans-Serif\" font-size=\"14.00\">Energetic ≤ 0.5</text>\n",
       "<text text-anchor=\"start\" x=\"969.5\" y=\"-124.8\" font-family=\"Helvetica,sans-Serif\" font-size=\"14.00\">entropy = 1.021</text>\n",
       "<text text-anchor=\"start\" x=\"972\" y=\"-109.8\" font-family=\"Helvetica,sans-Serif\" font-size=\"14.00\">samples = 571</text>\n",
       "<text text-anchor=\"start\" x=\"951.5\" y=\"-94.8\" font-family=\"Helvetica,sans-Serif\" font-size=\"14.00\">value = [169, 389, 13]</text>\n",
       "<text text-anchor=\"start\" x=\"976\" y=\"-79.8\" font-family=\"Helvetica,sans-Serif\" font-size=\"14.00\">class = indica</text>\n",
       "</g>\n",
       "<!-- 46&#45;&gt;47 -->\n",
       "<g id=\"edge25\" class=\"edge\">\n",
       "<title>46&#45;&gt;47</title>\n",
       "<path fill=\"none\" stroke=\"black\" d=\"M1017,-190.91C1017,-182.65 1017,-173.86 1017,-165.3\"/>\n",
       "<polygon fill=\"black\" stroke=\"black\" points=\"1020.5,-165.02 1017,-155.02 1013.5,-165.02 1020.5,-165.02\"/>\n",
       "</g>\n",
       "<!-- 54 -->\n",
       "<g id=\"node29\" class=\"node\">\n",
       "<title>54</title>\n",
       "<path fill=\"#fbfefc\" stroke=\"black\" d=\"M1223.5,-155C1223.5,-155 1120.5,-155 1120.5,-155 1114.5,-155 1108.5,-149 1108.5,-143 1108.5,-143 1108.5,-84 1108.5,-84 1108.5,-78 1114.5,-72 1120.5,-72 1120.5,-72 1223.5,-72 1223.5,-72 1229.5,-72 1235.5,-78 1235.5,-84 1235.5,-84 1235.5,-143 1235.5,-143 1235.5,-149 1229.5,-155 1223.5,-155\"/>\n",
       "<text text-anchor=\"start\" x=\"1116.5\" y=\"-139.8\" font-family=\"Helvetica,sans-Serif\" font-size=\"14.00\">Spicy/Herbal ≤ 0.5</text>\n",
       "<text text-anchor=\"start\" x=\"1124.5\" y=\"-124.8\" font-family=\"Helvetica,sans-Serif\" font-size=\"14.00\">entropy = 1.285</text>\n",
       "<text text-anchor=\"start\" x=\"1131\" y=\"-109.8\" font-family=\"Helvetica,sans-Serif\" font-size=\"14.00\">samples = 91</text>\n",
       "<text text-anchor=\"start\" x=\"1117.5\" y=\"-94.8\" font-family=\"Helvetica,sans-Serif\" font-size=\"14.00\">value = [42, 43, 6]</text>\n",
       "<text text-anchor=\"start\" x=\"1131\" y=\"-79.8\" font-family=\"Helvetica,sans-Serif\" font-size=\"14.00\">class = indica</text>\n",
       "</g>\n",
       "<!-- 46&#45;&gt;54 -->\n",
       "<g id=\"edge28\" class=\"edge\">\n",
       "<title>46&#45;&gt;54</title>\n",
       "<path fill=\"none\" stroke=\"black\" d=\"M1070.78,-190.91C1083.52,-181.29 1097.21,-170.95 1110.28,-161.09\"/>\n",
       "<polygon fill=\"black\" stroke=\"black\" points=\"1112.45,-163.84 1118.32,-155.02 1108.23,-158.25 1112.45,-163.84\"/>\n",
       "</g>\n",
       "<!-- 48 -->\n",
       "<g id=\"node27\" class=\"node\">\n",
       "<title>48</title>\n",
       "<path fill=\"#c0c0c0\" stroke=\"black\" d=\"M983,-36C983,-36 953,-36 953,-36 947,-36 941,-30 941,-24 941,-24 941,-12 941,-12 941,-6 947,0 953,0 953,0 983,0 983,0 989,0 995,-6 995,-12 995,-12 995,-24 995,-24 995,-30 989,-36 983,-36\"/>\n",
       "<text text-anchor=\"middle\" x=\"968\" y=\"-14.3\" font-family=\"Helvetica,sans-Serif\" font-size=\"14.00\">(...)</text>\n",
       "</g>\n",
       "<!-- 47&#45;&gt;48 -->\n",
       "<g id=\"edge26\" class=\"edge\">\n",
       "<title>47&#45;&gt;48</title>\n",
       "<path fill=\"none\" stroke=\"black\" d=\"M995.65,-71.76C990.98,-62.85 986.15,-53.64 981.87,-45.46\"/>\n",
       "<polygon fill=\"black\" stroke=\"black\" points=\"984.86,-43.64 977.12,-36.41 978.66,-46.89 984.86,-43.64\"/>\n",
       "</g>\n",
       "<!-- 51 -->\n",
       "<g id=\"node28\" class=\"node\">\n",
       "<title>51</title>\n",
       "<path fill=\"#c0c0c0\" stroke=\"black\" d=\"M1055,-36C1055,-36 1025,-36 1025,-36 1019,-36 1013,-30 1013,-24 1013,-24 1013,-12 1013,-12 1013,-6 1019,0 1025,0 1025,0 1055,0 1055,0 1061,0 1067,-6 1067,-12 1067,-12 1067,-24 1067,-24 1067,-30 1061,-36 1055,-36\"/>\n",
       "<text text-anchor=\"middle\" x=\"1040\" y=\"-14.3\" font-family=\"Helvetica,sans-Serif\" font-size=\"14.00\">(...)</text>\n",
       "</g>\n",
       "<!-- 47&#45;&gt;51 -->\n",
       "<g id=\"edge27\" class=\"edge\">\n",
       "<title>47&#45;&gt;51</title>\n",
       "<path fill=\"none\" stroke=\"black\" d=\"M1027.02,-71.76C1029.14,-63.14 1031.33,-54.24 1033.29,-46.26\"/>\n",
       "<polygon fill=\"black\" stroke=\"black\" points=\"1036.73,-46.95 1035.72,-36.41 1029.93,-45.28 1036.73,-46.95\"/>\n",
       "</g>\n",
       "<!-- 55 -->\n",
       "<g id=\"node30\" class=\"node\">\n",
       "<title>55</title>\n",
       "<path fill=\"#c0c0c0\" stroke=\"black\" d=\"M1151,-36C1151,-36 1121,-36 1121,-36 1115,-36 1109,-30 1109,-24 1109,-24 1109,-12 1109,-12 1109,-6 1115,0 1121,0 1121,0 1151,0 1151,0 1157,0 1163,-6 1163,-12 1163,-12 1163,-24 1163,-24 1163,-30 1157,-36 1151,-36\"/>\n",
       "<text text-anchor=\"middle\" x=\"1136\" y=\"-14.3\" font-family=\"Helvetica,sans-Serif\" font-size=\"14.00\">(...)</text>\n",
       "</g>\n",
       "<!-- 54&#45;&gt;55 -->\n",
       "<g id=\"edge29\" class=\"edge\">\n",
       "<title>54&#45;&gt;55</title>\n",
       "<path fill=\"none\" stroke=\"black\" d=\"M1156.31,-71.76C1152.96,-63.04 1149.49,-54.04 1146.39,-45.99\"/>\n",
       "<polygon fill=\"black\" stroke=\"black\" points=\"1149.56,-44.48 1142.7,-36.41 1143.03,-46.99 1149.56,-44.48\"/>\n",
       "</g>\n",
       "<!-- 58 -->\n",
       "<g id=\"node31\" class=\"node\">\n",
       "<title>58</title>\n",
       "<path fill=\"#c0c0c0\" stroke=\"black\" d=\"M1223,-36C1223,-36 1193,-36 1193,-36 1187,-36 1181,-30 1181,-24 1181,-24 1181,-12 1181,-12 1181,-6 1187,0 1193,0 1193,0 1223,0 1223,0 1229,0 1235,-6 1235,-12 1235,-12 1235,-24 1235,-24 1235,-30 1229,-36 1223,-36\"/>\n",
       "<text text-anchor=\"middle\" x=\"1208\" y=\"-14.3\" font-family=\"Helvetica,sans-Serif\" font-size=\"14.00\">(...)</text>\n",
       "</g>\n",
       "<!-- 54&#45;&gt;58 -->\n",
       "<g id=\"edge30\" class=\"edge\">\n",
       "<title>54&#45;&gt;58</title>\n",
       "<path fill=\"none\" stroke=\"black\" d=\"M1187.69,-71.76C1191.04,-63.04 1194.51,-54.04 1197.61,-45.99\"/>\n",
       "<polygon fill=\"black\" stroke=\"black\" points=\"1200.97,-46.99 1201.3,-36.41 1194.44,-44.48 1200.97,-46.99\"/>\n",
       "</g>\n",
       "</g>\n",
       "</svg>\n"
      ],
      "text/plain": [
       "<graphviz.sources.Source at 0x782926797820>"
      ]
     },
     "execution_count": 33,
     "metadata": {},
     "output_type": "execute_result"
    }
   ],
   "source": [
    "dot_tree1 = export_graphviz(\n",
    "    best_tree1,\n",
    "    out_file=None,\n",
    "    feature_names=X2.columns,  # Assuming X2 is a pandas DataFrame\n",
    "    class_names=best_tree1.classes_,\n",
    "    filled=True,\n",
    "    rounded=True,\n",
    "     max_depth= 3,\n",
    "    special_characters=True\n",
    ")\n",
    "\n",
    "# Create a graph from the dot file and render it\n",
    "graph_tree1 = graphviz.Source(dot_tree1)\n",
    "graph_tree1"
   ]
  },
  {
   "cell_type": "markdown",
   "metadata": {
    "id": "veHiGy9nTP3u"
   },
   "source": [
    "### Q2 LDA, QDA, and KNN"
   ]
  },
  {
   "cell_type": "markdown",
   "metadata": {
    "id": "ka2nEpNnTb4Z"
   },
   "source": [
    "#### 1. LDA"
   ]
  },
  {
   "cell_type": "code",
   "execution_count": 34,
   "metadata": {
    "id": "0Aa7ry3IUtyC"
   },
   "outputs": [],
   "source": [
    "param_lda2 = {\n",
    "    'solver': ['lsqr', 'eigen'],\n",
    "    'shrinkage': ['auto', 0.1, 0.5, 1.0],  # Keep shrinkage only for 'lsqr' and 'eigen'\n",
    "}"
   ]
  },
  {
   "cell_type": "code",
   "execution_count": 35,
   "metadata": {
    "colab": {
     "base_uri": "https://localhost:8080/"
    },
    "id": "Gfn-J7oiVNGR",
    "outputId": "f09be265-afeb-4239-e43c-dc31352615ab"
   },
   "outputs": [
    {
     "name": "stdout",
     "output_type": "stream",
     "text": [
      "Best parameters: {'shrinkage': 0.1, 'solver': 'lsqr'}\n",
      "Best cross-validation scores:\n",
      "Accuracy: 0.6289345856606443\n"
     ]
    }
   ],
   "source": [
    "grid_search_lda2 = GridSearchCV(lda1, param_lda2, cv=5, scoring='accuracy')\n",
    "grid_search_lda2.fit(X2, y2)\n",
    "\n",
    "# Print the best parameters\n",
    "print(\"Best parameters:\", grid_search_lda2.best_params_)\n",
    "\n",
    "# Print the best score for each metric\n",
    "print(\"Best cross-validation scores:\")\n",
    "print(\"Accuracy:\", grid_search_lda2.cv_results_['mean_test_score'][grid_search_lda2.best_index_])"
   ]
  },
  {
   "cell_type": "code",
   "execution_count": 36,
   "metadata": {
    "colab": {
     "base_uri": "https://localhost:8080/",
     "height": 467
    },
    "id": "ZlbOkKtrXvh5",
    "outputId": "f3a15808-3b58-411d-8ddb-4cf815b78ee8"
   },
   "outputs": [
    {
     "data": {
      "text/plain": [
       "<sklearn.metrics._plot.confusion_matrix.ConfusionMatrixDisplay at 0x782926797d30>"
      ]
     },
     "execution_count": 36,
     "metadata": {},
     "output_type": "execute_result"
    },
    {
     "data": {
      "image/png": "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",
      "text/plain": [
       "<Figure size 640x480 with 2 Axes>"
      ]
     },
     "metadata": {},
     "output_type": "display_data"
    }
   ],
   "source": [
    "best_lda2 = grid_search_lda2.best_estimator_\n",
    "y_pred_lda2 = cross_val_predict(best_lda2, X2, y2, cv=5)\n",
    "cm_lda2 = confusion_matrix(y2, y_pred_lda2)\n",
    "disp_lda2 = ConfusionMatrixDisplay(confusion_matrix=cm_lda2, display_labels=best_lda2.classes_)\n",
    "disp_lda2.plot(cmap='Blues', values_format='d')"
   ]
  },
  {
   "cell_type": "markdown",
   "metadata": {
    "id": "-xUDYJ3DZG1k"
   },
   "source": [
    "#### 2. QDA"
   ]
  },
  {
   "cell_type": "code",
   "execution_count": 37,
   "metadata": {
    "colab": {
     "base_uri": "https://localhost:8080/"
    },
    "id": "a8emsW3AbWeH",
    "outputId": "948f77de-a55f-4522-cb19-7bcf32f8413f"
   },
   "outputs": [
    {
     "name": "stdout",
     "output_type": "stream",
     "text": [
      "Best parameters: {'reg_param': 0.5}\n",
      "Best cross-validation scores:\n",
      "Accuracy: 0.6193569860933421\n"
     ]
    }
   ],
   "source": [
    "param_qda2 = {\n",
    "    'reg_param': [0, 0.1, 0.5, 1],  # Regularization strength\n",
    "}\n",
    "grid_search_qda2 = GridSearchCV(qda1, param_qda2, cv=5, scoring='accuracy')\n",
    "grid_search_qda2.fit(X2, y2)\n",
    "\n",
    "# Print the best parameters\n",
    "print(\"Best parameters:\", grid_search_qda2.best_params_)\n",
    "\n",
    "# Print the best score for each metric\n",
    "print(\"Best cross-validation scores:\")\n",
    "print(\"Accuracy:\", grid_search_qda2.cv_results_['mean_test_score'][grid_search_lda2.best_index_])"
   ]
  },
  {
   "cell_type": "code",
   "execution_count": 38,
   "metadata": {
    "colab": {
     "base_uri": "https://localhost:8080/",
     "height": 467
    },
    "id": "PI0_53ezcIwR",
    "outputId": "127927ab-cf18-44b6-b994-ee7b12f03405"
   },
   "outputs": [
    {
     "data": {
      "text/plain": [
       "<sklearn.metrics._plot.confusion_matrix.ConfusionMatrixDisplay at 0x782926797580>"
      ]
     },
     "execution_count": 38,
     "metadata": {},
     "output_type": "execute_result"
    },
    {
     "data": {
      "image/png": "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",
      "text/plain": [
       "<Figure size 640x480 with 2 Axes>"
      ]
     },
     "metadata": {},
     "output_type": "display_data"
    }
   ],
   "source": [
    "best_qda2 = grid_search_qda2.best_estimator_\n",
    "y_pred_qda2 = cross_val_predict(best_qda2, X2, y2, cv=5)\n",
    "cm_qda2 = confusion_matrix(y2, y_pred_qda2)\n",
    "disp_qda2 = ConfusionMatrixDisplay(confusion_matrix=cm_qda2, display_labels=best_qda2.classes_)\n",
    "disp_qda2.plot(cmap='Blues', values_format='d')"
   ]
  },
  {
   "cell_type": "markdown",
   "metadata": {
    "id": "kFdGbjgLdGSH"
   },
   "source": [
    "#### 3. KNN"
   ]
  },
  {
   "cell_type": "code",
   "execution_count": 39,
   "metadata": {
    "id": "N8SMKQ-SdOVx"
   },
   "outputs": [],
   "source": [
    "from sklearn.neighbors import KNeighborsClassifier"
   ]
  },
  {
   "cell_type": "code",
   "execution_count": 40,
   "metadata": {
    "id": "mOw6Q1oddTRc"
   },
   "outputs": [],
   "source": [
    "knn1 = KNeighborsClassifier()"
   ]
  },
  {
   "cell_type": "code",
   "execution_count": 41,
   "metadata": {
    "colab": {
     "base_uri": "https://localhost:8080/"
    },
    "id": "izFc8W8seNbS",
    "outputId": "688d273b-6f41-4fe3-b0b8-461ecdfcadfd"
   },
   "outputs": [
    {
     "name": "stdout",
     "output_type": "stream",
     "text": [
      "Best parameters: {'metric': 'euclidean', 'n_neighbors': 37, 'weights': 'uniform'}\n",
      "Best cross-validation scores:\n",
      "Accuracy: 0.6134250735898317\n"
     ]
    },
    {
     "name": "stderr",
     "output_type": "stream",
     "text": [
      "/usr/local/lib/python3.10/dist-packages/numpy/ma/core.py:2820: RuntimeWarning: invalid value encountered in cast\n",
      "  _data = np.array(data, dtype=dtype, copy=copy,\n"
     ]
    }
   ],
   "source": [
    "param_knn1 = {\n",
    "    'n_neighbors': range(30, 45),\n",
    "    'weights': ['uniform', 'distance'],\n",
    "    'metric': ['manhattan', 'euclidean']\n",
    "}\n",
    "grid_search_knn1 = GridSearchCV(knn1, param_knn1, cv=5, scoring='accuracy')\n",
    "grid_search_knn1.fit(X2, y2)\n",
    "\n",
    "# Print the best parameters\n",
    "print(\"Best parameters:\", grid_search_knn1.best_params_)\n",
    "\n",
    "# Print the best score for each metric\n",
    "print(\"Best cross-validation scores:\")\n",
    "print(\"Accuracy:\", grid_search_knn1.cv_results_['mean_test_score'][grid_search_knn1.best_index_])"
   ]
  },
  {
   "cell_type": "code",
   "execution_count": 42,
   "metadata": {
    "colab": {
     "base_uri": "https://localhost:8080/",
     "height": 467
    },
    "id": "vDrIfyJBgkp1",
    "outputId": "7a8d4454-64fd-4aa8-d367-8f2b61556434"
   },
   "outputs": [
    {
     "data": {
      "text/plain": [
       "<sklearn.metrics._plot.confusion_matrix.ConfusionMatrixDisplay at 0x78292686d690>"
      ]
     },
     "execution_count": 42,
     "metadata": {},
     "output_type": "execute_result"
    },
    {
     "data": {
      "image/png": "iVBORw0KGgoAAAANSUhEUgAAAh4AAAGwCAYAAADmPWxJAAAAOXRFWHRTb2Z0d2FyZQBNYXRwbG90bGliIHZlcnNpb24zLjguMCwgaHR0cHM6Ly9tYXRwbG90bGliLm9yZy81sbWrAAAACXBIWXMAAA9hAAAPYQGoP6dpAABY60lEQVR4nO3de3yP9f/H8cdnmx3saGObMczZNIcIS+W0LKeIFC1WTiXKoSR9kShKSUiUNOWQjpRjllDZzCErsSSHNtlG2GbY+fP7w8+nPjm02XbNtue923X79rmu9/W+XpdPX3vt9X6/r8tkNpvNiIiIiBjApqQDEBERkfJDiYeIiIgYRomHiIiIGEaJh4iIiBhGiYeIiIgYRomHiIiIGEaJh4iIiBjGrqQDKEvy8vI4ceIErq6umEymkg5HREQKwGw2c+7cOfz8/LCxKb7fyzMyMsjKyiqSvuzt7XF0dCySvoyixKMInThxAn9//5IOQ0RECiEhIYHq1asXS98ZGRk4uXpBzoUi6c/X15ejR4+WquRDiUcRcnV1BcA+MByTrX0JRyPFbeOySSUdghioVhXnkg5Bitm5c2k0aRBg+bu8OGRlZUHOBRwCw6GwPydys0g68AFZWVlKPMqry8MrJlt7JR7lgIurW0mHIAZydVPiUV4YMlRu51jonxNmU+mcpqnEQ0RExGgmoLAJTimdSqjEQ0RExGgmm0tbYfsohUpn1CIiIlIqqeIhIiJiNJOpCIZaSudYixIPERERo2moRURERKT4qeIhIiJiNA21iIiIiHGKYKillA5alM6oRUREpFRSxUNERMRoGmoRERERw2hVi4iIiEjxU8VDRETEaBpqEREREcOU46EWJR4iIiJGK8cVj9KZLomIiEippIqHiIiI0TTUIiIiIoYxmYog8dBQi4iIiMh1qeIhIiJiNBvTpa2wfZRCSjxERESMVo7neJTOqEVERKRUUsVDRETEaOX4OR5KPERERIymoRYRERGR4qeKh4iIiNHK8VCLKh4iIiJGuzzUUtgtn3Jzc5k0aRIBAQE4OTlRp04dpk2bhtlstrQxm81MnjyZqlWr4uTkREhICIcOHbLq58yZM4SFheHm5oaHhweDBw8mPT29QLeuxENERMRolysehd3y6dVXX2XBggW89dZbxMXF8eqrrzJz5kzmzZtnaTNz5kzmzp3LwoULiYmJwdnZmdDQUDIyMixtwsLC2L9/P5GRkaxdu5bvvvuOYcOGFejWNdQiIiJSxkVFRdGzZ0+6desGQK1atfjoo4/YuXMncKna8eabbzJx4kR69uwJwIcffoiPjw+rV6+mX79+xMXFsXHjRnbt2kXLli0BmDdvHl27duX111/Hz88vX7Go4iEiImK0IhxqSUtLs9oyMzOvuNztt9/O5s2b+e233wD46aef+OGHH+jSpQsAR48eJSkpiZCQEMs57u7utG7dmujoaACio6Px8PCwJB0AISEh2NjYEBMTk+9bV8VDRETEaEU4udTf399q9wsvvMCUKVOs9j333HOkpaXRsGFDbG1tyc3N5eWXXyYsLAyApKQkAHx8fKzO8/HxsRxLSkrC29vb6ridnR2enp6WNvmhxENERKQUS0hIwM3NzfLZwcHhijaffPIJy5cvZ8WKFTRu3JjY2FhGjx6Nn58f4eHhRoarxENERMR4RfAAsf+fLeHm5maVeFzNuHHjeO655+jXrx8AQUFB/PHHH8yYMYPw8HB8fX0BSE5OpmrVqpbzkpOTadasGQC+vr6cPHnSqt+cnBzOnDljOT//UYuIiIhxDF7VcuHCBWxsrH/k29rakpeXB0BAQAC+vr5s3rzZcjwtLY2YmBiCg4MBCA4OJiUlhT179ljafPvtt+Tl5dG6det8x6KKh4iISBnXo0cPXn75ZWrUqEHjxo3Zu3cvb7zxBoMGDQLAZDIxevRoXnrpJerVq0dAQACTJk3Cz8+PXr16AdCoUSPuuecehg4dysKFC8nOzmbkyJH069cv3ytaQImHiIiI8UymInhXS/4rHvPmzWPSpEk88cQTnDx5Ej8/Px577DEmT55safPss89y/vx5hg0bRkpKCnfccQcbN27E0dHR0mb58uWMHDmSTp06YWNjQ58+fZg7d27Bwjb/87FlUihpaWm4u7vjEDQUk619SYcjxez7L14u6RDEQAHeziUdghSzc2lpBPh5kZqa+p9zJm6U5edE6OuYKjgVqi9z9kUyv36mWOMtDprjISIiIobRUIuIiIjRyvFL4pR4iIiIGK2AL3m7Zh+lkBIPERERo5XjikfpTJdERESkVFLFQ0RExGgaahERERHDaKhFREREpPip4iEiImIwk8mEqZxWPJR4iIiIGKw8Jx4aahERERHDqOIhIiJiNNP/b4XtoxRS4iEiImIwDbWIiIiIGEAVDxEREYOV54qHEg8RERGDKfEQERERwyjxKCHt27enWbNmvPnmm4aef+zYMQICAti7dy/NmjW7aputW7fSoUMHzp49i4eHxw3FV1rZ2Jh4blhXHrjnNry93Ej6K5UVa2N4ffFGS5uzu9666rmT56xi3rLNtL21HmvfGXXVNh3DZ7L3QHyxxC4FF7v/KB99+T0HD5/g9NlzvDw+jLtaB1qOn0lJZ8HSjeyK/Z308xk0DazF6CHd8ferbNXPLwfjWbQ8kgOHErCxsaFeQFVmTXoEB4cKRt+S5NOsxRuYHfG11b46NbzZtuJ5ADIys5n21pd8uflHsrJzaNeqIdOf7ksVT9eSCFfKiHJZ8fD39ycxMZHKlSv/d+NyaPTAuxnU506emLKUuCOJNG9Ug7cmP0xa+kXe/XgbAA3umWB1TsjtjZk38SG+2hILwM6fj1zR5vnHu9PutgZKOm4yGZlZ1K1VlW4dW/C/mSusjpnNZp5/ZRl2drbMeO5hnCs68PFX2xkzJYKlc0fh5GgPXEo6npm2hId7t2P0kO7Y2trw+7EkTDal8zey8qRBgC8fvfmE5bOd7d9rDl6ct4rNUQd4Z9ojuDo7MXH2Zwz93/usXnD1XyqkALSctvzIysrC3t4eX1/fkg7lptWqSW3Wb/uZTdv3A5CQeIY+oS1p0bimpc3J0+eszul6VxDf7znEH3+eBiA7J9eqjZ2tDV3vasK7n2wz4A6kINrc2oA2tza46rGExNPs/y2BD998ioAaPgA8/di99Bz0Ct98/xM97r4NgHnvr+f+rsE83Lud5dwa1aoUf/BSaLa2Nnh7uV2xPy39IivXxjDvhQG0bVEfgDeef4j2YTPY88sxWtxSy+BIy5byPNRS4stp8/LyePbZZ/H09MTX15cpU6YAMGjQILp3727VNjs7G29vbxYvXmzZl5OTw8iRI3F3d6dy5cpMmjQJs9lsOV6rVi2mTZvGwIEDcXNzY9iwYRw7dgyTyURsbKyl3fr166lfvz5OTk506NCBY8eOFedt39R2/nyEdrc1oE4NbwBuqVeNNk1r803Ugau2r+LpSuc7bmHZl9HX7LPLXU3wdHdmxZodxRKzFI/s7BwA7O3//h3FxsYG+wp2/PzrHwCcTUnnwKEEPNxdGD7hHe59dDojJy7i57hjJRGyFNDR43/Roudkbu87jZEvLuXPpLMA7DuYQHZOLne2rG9pW7emD9V8KvHj/mMlFK2UBSWeeHzwwQc4OzsTExPDzJkzmTp1KpGRkQwZMoSNGzeSmJhoabt27VouXLjAgw8+aHW+nZ0dO3fuZM6cObzxxhu89957Vtd4/fXXadq0KXv37mXSpElXxJCQkEDv3r3p0aMHsbGxDBkyhOeee+4/Y8/MzCQtLc1qKwtmfxDJF5F72PnpRE5Gz2HbsvEsXLmVTzfuvmr7/t1ak34+gzX/P8xyNQN6BvPtjjhOnEwpnqClWNSsVgWfyh68s2wT59Ivkp2dw/IvvuPk6VROn71U0TqRfAaAiI830z2kJa9PeoT6tf0Y/cL7JJz4qyTDl//QPLAms59/iKWzHmf6M/eTkHia3iPmkn4hg5Onz2FfwRZ314pW51T2dOXk6bLxd11JMpn+rnrc+FbSd3FjSnyopUmTJrzwwgsA1KtXj7feeovNmzfzyiuv0KBBA5YuXcqzzz4LQEREBH379sXFxcVyvr+/P7Nnz8ZkMtGgQQP27dvH7NmzGTp0qKVNx44defrppy2f/13NWLBgAXXq1GHWrFkAln5effXV68Y+Y8YMXnzxxULd/83ovpBb6XvPbQyd+AG/HkkkqH41po+9n8RTqaxcF3NF+7B72/Dpxt1kZuVctT8/bw86tmnEoxPeL+7QpYjZ2dny8viHeGX+F3Qd+BK2Nja0aFKHNrfWt1QW8/7/f+/t3IpunVoAUL+2H3v2HWbdt3t4/OHQEotfrq9j8N+TiAPr+tE8sCZt7p/Kmm9jcbTXpODiZKIIhlpK6SSPEq94NGnSxOpz1apVOXnyJABDhgwhIiICgOTkZDZs2MCgQYOs2rdp08bqywsODubQoUPk5uZa9rVs2fK6McTFxdG6dWurfcHBwf8Z+4QJE0hNTbVsCQkJ/3lOaTB1VC/e/P+qx4HDJ/h4wy7e/uhbxjxy9xVtg5vVoX4tX5Z+GXXN/h7q0YYzqefZ8N3PxRm2FJMGdaoR8caTbFg6iVWLn2PW5EdIPXcBPx9PALwqXVrhUMvf2+q8WtW8OXkq1fB45ca5u1aktn8Vjh0/hbeXK1nZuaSeu2DV5q8z5646J0Qkv0o88ahQwTqrNplM5OXlATBw4ECOHDlCdHQ0y5YtIyAggDvvvLPA13B2di6SWP/NwcEBNzc3q60scHKwt3wHl+XlmbExXfmfy8M9g9l7IJ5fDv15zf7CerRh5fqd5OTmXbON3PxcnB2p5O5Mwom/OHj4T+5o1QiAqt6VqOzpSsKfp6zaJyT+hU8VjxKIVG7U+QuZHPvzNN5ebgQ18KeCnS0/7DlkOX44Ppk/k89ya+NaJRdkGVH4YZaiqJiUjBIfarkeLy8vevXqRUREBNHR0Tz66KNXtImJsS7979ixg3r16mFra5vv6zRq1Iivvvrqin7Kq40/7GPso6EcTzpL3JFEmjSozhMPdWD5V9Z/Jq7OjvTs1JxJb666Zl933VafWtUqs3T1tSsiUrIuXMzkz6TTls+JJ89y6OgJ3Fwq4lPFgy1R+/Bwc8ansgeH45OYu3gdd7YKpFWzesClv0D797yT9z/eTJ1aVakXUJWNW37kjz9PMW1c/5K6LcmHaW99SUjbxlT3rUTyX2nMWrwBW1sTvUJa4ObiRL/urZk6bzUebhVxrejIpDc/p8UttbSipShoOe3Na8iQIXTv3p3c3FzCw8OvOB4fH8/YsWN57LHH+PHHH5k3b55lrkZ+Pf7448yaNYtx48YxZMgQ9uzZw5IlS4roDkqf8a99yvOPd+f18Q9SuZILSX+lsuSL7cx8b4NVu96dW2Aymfj866tPOgUYcO/txPx0mEN/JBd32HKDDh7+k6cm/71S7K2I9QDc06E5/3vyfk6fPcdbERs4k5qOl4cr97RvRnjfDlZ9PNCjLVnZObwVsZ609AvUrVWV2S88SjVfL0PvRQom8VQKI6d8yNm083h6uNCqSW2+emcMXpUuzaN74cn7sDHZMOx/Ef94gNj9JRy1lHYm8z/Xnhrsak8e7dWrFx4eHpYf/GazmYCAABo3bsy6deuuOL9x48bk5eWxYsUKbG1tGT58OC+99JKlBFWrVi1Gjx7N6NGjLedd7cmla9euZcyYMSQkJNCqVSseffRRBg0aVKAnl6alpeHu7o5D0FBMtvY3+scipcT3X7xc0iGIgQK8i2fIVm4e59LSCPDzIjU1tdiGzi//nKjUfzE29hX/+4TryMu6wNmPBhdrvMWhRBOP/EhPT6datWpERETQu3fvkg7nupR4lC9KPMoXJR5ln5GJh+dD7xdJ4nFmxaBSl3jctEMteXl5/PXXX8yaNQsPDw/uvffekg5JRESkSBTF5FBNLi1i8fHxBAQEUL16dZYsWYKd3U0bqoiIiORTiS+nvZZatWphNptJSEigU6dOJR2OiIhI0TEV0ZZPtWrVuupy3BEjRgCQkZHBiBEj8PLywsXFhT59+pCcbL0oID4+nm7dulGxYkW8vb0ZN24cOTlXf3Dk9aiMICIiYjCjh1p27dpl9WDNX375hbvvvpu+ffsCMGbMGNatW8enn36Ku7s7I0eOpHfv3mzfvh2A3NxcunXrhq+vL1FRUSQmJjJw4EAqVKjA9OnTCxT3TVvxEBERkaJRpUoVfH19LdvatWupU6cO7dq1IzU1lcWLF/PGG2/QsWNHWrRoQUREBFFRUZZnWm3atIkDBw6wbNkymjVrRpcuXZg2bRrz588nKyurQLEo8RARETFYUT659N8vK83MzLzutbOysli2bBmDBg3CZDKxZ88esrOzCQkJsbRp2LAhNWrUIDr60lvHo6OjCQoKwsfHx9ImNDSUtLQ09u/fX6B7V+IhIiJisKJMPPz9/XF3d7dsM2bMuO61V69eTUpKCo888ggASUlJ2NvbX/HMKh8fH5KSkixt/pl0XD5++VhBaI6HiIhIKZaQkGD1HA8HB4frtl+8eDFdunTBz8+vuEO7KiUeIiIiBivKyaUFeUnpH3/8wTfffMMXX3xh2efr60tWVhYpKSlWVY/k5GR8fX0tbXbu3GnV1+VVL5fb5JeGWkRERIxm8HLayyIiIvD29qZbt26WfS1atKBChQps3rzZsu/gwYPEx8cTHBwMQHBwMPv27ePkyZOWNpGRkbi5uREYGFigGFTxEBERKQfy8vKIiIggPDzc6qGc7u7uDB48mLFjx+Lp6YmbmxtPPvkkwcHBtGnTBoDOnTsTGBjIgAEDmDlzJklJSUycOJERI0b859DOvynxEBERMVhJPDL9m2++IT4+nkGDBl1xbPbs2djY2NCnTx8yMzMJDQ3l7bffthy3tbVl7dq1DB8+nODgYJydnQkPD2fq1KkFjluJh4iIiMFKIvHo3Lkz13ovrKOjI/Pnz2f+/PnXPL9mzZqsX7++QNe8GiUeIiIiBivPL4nT5FIRERExjCoeIiIiRrvBVSlX9FEKKfEQERExmIZaRERERAygioeIiIjBynPFQ4mHiIiIwUwUQeJRSid5aKhFREREDKOKh4iIiME01CIiIiLGKcfLaTXUIiIiIoZRxUNERMRgGmoRERERwyjxEBEREcOYTJe2wvZRGmmOh4iIiBhGFQ8RERGDXap4FHaopYiCMZgSDxEREaMVwVCLltOKiIiI/AdVPERERAymVS0iIiJiGK1qERERETGAKh4iIiIGs7ExYWNTuJKFuZDnlxQlHiIiIgbTUIuIiIiIAVTxEBERMZhWtYiIiIhhyvNQixIPERERg5XniofmeIiIiIhhVPEQERExWHmueCjxEBERMVh5nuOhoRYRERExjCoeIiIiBjNRBEMtlM6ShyoeIiIiBrs81FLYrSD+/PNPHn74Yby8vHByciIoKIjdu3dbjpvNZiZPnkzVqlVxcnIiJCSEQ4cOWfVx5swZwsLCcHNzw8PDg8GDB5Oenl6gOJR4iIiIlHFnz56lbdu2VKhQgQ0bNnDgwAFmzZpFpUqVLG1mzpzJ3LlzWbhwITExMTg7OxMaGkpGRoalTVhYGPv37ycyMpK1a9fy3XffMWzYsALFoqEWERERgxXlqpa0tDSr/Q4ODjg4OFjte/XVV/H39yciIsKyLyAgwPLvZrOZN998k4kTJ9KzZ08APvzwQ3x8fFi9ejX9+vUjLi6OjRs3smvXLlq2bAnAvHnz6Nq1K6+//jp+fn75ilsVDxEREYMV5VCLv78/7u7ulm3GjBlXXO+rr76iZcuW9O3bF29vb5o3b86iRYssx48ePUpSUhIhISGWfe7u7rRu3Zro6GgAoqOj8fDwsCQdACEhIdjY2BATE5Pve1fFQ0REpBRLSEjAzc3N8vnf1Q6AI0eOsGDBAsaOHcvzzz/Prl27eOqpp7C3tyc8PJykpCQAfHx8rM7z8fGxHEtKSsLb29vquJ2dHZ6enpY2+aHEQ0RExGBFOdTi5uZmlXhcTV5eHi1btmT69OkANG/enF9++YWFCxcSHh5eqDgKSkMtIiIiBjN6VUvVqlUJDAy02teoUSPi4+MB8PX1BSA5OdmqTXJysuWYr68vJ0+etDqek5PDmTNnLG3yQ4mHiIiIwS5XPAq75Vfbtm05ePCg1b7ffvuNmjVrApcmmvr6+rJ582bL8bS0NGJiYggODgYgODiYlJQU9uzZY2nz7bffkpeXR+vWrfMdi4ZaREREyrgxY8Zw++23M336dB544AF27tzJu+++y7vvvgtcSoRGjx7NSy+9RL169QgICGDSpEn4+fnRq1cv4FKF5J577mHo0KEsXLiQ7OxsRo4cSb9+/fK9ogWUeBSLT96fgLOLa0mHIcVs9cHk/24kZcZE//olHYIUs1wHA38kFsG7Wgry4NLbbruNVatWMWHCBKZOnUpAQABvvvkmYWFhljbPPvss58+fZ9iwYaSkpHDHHXewceNGHB0dLW2WL1/OyJEj6dSpEzY2NvTp04e5c+cWKGwlHiIiIgYribfTdu/ene7du1+3v6lTpzJ16tRrtvH09GTFihUFuu6/aY6HiIiIGEYVDxEREYPdyLtWrtZHaaTEQ0RExGAlMdRys9BQi4iIiBhGFQ8RERGDaahFREREDKOhFhEREREDqOIhIiJisPJc8VDiISIiYjDN8RARERHDlOeKh+Z4iIiIiGFU8RARETGYhlpERETEMBpqERERETGAKh4iIiIGM1EEQy1FEonxlHiIiIgYzMZkwqaQmUdhzy8pGmoRERERw6jiISIiYjCtahERERHDlOdVLUo8REREDGZjurQVto/SSHM8RERExDCqeIiIiBjNVARDJaW04qHEQ0RExGDleXKphlpERETEMKp4iIiIGMz0//8Uto/SSImHiIiIwbSqRURERMQAqniIiIgYTA8QExEREcOU51Ut+Uo8vvrqq3x3eO+9995wMCIiIlK25Svx6NWrV746M5lM5ObmFiYeERGRMs/GZCr0a+0Le35Jydfk0ry8vHxtSjpERET+2+WhlsJu+TVlyhTLvJLLW8OGDS3HMzIyGDFiBF5eXri4uNCnTx+Sk5Ot+oiPj6dbt25UrFgRb29vxo0bR05OToHvvVBzPDIyMnB0dCxMFyIiIuVOSUwubdy4Md98843ls53d3ynAmDFjWLduHZ9++inu7u6MHDmS3r17s337dgByc3Pp1q0bvr6+REVFkZiYyMCBA6lQoQLTp08vUBwFXk6bm5vLtGnTqFatGi4uLhw5cgSASZMmsXjx4oJ2JyIiIgaws7PD19fXslWuXBmA1NRUFi9ezBtvvEHHjh1p0aIFERERREVFsWPHDgA2bdrEgQMHWLZsGc2aNaNLly5MmzaN+fPnk5WVVaA4Cpx4vPzyyyxZsoSZM2dib29v2X/LLbfw3nvvFbQ7ERGRcqcoh1rS0tKstszMzKte89ChQ/j5+VG7dm3CwsKIj48HYM+ePWRnZxMSEmJp27BhQ2rUqEF0dDQA0dHRBAUF4ePjY2kTGhpKWloa+/fvL9C9Fzjx+PDDD3n33XcJCwvD1tbWsr9p06b8+uuvBe1ORESk3Lk8ubSwG4C/vz/u7u6WbcaMGVdcr3Xr1ixZsoSNGzeyYMECjh49yp133sm5c+dISkrC3t4eDw8Pq3N8fHxISkoCICkpySrpuHz88rGCKPAcjz///JO6detesT8vL4/s7OyCdiciIiKFkJCQgJubm+Wzg4PDFW26dOli+fcmTZrQunVratasySeffIKTk5MhcV5W4IpHYGAg33///RX7P/vsM5o3b14kQYmIiJRlpiLaANzc3Ky2qyUe/+bh4UH9+vX5/fff8fX1JSsri5SUFKs2ycnJ+Pr6AuDr63vFKpfLny+3ya8CVzwmT55MeHg4f/75J3l5eXzxxRccPHiQDz/8kLVr1xa0OxERkXKnpB+Znp6ezuHDhxkwYAAtWrSgQoUKbN68mT59+gBw8OBB4uPjCQ4OBiA4OJiXX36ZkydP4u3tDUBkZCRubm4EBgYW6NoFrnj07NmTNWvW8M033+Ds7MzkyZOJi4tjzZo13H333QXtTkRERIrZM888w7Zt2zh27BhRUVHcd9992Nra0r9/f9zd3Rk8eDBjx45ly5Yt7Nmzh0cffZTg4GDatGkDQOfOnQkMDGTAgAH89NNPfP3110ycOJERI0bkq8LyTzf0HI8777yTyMjIGzlVRESk3LMxFf619gU5//jx4/Tv35/Tp09TpUoV7rjjDnbs2EGVKlUAmD17NjY2NvTp04fMzExCQ0N5++23Lefb2tqydu1ahg8fTnBwMM7OzoSHhzN16tQCx33DDxDbvXs3cXFxwKV5Hy1atLjRrkRERMoVo4daVq5ced3jjo6OzJ8/n/nz51+zTc2aNVm/fn2+r3ktBU48LmdN27dvtyy9SUlJ4fbbb2flypVUr1690EGJiIhI2VTgOR5DhgwhOzubuLg4zpw5w5kzZ4iLiyMvL48hQ4YUR4wiIiJljlHvabnZFLjisW3bNqKiomjQoIFlX4MGDZg3bx533nlnkQYnIiJSFpX0qpaSVODEw9/f/6oPCsvNzcXPz69IghIRESnLjJ5cejMp8FDLa6+9xpNPPsnu3bst+3bv3s2oUaN4/fXXizQ4ERERKVvyVfGoVKmSVUnn/PnztG7d2vJK3ZycHOzs7Bg0aBC9evUqlkBFRETKCg21/Ic333yzmMMQEREpP/75yPPC9FEa5SvxCA8PL+44REREpBy44QeIAWRkZJCVlWW1759vyBMREZEr/fO19oXpozQq8OTS8+fPM3LkSLy9vXF2dqZSpUpWm4iIiFxfYZ/hUZqf5VHgxOPZZ5/l22+/ZcGCBTg4OPDee+/x4osv4ufnx4cfflgcMYqIiEgZUeChljVr1vDhhx/Svn17Hn30Ue68807q1q1LzZo1Wb58OWFhYcURp4iISJlRnle1FLjicebMGWrXrg1cms9x5swZAO644w6+++67oo1ORESkDCrPQy0FrnjUrl2bo0ePUqNGDRo2bMgnn3xCq1atWLNmjeWlcTeiffv2NGvW7IaX7h47doyAgAD27t1Ls2bN2Lp1Kx06dODs2bOFiqs8+mT190TviuP4ib+wt7ejUX1/Hul/N9X9Kl/R1mw2M+XV5ez56Xf+N/ZBgm9rZDkW+8sRln3yLX8knMTBoQKd7mrGwAc7Ymtra+TtSAHEbN3ND19HcevtzejQ4y4AcrJz2Lr+ew7+dIjc3Fxq1atBp54dcHataHXuL3sOsOeHvZz9KwV7B3vqB9UlpGeHkrgNKSKzl2xi6vyveLxfe2Y8fX9JhyNlRIETj0cffZSffvqJdu3a8dxzz9GjRw/eeustsrOzeeONN244kC+++IIKFSrc8Pn/dvvtt5OYmIi7u3uR9Vle/BJ3jG6db6Ne7Wrk5uXx4crNTJqxlAWvjcDR0d6q7Zcbdlx1MfmRP5KY8upyHux1J2OfuI/TZ84xf/Fa8vLyGPxwqEF3IgWRlJDMzzt/oYqvdYK5dd33HPn1KD3CuuDg6MDmL7fy1fJ19H+8r6XN7u9/ZM8Pe7mryx1U9fchOyuH1LNpRt+CFKEf9//BklXbaVyvWkmHUiZpVUsBjBkzhqeeegqAkJAQfv31V1asWMHevXsZNWrUDQfi6emJq6vrDZ//b/b29vj6+pbaMbCSNHXCAELaNaemvze1a/oyZngvTv2Vyu9HT1i1O3IskVXrohj9WM8r+vg++hcCavjQv097/Hy9CAqsxaMP3c26Tbu4cDHTqFuRfMrKzGL9x1/TuXdHHJwcLPszMzLZt3s/7bvdSY06/vhU8yb0/hBO/JHIifhEADIuZrA9cgf39O1Mo2YN8PDyoErVytQNrF1StyOFlH4hk2GTlzDn+f54uDqVdDhlUnkeailw4vFvNWvWpHfv3jRp0qRQ/bRv357Ro0cDUKtWLaZPn86gQYNwdXWlRo0avPvuu1btd+7cSfPmzXF0dKRly5bs3bvX6vjWrVsxmUykpKRY9m3fvp327dtTsWJFKlWqRGhoKGfPngVg48aN3HHHHXh4eODl5UX37t05fPhwoe6prDh/IQMAF5e//wLKyMzitbc+Z/ij3ajkcWXCmJ2dS4UK1gU1B3s7srJzrkhgpORt/nIrAQ1rUbNuDav9yX+eJC83jxr/2O/l7YmrhyuJ8UkA/HEoHrPZTHpaOhFvLOWdGYtZs2I9aSnnDL0HKTrjZn5M57a30L51w5IOpcy6PLm0sFtplK+hlrlz5+a7w8vVkMKaNWsW06ZN4/nnn+ezzz5j+PDhtGvXjgYNGpCenk737t25++67WbZsGUePHv3PaktsbCydOnVi0KBBzJkzBzs7O7Zs2UJubi5w6fkkY8eOpUmTJqSnpzN58mTuu+8+YmNjsbG5en6WmZlJZubfv72npZW90nJeXh6LPtxIYAN/avn7WPa/t/RrGtX3p03Lq//FdGvTOny1YQfbtu/jjuDGnE1J56MvtgFw9my6IbFL/vz602+cPHGKsBEPXnHs/LkL2Nra4PiPKgiAs0tFzp+7AEDKmTTMZjMxW3fTsftd2Dvas33TDj57fzXhTz2ErZ3m9JQmn2/azU+/JvDtB8+WdChSRuUr8Zg9e3a+OjOZTEWWeHTt2pUnnngCgPHjxzN79my2bNlCgwYNWLFiBXl5eSxevBhHR0caN27M8ePHGT58+DX7mzlzJi1btuTtt9+27GvcuLHl3/v06WPV/v3336dKlSocOHCAW2655ap9zpgxgxdffLEwt3nTWxCxnj8STjJzyiDLvpjdv/LT/qPMnfHYNc+7tUldHg27m/mL1zLr7S+oUMGOfvfdxf5f4zGV1nc5l0FpKefYsnYb9w+6D7sKN/ggY7OZvNw8Ona/i1r1awLQrV8oC6cvJuHIccs+ufkdTzrLhFmf88VbI3F0KLo5d3IlGwo/5FDoIYsSkq+/aY4ePVrccVzhn0M3JpMJX19fTp48CUBcXBxNmjTB0dHR0iY4OPi6/cXGxtK3b99rHj906BCTJ08mJiaGv/76i7y8PADi4+OvmXhMmDCBsWPHWj6npaXh7+//3zdXSiyIWMeuH3/jlRcepbLX35N0f9p/lKTkMzw4+BWr9jNmf0Jgwxq8MvlRAO7rdju9ugZz5uw5XFycOHkqhQ9WbsbXW0+4vVkk/3mSC+kXWfrWR5Z95jwzx4/9yd4dP9Hn0V7k5uaRcTHTqupxPv2CZVWLs6szAF4+npbjFV0q4uTsqOGWUuanX+M5deYc7Qe8atmXm5tH1N7DLPr0O5K3v4mtbWn9cXdzKc/P8SjUu1qK079XuJhMJksycCOcnK4/QapHjx7UrFmTRYsW4efnR15eHrfccssV76L5JwcHBxwcHK55vLQym80sXLKe6F2/MmPSI1ckCn173kHnjrda7Rv57AKGDAyl1a0NrPabTCa8PC+9v2db1D6qeLlRJ6Bq8d6A5FvNuv6Ej7J+6N/GzyLxrFKJVu1a4urhgo2tDfGHE6h/S10Azpw6y7mUc1St4QuAX82q/78/BVf3S/N9Ll7I4OL5DNyuMv9Hbl533daA7R89b7Vv5NRl1Kvlw6iBdyvpkCJx0yYe19OoUSOWLl1KRkaGpeqxY8eO657TpEkTNm/efNWhkdOnT3Pw4EEWLVrEnXfeCcAPP/xQ9IGXEgveX8e2qH1MfLo/FZ3sOfv/v7VWrOiIg30FKnm4XnVCaRUvd6sk5fM122nRtC4mk4moXXF89uUPjB/VF9trzJkR49k72FPZ18tqXwX7CjhVdLLsD2rZmK3rvsfRyeHSctqvtlK1hi9+NS4lHJ5VKlEnsDZb1m7j7vs64eBgz/dfb8ezSiX861Q3/J7kxrk6OxJY189qX0Unezzdna/YL4VjMkFhR51LacGjdCYeDz30EP/73/8YOnQoEyZM4NixY7z++uvXPWfChAkEBQXxxBNP8Pjjj2Nvb8+WLVvo27cvnp6eeHl58e6771K1alXi4+N57rnnDLqbm8/6b3YDMGHaEqv9ox/vSUi75vnuZ0/sIT5Z/R3Z2bkE1PRh4jP9admsXlGGKgZo3+1OMMGa5evJycmlVv2ahPRsb9WmS9+72brue1Yt+QqTyUT12tXo/WhPPSxO5BpsiiDxKK3T5Upl4uHi4sKaNWt4/PHHad68OYGBgbz66qtXTBD9p/r167Np0yaef/55WrVqhZOTE61bt6Z///7Y2NiwcuVKnnrqKW655RYaNGjA3Llzad++vXE3dRNZ+9GUIjln+qRHCh2LGO/BYdb/P7KrYEdIzw7XfQqpg6MDoX1CCO0TUtzhicHWvjO6pEOQMsZkNpvNJR1EWZGWloa7uztf7jqCs4vGtsu6LcfOlHQIYqCJIfVLOgQpZmlpafh4uZOamoqbm1uxXcPd3Z0RK3fjUNGlUH1lXkhnfr+WxRpvcbihwfbvv/+ehx9+mODgYP78808Ali5dWq7nRYiIiOTX5aGWwm6lUYETj88//5zQ0FCcnJzYu3ev5QFaqampTJ8+vcgDFBERkbKjwInHSy+9xMKFC1m0aJHVkte2bdvy448/FmlwIiIiZVF5fldLgSeXHjx4kLvuuuuK/e7u7lbvRREREZGr09tpC8DX15fff//9iv0//PADtWvrbZQiIiL/xaaIttKowHEPHTqUUaNGERMTg8lk4sSJEyxfvpxnnnnmuu9KERERESlw4vHcc8/x0EMP0alTJ9LT07nrrrsYMmQIjz32GE8++WRxxCgiIlKmlPQcj1deeQWTycTo0aMt+zIyMhgxYgReXl64uLjQp08fkpOTrc6Lj4+nW7duVKxYEW9vb8aNG0dOTk6Brl3gOR4mk4n//e9/jBs3jt9//5309HQCAwNxcSncemQREZHywoYimOPBjZ2/a9cu3nnnHauXsQKMGTOGdevW8emnn+Lu7s7IkSPp3bs327dvByA3N5du3brh6+tLVFQUiYmJDBw4kAoVKhRoVesNDxHZ29sTGBhIq1atlHSIiIiUAunp6YSFhbFo0SIqVfr73VqpqaksXryYN954g44dO9KiRQsiIiKIioqyvAtt06ZNHDhwgGXLltGsWTO6dOnCtGnTmD9//nVfqPpvBa54dOjQ4bqv4v32228L2qWIiEi5UhTLYS+fn5aWZrX/em9OHzFiBN26dSMkJISXXnrJsn/Pnj1kZ2cTEvL3aw8aNmxIjRo1iI6Opk2bNkRHRxMUFISPj4+lTWhoKMOHD2f//v00b56/d3kVOPFo1qyZ1efs7GxiY2P55ZdfCA8PL2h3IiIi5U5RviTO39/fav8LL7zAlClTrmi/cuVKfvzxR3bt2nXFsaSkJOzt7fHw8LDa7+PjQ1JSkqXNP5OOy8cvH8uvAices2fPvur+KVOmkJ6eXtDuREREpBASEhKs3tVytWpHQkICo0aNIjIyEkdHRyPDu0KRLQN++OGHef/994uqOxERkTLLZPr7IWI3ul0eanFzc7ParpZ47Nmzh5MnT3LrrbdiZ2eHnZ0d27ZtY+7cudjZ2eHj40NWVtYVDwJNTk7G19cXuPQcr3+vcrn8+XKb/CiyxCM6OrrEsygREZHSwOjltJ06dWLfvn3ExsZatpYtWxIWFmb59woVKrB582bLOQcPHiQ+Pp7g4GAAgoOD2bdvHydPnrS0iYyMxM3NjcDAwHzHUuChlt69e1t9NpvNJCYmsnv3biZNmlTQ7kRERKSYubq6csstt1jtc3Z2xsvLy7J/8ODBjB07Fk9PT9zc3HjyyScJDg6mTZs2AHTu3JnAwEAGDBjAzJkzSUpKYuLEiYwYMeKak1mvpsCJh7u7u9VnGxsbGjRowNSpU+ncuXNBuxMRESl3inJyaVGZPXs2NjY29OnTh8zMTEJDQ3n77bctx21tbVm7di3Dhw8nODgYZ2dnwsPDmTp1aoGuU6DEIzc3l0cffZSgoCCr9b8iIiKSf6b//6ewfRTG1q1brT47Ojoyf/585s+ff81zatasyfr16wt13QLN8bC1taVz5856C62IiEghXK54FHYrjQo8ufSWW27hyJEjxRGLiIiIlHEFTjxeeuklnnnmGdauXUtiYiJpaWlWm4iIiFxfea545HuOx9SpU3n66afp2rUrAPfee6/Vo9PNZjMmk4nc3Nyij1JERKQMMZlM1339SH77KI3ynXi8+OKLPP7442zZsqU44xEREZEyLN+Jh9lsBqBdu3bFFoyIiEh5cDMupzVKgZbTltayjoiIyM2kKN9OW9oUKPGoX7/+fyYfZ86cKVRAIiIiUnYVKPF48cUXr3hyqYiIiBTM5Re9FbaP0qhAiUe/fv3w9vYurlhERETKhfI8xyPfz/HQ/A4REREprAKvahEREZFCKoLJpYV8VUuJyXfikZeXV5xxiIiIlBs2mLApZOZQ2PNLSoHmeIiIiEjhlefltAV+V4uIiIjIjVLFQ0RExGDleVWLEg8RERGDlefneGioRURERAyjioeIiIjByvPkUiUeIiIiBrOhCIZaSulyWg21iIiIiGFU8RARETGYhlpERETEMDYUfsihtA5ZlNa4RUREpBRSxUNERMRgJpOp0G99L61vjVfiISIiYjAThX+5bOlMO5R4iIiIGE5PLhURERExgCoeIiIiJaB01isKT4mHiIiIwcrzczw01CIiIiKGUcVDRETEYOV5Oa0qHiIiIgazKaItvxYsWECTJk1wc3PDzc2N4OBgNmzYYDmekZHBiBEj8PLywsXFhT59+pCcnGzVR3x8PN26daNixYp4e3szbtw4cnJybujeRUREpAyrXr06r7zyCnv27GH37t107NiRnj17sn//fgDGjBnDmjVr+PTTT9m2bRsnTpygd+/elvNzc3Pp1q0bWVlZREVF8cEHH7BkyRImT55c4Fg01CIiImKwohxqSUtLs9rv4OCAg4OD1b4ePXpYfX755ZdZsGABO3bsoHr16ixevJgVK1bQsWNHACIiImjUqBE7duygTZs2bNq0iQMHDvDNN9/g4+NDs2bNmDZtGuPHj2fKlCnY29vnO25VPERERAxmKqINwN/fH3d3d8s2Y8aM6147NzeXlStXcv78eYKDg9mzZw/Z2dmEhIRY2jRs2JAaNWoQHR0NQHR0NEFBQfj4+FjahIaGkpaWZqma5JcqHiIiIqVYQkICbm5uls//rnZctm/fPoKDg8nIyMDFxYVVq1YRGBhIbGws9vb2eHh4WLX38fEhKSkJgKSkJKuk4/Lxy8cKQolHMTh+7gJOZtuSDkOK2XMd6pZ0CGKgcxezSzoEKWbpBn7HRTnUcnnC6H9p0KABsbGxpKam8tlnnxEeHs62bdsKFcONUOIhIiJisIKuSrlWHwVhb29P3bqXfmFq0aIFu3btYs6cOTz44INkZWWRkpJiVfVITk7G19cXAF9fX3bu3GnV3+VVL5fbFFfcIiIiUkiXKx6F3QojLy+PzMxMWrRoQYUKFdi8ebPl2MGDB4mPjyc4OBiA4OBg9u3bx8mTJy1tIiMjcXNzIzAwsEDXVcVDRESkjJswYQJdunShRo0anDt3jhUrVrB161a+/vpr3N3dGTx4MGPHjsXT0xM3NzeefPJJgoODadOmDQCdO3cmMDCQAQMGMHPmTJKSkpg4cSIjRoy45pySa1HiISIiYrB/rkopTB/5dfLkSQYOHEhiYiLu7u40adKEr7/+mrvvvhuA2bNnY2NjQ58+fcjMzCQ0NJS3337bcr6trS1r165l+PDhBAcH4+zsTHh4OFOnTi1w3Eo8REREDGb0S+IWL1583eOOjo7Mnz+f+fPnX7NNzZo1Wb9+ff4veg2a4yEiIiKGUcVDRETEYDaYsCnkYEthzy8pSjxEREQMZvRQy81EQy0iIiJiGFU8REREDGb6/38K20dppMRDRETEYBpqERERETGAKh4iIiIGMxXBqhYNtYiIiEi+lOehFiUeIiIiBivPiYfmeIiIiIhhVPEQERExmJbTioiIiGFsTJe2wvZRGmmoRURERAyjioeIiIjBNNQiIiIihtGqFhEREREDqOIhIiJiMBOFHyoppQUPJR4iIiJG06oWEREREQOo4iEiImIwrWoRERERw5TnVS1KPERERAxmovCTQ0tp3qE5HiIiImIcVTxEREQMZoMJm0KOldiU0pqHEg8RERGDaahFRERExACqeIiIiBitHJc8lHiIiIgYrDw/x0NDLSIiImIYVTxERESMVgQPECulBQ9VPERERIxmKqItv2bMmMFtt92Gq6sr3t7e9OrVi4MHD1q1ycjIYMSIEXh5eeHi4kKfPn1ITk62ahMfH0+3bt2oWLEi3t7ejBs3jpycnALduxIPERGRMm7btm2MGDGCHTt2EBkZSXZ2Np07d+b8+fOWNmPGjGHNmjV8+umnbNu2jRMnTtC7d2/L8dzcXLp160ZWVhZRUVF88MEHLFmyhMmTJxcoFpPZbDYX2Z2Vc2lpabi7uzP/219wcnEt6XCkmPVtUr2kQxADXczKLekQpJidS0ujTvXKpKam4ubmVizXuPxz4tuf4nFxLdw10s+l0bFpjRuK99SpU3h7e7Nt2zbuuusuUlNTqVKlCitWrOD+++8H4Ndff6VRo0ZER0fTpk0bNmzYQPfu3Tlx4gQ+Pj4ALFy4kPHjx3Pq1Cns7e3zdW1VPERERAxmKqJ/4FIy888tMzPzP6+fmpoKgKenJwB79uwhOzubkJAQS5uGDRtSo0YNoqOjAYiOjiYoKMiSdACEhoaSlpbG/v37833vSjxEREQMdvnttIXdAPz9/XF3d7dsM2bMuO618/LyGD16NG3btuWWW24BICkpCXt7ezw8PKza+vj4kJSUZGnzz6Tj8vHLx/JLq1pERERKsYSEBKuhFgcHh+u2HzFiBL/88gs//PBDcYd2Vap4iIiIGKwoV7W4ublZbddLPEaOHMnatWvZsmUL1av/PU/N19eXrKwsUlJSrNonJyfj6+trafPvVS6XP19ukx9KPERERIxm8Hpas9nMyJEjWbVqFd9++y0BAQFWx1u0aEGFChXYvHmzZd/BgweJj48nODgYgODgYPbt28fJkyctbSIjI3FzcyMwMDDfsWioRUREpIwbMWIEK1as4Msvv8TV1dUyJ8Pd3R0nJyfc3d0ZPHgwY8eOxdPTEzc3N5588kmCg4Np06YNAJ07dyYwMJABAwYwc+ZMkpKSmDhxIiNGjPjP4Z1/UuIhIiJiMKPf1bJgwQIA2rdvb7U/IiKCRx55BIDZs2djY2NDnz59yMzMJDQ0lLffftvS1tbWlrVr1zJ8+HCCg4NxdnYmPDycqVOnFihuJR4iIiIG++eqlML0kV/5eWSXo6Mj8+fPZ/78+ddsU7NmTdavX5//C1+F5niIiIiIYVTxEBERMVhB37VyrT5KIyUeIiIiRivHmYeGWkRERMQwqniIiIgYzOhVLTcTJR4iIiIGM3pVy81EiYeIiIjByvEUD83xEBEREeOo4iEiImK0clzyUOIhV/hu616+2xbLmdOpAFT1q0zXbrfTOKg2589fZO1X24k7cJSzZ87h4uJE0+b16HHvnThV/PtZ/b/G/cGaL7/nxJ+ncHCwp3VwY+7tdRe2tiqy3eyi9v7O/GWb+elgAsl/pfHBq0Po2q6J5fjJ02lMnf8VW3f+Stq5i7RpXocZY++nTg3vEoxablTSqRRmLFzLlpg4LmZkU6taZV6f0I+mDWsAsGHbzyz7cjv7fjtOStoFNix+hsb1qpVw1KWfJpeWQVOmTGH16tXExsaWdCiljkclV3r1vgtv70qYgR1Rv7Dw7S+YMOkRMJtJTUmn9/0dqFrVizNn0vho2SZSU9IZ+ngvAI4nnOTteZ9xT9c2hA/qRsrZc3y0fBN5eWb69O1Qkrcm+XDhYhaN61XjoR5teOS5xVbHzGYz4ePfw87OlqUzh+Lq7MiCj7Zw/1Pz+eGj53F2yv+LoqTkpZy7QO8RcwluXo8PZw7D08OFY8dP4e5a0dLmQkYmtzWpTfeOzRk/8+MSjFbKijKReJhMJlatWkWvXr0s+5555hmefPLJkguqFGvStK7V55733cX322I5euQEbe9owrDhvSzHqnhX4t5ed7Lk/XXk5uZha2vDnt2/4letCl27twXA27sS9/Vpz+J3v6Jbj9txdNQPp5tZyO2BhNx+9VdcH0k4xe5fjvH9igk0rF0VgNeefYDG3SbyxaY9DOh5u5GhSiEtWL6Zqt4ezJrQ37Kvhp+XVZs+obcBkJB4xtDYyrryvKqlzNa9XVxc8PLy+u+Gcl15eXns3hlHVlY2tWv7XbXNxYuZODraW4ZRcnJyqFDBOqe1r2BHdnYO8X8kF3vMUnwys3IAcLD/+/u1sbHBvoIdMT8dKamw5AZFbt9Pkwb+PD55Cc3vnUSXwa+zYk10SYdVLpiKaCuNbprE47PPPiMoKAgnJye8vLwICQnh/Pnz7Nq1i7vvvpvKlSvj7u5Ou3bt+PHHHy3n1apVC4D77rsPk8lk+TxlyhSaNWsGwKZNm3B0dCQlJcXqmqNGjaJjx44AnD59mv79+1OtWjUqVqxIUFAQH3300XVjzszMJC0tzWorK/48fooxT87mqSdm8dHyTQwb3ouqfpWvaJd+7gIb1kXT9s6mln2NAgM4cvhPdu08QF5eHilnz7F+XRQAqanpht2DFL16tXyo7luJlxasISXtAlnZOcz9MJITJ1NIPl12/vsvLxIST7PsyygCqldh6euP8XDP23lhzio+3bCzpEOTMuymSDwSExPp378/gwYNIi4ujq1bt9K7d2/MZjPnzp0jPDycH374gR07dlCvXj26du3KuXPnANi1axcAERERJCYmWj7/U6dOnfDw8ODzzz+37MvNzeXjjz8mLCwMgIyMDFq0aMG6dev45ZdfGDZsGAMGDGDnzmv/H3DGjBm4u7tbNn9//6L8YylRPr6eTJj0CM9OGMCd7ZrxYcR6Ek/8ZdXm4sVM3p73Ob5Vvejeo61lf2DjAHrf356Plm3iqSdmMWXSezS+pTZwaVhMSq8KdrYseWUwh+NPUa/zc9Ro/ww//HiITsGB2Oi7LXXy8szcUq8644d145b61Qm793b692jD8q+iSjq0sq8clzxuijkeiYmJ5OTk0Lt3b2rWrAlAUFAQgKUicdm7776Lh4cH27Zto3v37lSpUgUADw8PfH19r9q/ra0t/fr1Y8WKFQwePBiAzZs3k5KSQp8+fQCoVq0azzzzjOWcJ598kq+//ppPPvmEVq1aXbXfCRMmMHbsWMvntLS0MpN82NnZ4u1dCYAaNX3541gSWzbv4aEBoQBkZGTy1pxPcXC057En7sPWztbq/E5330bHkJakpqZTsaIjp0+n8eWq76hcxcPoW5Ei1rRhDbYuHU9a+kWysnOoXMmV0EGzaNqobPy3X554e7lRr5aP1b56NX3YsO3nEoqo/CjPq1puiopH06ZN6dSpE0FBQfTt25dFixZx9uxZAJKTkxk6dCj16tXD3d0dNzc30tPTiY+PL9A1wsLC2Lp1KydOnABg+fLldOvWDQ8PD+BSBWTatGkEBQXh6emJi4sLX3/99XWv4+DggJubm9VWVpnNZnJycoFLlY55b36KnZ0tw0f0vmI+x2UmkwkPD1fs7Suwe+cBKlVypUYNn6u2ldLHzcWJypVcORx/kthf4+lyV1BJhyQF1DIogMMJJ632HUk4SXWfSiUUkZQHN0XiYWtrS2RkJBs2bCAwMJB58+bRoEEDjh49Snh4OLGxscyZM4eoqChiY2Px8vIiKyurQNe47bbbqFOnDitXruTixYusWrXKMswC8NprrzFnzhzGjx/Pli1biI2NJTQ0tMDXKQtWf7GNQ78lcPqvVP48fur/P8dzW+vA/086PiEzM5uHB97DxYxMUlPTSU1NJy8vz9JH5Ncx/Hn8FCdO/MX6tVFs2hhD334h2NjcFP/JyXWkX8hk32/H2ffbcQDiT5xm32/HOZ50aVXDl5v3sn3PIY79+RcbvvuZvk+9TZe7mtChdaOSDFtuwJC+7di7/w/eWhrJseOnWB25hxVrdjDwvjssbVLSzrP/0J8cOpYEwOH4k+w/9CcnNaenUC6vainsVhrdFEMtcOm347Zt29K2bVsmT55MzZo1WbVqFdu3b+ftt9+ma9euACQkJPDXX9ZzDSpUqEBubu5/XiMsLIzly5dTvXp1bGxs6Natm+XY9u3b6dmzJw8//DBwaTXHb7/9RmDg1ZcVlmXnzl3gg4h1pKWex9HJgWrVqjBy1AM0CqzFbwfjOXY0EYAXJi6yOm/a9MfwquwOwP5fjrJx/Q5ycnKpVr0Kjz/Rm8ZBtQ2/Fym4n+Li6TVinuXzpDmrAHiwayvemvwwyX+lMXnOKk6dOYdPZTce6NKKpweFllS4UghNG9Xg3ZcH8eo765jzwSb8fT154cle3Ne5haVN5Pb9PD3j74n2I1/8EIDRj4QydtA9hsdcVpTjB5feHIlHTEwMmzdvpnPnznh7exMTE8OpU6do1KgR9erVY+nSpbRs2ZK0tDTGjRuHk5OT1fm1atVi8+bNtG3bFgcHBypVunqZMCwsjClTpvDyyy9z//334+Dw9/Mk6tWrx2effUZUVBSVKlXijTfeIDk5uVwmHgPCu1zzWP0GNXj73Wf/s4/RT/crypDEQG1b1OPUjrnXPD7swXYMe7CdgRFJcQq5vTEhtze+5vG+XVrRt8vV57lJIZTjzOOmqHu7ubnx3Xff0bVrV+rXr8/EiROZNWsWXbp0YfHixZw9e5Zbb72VAQMG8NRTT+Htbf1o5lmzZhEZGYm/vz/Nmze/5nXq1q1Lq1at+Pnnn62GWQAmTpzIrbfeSmhoKO3bt8fX19fqgWQiIiJSeCaz2Wwu6SDKirS0NNzd3Zn/7S84ubiWdDhSzPo2qV7SIYiBLmb993CulG7n0tKoU70yqampxbZY4PLPiR8PJeHiWrhrpJ9L49Z6vsUab3G4KYZaREREypWimByqoRYRERGR61PFQ0RExGDleG6pEg8RERHDlePMQ0MtIiIiYhhVPERERAxWnt/VosRDRETEYEXxyPPS+sh0DbWIiIiIYVTxEBERMVg5nluqioeIiIjhTEW0FcB3331Hjx498PPzw2QysXr1aqvjZrOZyZMnU7VqVZycnAgJCeHQoUNWbc6cOUNYWBhubm54eHgwePBg0tPTCxSHEg8RERGDmYron4I4f/48TZs2Zf78+Vc9PnPmTObOncvChQuJiYnB2dmZ0NBQMjIyLG3CwsLYv38/kZGRrF27lu+++45hw4YVKA4NtYiIiJQDXbp0oUuXq7993Gw28+abbzJx4kR69uwJwIcffoiPjw+rV6+mX79+xMXFsXHjRnbt2kXLli0BmDdvHl27duX111/Hz88vX3Go4iEiImIwE3+vbLnh7f/7SktLs9oyMzMLHM/Ro0dJSkoiJCTEss/d3Z3WrVsTHR0NQHR0NB4eHpakAyAkJAQbGxtiYmLyfS0lHiIiIgYryike/v7+uLu7W7YZM2YUOJ6kpCQAfHx8rPb7+PhYjiUlJeHt7W113M7ODk9PT0ub/NBQi4iISCmWkJCAm5ub5bODg0MJRvPfVPEQERExWKGHWf7xADI3Nzer7UYSD19fXwCSk5Ot9icnJ1uO+fr6cvLkSavjOTk5nDlzxtImP5R4iIiIGK4E1tNeR0BAAL6+vmzevNmyLy0tjZiYGIKDgwEIDg4mJSWFPXv2WNp8++235OXl0bp163xfS0MtIiIi5UB6ejq///675fPRo0eJjY3F09OTGjVqMHr0aF566SXq1atHQEAAkyZNws/Pj169egHQqFEj7rnnHoYOHcrChQvJzs5m5MiR9OvXL98rWkCJh4iIiOFK4l0tu3fvpkOHDpbPY8eOBSA8PJwlS5bw7LPPcv78eYYNG0ZKSgp33HEHGzduxNHR0XLO8uXLGTlyJJ06dcLGxoY+ffowd+7cgsVtNpvNBQtdriUtLQ13d3fmf/sLTi6uJR2OFLO+TaqXdAhioItZuSUdghSzc2lp1KlemdTUVKvJmkXp8s+JX/84hWshr3EuLY2GNasUa7zFQXM8RERExDAaahERETFYSQy13CyUeIiIiBjsRt61crU+SiMlHiIiIkYritWwpTPv0BwPERERMY4qHiIiIgYrxwUPJR4iIiJGK8+TSzXUIiIiIoZRxUNERMRgWtUiIiIixinHkzw01CIiIiKGUcVDRETEYOW44KHEQ0RExGha1SIiIiJiAFU8REREDFf4VS2ldbBFiYeIiIjBNNQiIiIiYgAlHiIiImIYDbWIiIgYrDwPtSjxEBERMVh5fmS6hlpERETEMKp4iIiIGExDLSIiImKY8vzIdA21iIiIiGFU8RARETFaOS55KPEQERExmFa1iIiIiBhAFQ8RERGDaVWLiIiIGKYcT/FQ4iEiImK4cpx5aI6HiIiIGEYVDxEREYOV51UtSjxEREQMpsmlUiTMZjMAF8+nl3AkYoS0tLSSDkEMlJGVW9IhSDE7d+4c8Pff5cWpKP7+KK1/B5nMRvwJlxPHjx/H39+/pMMQEZFCSEhIoHr16sXSd0ZGBgEBASQlJRVJf76+vhw9ehRHR8ci6c8ISjyKUF5eHidOnMDV1RVTaa2BFVBaWhr+/v4kJCTg5uZW0uFIMdJ3Xb6Ux+/bbDZz7tw5/Pz8sLEpvrUXGRkZZGVlFUlf9vb2pSrpAA21FCkbG5tiy5Jvdm5ubuXmL6fyTt91+VLevm93d/div4ajo2OpSxaKkpbTioiIiGGUeIiIiIhhlHhIoTg4OPDCCy/g4OBQ0qFIMdN3Xb7o+5biosmlIiIiYhhVPERERMQwSjxERETEMEo8RERExDBKPMqZ9u3bM3r0aMPPP3bsGCaTidjY2Gu22bp1KyaTiZSUlBuOT65U2O/839+dvqfyY8qUKTRr1qykw5AyRg8QE0P4+/uTmJhI5cqVSzqUcueLL76gQoUKRdbf7bffTmJioiEPWhLjmEwmVq1aRa9evSz7nnnmGZ588smSC0rKJCUeUuyysrKwt7fH19e3pEMplzw9PYu0P32X5YeLiwsuLi4lHYaUMRpqKYfy8vJ49tln8fT0xNfXlylTpgAwaNAgunfvbtU2Ozsbb29vFi9ebNmXk5PDyJEjcXd3p3LlykyaNMnqbY61atVi2rRpDBw4EDc3N4YNG3bVoZb169dTv359nJyc6NChA8eOHSvO2y63/jnUUqtWLaZPn86gQYNwdXWlRo0avPvuu1btd+7cSfPmzXF0dKRly5bs3bvX6vjVhlq2b99O+/btqVixIpUqVSI0NJSzZ88CsHHjRu644w48PDzw8vKie/fuHD58uFjvubz67LPPCAoKwsnJCS8vL0JCQjh//jy7du3i7rvvpnLlyri7u9OuXTt+/PFHy3m1atUC4L777sNkMlk+/3OoZdOmTTg6Ol4xxDZq1Cg6duwIwOnTp+nfvz/VqlWjYsWKBAUF8dFHHxX3bUspo8SjHPrggw9wdnYmJiaGmTNnMnXqVCIjIxkyZAgbN24kMTHR0nbt2rVcuHCBBx980Op8Ozs7du7cyZw5c3jjjTd47733rK7x+uuv07RpU/bu3cukSZOuiCEhIYHevXvTo0cPYmNjGTJkCM8991zx3bRYzJo1y5JQPPHEEwwfPpyDBw8CkJ6eTvfu3QkMDGTPnj1MmTKFZ5555rr9xcbG0qlTJwIDA4mOjuaHH36gR48e5OZeeo38+fPnGTt2LLt372bz5s3Y2Nhw3333kZeXV+z3Wp4kJibSv39/Bg0aRFxcHFu3bqV3796WF5+Fh4fzww8/sGPHDurVq0fXrl0tr4HftWsXABERESQmJlo+/1OnTp3w8PDg888/t+zLzc3l448/JiwsDLj08rMWLVqwbt06fvnlF4YNG8aAAQPYuXOnAX8CUmqYpVxp166d+Y477rDad9ttt5nHjx9vNpvN5sDAQPOrr75qOdajRw/zI488YnV+o0aNzHl5eZZ948ePNzdq1MjyuWbNmuZevXpZXePo0aNmwLx3716z2Ww2T5gwwRwYGGjVZvz48WbAfPbs2ULdo1hr166dedSoUWaz+dJ38/DDD1uO5eXlmb29vc0LFiwwm81m8zvvvGP28vIyX7x40dJmwYIFVt/dli1brL6n/v37m9u2bZvveE6dOmUGzPv27SvcjYmVPXv2mAHzsWPH/rNtbm6u2dXV1bxmzRrLPsC8atUqq3YvvPCCuWnTppbPo0aNMnfs2NHy+euvvzY7ODhc9/+z3bp1Mz/99NP5vg8p+1TxKIeaNGli9blq1aqcPHkSgCFDhhAREQFAcnIyGzZsYNCgQVbt27Rpg8lksnwODg7m0KFDlt9wAVq2bHndGOLi4mjdurXVvuDg4ILfjBTYP79/k8mEr6+v5fuPi4ujSZMmVm/O/K/v5XLF41oOHTpE//79qV27Nm5ubpYyfnx8fCHuQv6tadOmdOrUiaCgIPr27cuiRYssw13JyckMHTqUevXq4e7ujpubG+np6QX+DsLCwti6dSsnTpwAYPny5XTr1g0PDw/gUgVk2rRpBAUF4enpiYuLC19//bW+a7GixKMc+vcKB5PJZCl7Dxw4kCNHjhAdHc2yZcsICAjgzjvvLPA1nJ2diyRWKXrX+/5vhJOT03WP9+jRgzNnzrBo0SJiYmKIiYkBLk06lqJja2tLZGQkGzZsIDAwkHnz5tGgQQOOHj1KeHg4sbGxzJkzh6ioKGJjY/Hy8irwd3DbbbdRp04dVq5cycWLF1m1apVlmAXgtddeY86cOYwfP54tW7YQGxtLaGiovmuxosRDrHh5edGrVy8iIiJYsmQJjz766BVtLv/guOzymLGtrW2+r9OoUaMrxn137NhxY0FLkWnUqBE///wzGRkZln3/9b00adKEzZs3X/XY6dOnOXjwIBMnTqRTp040atTI8lu4FD2TyUTbtm158cUX2bt3L/b29qxatYrt27fz1FNP0bVrVxo3boyDgwN//fWX1bkVKlSwqlpeS1hYGMuXL2fNmjXY2NjQrVs3y7Ht27fTs2dPHn74YZo2bUrt2rX57bffivw+pXRT4iFXGDJkCB988AFxcXGEh4dfcTw+Pp6xY8dy8OBBPvroI+bNm8eoUaMKdI3HH3+cQ4cOMW7cOA4ePMiKFStYsmRJEd2B3KiHHnoIk8nE0KFDOXDgAOvXr+f111+/7jkTJkxg165dPPHEE/z888/8+uuvLFiwgL/++otKlSrh5eXFu+++y++//863337L2LFjDbqb8iUmJobp06eze/du4uPj+eKLLzh16hSNGjWiXr16LF26lLi4OGJiYggLC7uiUlWrVi02b95MUlLSdZPDsLAwfvzxR15++WXuv/9+q7fX1qtXj8jISKKiooiLi+Oxxx4jOTm52O5ZSiclHnKFkJAQqlatSmhoKH5+flccHzhwIBcvXqRVq1aMGDGCUaNGMWzYsAJdo0aNGnz++eesXr2apk2bsnDhQqZPn15UtyA3yMXFhTVr1rBv3z6aN2/O//73P1599dXrnlO/fn02bdrETz/9RKtWrQgODubLL7/Ezs4OGxsbVq5cyZ49e7jlllsYM2YMr732mkF3U764ubnx3Xff0bVrV+rXr8/EiROZNWsWXbp0YfHixZw9e5Zbb72VAQMG8NRTT+Ht7W11/qxZs4iMjMTf35/mzZtf8zp169alVatW/Pzzz1bDLAATJ07k1ltvJTQ0lPbt2+Pr62v1QDIRAJPZ/I8HMIhwaUlltWrViIiIoHfv3iUdjoiIlCF6cqlY5OXl8ddffzFr1iw8PDy49957SzokEREpY5R4iEV8fDwBAQFUr16dJUuWYGen/zxERKRoaahFREREDKPJpSIiImIYJR4iIiJiGCUeIiIiYhglHiIiImIYJR4iIiJiGCUeImXMI488YvW0yPbt2zN69GjD49i6dSsmk4mUlJRrtjGZTKxevTrffU6ZMoVmzZoVKq5jx45hMpmIjY0tVD8icmOUeIgY4JFHHsFkMmEymbC3t6du3bpMnTqVnJycYr/2F198wbRp0/LVNj/JgohIYegJUSIGueeee4iIiCAzM5P169czYsQIKlSowIQJE65om5WVhb29fZFc19PTs0j6EREpCqp4iBjEwcEBX19fatasyfDhwwkJCeGrr74C/h4eefnll/Hz86NBgwYAJCQk8MADD+Dh4YGnpyc9e/bk2LFjlj5zc3MZO3YsHh4eeHl58eyzz/LvZwL+e6glMzOT8ePH4+/vj4ODA3Xr1mXx4sUcO3aMDh06AFCpUiVMJhOPPPIIcOlx+jNmzCAgIAAnJyeaNm3KZ599ZnWd9evXU79+fZycnOjQoYNVnPk1fvx46tevT8WKFalduzaTJk0iOzv7inbvvPMO/v7+VKxYkQceeIDU1FSr4++99x6NGjXC0dGRhg0b8vbbbxc4FhEpHko8REqIk5MTWVlZls+bN2/m4MGDREZGsnbtWrKzswkNDcXV1ZXvv/+e7du34+Liwj333GM5b9asWSxZsoT333+fH374gTNnzrBq1arrXnfgwIF89NFHzJ07l7i4ON555x1cXFzw9/fn888/B+DgwYMkJiYyZ84cAGbMmMGHH37IwoUL2b9/P2PGjOHhhx9m27ZtwKUEqXfv3vTo0YPY2FiGDBnCc889V+A/E1dXV5YsWcKBAweYM2cOixYtYvbs2VZtfv/9dz755BPWrFnDxo0b2bt3L0888YTl+PLly5k8eTIvv/wycXFxTJ8+nUmTJvHBBx8UOB4RKQZmESl24eHh5p49e5rNZrM5Ly/PHBkZaXZwcDA/88wzluM+Pj7mzMxMyzlLly41N2jQwJyXl2fZl5mZaXZycjJ//fXXZrPZbK5atap55syZluPZ2dnm6tWrW65lNpvN7dq1M48aNcpsNpvNBw8eNAPmyMjIq8a5ZcsWM2A+e/asZV9GRoa5YsWK5qioKKu2gwcPNvfv399sNpvNEyZMMAcGBlodHz9+/BV9/RtgXrVq1TWPv/baa+YWLVpYPr/wwgtmW1tb8/Hjxy37NmzYYLaxsTEnJiaazWazuU6dOuYVK1ZY9TNt2jRzcHCw2Ww2m48ePWoGzHv37r3mdUWk+GiOh4hB1q5di4uLC9nZ2eTl5fHQQw8xZcoUy/GgoCCreR0//fQTv//+O66urlb9ZGRkcPjwYVJTU0lMTKR169aWY3Z2drRs2fKK4ZbLYmNjsbW1pV27dvmO+/fff+fChQvcfffdVvuzsrJo3rw5AHFxcVZxAAQHB+f7Gpd9/PHHzJ07l8OHD5Oenk5OTg5ubm5WbWrUqEG1atWsrpOXl8fBgwdxdXXl8OHDDB48mKFDh1ra5OTk4O7uXuB4RKToKfEQMUiHDh1YsGAB9vb2+Pn5XfH2X2dnZ6vP6enptGjRguXLl1/RV5UqVW4oBicnpwKfk56eDsC6deusfuDDpXkrRSU6OpqwsDBefPFFQkNDcXd3Z+XKlcyaNavAsS5atOiKRMjW1rbIYhWRG6fEQ8Qgzs7O1K1bN9/tb731Vj7++GO8vb2v+K3/sqpVqxITE8Ndd90FXPrNfs+ePdx6661XbR8UFEReXh7btm0jJCTkiuOXKy65ubmWfYGBgTg4OBAfH3/NSkmjRo0sE2Uv27Fjx3/f5D9ERUVRs2ZN/ve//1n2/fHHH1e0i4+P58SJE/j5+VmuY2NjQ4MGDfDx8cHPz48jR44QFhZWoOuLiDE0uVTkJhUWFkblypXp2bMn33//PUePHmXr1q089dRTHD9+HIBRo0bxyiuvsHr1an799VeeeOKJ6z6Do1atWoSHhzNo0CBWr15t6fOTTz4BoGbNmphMJtauXcupU6dIT0/H1dWVZ555hjFjxvDBBx9w+PBhfvzxR+bNm2eZsPn4449z6NAhxo0bx8GDB1mxYgVLliwp0P3Wq1eP+Ph4Vq5cyeHDh5k7d+5VJ8o6OjoSHh7OTz/9xPfff89TTz3FAw88gK+vLwAvvvgiM2bMYO7cufz222/s27ePiIgI3njjjQLFIyLFQ4mHyE2qYsWKfPfdd9SoUYPevXvTqFEjBg8eTEZGhqUC8vTTTzNgwADCw8MJDg7G1dWV++6777r9LliwgPvvv58nnniChg0bMnToUM6fPw9AtWrVePHFF3nuuefw8fFh5MiRAEybNo1JkyYxY8YMGjVqxD333MO6desICAgALs27+Pzzz1m9ejVNmzZl4cKFTJ8+vUD3e++99zJmzBhGjhxJs2bNiIqKYtKkSVe0q1u3Lr1796Zr16507tyZJk2aWC2XHTJkCO+99x4REREEBQXRrl07lixZYolVREqWyXytWWgiIiIiRUwVDxERETGMEg8RERExjBIPERERMYwSDxERETGMEg8RERExjBIPERERMYwSDxERETGMEg8RERExjBIPERERMYwSDxERETGMEg8RERExzP8B+DtUho+8qRcAAAAASUVORK5CYII=",
      "text/plain": [
       "<Figure size 640x480 with 2 Axes>"
      ]
     },
     "metadata": {},
     "output_type": "display_data"
    }
   ],
   "source": [
    "best_knn1 = grid_search_knn1.best_estimator_\n",
    "y_pred_knn1 = cross_val_predict(best_knn1, X2, y2, cv=5)\n",
    "cm_knn1 = confusion_matrix(y2, y_pred_knn1)\n",
    "disp_knn1 = ConfusionMatrixDisplay(confusion_matrix=cm_knn1, display_labels=best_knn1.classes_)\n",
    "disp_knn1.plot(cmap='Blues', values_format='d')"
   ]
  },
  {
   "cell_type": "markdown",
   "metadata": {
    "id": "WGMnECW1iJxZ"
   },
   "source": [
    "### Q3 Analysis\n"
   ]
  },
  {
   "cell_type": "markdown",
   "metadata": {
    "id": "S2Uj5r-Xj2oc"
   },
   "source": [
    "- All model performance are worse. Hybrid and Sativa are mixed up. According to the tree model, the boundry between Hybrid and Indica are more clear. On the other hand, Sativa is under both Hybrid and Indica. Therefore, it is hard to draw a clear line between Sativa and Hybrid.\n",
    "- Another reason why Sativa is harder to predict is that it has the least amount of samples."
   ]
  },
  {
   "cell_type": "markdown",
   "metadata": {
    "id": "sHfAIxE7j--A"
   },
   "source": [
    "## Part Three: Multiclass from Binary"
   ]
  },
  {
   "cell_type": "markdown",
   "metadata": {
    "id": "dC_Ai5FykGEV"
   },
   "source": [
    "### Q1 OVR"
   ]
  },
  {
   "cell_type": "code",
   "execution_count": 43,
   "metadata": {
    "id": "8_W4c-FgPiEO"
   },
   "outputs": [],
   "source": [
    "y3 = y2.apply(lambda x: 'hybrid' if x == 'hybrid' else 'non-hybrid')\n",
    "\n",
    "# Create y4 for Sativa and Non-Sativa\n",
    "y4 = y2.apply(lambda x: 'sativa' if x == 'sativa' else 'non-sativa')\n",
    "\n",
    "# Create y5 for Indica and Non-Indica\n",
    "y5 = y2.apply(lambda x: 'indica' if x == 'indica' else 'non-indica')"
   ]
  },
  {
   "cell_type": "markdown",
   "metadata": {
    "id": "WnZbT-bsmkG7"
   },
   "source": [
    "#### 1. Log Reg Hybrid vs Rest"
   ]
  },
  {
   "cell_type": "code",
   "execution_count": 44,
   "metadata": {
    "id": "riEkj8QGmjM0"
   },
   "outputs": [],
   "source": [
    "from sklearn.linear_model import LogisticRegression\n"
   ]
  },
  {
   "cell_type": "code",
   "execution_count": 144,
   "metadata": {
    "id": "RBqi1_mtGZ0F"
   },
   "outputs": [],
   "source": [
    "from sklearn.preprocessing import LabelEncoder\n",
    "\n",
    "# Encoding the target variable\n",
    "le = LabelEncoder()\n",
    "y3_encoded = le.fit_transform(y3)  # Conve"
   ]
  },
  {
   "cell_type": "markdown",
   "metadata": {
    "id": "G43pmD9y_Q_b"
   },
   "source": [
    "- write a function for logreg"
   ]
  },
  {
   "cell_type": "code",
   "execution_count": 146,
   "metadata": {
    "id": "Nv2ku8at7bgO"
   },
   "outputs": [],
   "source": [
    "def logreg_model(X,y):\n",
    "  model = LogisticRegression(random_state=42)\n",
    "  param = {\n",
    "    'penalty': ['elasticnet'],\n",
    "    'C': [0.01, 0.1, 1],\n",
    "    'solver': ['saga'],\n",
    "    'l1_ratio': [0, 0.25, 0.5, 1],  # Only for 'elasticnet' penalty\n",
    "    'max_iter': [10000],\n",
    "  }\n",
    "  search_model = GridSearchCV(model, param, cv=5, scoring='f1_weighted', n_jobs= -1)\n",
    "  search_model_fitted = search_model.fit(X, y)\n",
    "  print(\"Best parameters:\", search_model.best_params_)\n",
    "\n",
    "  # Print the best score for each metric\n",
    "  print(\"Best cross-validation scores:\")\n",
    "  print(\"f1_weighted:\", search_model.cv_results_['mean_test_score'][search_model.best_index_])\n",
    "  best_model = search_model.best_estimator_\n",
    "  y_pred_best_model = cross_val_predict(best_model, X, y, cv=5)\n",
    "  cm_model = confusion_matrix(y, y_pred_best_model)\n",
    "  disp_model = ConfusionMatrixDisplay(confusion_matrix=cm_model, display_labels=best_model.classes_)\n",
    "  disp_model.plot(cmap='Blues', values_format='d')"
   ]
  },
  {
   "cell_type": "code",
   "execution_count": 147,
   "metadata": {
    "colab": {
     "base_uri": "https://localhost:8080/",
     "height": 503
    },
    "id": "S1gTfsxH_f17",
    "outputId": "077fb26f-d22e-451b-a41f-225de866ff32"
   },
   "outputs": [
    {
     "name": "stdout",
     "output_type": "stream",
     "text": [
      "Best parameters: {'C': 0.1, 'l1_ratio': 0.5, 'max_iter': 10000, 'penalty': 'elasticnet', 'solver': 'saga'}\n",
      "Best cross-validation scores:\n",
      "f1_weighted: 0.6241020211821715\n"
     ]
    },
    {
     "data": {
      "image/png": "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",
      "text/plain": [
       "<Figure size 640x480 with 2 Axes>"
      ]
     },
     "metadata": {},
     "output_type": "display_data"
    }
   ],
   "source": [
    "logreg_model(X2,y3)"
   ]
  },
  {
   "cell_type": "markdown",
   "metadata": {
    "id": "x4lun16usgNb"
   },
   "source": [
    "#### 2. Log Reg Sativa vs Rest"
   ]
  },
  {
   "cell_type": "code",
   "execution_count": 137,
   "metadata": {
    "colab": {
     "base_uri": "https://localhost:8080/",
     "height": 503
    },
    "id": "1nyXqLk8ARzS",
    "outputId": "5b327d6b-be33-4120-dae4-9026d4f4b8ec"
   },
   "outputs": [
    {
     "name": "stdout",
     "output_type": "stream",
     "text": [
      "Best parameters: {'C': 1, 'l1_ratio': 0, 'max_iter': 10000, 'penalty': 'elasticnet', 'solver': 'saga'}\n",
      "Best cross-validation scores:\n",
      "f1_weighted: 0.8044444458662519\n"
     ]
    },
    {
     "data": {
      "image/png": "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",
      "text/plain": [
       "<Figure size 640x480 with 2 Axes>"
      ]
     },
     "metadata": {},
     "output_type": "display_data"
    }
   ],
   "source": [
    "logreg_model(X2,y4)"
   ]
  },
  {
   "cell_type": "markdown",
   "metadata": {
    "id": "uqFUNELzs3BH"
   },
   "source": [
    "#### 3. Log Reg Indica vs Rest"
   ]
  },
  {
   "cell_type": "code",
   "execution_count": 138,
   "metadata": {
    "colab": {
     "base_uri": "https://localhost:8080/",
     "height": 503
    },
    "id": "ygBZU8w-AVL9",
    "outputId": "61e58a2c-25bb-4478-d38a-e2443d2133bf"
   },
   "outputs": [
    {
     "name": "stdout",
     "output_type": "stream",
     "text": [
      "Best parameters: {'C': 0.1, 'l1_ratio': 0.5, 'max_iter': 10000, 'penalty': 'elasticnet', 'solver': 'saga'}\n",
      "Best cross-validation scores:\n",
      "f1_weighted: 0.7994613450894652\n"
     ]
    },
    {
     "data": {
      "image/png": "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",
      "text/plain": [
       "<Figure size 640x480 with 2 Axes>"
      ]
     },
     "metadata": {},
     "output_type": "display_data"
    }
   ],
   "source": [
    "logreg_model(X2,y5)"
   ]
  },
  {
   "cell_type": "markdown",
   "metadata": {
    "id": "0TK2zlxanl3y"
   },
   "source": [
    "#### 4. SVC Hybrid vs Rest"
   ]
  },
  {
   "cell_type": "code",
   "execution_count": 139,
   "metadata": {
    "colab": {
     "base_uri": "https://localhost:8080/",
     "height": 485
    },
    "id": "uUvhyJTGAjK7",
    "outputId": "be88d810-7006-4b46-bf63-3730ef0297c4"
   },
   "outputs": [
    {
     "name": "stdout",
     "output_type": "stream",
     "text": [
      "Best parameters: {'C': 1, 'degree': 4, 'kernel': 'poly'}\n",
      "f1_weighted: 0.630738352786006\n"
     ]
    },
    {
     "data": {
      "image/png": "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",
      "text/plain": [
       "<Figure size 640x480 with 2 Axes>"
      ]
     },
     "metadata": {},
     "output_type": "display_data"
    }
   ],
   "source": [
    "svc_model(X2,y3)"
   ]
  },
  {
   "cell_type": "markdown",
   "metadata": {
    "id": "IaLcZcXonjJS"
   },
   "source": [
    "#### 5. SVC Sativa vs Rest"
   ]
  },
  {
   "cell_type": "code",
   "execution_count": 140,
   "metadata": {
    "colab": {
     "base_uri": "https://localhost:8080/",
     "height": 485
    },
    "id": "ezIdAWr1At9F",
    "outputId": "c6cca3db-5b3a-46ed-d53a-cad388fb65ab"
   },
   "outputs": [
    {
     "name": "stdout",
     "output_type": "stream",
     "text": [
      "Best parameters: {'C': 1, 'degree': 4, 'kernel': 'poly'}\n",
      "f1_weighted: 0.7864936574275443\n"
     ]
    },
    {
     "data": {
      "image/png": "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",
      "text/plain": [
       "<Figure size 640x480 with 2 Axes>"
      ]
     },
     "metadata": {},
     "output_type": "display_data"
    }
   ],
   "source": [
    "svc_model(X2,y4)"
   ]
  },
  {
   "cell_type": "markdown",
   "metadata": {
    "id": "MXGRCTWim8Mb"
   },
   "source": [
    "#### 6. SVC Indica vs Rest"
   ]
  },
  {
   "cell_type": "code",
   "execution_count": 141,
   "metadata": {
    "colab": {
     "base_uri": "https://localhost:8080/",
     "height": 485
    },
    "id": "vlasx1FBAxf4",
    "outputId": "fc88b580-7b8a-4a79-9f26-59726547de01"
   },
   "outputs": [
    {
     "name": "stdout",
     "output_type": "stream",
     "text": [
      "Best parameters: {'C': 0.1, 'degree': 2, 'kernel': 'poly'}\n",
      "f1_weighted: 0.7926650092146776\n"
     ]
    },
    {
     "data": {
      "image/png": "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",
      "text/plain": [
       "<Figure size 640x480 with 2 Axes>"
      ]
     },
     "metadata": {},
     "output_type": "display_data"
    }
   ],
   "source": [
    "svc_model(X2,y5)"
   ]
  },
  {
   "cell_type": "markdown",
   "metadata": {
    "id": "7uQ1aHbRur3n"
   },
   "source": [
    "### Q2\n",
    "- Model 1 and 4 perform better when distinguishing Hybrid from the rest. This makes sense becuase hybrid has the largest sample numbers.\n",
    "- Sativa, model 5, does the worse since it has the least number of samples.\n",
    "- Model 2, 3, 5, and 6 predict non-indica and non-sativa better because those are probably Hybrid, and those false positive and false negative are probably mixed other types (false indica and false sative with some hybrid).\n",
    "- In general, it is hard for linear classifier when sample can not be easily seperated using lines.  "
   ]
  },
  {
   "cell_type": "markdown",
   "metadata": {
    "id": "vWK61esXwbH0"
   },
   "source": [
    "### Q3 OVO"
   ]
  },
  {
   "cell_type": "code",
   "execution_count": 111,
   "metadata": {
    "id": "Te4lQSHX2WfO"
   },
   "outputs": [],
   "source": [
    "pot_2 = pot[pot['Type'].isin(['indica', 'hybrid'])]\n",
    "pot_3 = pot[pot['Type'].isin(['sativa', 'hybrid'])]"
   ]
  },
  {
   "cell_type": "code",
   "execution_count": 102,
   "metadata": {
    "id": "qa5DfzSO3OtY"
   },
   "outputs": [],
   "source": [
    "X6 = pot_2.drop([\"Strain\",'Type', 'Effects','Flavor'],axis = 1)\n",
    "y6 = pot_2['Type']\n",
    "X7 = pot_3.drop([\"Strain\",'Type', 'Effects','Flavor'],axis = 1)\n",
    "y7 = pot_3['Type']"
   ]
  },
  {
   "cell_type": "code",
   "execution_count": 104,
   "metadata": {
    "colab": {
     "base_uri": "https://localhost:8080/"
    },
    "id": "xQssx3te3fQr",
    "outputId": "093b231c-a15e-48d1-a637-316d053c5665"
   },
   "outputs": [
    {
     "data": {
      "text/plain": [
       "(Type\n",
       " hybrid    1123\n",
       " indica     659\n",
       " Name: count, dtype: int64,\n",
       " Type\n",
       " hybrid    1123\n",
       " sativa     409\n",
       " Name: count, dtype: int64)"
      ]
     },
     "execution_count": 104,
     "metadata": {},
     "output_type": "execute_result"
    }
   ],
   "source": [
    "y6.value_counts(), y7.value_counts()"
   ]
  },
  {
   "cell_type": "markdown",
   "metadata": {
    "id": "uQ-qzSe28ndm"
   },
   "source": [
    "#### 1. Logreg Indica vs Sativa"
   ]
  },
  {
   "cell_type": "code",
   "execution_count": 117,
   "metadata": {
    "colab": {
     "base_uri": "https://localhost:8080/",
     "height": 504
    },
    "id": "2hb35EGf8b4u",
    "outputId": "3b57a3a2-4be3-403d-cec3-0e6dcc083db2"
   },
   "outputs": [
    {
     "name": "stdout",
     "output_type": "stream",
     "text": [
      "Best parameters: {'C': 0.1, 'l1_ratio': 0.25, 'max_iter': 10000, 'penalty': 'elasticnet', 'solver': 'saga'}\n",
      "Best cross-validation scores:\n",
      "f1_weighted: 0.8695737672438625\n"
     ]
    },
    {
     "data": {
      "image/png": "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",
      "text/plain": [
       "<Figure size 640x480 with 2 Axes>"
      ]
     },
     "metadata": {},
     "output_type": "display_data"
    }
   ],
   "source": [
    "logreg_model(X1,y1)"
   ]
  },
  {
   "cell_type": "markdown",
   "metadata": {
    "id": "ZS3UQ7lN8sBR"
   },
   "source": [
    "#### 2. Logreg Indica vs Hybrid"
   ]
  },
  {
   "cell_type": "code",
   "execution_count": 118,
   "metadata": {
    "colab": {
     "base_uri": "https://localhost:8080/",
     "height": 503
    },
    "id": "d_-aIDjr81F9",
    "outputId": "e0f6ee03-84ef-40ba-a1a9-96b3f0dc9295"
   },
   "outputs": [
    {
     "name": "stdout",
     "output_type": "stream",
     "text": [
      "Best parameters: {'C': 0.1, 'l1_ratio': 1, 'max_iter': 10000, 'penalty': 'elasticnet', 'solver': 'saga'}\n",
      "Best cross-validation scores:\n",
      "f1_weighted: 0.7599228813838764\n"
     ]
    },
    {
     "data": {
      "image/png": "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",
      "text/plain": [
       "<Figure size 640x480 with 2 Axes>"
      ]
     },
     "metadata": {},
     "output_type": "display_data"
    }
   ],
   "source": [
    "logreg_model(X6,y6)"
   ]
  },
  {
   "cell_type": "markdown",
   "metadata": {
    "id": "iO7sELk18win"
   },
   "source": [
    "#### 3. Logreg Hybrid vs Sativa"
   ]
  },
  {
   "cell_type": "code",
   "execution_count": 119,
   "metadata": {
    "colab": {
     "base_uri": "https://localhost:8080/",
     "height": 503
    },
    "id": "cJT85g4284K2",
    "outputId": "33af7ab6-8c37-42ad-a55b-f0b38aa56b9b"
   },
   "outputs": [
    {
     "name": "stdout",
     "output_type": "stream",
     "text": [
      "Best parameters: {'C': 1, 'l1_ratio': 1, 'max_iter': 10000, 'penalty': 'elasticnet', 'solver': 'saga'}\n",
      "Best cross-validation scores:\n",
      "f1_weighted: 0.7245657613855412\n"
     ]
    },
    {
     "data": {
      "image/png": "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",
      "text/plain": [
       "<Figure size 640x480 with 2 Axes>"
      ]
     },
     "metadata": {},
     "output_type": "display_data"
    }
   ],
   "source": [
    "logreg_model(X7,y7)"
   ]
  },
  {
   "cell_type": "markdown",
   "metadata": {
    "id": "ALC1sm2_wh90"
   },
   "source": [
    "#### 4. SVC Indica vs Sativa\n"
   ]
  },
  {
   "cell_type": "code",
   "execution_count": 133,
   "metadata": {
    "colab": {
     "base_uri": "https://localhost:8080/",
     "height": 489
    },
    "id": "6sqRqXYV3v_Y",
    "outputId": "589b39d7-bcd8-47fc-c52b-af614880ed36"
   },
   "outputs": [
    {
     "name": "stdout",
     "output_type": "stream",
     "text": [
      "Best parameters: {'C': 1, 'degree': 3, 'kernel': 'poly'}\n",
      "f1_weighted: 0.8648289727542811\n"
     ]
    },
    {
     "data": {
      "image/png": "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",
      "text/plain": [
       "<Figure size 640x480 with 2 Axes>"
      ]
     },
     "metadata": {},
     "output_type": "display_data"
    }
   ],
   "source": [
    "svc_model(X1,y1)"
   ]
  },
  {
   "cell_type": "markdown",
   "metadata": {
    "id": "girxOAWMxXm1"
   },
   "source": [
    "#### 5. SVC Indica vs **Hybrid**"
   ]
  },
  {
   "cell_type": "code",
   "execution_count": 134,
   "metadata": {
    "colab": {
     "base_uri": "https://localhost:8080/",
     "height": 485
    },
    "id": "ftM0Sd8m91ef",
    "outputId": "a2b68e34-de9c-4de1-e270-3f88cedd3a56"
   },
   "outputs": [
    {
     "name": "stdout",
     "output_type": "stream",
     "text": [
      "Best parameters: {'C': 0.1, 'kernel': 'rbf'}\n",
      "f1_weighted: 0.7575151948894134\n"
     ]
    },
    {
     "data": {
      "image/png": "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",
      "text/plain": [
       "<Figure size 640x480 with 2 Axes>"
      ]
     },
     "metadata": {},
     "output_type": "display_data"
    }
   ],
   "source": [
    "svc_model(X6,y6)"
   ]
  },
  {
   "cell_type": "markdown",
   "metadata": {
    "id": "aSWyHdhfxbbK"
   },
   "source": [
    "#### 6. SVC Hybrid vs Sativa"
   ]
  },
  {
   "cell_type": "code",
   "execution_count": 135,
   "metadata": {
    "colab": {
     "base_uri": "https://localhost:8080/",
     "height": 485
    },
    "id": "mJ9f2CV_3wk0",
    "outputId": "c393c832-97eb-4758-a693-66832466df64"
   },
   "outputs": [
    {
     "name": "stdout",
     "output_type": "stream",
     "text": [
      "Best parameters: {'C': 1, 'degree': 4, 'kernel': 'poly'}\n",
      "f1_weighted: 0.7216027925633034\n"
     ]
    },
    {
     "data": {
      "image/png": "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",
      "text/plain": [
       "<Figure size 640x480 with 2 Axes>"
      ]
     },
     "metadata": {},
     "output_type": "display_data"
    }
   ],
   "source": [
    "svc_model(X7,y7)"
   ]
  },
  {
   "cell_type": "markdown",
   "metadata": {
    "id": "XRPiDMW-BCjw"
   },
   "source": [
    "### Q4\n",
    "- Model 1 and 4 got similar results with 0.86 f1 score. These results consist with those non-linear models.   \n",
    "- Model 2,3,5,and 6 result in similar f1 score because Hybrid has way more samples compared to indica ans sativa."
   ]
  },
  {
   "cell_type": "markdown",
   "metadata": {
    "id": "xi9vkcnxEH7-"
   },
   "source": [
    "### Q5\n",
    "- If we simply input the full data, with three classes, into the LogisticRegression function.It wil automatically take a OVR approach.\n",
    "- If we simply input the full data, with three classes, into the LogisticRegression function.It wil automatically take a OVO approach."
   ]
  }
 ],
 "metadata": {
  "colab": {
   "provenance": []
  },
  "kernelspec": {
   "display_name": "base",
   "language": "python",
   "name": "python3"
  },
  "language_info": {
   "name": "python",
<<<<<<< HEAD
<<<<<<< HEAD
   "nbconvert_exporter": "python",
   "pygments_lexer": "ipython3",
   "version": "3.12.2"
=======
=======
>>>>>>> parent of be91ac1a (apr)
   "version": "3.12.4"
>>>>>>> parent of be91ac1a (apr)
  }
 },
 "nbformat": 4,
 "nbformat_minor": 0
}
