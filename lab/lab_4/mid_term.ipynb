{
 "cells": [
  {
   "cell_type": "markdown",
   "metadata": {},
   "source": [
    "- 1.1\n",
    "- filter out ca\n",
    "- convert km \n",
    "- sort by length from longeest to shortest. Print the first 4 results."
   ]
  },
  {
   "cell_type": "markdown",
   "metadata": {},
   "source": [
    "- 1.2 \n",
    "- filter out elevation_gain < 500 meters and length < 5\n",
    "- sort results by ave_rating desc. Print the first result. "
   ]
  },
  {
   "cell_type": "markdown",
   "metadata": {},
   "source": [
    "- 1.3\n",
    "- find unique name .unique to filter out repeated park names # yosemite will appear more than one due to the trials\n",
    "- find instance of land using regex; need to us apply.() to go through each cell; lands_name = df.apply.(lambda x: re.findall(x, r\"[Lland]\"))\n",
    "- count how many elements in the variable lands_name using len(lands)"
   ]
  },
  {
   "cell_type": "markdown",
   "metadata": {},
   "source": [
    "- 1.4 \n",
    "- avg_rating, difficulty_rating, popularity, visitor_usage\n",
    "- np_trails_new = np_trails.melt(id_vars=[\"name\"], var_name=\"rating\", value_name=\"score\")"
   ]
  },
  {
   "cell_type": "markdown",
   "metadata": {},
   "source": [
    "from plotnine import *\n",
    "from plotnine.scales import scale_y_log10\n",
    "\n",
    "(ggplot(ca_parks, aes(x=\"_______\", y=\"_______\", ______ = \"________\"))\n",
    "+ geom_______()\n",
    "+ scale_______() \n",
    "+ scale________(guide=False)\n",
    "+ ______(\n",
    "  x = \"\",\n",
    "  y = \"\",\n",
    "  _____ = \"Number of reviews per trail for CA Parks\"\n",
    ")\n",
    "+ ______()\n",
    "+ theme(________=element_text(rotation=____, hjust=1)) \n",
    ")"
   ]
  },
  {
   "cell_type": "markdown",
   "metadata": {},
   "source": [
    "- 2.1\n",
    "- required input: dataset, national park, \n",
    "- optional input: A minimum trail elevation gain (in meters)\n",
    "                  A maximum trail elevation gain (in meters)\n",
    "                  A minimum trail rating\n",
    "                  The type of trail \n",
    "- output: list of trail\n",
    "- recommend_trails(df, park, minimum_ele = None, max_ele = None, min_rating = None, type = None)\n",
    "- def recommend_trails(dataset, minimum_ele = None,\n",
    "                            max_ele = None, \n",
    "                            min_rating = None, \n",
    "                            type = None):\n",
    "      if min_elev is None:\n",
    "        min_recom = df[df['min_ele'] = 0]\n",
    "      if msx_elev is None:\n",
    "        max_recom = df[df['max_ele'] = 9999999]\n",
    "      if msx_elev is None:\n",
    "        min_rating = 0\n",
    "      df_recom = df[(df['elevation_gain'] > min_ele) &\n",
    "                     (df['elevation_gain'] < max_ele) &\n",
    "                     (df['ave_rating'] > min_rating)]\n",
    "\n",
    "      if type is not None:\n",
    "        df_finarecom = df_recom[df_recom['type'] == type]\n",
    "\n",
    "      if park is not None:\n",
    "        df_finarecom = df_recom[df_recom['park'] == park]\n",
    "\n",
    "    return f_finarecom[\"name\"] # return the name column"
   ]
  },
  {
   "cell_type": "markdown",
   "metadata": {},
   "source": [
    "- 2.2"
   ]
  },
  {
   "cell_type": "code",
   "execution_count": 1,
   "metadata": {},
   "outputs": [],
   "source": [
    "import pandas as pd\n",
    "import requests as re\n",
    "from bs4 import BeautifulSoup"
   ]
  },
  {
   "cell_type": "code",
   "execution_count": 33,
   "metadata": {},
   "outputs": [],
   "source": [
    "def crape_temps(month):\n",
    "    row0 = []\n",
    "    if month is not None:\n",
    "        url = \"https://www.extremeweatherwatch.com/us-state-averages\" + \"/month-\" + month\n",
    "    else:\n",
    "        url = \"https://www.extremeweatherwatch.com/us-state-averages\"\n",
    "    response = re.get(url)\n",
    "    soup = BeautifulSoup(response.content, \"html.parser\")\n",
    "    table = soup.find_all(\"table\")[0]\n",
    "    for tr in table.find_all(\"tr\")[1:]:\n",
    "        td = tr.find_all(\"td\")\n",
    "        state_name = td[0].text.strip()\n",
    "        low_temp = td[1].text.strip()\n",
    "        hi_temp = td[2].text.strip()\n",
    "        precipitation = td[3].text.strip()\n",
    "        row0.append({\n",
    "        \"state\": state_name,\n",
    "        \"low_temp\": low_temp,\n",
    "        \"hi_temp\": hi_temp,\n",
    "        \"precipitation\": precipitation\n",
    "    })\n",
    "    return pd.DataFrame(row0)\n",
    "    "
   ]
  },
  {
   "cell_type": "code",
   "execution_count": 37,
   "metadata": {},
   "outputs": [
    {
     "data": {
      "text/html": [
       "<div>\n",
       "<style scoped>\n",
       "    .dataframe tbody tr th:only-of-type {\n",
       "        vertical-align: middle;\n",
       "    }\n",
       "\n",
       "    .dataframe tbody tr th {\n",
       "        vertical-align: top;\n",
       "    }\n",
       "\n",
       "    .dataframe thead th {\n",
       "        text-align: right;\n",
       "    }\n",
       "</style>\n",
       "<table border=\"1\" class=\"dataframe\">\n",
       "  <thead>\n",
       "    <tr style=\"text-align: right;\">\n",
       "      <th></th>\n",
       "      <th>state</th>\n",
       "      <th>low_temp</th>\n",
       "      <th>hi_temp</th>\n",
       "      <th>precipitation</th>\n",
       "    </tr>\n",
       "  </thead>\n",
       "  <tbody>\n",
       "    <tr>\n",
       "      <th>0</th>\n",
       "      <td>Alabama</td>\n",
       "      <td>75.0</td>\n",
       "      <td>52.2</td>\n",
       "      <td>56.9</td>\n",
       "    </tr>\n",
       "    <tr>\n",
       "      <th>1</th>\n",
       "      <td>Alaska</td>\n",
       "      <td>35.5</td>\n",
       "      <td>20.4</td>\n",
       "      <td>37.6</td>\n",
       "    </tr>\n",
       "    <tr>\n",
       "      <th>2</th>\n",
       "      <td>Arizona</td>\n",
       "      <td>75.3</td>\n",
       "      <td>46.8</td>\n",
       "      <td>11.6</td>\n",
       "    </tr>\n",
       "    <tr>\n",
       "      <th>3</th>\n",
       "      <td>Arkansas</td>\n",
       "      <td>71.8</td>\n",
       "      <td>50.2</td>\n",
       "      <td>52.5</td>\n",
       "    </tr>\n",
       "    <tr>\n",
       "      <th>4</th>\n",
       "      <td>California</td>\n",
       "      <td>71.5</td>\n",
       "      <td>46.5</td>\n",
       "      <td>22.3</td>\n",
       "    </tr>\n",
       "  </tbody>\n",
       "</table>\n",
       "</div>"
      ],
      "text/plain": [
       "        state low_temp hi_temp precipitation\n",
       "0     Alabama     75.0    52.2          56.9\n",
       "1      Alaska     35.5    20.4          37.6\n",
       "2     Arizona     75.3    46.8          11.6\n",
       "3    Arkansas     71.8    50.2          52.5\n",
       "4  California     71.5    46.5          22.3"
      ]
     },
     "execution_count": 37,
     "metadata": {},
     "output_type": "execute_result"
    }
   ],
   "source": [
    "temp = crape_temps(None)\n",
    "temp.head()"
   ]
  }
 ],
 "metadata": {
  "kernelspec": {
   "display_name": "base",
   "language": "python",
   "name": "python3"
  },
  "language_info": {
   "codemirror_mode": {
    "name": "ipython",
    "version": 3
   },
   "file_extension": ".py",
   "mimetype": "text/x-python",
   "name": "python",
   "nbconvert_exporter": "python",
   "pygments_lexer": "ipython3",
   "version": "3.12.4"
  }
 },
 "nbformat": 4,
 "nbformat_minor": 2
}
