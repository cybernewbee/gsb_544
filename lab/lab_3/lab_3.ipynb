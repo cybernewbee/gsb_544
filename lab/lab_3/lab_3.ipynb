{
 "cells": [
  {
   "cell_type": "markdown",
   "metadata": {},
   "source": [
    "---\n",
    "title: Lab 3 Singing a Song\n",
    "author: Marvin (Wenxiang) Li\n",
    "format:\n",
    "    html:\n",
    "        toc: true\n",
    "        code-fold: true\n",
    "embed-resources: true        \n",
    "---"
   ]
  },
  {
   "cell_type": "markdown",
   "metadata": {},
   "source": [
    "### Import and Clean Data"
   ]
  },
  {
   "cell_type": "code",
   "execution_count": 26,
   "metadata": {},
   "outputs": [],
   "source": [
    "import numpy as np\n",
    "import pandas as pd\n",
    "xmas = pd.read_csv(\"https://www.dropbox.com/scl/fi/qxaslqqp5p08i1650rpc4/xmas.csv?rlkey=erdxi7jbh7pqf9fh4lv4cayp5&dl=1\")"
   ]
  },
  {
   "cell_type": "markdown",
   "metadata": {},
   "source": [
    "- Rename Day.in.Words"
   ]
  },
  {
   "cell_type": "code",
   "execution_count": 27,
   "metadata": {},
   "outputs": [],
   "source": [
    "num_to_word = {\n",
    "    1: \"One\",\n",
    "    2: \"Two\",\n",
    "    3: \"Three\",\n",
    "    4: \"Four\",\n",
    "    5: \"Five\",\n",
    "    6: \"Six\",\n",
    "    7: \"Seven\",\n",
    "    8: \"Eight\",\n",
    "    9: \"Nine\",\n",
    "    10: \"Ten\",\n",
    "    11: \"Eleven\",\n",
    "    12: \"Twelve\"\n",
    "}"
   ]
  },
  {
   "cell_type": "code",
   "execution_count": 28,
   "metadata": {},
   "outputs": [],
   "source": [
    "xmas[\"Day.in.Words\"] = xmas[\"Day\"].map(num_to_word)"
   ]
  },
  {
   "cell_type": "code",
   "execution_count": 29,
   "metadata": {},
   "outputs": [
    {
     "name": "stdout",
     "output_type": "stream",
     "text": [
      "<class 'pandas.core.frame.DataFrame'>\n",
      "RangeIndex: 12 entries, 0 to 11\n",
      "Data columns (total 6 columns):\n",
      " #   Column        Non-Null Count  Dtype \n",
      "---  ------        --------------  ----- \n",
      " 0   Day           12 non-null     int64 \n",
      " 1   Day.in.Words  12 non-null     object\n",
      " 2   Gift.Item     12 non-null     object\n",
      " 3   Verb          7 non-null      object\n",
      " 4   Adjective     4 non-null      object\n",
      " 5   Location      1 non-null      object\n",
      "dtypes: int64(1), object(5)\n",
      "memory usage: 708.0+ bytes\n"
     ]
    }
   ],
   "source": [
    "xmas.info()"
   ]
  },
  {
   "cell_type": "code",
   "execution_count": 30,
   "metadata": {},
   "outputs": [
    {
     "data": {
      "text/html": [
       "<div>\n",
       "<style scoped>\n",
       "    .dataframe tbody tr th:only-of-type {\n",
       "        vertical-align: middle;\n",
       "    }\n",
       "\n",
       "    .dataframe tbody tr th {\n",
       "        vertical-align: top;\n",
       "    }\n",
       "\n",
       "    .dataframe thead th {\n",
       "        text-align: right;\n",
       "    }\n",
       "</style>\n",
       "<table border=\"1\" class=\"dataframe\">\n",
       "  <thead>\n",
       "    <tr style=\"text-align: right;\">\n",
       "      <th></th>\n",
       "      <th>Day</th>\n",
       "      <th>Day.in.Words</th>\n",
       "      <th>Gift.Item</th>\n",
       "      <th>Verb</th>\n",
       "      <th>Adjective</th>\n",
       "      <th>Location</th>\n",
       "    </tr>\n",
       "  </thead>\n",
       "  <tbody>\n",
       "    <tr>\n",
       "      <th>0</th>\n",
       "      <td>1</td>\n",
       "      <td>One</td>\n",
       "      <td>partridge</td>\n",
       "      <td>NaN</td>\n",
       "      <td>NaN</td>\n",
       "      <td>in a pear tree</td>\n",
       "    </tr>\n",
       "    <tr>\n",
       "      <th>1</th>\n",
       "      <td>2</td>\n",
       "      <td>Two</td>\n",
       "      <td>dove</td>\n",
       "      <td>NaN</td>\n",
       "      <td>turtle</td>\n",
       "      <td>NaN</td>\n",
       "    </tr>\n",
       "    <tr>\n",
       "      <th>2</th>\n",
       "      <td>3</td>\n",
       "      <td>Three</td>\n",
       "      <td>hen</td>\n",
       "      <td>NaN</td>\n",
       "      <td>french</td>\n",
       "      <td>NaN</td>\n",
       "    </tr>\n",
       "    <tr>\n",
       "      <th>3</th>\n",
       "      <td>4</td>\n",
       "      <td>Four</td>\n",
       "      <td>bird</td>\n",
       "      <td>NaN</td>\n",
       "      <td>calling</td>\n",
       "      <td>NaN</td>\n",
       "    </tr>\n",
       "    <tr>\n",
       "      <th>4</th>\n",
       "      <td>5</td>\n",
       "      <td>Five</td>\n",
       "      <td>ring</td>\n",
       "      <td>NaN</td>\n",
       "      <td>golden</td>\n",
       "      <td>NaN</td>\n",
       "    </tr>\n",
       "    <tr>\n",
       "      <th>5</th>\n",
       "      <td>6</td>\n",
       "      <td>Six</td>\n",
       "      <td>goose</td>\n",
       "      <td>a-laying</td>\n",
       "      <td>NaN</td>\n",
       "      <td>NaN</td>\n",
       "    </tr>\n",
       "    <tr>\n",
       "      <th>6</th>\n",
       "      <td>7</td>\n",
       "      <td>Seven</td>\n",
       "      <td>swan</td>\n",
       "      <td>a-swimming</td>\n",
       "      <td>NaN</td>\n",
       "      <td>NaN</td>\n",
       "    </tr>\n",
       "    <tr>\n",
       "      <th>7</th>\n",
       "      <td>8</td>\n",
       "      <td>Eight</td>\n",
       "      <td>maid</td>\n",
       "      <td>a-milking</td>\n",
       "      <td>NaN</td>\n",
       "      <td>NaN</td>\n",
       "    </tr>\n",
       "    <tr>\n",
       "      <th>8</th>\n",
       "      <td>9</td>\n",
       "      <td>Nine</td>\n",
       "      <td>lady</td>\n",
       "      <td>dancing</td>\n",
       "      <td>NaN</td>\n",
       "      <td>NaN</td>\n",
       "    </tr>\n",
       "    <tr>\n",
       "      <th>9</th>\n",
       "      <td>10</td>\n",
       "      <td>Ten</td>\n",
       "      <td>lord</td>\n",
       "      <td>a-leaping</td>\n",
       "      <td>NaN</td>\n",
       "      <td>NaN</td>\n",
       "    </tr>\n",
       "    <tr>\n",
       "      <th>10</th>\n",
       "      <td>11</td>\n",
       "      <td>Eleven</td>\n",
       "      <td>piper</td>\n",
       "      <td>piping</td>\n",
       "      <td>NaN</td>\n",
       "      <td>NaN</td>\n",
       "    </tr>\n",
       "    <tr>\n",
       "      <th>11</th>\n",
       "      <td>12</td>\n",
       "      <td>Twelve</td>\n",
       "      <td>drummer</td>\n",
       "      <td>drumming</td>\n",
       "      <td>NaN</td>\n",
       "      <td>NaN</td>\n",
       "    </tr>\n",
       "  </tbody>\n",
       "</table>\n",
       "</div>"
      ],
      "text/plain": [
       "    Day Day.in.Words  Gift.Item        Verb Adjective        Location\n",
       "0     1          One  partridge         NaN       NaN  in a pear tree\n",
       "1     2          Two       dove         NaN    turtle             NaN\n",
       "2     3        Three        hen         NaN    french             NaN\n",
       "3     4         Four       bird         NaN   calling             NaN\n",
       "4     5         Five       ring         NaN    golden             NaN\n",
       "5     6          Six      goose    a-laying       NaN             NaN\n",
       "6     7        Seven       swan  a-swimming       NaN             NaN\n",
       "7     8        Eight       maid   a-milking       NaN             NaN\n",
       "8     9         Nine       lady     dancing       NaN             NaN\n",
       "9    10          Ten       lord   a-leaping       NaN             NaN\n",
       "10   11       Eleven      piper      piping       NaN             NaN\n",
       "11   12       Twelve    drummer    drumming       NaN             NaN"
      ]
     },
     "execution_count": 30,
     "metadata": {},
     "output_type": "execute_result"
    }
   ],
   "source": [
    "xmas.head(12)"
   ]
  },
  {
   "cell_type": "markdown",
   "metadata": {},
   "source": [
    "### Function 1: pluralize_gift() Vertorized Version"
   ]
  },
  {
   "cell_type": "markdown",
   "metadata": {},
   "source": [
    "- using boolean masking to make it work with vectors. "
   ]
  },
  {
   "cell_type": "code",
   "execution_count": 31,
   "metadata": {},
   "outputs": [],
   "source": [
    "def pluralize_gift(gift):\n",
    "  regular = ~(gift.str.contains(\"oo\")) & ~(gift.str.endswith(\"y\"))\n",
    "  oo_words = gift.str.contains(\"oo\")\n",
    "  y_words = gift.str.endswith(\"y\")\n",
    "  gift[regular] = gift[regular] + 's'\n",
    "  gift[oo_words] = gift[oo_words].str.replace(\"oo\", \"ee\")\n",
    "  gift[y_words] = gift[y_words].str.replace(\"y\", \"ies\")\n",
    "\n",
    "  return gift"
   ]
  },
  {
   "cell_type": "markdown",
   "metadata": {},
   "source": [
    "- test dataset"
   ]
  },
  {
   "cell_type": "code",
   "execution_count": 32,
   "metadata": {},
   "outputs": [
    {
     "name": "stdout",
     "output_type": "stream",
     "text": [
      "0     geese\n",
      "1      cats\n",
      "2    ladies\n",
      "Name: gift, dtype: object\n"
     ]
    }
   ],
   "source": [
    "test_gift = pd.DataFrame(['goose','cat','lady'])\n",
    "test_gift = test_gift.rename(columns = {0:\"gift\"})\n",
    "print(pluralize_gift(test_gift['gift']))\n"
   ]
  },
  {
   "cell_type": "markdown",
   "metadata": {},
   "source": [
    "- test with xmas"
   ]
  },
  {
   "cell_type": "code",
   "execution_count": 33,
   "metadata": {},
   "outputs": [
    {
     "name": "stdout",
     "output_type": "stream",
     "text": [
      "0     partridges\n",
      "1          doves\n",
      "2           hens\n",
      "3          birds\n",
      "4          rings\n",
      "5          geese\n",
      "6          swans\n",
      "7          maids\n",
      "8         ladies\n",
      "9          lords\n",
      "10        pipers\n",
      "11      drummers\n",
      "Name: Gift.Item, dtype: object\n"
     ]
    },
    {
     "name": "stderr",
     "output_type": "stream",
     "text": [
      "/var/folders/m1/tx6ck0f962jd1hq4ch5phg_80000gn/T/ipykernel_82710/1128944244.py:5: SettingWithCopyWarning: \n",
      "A value is trying to be set on a copy of a slice from a DataFrame\n",
      "\n",
      "See the caveats in the documentation: https://pandas.pydata.org/pandas-docs/stable/user_guide/indexing.html#returning-a-view-versus-a-copy\n",
      "  gift[regular] = gift[regular] + 's'\n",
      "/var/folders/m1/tx6ck0f962jd1hq4ch5phg_80000gn/T/ipykernel_82710/1128944244.py:6: SettingWithCopyWarning: \n",
      "A value is trying to be set on a copy of a slice from a DataFrame\n",
      "\n",
      "See the caveats in the documentation: https://pandas.pydata.org/pandas-docs/stable/user_guide/indexing.html#returning-a-view-versus-a-copy\n",
      "  gift[oo_words] = gift[oo_words].str.replace(\"oo\", \"ee\")\n",
      "/var/folders/m1/tx6ck0f962jd1hq4ch5phg_80000gn/T/ipykernel_82710/1128944244.py:7: SettingWithCopyWarning: \n",
      "A value is trying to be set on a copy of a slice from a DataFrame\n",
      "\n",
      "See the caveats in the documentation: https://pandas.pydata.org/pandas-docs/stable/user_guide/indexing.html#returning-a-view-versus-a-copy\n",
      "  gift[y_words] = gift[y_words].str.replace(\"y\", \"ies\")\n"
     ]
    }
   ],
   "source": [
    "print(pluralize_gift(xmas['Gift.Item']))"
   ]
  },
  {
   "cell_type": "markdown",
   "metadata": {},
   "source": [
    "### Function 2: make_phrase()"
   ]
  },
  {
   "cell_type": "code",
   "execution_count": 34,
   "metadata": {},
   "outputs": [],
   "source": [
    "\n",
    "def make_phrase(day, num_word, gift, verb, adjective, location):\n",
    "    \"\"\"\n",
    "    Constructs a phrase based on the given parameters: day, num_word, gift, verb, adjective, and location.\n",
    "    All inputs can be single values or pandas Series.\n",
    "    \"\"\"\n",
    "    # Convert all inputs to pandas Series\n",
    "    day = pd.Series(day)\n",
    "    num_word = pd.Series(num_word)\n",
    "    gift = pd.Series(gift)\n",
    "    verb = pd.Series(verb)  \n",
    "    adjective = pd.Series(adjective)\n",
    "    location = pd.Series(location)\n",
    "\n",
    "    ## Step 1: Replace NAs with blank strings\n",
    "    verb = verb.fillna(\"\")   # .fillna works only with vector or dataframe\n",
    "    adjective = adjective.fillna(\"\")\n",
    "    location = location.fillna(\"\")\n",
    "\n",
    "    # Step 2: Pluralize gift items where day > 1\n",
    "    pluralize_mask = day > 1\n",
    "    gift[pluralize_mask] = pluralize_gift(gift[pluralize_mask])\n",
    "\n",
    "    # Step 3: Check if the gift item starts with a vowel\n",
    "    vowel_start = gift.str.startswith(('A', 'E', 'I', 'O', 'U', 'a', 'e', 'i', 'o', 'u'))\n",
    "    # [0] indicate the first character of the string\n",
    "\n",
    "    # Step 4: Create the article based on day and vowel start\n",
    "    article = np.where(day == 1, np.where(vowel_start, \"An\", \"A\"), num_word)\n",
    "\n",
    "    # Step 5: Construct the phrase\n",
    "    phrase = article + \" \" + gift + \" \" + verb\n",
    "    phrase = phrase.str.strip()  # Remove any extra whitespace\n",
    "\n",
    "    # Add adjective and location if they are not empty\n",
    "    phrase += np.where(adjective.str.len() > 0, \" \" + adjective, \"\")\n",
    "    phrase += np.where(location.str.len() > 0, \" \" + location, \"\")\n",
    "\n",
    "    return phrase.str.strip()  # Return the phrase without extra spaces"
   ]
  },
  {
   "cell_type": "markdown",
   "metadata": {},
   "source": [
    "- Apply the make_phrase function"
   ]
  },
  {
   "cell_type": "code",
   "execution_count": 35,
   "metadata": {},
   "outputs": [
    {
     "name": "stdout",
     "output_type": "stream",
     "text": [
      "0     A partridges in a pear tree\n",
      "1               Two dovess turtle\n",
      "2              Three henss french\n",
      "3             Four birdss calling\n",
      "4              Five ringss golden\n",
      "5             Six geeses a-laying\n",
      "6         Seven swanss a-swimming\n",
      "7          Eight maidss a-milking\n",
      "8            Nine ladiess dancing\n",
      "9            Ten lordss a-leaping\n",
      "10          Eleven piperss piping\n",
      "11      Twelve drummerss drumming\n",
      "Name: Full.Phrase, dtype: object\n"
     ]
    }
   ],
   "source": [
    "xmas['Full.Phrase'] = xmas.apply(\n",
    "    lambda row: make_phrase(\n",
    "        row['Day'],\n",
    "        row['Day.in.Words'],\n",
    "        row['Gift.Item'],\n",
    "        row['Verb'],\n",
    "        row['Adjective'],\n",
    "        row['Location']\n",
    "    ),\n",
    "    axis=1\n",
    ")\n",
    "\n",
    "# Print the DataFrame to see the results\n",
    "print(xmas[['Full.Phrase'][0]])"
   ]
  },
  {
   "cell_type": "markdown",
   "metadata": {},
   "source": [
    "### Function 3: sing_day()"
   ]
  },
  {
   "cell_type": "markdown",
   "metadata": {},
   "source": [
    "- check index"
   ]
  },
  {
   "cell_type": "code",
   "execution_count": 36,
   "metadata": {},
   "outputs": [
    {
     "name": "stdout",
     "output_type": "stream",
     "text": [
      "A partridges in a pear tree\n",
      "Two dovess turtle\n"
     ]
    }
   ],
   "source": [
    "print(xmas['Full.Phrase'][0])\n",
    "print(xmas['Full.Phrase'][1])   "
   ]
  },
  {
   "cell_type": "markdown",
   "metadata": {},
   "source": [
    "- A inner loop is the key to make the song work. Nth attemp of the outer loop = N times attemps in the inner loop"
   ]
  },
  {
   "cell_type": "code",
   "execution_count": 37,
   "metadata": {},
   "outputs": [],
   "source": [
    "def sing_day(df, day_number, Full_Phrase):\n",
    "  Full_Phrase = df[Full_Phrase]\n",
    "  # dictonary for day_number\n",
    "  num_word = {1: \"first\", 2: \"second\", 3: \"third\",\n",
    "    4: \"fourth\", 5: \"fifth\", 6: \"sixth\",\n",
    "    7: \"seventh\", 8: \"eighth\", 9: \"nineth\",\n",
    "    10: \"tenth\", 11: \"eleventh\", 12: \"twelfth\"\n",
    "    }\n",
    "  \n",
    "  song = \"\"\n",
    "  for i in range(day_number,0,-1):\n",
    "    intro = \"On the \" + num_word[i] + \" day of Christmas, my true love sent to me:\" + \"\\n\" \n",
    "    song = song + intro\n",
    "\n",
    "    for j in range(i, 0, -1): \n",
    "      if i > 1 and j == 1:\n",
    "        song += \"and \" + Full_Phrase[j - 1] + \".\"  + \"\\n\"\n",
    "      else:\n",
    "        song += Full_Phrase[j - 1] + \",\"  + \"\\n\"\n",
    "\n",
    "    song += \"\\n\" \n",
    "  return song.strip() "
   ]
  },
  {
   "cell_type": "markdown",
   "metadata": {},
   "source": [
    "- check function"
   ]
  },
  {
   "cell_type": "code",
   "execution_count": 39,
   "metadata": {},
   "outputs": [
    {
     "name": "stdout",
     "output_type": "stream",
     "text": [
      "On the fifth day of Christmas, my true love sent to me:\n",
      "Five ringss golden,\n",
      "Four birdss calling,\n",
      "Three henss french,\n",
      "Two dovess turtle,\n",
      "and A partridges in a pear tree.\n",
      "\n",
      "On the fourth day of Christmas, my true love sent to me:\n",
      "Four birdss calling,\n",
      "Three henss french,\n",
      "Two dovess turtle,\n",
      "and A partridges in a pear tree.\n",
      "\n",
      "On the third day of Christmas, my true love sent to me:\n",
      "Three henss french,\n",
      "Two dovess turtle,\n",
      "and A partridges in a pear tree.\n",
      "\n",
      "On the second day of Christmas, my true love sent to me:\n",
      "Two dovess turtle,\n",
      "and A partridges in a pear tree.\n",
      "\n",
      "On the first day of Christmas, my true love sent to me:\n",
      "A partridges in a pear tree,\n"
     ]
    }
   ],
   "source": [
    "print(sing_day(xmas, 5, 'Full.Phrase'))"
   ]
  },
  {
   "cell_type": "code",
   "execution_count": 40,
   "metadata": {},
   "outputs": [],
   "source": [
    "xmas2 = pd.read_csv(\"https://www.dropbox.com/scl/fi/p9x9k8xwuzs9rhp582vfy/xmas_2.csv?rlkey=kvc3j3lmyn4opcidsrhcmrof1&dl=1\")"
   ]
  },
  {
   "cell_type": "code",
   "execution_count": 41,
   "metadata": {},
   "outputs": [
    {
     "data": {
      "text/html": [
       "<div>\n",
       "<style scoped>\n",
       "    .dataframe tbody tr th:only-of-type {\n",
       "        vertical-align: middle;\n",
       "    }\n",
       "\n",
       "    .dataframe tbody tr th {\n",
       "        vertical-align: top;\n",
       "    }\n",
       "\n",
       "    .dataframe thead th {\n",
       "        text-align: right;\n",
       "    }\n",
       "</style>\n",
       "<table border=\"1\" class=\"dataframe\">\n",
       "  <thead>\n",
       "    <tr style=\"text-align: right;\">\n",
       "      <th></th>\n",
       "      <th>Day</th>\n",
       "      <th>Day.in.Words</th>\n",
       "      <th>Gift.Item</th>\n",
       "      <th>Verb</th>\n",
       "      <th>Adjective</th>\n",
       "      <th>Location</th>\n",
       "    </tr>\n",
       "  </thead>\n",
       "  <tbody>\n",
       "    <tr>\n",
       "      <th>0</th>\n",
       "      <td>1</td>\n",
       "      <td>first</td>\n",
       "      <td>email</td>\n",
       "      <td>NaN</td>\n",
       "      <td>NaN</td>\n",
       "      <td>from Cal Poly</td>\n",
       "    </tr>\n",
       "    <tr>\n",
       "      <th>1</th>\n",
       "      <td>2</td>\n",
       "      <td>second</td>\n",
       "      <td>point</td>\n",
       "      <td>NaN</td>\n",
       "      <td>meal</td>\n",
       "      <td>NaN</td>\n",
       "    </tr>\n",
       "    <tr>\n",
       "      <th>2</th>\n",
       "      <td>3</td>\n",
       "      <td>third</td>\n",
       "      <td>pen</td>\n",
       "      <td>NaN</td>\n",
       "      <td>lost</td>\n",
       "      <td>NaN</td>\n",
       "    </tr>\n",
       "    <tr>\n",
       "      <th>3</th>\n",
       "      <td>4</td>\n",
       "      <td>fourth</td>\n",
       "      <td>review</td>\n",
       "      <td>NaN</td>\n",
       "      <td>course</td>\n",
       "      <td>NaN</td>\n",
       "    </tr>\n",
       "    <tr>\n",
       "      <th>4</th>\n",
       "      <td>5</td>\n",
       "      <td>fifth</td>\n",
       "      <td>exam</td>\n",
       "      <td>NaN</td>\n",
       "      <td>practice</td>\n",
       "      <td>NaN</td>\n",
       "    </tr>\n",
       "  </tbody>\n",
       "</table>\n",
       "</div>"
      ],
      "text/plain": [
       "   Day Day.in.Words Gift.Item Verb Adjective       Location\n",
       "0    1        first     email  NaN       NaN  from Cal Poly\n",
       "1    2       second     point  NaN      meal            NaN\n",
       "2    3        third       pen  NaN      lost            NaN\n",
       "3    4       fourth    review  NaN    course            NaN\n",
       "4    5        fifth      exam  NaN  practice            NaN"
      ]
     },
     "execution_count": 41,
     "metadata": {},
     "output_type": "execute_result"
    }
   ],
   "source": [
    "xmas2.head()"
   ]
  },
  {
   "cell_type": "markdown",
   "metadata": {},
   "source": [
    "- Apply make_phrase() and song_day() to xmas2"
   ]
  },
  {
   "cell_type": "code",
   "execution_count": 42,
   "metadata": {},
   "outputs": [],
   "source": [
    "xmas2[\"Day.in.Words\"] = xmas2[\"Day\"].map(num_to_word)"
   ]
  },
  {
   "cell_type": "code",
   "execution_count": 43,
   "metadata": {},
   "outputs": [
    {
     "name": "stdout",
     "output_type": "stream",
     "text": [
      "                   Full.Phrase\n",
      "0       An email from Cal Poly\n",
      "1              Two points meal\n",
      "2              Three pens lost\n",
      "3          Four reviews course\n",
      "4          Five exams practice\n",
      "5          Six graders grading\n",
      "6      Seven seniors stressing\n",
      "7         Eight moms a-calling\n",
      "8         Nine parties bumping\n",
      "9         Ten loads of laundry\n",
      "10  Eleven friends goodbye-ing\n",
      "11       Twelve hours sleeping\n"
     ]
    }
   ],
   "source": [
    "xmas2['Full.Phrase'] = xmas2.apply(\n",
    "    lambda row: make_phrase(\n",
    "        row['Day'],\n",
    "        row['Day.in.Words'],\n",
    "        row['Gift.Item'],\n",
    "        row['Verb'],\n",
    "        row['Adjective'],\n",
    "        row['Location']\n",
    "    ),\n",
    "    axis=1\n",
    ")\n",
    "\n",
    "# Print the DataFrame to see the results\n",
    "print(xmas2[['Full.Phrase']])"
   ]
  },
  {
   "cell_type": "code",
   "execution_count": 44,
   "metadata": {},
   "outputs": [
    {
     "name": "stdout",
     "output_type": "stream",
     "text": [
      "On the twelfth day of Christmas, my true love sent to me:\n",
      "Twelve hours sleeping,\n",
      "Eleven friends goodbye-ing,\n",
      "Ten loads of laundry,\n",
      "Nine parties bumping,\n",
      "Eight moms a-calling,\n",
      "Seven seniors stressing,\n",
      "Six graders grading,\n",
      "Five exams practice,\n",
      "Four reviews course,\n",
      "Three pens lost,\n",
      "Two points meal,\n",
      "and An email from Cal Poly.\n",
      "\n",
      "On the eleventh day of Christmas, my true love sent to me:\n",
      "Eleven friends goodbye-ing,\n",
      "Ten loads of laundry,\n",
      "Nine parties bumping,\n",
      "Eight moms a-calling,\n",
      "Seven seniors stressing,\n",
      "Six graders grading,\n",
      "Five exams practice,\n",
      "Four reviews course,\n",
      "Three pens lost,\n",
      "Two points meal,\n",
      "and An email from Cal Poly.\n",
      "\n",
      "On the tenth day of Christmas, my true love sent to me:\n",
      "Ten loads of laundry,\n",
      "Nine parties bumping,\n",
      "Eight moms a-calling,\n",
      "Seven seniors stressing,\n",
      "Six graders grading,\n",
      "Five exams practice,\n",
      "Four reviews course,\n",
      "Three pens lost,\n",
      "Two points meal,\n",
      "and An email from Cal Poly.\n",
      "\n",
      "On the nineth day of Christmas, my true love sent to me:\n",
      "Nine parties bumping,\n",
      "Eight moms a-calling,\n",
      "Seven seniors stressing,\n",
      "Six graders grading,\n",
      "Five exams practice,\n",
      "Four reviews course,\n",
      "Three pens lost,\n",
      "Two points meal,\n",
      "and An email from Cal Poly.\n",
      "\n",
      "On the eighth day of Christmas, my true love sent to me:\n",
      "Eight moms a-calling,\n",
      "Seven seniors stressing,\n",
      "Six graders grading,\n",
      "Five exams practice,\n",
      "Four reviews course,\n",
      "Three pens lost,\n",
      "Two points meal,\n",
      "and An email from Cal Poly.\n",
      "\n",
      "On the seventh day of Christmas, my true love sent to me:\n",
      "Seven seniors stressing,\n",
      "Six graders grading,\n",
      "Five exams practice,\n",
      "Four reviews course,\n",
      "Three pens lost,\n",
      "Two points meal,\n",
      "and An email from Cal Poly.\n",
      "\n",
      "On the sixth day of Christmas, my true love sent to me:\n",
      "Six graders grading,\n",
      "Five exams practice,\n",
      "Four reviews course,\n",
      "Three pens lost,\n",
      "Two points meal,\n",
      "and An email from Cal Poly.\n",
      "\n",
      "On the fifth day of Christmas, my true love sent to me:\n",
      "Five exams practice,\n",
      "Four reviews course,\n",
      "Three pens lost,\n",
      "Two points meal,\n",
      "and An email from Cal Poly.\n",
      "\n",
      "On the fourth day of Christmas, my true love sent to me:\n",
      "Four reviews course,\n",
      "Three pens lost,\n",
      "Two points meal,\n",
      "and An email from Cal Poly.\n",
      "\n",
      "On the third day of Christmas, my true love sent to me:\n",
      "Three pens lost,\n",
      "Two points meal,\n",
      "and An email from Cal Poly.\n",
      "\n",
      "On the second day of Christmas, my true love sent to me:\n",
      "Two points meal,\n",
      "and An email from Cal Poly.\n",
      "\n",
      "On the first day of Christmas, my true love sent to me:\n",
      "An email from Cal Poly,\n"
     ]
    }
   ],
   "source": [
    "print(sing_day(xmas2, 12, 'Full.Phrase'))"
   ]
  }
 ],
 "metadata": {
  "kernelspec": {
   "display_name": "base",
   "language": "python",
   "name": "python3"
  },
  "language_info": {
   "codemirror_mode": {
    "name": "ipython",
    "version": 3
   },
   "file_extension": ".py",
   "mimetype": "text/x-python",
   "name": "python",
   "nbconvert_exporter": "python",
   "pygments_lexer": "ipython3",
   "version": "3.12.4"
  }
 },
 "nbformat": 4,
 "nbformat_minor": 2
}
