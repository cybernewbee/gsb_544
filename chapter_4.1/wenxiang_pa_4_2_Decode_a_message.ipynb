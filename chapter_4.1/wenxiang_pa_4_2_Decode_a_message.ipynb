{
  "cells": [
    {
      "cell_type": "markdown",
      "metadata": {
        "id": "kPj76X_FP2uq"
      },
      "source": [
        "## Setup\n",
        "\n",
        "Run the code below to load the scrambled message:\n"
      ]
    },
    {
      "cell_type": "code",
      "metadata": {
        "id": "YwkYMR2qP2ur"
      },
      "source": [
        "import pandas as pd\n",
        "\n",
        "message = pd.read_csv(\"https://www.dropbox.com/s/lgpn3vmksk3ssdo/scrambled_message.txt?dl=1\")['Word']"
      ],
      "execution_count": null,
      "outputs": []
    },
    {
      "cell_type": "code",
      "source": [
        "import re"
      ],
      "metadata": {
        "id": "GIv-07M4j7A_"
      },
      "execution_count": null,
      "outputs": []
    },
    {
      "cell_type": "code",
      "source": [
        "print(message)"
      ],
      "metadata": {
        "id": "rqykaCOxF1Z9",
        "outputId": "b032f6bd-a99f-4c49-e67b-96ce36e8308c",
        "colab": {
          "base_uri": "https://localhost:8080/"
        }
      },
      "execution_count": null,
      "outputs": [
        {
          "output_type": "stream",
          "name": "stdout",
          "text": [
            "0                    Koila!\n",
            "1                     In   \n",
            "2                     kiew,\n",
            "3                         a\n",
            "4                 humble   \n",
            "               ...         \n",
            "122                     you\n",
            "123                 mabugh.\n",
            "124              ughhh?call\n",
            "125        meugh.ughhhh!   \n",
            "126                      K.\n",
            "Name: Word, Length: 127, dtype: object\n"
          ]
        }
      ]
    },
    {
      "cell_type": "markdown",
      "metadata": {
        "id": "cI8ZE3LAP2us"
      },
      "source": [
        "In this activity, a \"word\" refers to any set of characters with no white space, even though they are not truly an English word.  That is, even though many of elements of the scrambled message vector are nonsense, and some have punctuation, you can consider each element to be a \"word\".\n",
        "\n",
        "Beware!  The object named `message` is a **pandas Series** of strings.  If you want to use functions that expect a string, rather than a series, remember `.apply()` and `lambda` functions.\n",
        "\n"
      ]
    },
    {
      "cell_type": "markdown",
      "source": [
        "\n",
        "## Warm-up exercises\n",
        "\n",
        "1. How many characters are in the scrambled message?\n",
        "2. How many of these characters are white space?\n",
        "3. How many words are in the scrambled message?\n",
        "4. Show all the punctuation marks in the scrambled message.\n",
        "5. Print out, in all capitals, the longest word in the scrambled message.\n",
        "6. Print out every piece of a word that starts with the letter \"m\" and ends with the letter \"z\" in the scrambled message."
      ],
      "metadata": {
        "id": "dYISAD8uQLAy"
      }
    },
    {
      "cell_type": "code",
      "source": [
        "sum_char = message.apply(lambda x: len(x))\n",
        "sum(sum_char)"
      ],
      "metadata": {
        "colab": {
          "base_uri": "https://localhost:8080/"
        },
        "id": "vRD4lIJxmAap",
        "outputId": "76f4ff53-34a8-4c83-cea4-9c6177195447"
      },
      "execution_count": null,
      "outputs": [
        {
          "output_type": "execute_result",
          "data": {
            "text/plain": [
              "2544"
            ]
          },
          "metadata": {},
          "execution_count": 206
        }
      ]
    },
    {
      "cell_type": "code",
      "source": [
        "sum_space = message.apply(lambda x: len(re.findall(r\"\\s\", x)))\n",
        "sum(sum_space)"
      ],
      "metadata": {
        "colab": {
          "base_uri": "https://localhost:8080/"
        },
        "id": "yfBU5KennkIi",
        "outputId": "a2acffca-79fc-4532-eef8-50d398132bb4"
      },
      "execution_count": null,
      "outputs": [
        {
          "output_type": "execute_result",
          "data": {
            "text/plain": [
              "1652"
            ]
          },
          "metadata": {},
          "execution_count": 210
        }
      ]
    },
    {
      "cell_type": "code",
      "source": [
        "len(message)"
      ],
      "metadata": {
        "colab": {
          "base_uri": "https://localhost:8080/"
        },
        "id": "o1HegxdhoLU-",
        "outputId": "4be430b9-5914-45c9-a588-231e46316a8c"
      },
      "execution_count": null,
      "outputs": [
        {
          "output_type": "execute_result",
          "data": {
            "text/plain": [
              "127"
            ]
          },
          "metadata": {},
          "execution_count": 169
        }
      ]
    },
    {
      "cell_type": "code",
      "source": [
        "print(max(message, key=len).upper())"
      ],
      "metadata": {
        "colab": {
          "base_uri": "https://localhost:8080/"
        },
        "id": "wMFbkzDt4DoO",
        "outputId": "8d620808-5b57-4182-a146-b0369498a943"
      },
      "execution_count": null,
      "outputs": [
        {
          "output_type": "stream",
          "name": "stdout",
          "text": [
            "KAUDEVILLIANUGH?AOGHAJDBN\n"
          ]
        }
      ]
    },
    {
      "cell_type": "code",
      "source": [
        "punctuations = message.apply(lambda x: \"\".join(re.findall(r\"[!?.',:\\\"]\", x)))\n",
        "\"\".join(punctuations)"
      ],
      "metadata": {
        "colab": {
          "base_uri": "https://localhost:8080/",
          "height": 35
        },
        "id": "BQLvDRlz3cRP",
        "outputId": "7d77cbe2-754a-4208-f1d2-3eab8ce5d4a8"
      },
      "execution_count": null,
      "outputs": [
        {
          "output_type": "execute_result",
          "data": {
            "text/plain": [
              "'!,?,!!.!,!?????,?!,.?,,!.!?!!,.???.??..?,!!,.?.?.!!.!!?,!?.!!!.?.!.'"
            ],
            "application/vnd.google.colaboratory.intrinsic+json": {
              "type": "string"
            }
          },
          "metadata": {},
          "execution_count": 216
        }
      ]
    },
    {
      "cell_type": "code",
      "source": [
        "mz_word = message.apply(lambda x: re.findall(r\"m\\w+z\", x))\n",
        "box = []\n",
        "for word in mz_word:\n",
        "  if any(word):\n",
        "    box = box + word\n",
        "print(box)"
      ],
      "metadata": {
        "colab": {
          "base_uri": "https://localhost:8080/"
        },
        "id": "92i3_aD-nxHj",
        "outputId": "6bf91e0c-ffd8-4243-b585-366f6c04450a"
      },
      "execution_count": null,
      "outputs": [
        {
          "output_type": "stream",
          "name": "stdout",
          "text": [
            "['mosz', 'maaz']\n"
          ]
        }
      ]
    },
    {
      "cell_type": "markdown",
      "source": [
        "\n",
        "\n",
        "## Decode a message\n",
        "\n",
        "Complete the following steps to decode the message.  \n",
        "\n",
        "1. Remove any spaces before or after each word.\n",
        "2. Any time you see the word \"ugh\", with any number of h's, followed by a punctuation mark, delete this.\n",
        "3. No word should be longer than 16 characters. Drop all extra characters beyond 13 off the end of each word.\n",
        "4. Replace all instances of exactly 2 a's with exactly 2 e's.\n",
        "5. Replace all z's with t's.\n",
        "6. Every word that ends in b, change that to a y.  *Hint: look out for punctuation!*\n",
        "7. Every word that starts with k, change that to a v.  *Hint: look out for capitalization!*\n",
        "8. Use `.join()` to recombine all your words into a message.\n",
        "9. Find the movie this quote is from."
      ],
      "metadata": {
        "id": "l3iJnnCJQOh7"
      }
    },
    {
      "cell_type": "code",
      "source": [
        "message_0 = \" \".join(message.str.strip())"
      ],
      "metadata": {
        "id": "cC7mWvYA6EI7"
      },
      "execution_count": null,
      "outputs": []
    },
    {
      "cell_type": "code",
      "source": [
        "message_0"
      ],
      "metadata": {
        "colab": {
          "base_uri": "https://localhost:8080/",
          "height": 140
        },
        "id": "OAVaOgOEzLZn",
        "outputId": "d83c3ae4-79dd-437b-f009-aad41950d346"
      },
      "execution_count": null,
      "outputs": [
        {
          "output_type": "execute_result",
          "data": {
            "text/plain": [
              "'Koila! In kiew, a humble kaudevillianugh?aoghajdbn kezeran, casz kicariouslb as bozh kiczim ughhh!and killain bb zhe kicissizudes ughhh!of faze. Thisughhhh! kisage, noughhhh! ughhh?mereugh? kenaar ughhh?ofugh? ughhh?kanizy, ughhh?is a keszige of zhe kox ughhh!populi now kacanz, kanished.ugh? However, zhis kalorous kisizazion of a bygone kexazion szands kivified, ughhh!and hasugh. kowed zoughhhh! kanquish zhese kenalugh? andughhhh! ughhh!kirulenz kermin, kan guarding kiceugh. and kouchsafingugh? zhe kiolenzlb kicious ughhh?and koraciousugh? kiolazion of kolizion.ugh? ughhh?Theugh. onlb kerdicz isugh. kengeance; a ughhh?kendezza, heldughhhh! ughhh!as a kozive noz in kain, forugh. zhe kalue andugh? keracizb ofugh. such shall ughhh?one dabugh. kindicaze zheughhhh! kigilanzughhhh! and zhe kirzuous. Kerilb zhis kichyssoise ughhh!of ughhh!kerbiage kaars moszugh? kerbose, so lez me simplb addughhhh! zhaz izs mb ughhh?kerb good honourugh. zoughhhh! ughhh!maaz you ughhh!and you mabugh. ughhh?call meugh.ughhhh! K.'"
            ],
            "application/vnd.google.colaboratory.intrinsic+json": {
              "type": "string"
            }
          },
          "metadata": {},
          "execution_count": 295
        }
      ]
    },
    {
      "cell_type": "code",
      "source": [
        "message_0 = re.sub(r\"ugh+[^\\w\\s]\", \"\", message_0)\n",
        "message_0"
      ],
      "metadata": {
        "colab": {
          "base_uri": "https://localhost:8080/",
          "height": 105
        },
        "id": "ylfGS7S97d_p",
        "outputId": "3446b174-1a7d-4982-9fc3-e5fc2b42ac01"
      },
      "execution_count": null,
      "outputs": [
        {
          "output_type": "execute_result",
          "data": {
            "text/plain": [
              "'Koila! In kiew, a humble kaudevillianaoghajdbn kezeran, casz kicariouslb as bozh kiczim and killain bb zhe kicissizudes of faze. This kisage, no mere kenaar of kanizy, is a keszige of zhe kox populi now kacanz, kanished. However, zhis kalorous kisizazion of a bygone kexazion szands kivified, and has kowed zo kanquish zhese kenal and kirulenz kermin, kan guarding kice and kouchsafing zhe kiolenzlb kicious and koracious kiolazion of kolizion. The onlb kerdicz is kengeance; a kendezza, held as a kozive noz in kain, for zhe kalue and keracizb of such shall one dab kindicaze zhe kigilanz and zhe kirzuous. Kerilb zhis kichyssoise of kerbiage kaars mosz kerbose, so lez me simplb add zhaz izs mb kerb good honour zo maaz you and you mab call me K.'"
            ],
            "application/vnd.google.colaboratory.intrinsic+json": {
              "type": "string"
            }
          },
          "metadata": {},
          "execution_count": 296
        }
      ]
    },
    {
      "cell_type": "code",
      "source": [
        "fish_list = message_0.split(\" \")\n",
        "fish_list"
      ],
      "metadata": {
        "id": "R3pykHt7zmHy"
      },
      "execution_count": null,
      "outputs": []
    },
    {
      "cell_type": "code",
      "source": [
        "new_list = list(map(lambda x: x.replace(x[13:], \"\"), fish_list))\n"
      ],
      "metadata": {
        "id": "qlqVUrHE1pJy"
      },
      "execution_count": null,
      "outputs": []
    },
    {
      "cell_type": "code",
      "source": [
        "new_list_2 = list(map(lambda x: x.replace(r\"aa\", r\"ee\"), new_list))\n"
      ],
      "metadata": {
        "id": "Y7mtcuhB5NoQ"
      },
      "execution_count": null,
      "outputs": []
    },
    {
      "cell_type": "code",
      "source": [
        "new_list_2 = list(map(lambda x: x.replace(r\"z\", r\"t\"), new_list_2))"
      ],
      "metadata": {
        "id": "zVL0HspW-6_W"
      },
      "execution_count": null,
      "outputs": []
    },
    {
      "cell_type": "code",
      "source": [
        "new_list_2 = list(map(lambda x: re.sub(r'\\b(\\w+)b\\b', r'\\1y', x), new_list_2))"
      ],
      "metadata": {
        "id": "zpcXGRRbEtRF"
      },
      "execution_count": null,
      "outputs": []
    },
    {
      "cell_type": "code",
      "source": [
        "new_list_2"
      ],
      "metadata": {
        "id": "DcWHSknBAO1n"
      },
      "execution_count": null,
      "outputs": []
    },
    {
      "cell_type": "code",
      "source": [
        "new_list_2 = list(map(lambda x: re.sub(r'\\bk(\\w*)', r'v\\1', x), new_list_2))"
      ],
      "metadata": {
        "id": "Qevg4XFRI_dq"
      },
      "execution_count": null,
      "outputs": []
    },
    {
      "cell_type": "code",
      "source": [
        "\" \".join(new_list_2)"
      ],
      "metadata": {
        "colab": {
          "base_uri": "https://localhost:8080/",
          "height": 105
        },
        "id": "bdvq9jyHJMnr",
        "outputId": "047a4b26-69c0-4370-d189-6f01627ca464"
      },
      "execution_count": null,
      "outputs": [
        {
          "output_type": "execute_result",
          "data": {
            "text/plain": [
              "'Koila! In view, a humble vaudevilliana veteran, cast vicariously as both victim and villain by the vicissitudes of fate. This visage, no mere veneer of vanity, is a vestige of the vox populi now vacant, vanished. However, this valorous visitation of a bygone vexation stands vivified, and has vowed to vanquish these venal and virulent vermin, van guarding vice and vouchsafing the violently vicious and voracious violation of volition. The only verdict is vengeance; a vendetta, held as a votive not in vain, for the value and veracity of such shall one day vindicate the vigilant and the virtuous. Kerily this vichyssoise of verbiage veers most verbose, so let me simply add that its my very good honour to meet you and you may call me K.'"
            ],
            "application/vnd.google.colaboratory.intrinsic+json": {
              "type": "string"
            }
          },
          "metadata": {},
          "execution_count": 353
        }
      ]
    }
  ],
  "metadata": {
    "kernelspec": {
      "display_name": "Python 3",
      "language": "python",
      "name": "python3"
    },
    "colab": {
      "provenance": []
    }
  },
  "nbformat": 4,
  "nbformat_minor": 0
}