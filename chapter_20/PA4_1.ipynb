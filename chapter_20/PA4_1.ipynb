{
  "cells": [
    {
      "cell_type": "markdown",
      "metadata": {},
      "source": [
        "---\n",
        "title: PA 4\n",
        "author: Marvin (Wenxiang) Li\n",
        "format:\n",
        "    html:\n",
        "        toc: true\n",
        "        code-fold: true\n",
        "embed-resources: true\n",
        "---"
      ]
    },
    {
      "cell_type": "markdown",
      "metadata": {},
      "source": [
        "#### 1. Prepare the data\n",
        "\n",
        "```{r}"
      ]
    },
    {
      "cell_type": "code",
      "execution_count": 49,
      "metadata": {
        "colab": {
          "base_uri": "https://localhost:8080/",
          "height": 466
        },
        "id": "g6ukBXdvjrFf",
        "outputId": "025a4646-3a0e-4187-c81d-243a01a8fa0f"
      },
      "outputs": [
        {
          "name": "stderr",
          "output_type": "stream",
          "text": [
            "<ipython-input-49-3a347ef91824>:10: DeprecationWarning: load_dataset is deprecated and will be removed in future version.\n",
            "  cleansingWine = kagglehub.load_dataset(\n"
          ]
        },
        {
          "name": "stdout",
          "output_type": "stream",
          "text": [
            "Warning: Looks like you're using an outdated `kagglehub` version (installed: 0.3.11), please consider upgrading to the latest version (0.3.12).\n"
          ]
        },
        {
          "name": "stderr",
          "output_type": "stream",
          "text": [
            "/usr/local/lib/python3.11/dist-packages/kagglehub/pandas_datasets.py:91: DtypeWarning: Columns (8,19,20) have mixed types. Specify dtype option on import or set low_memory=False.\n",
            "  result = read_function(\n"
          ]
        },
        {
          "data": {
            "application/vnd.google.colaboratory.intrinsic+json": {
              "type": "dataframe",
              "variable_name": "cleansingWine"
            },
            "text/html": [
              "\n",
              "  <div id=\"df-aac3c6ee-9065-4ccf-bf96-c8a07ea44218\" class=\"colab-df-container\">\n",
              "    <div>\n",
              "<style scoped>\n",
              "    .dataframe tbody tr th:only-of-type {\n",
              "        vertical-align: middle;\n",
              "    }\n",
              "\n",
              "    .dataframe tbody tr th {\n",
              "        vertical-align: top;\n",
              "    }\n",
              "\n",
              "    .dataframe thead th {\n",
              "        text-align: right;\n",
              "    }\n",
              "</style>\n",
              "<table border=\"1\" class=\"dataframe\">\n",
              "  <thead>\n",
              "    <tr style=\"text-align: right;\">\n",
              "      <th></th>\n",
              "      <th>Unnamed: 0</th>\n",
              "      <th>id</th>\n",
              "      <th>name</th>\n",
              "      <th>producer</th>\n",
              "      <th>nation</th>\n",
              "      <th>local1</th>\n",
              "      <th>local2</th>\n",
              "      <th>local3</th>\n",
              "      <th>local4</th>\n",
              "      <th>varieties1</th>\n",
              "      <th>...</th>\n",
              "      <th>use</th>\n",
              "      <th>abv</th>\n",
              "      <th>degree</th>\n",
              "      <th>sweet</th>\n",
              "      <th>acidity</th>\n",
              "      <th>body</th>\n",
              "      <th>tannin</th>\n",
              "      <th>price</th>\n",
              "      <th>year</th>\n",
              "      <th>ml</th>\n",
              "    </tr>\n",
              "  </thead>\n",
              "  <tbody>\n",
              "    <tr>\n",
              "      <th>0</th>\n",
              "      <td>0</td>\n",
              "      <td>137197</td>\n",
              "      <td>Altair</td>\n",
              "      <td>Altair</td>\n",
              "      <td>Chile</td>\n",
              "      <td>Rapel Valley</td>\n",
              "      <td>NaN</td>\n",
              "      <td>NaN</td>\n",
              "      <td>NaN</td>\n",
              "      <td>Cabernet Sauvignon</td>\n",
              "      <td>...</td>\n",
              "      <td>Table</td>\n",
              "      <td>14~15</td>\n",
              "      <td>17~19</td>\n",
              "      <td>SWEET1</td>\n",
              "      <td>ACIDITY4</td>\n",
              "      <td>BODY5</td>\n",
              "      <td>TANNIN4</td>\n",
              "      <td>220000</td>\n",
              "      <td>2014</td>\n",
              "      <td>750</td>\n",
              "    </tr>\n",
              "    <tr>\n",
              "      <th>1</th>\n",
              "      <td>1</td>\n",
              "      <td>137198</td>\n",
              "      <td>Altair, Sideral</td>\n",
              "      <td>Altair</td>\n",
              "      <td>Chile</td>\n",
              "      <td>Rapel Valley</td>\n",
              "      <td>NaN</td>\n",
              "      <td>NaN</td>\n",
              "      <td>NaN</td>\n",
              "      <td>Cabernet Sauvignon</td>\n",
              "      <td>...</td>\n",
              "      <td>Table</td>\n",
              "      <td>14~15</td>\n",
              "      <td>16~18</td>\n",
              "      <td>SWEET1</td>\n",
              "      <td>ACIDITY3</td>\n",
              "      <td>BODY4</td>\n",
              "      <td>TANNIN4</td>\n",
              "      <td>110000</td>\n",
              "      <td>2016</td>\n",
              "      <td>750</td>\n",
              "    </tr>\n",
              "    <tr>\n",
              "      <th>2</th>\n",
              "      <td>2</td>\n",
              "      <td>137199</td>\n",
              "      <td>Baron du Val Red</td>\n",
              "      <td>Baron du Val</td>\n",
              "      <td>France</td>\n",
              "      <td>NaN</td>\n",
              "      <td>NaN</td>\n",
              "      <td>NaN</td>\n",
              "      <td>NaN</td>\n",
              "      <td>Carignan</td>\n",
              "      <td>...</td>\n",
              "      <td>Table</td>\n",
              "      <td>11~12</td>\n",
              "      <td>15~17</td>\n",
              "      <td>SWEET2</td>\n",
              "      <td>ACIDITY3</td>\n",
              "      <td>BODY2</td>\n",
              "      <td>TANNIN2</td>\n",
              "      <td>0</td>\n",
              "      <td>0</td>\n",
              "      <td>750</td>\n",
              "    </tr>\n",
              "    <tr>\n",
              "      <th>3</th>\n",
              "      <td>3</td>\n",
              "      <td>137200</td>\n",
              "      <td>Baron du Val White</td>\n",
              "      <td>Baron du Val</td>\n",
              "      <td>France</td>\n",
              "      <td>NaN</td>\n",
              "      <td>NaN</td>\n",
              "      <td>NaN</td>\n",
              "      <td>NaN</td>\n",
              "      <td>Carignan</td>\n",
              "      <td>...</td>\n",
              "      <td>Table</td>\n",
              "      <td>11~12</td>\n",
              "      <td>9~11</td>\n",
              "      <td>SWEET1</td>\n",
              "      <td>ACIDITY3</td>\n",
              "      <td>BODY2</td>\n",
              "      <td>TANNIN1</td>\n",
              "      <td>0</td>\n",
              "      <td>0</td>\n",
              "      <td>750</td>\n",
              "    </tr>\n",
              "    <tr>\n",
              "      <th>4</th>\n",
              "      <td>4</td>\n",
              "      <td>137201</td>\n",
              "      <td>Benziger, Cabernet Sauvignon</td>\n",
              "      <td>Benziger</td>\n",
              "      <td>USA</td>\n",
              "      <td>California</td>\n",
              "      <td>NaN</td>\n",
              "      <td>NaN</td>\n",
              "      <td>NaN</td>\n",
              "      <td>Cabernet Sauvignon</td>\n",
              "      <td>...</td>\n",
              "      <td>Table</td>\n",
              "      <td>13~14</td>\n",
              "      <td>17~19</td>\n",
              "      <td>SWEET1</td>\n",
              "      <td>ACIDITY3</td>\n",
              "      <td>BODY3</td>\n",
              "      <td>TANNIN4</td>\n",
              "      <td>0</td>\n",
              "      <td>2003</td>\n",
              "      <td>750</td>\n",
              "    </tr>\n",
              "  </tbody>\n",
              "</table>\n",
              "<p>5 rows × 32 columns</p>\n",
              "</div>\n",
              "    <div class=\"colab-df-buttons\">\n",
              "\n",
              "  <div class=\"colab-df-container\">\n",
              "    <button class=\"colab-df-convert\" onclick=\"convertToInteractive('df-aac3c6ee-9065-4ccf-bf96-c8a07ea44218')\"\n",
              "            title=\"Convert this dataframe to an interactive table.\"\n",
              "            style=\"display:none;\">\n",
              "\n",
              "  <svg xmlns=\"http://www.w3.org/2000/svg\" height=\"24px\" viewBox=\"0 -960 960 960\">\n",
              "    <path d=\"M120-120v-720h720v720H120Zm60-500h600v-160H180v160Zm220 220h160v-160H400v160Zm0 220h160v-160H400v160ZM180-400h160v-160H180v160Zm440 0h160v-160H620v160ZM180-180h160v-160H180v160Zm440 0h160v-160H620v160Z\"/>\n",
              "  </svg>\n",
              "    </button>\n",
              "\n",
              "  <style>\n",
              "    .colab-df-container {\n",
              "      display:flex;\n",
              "      gap: 12px;\n",
              "    }\n",
              "\n",
              "    .colab-df-convert {\n",
              "      background-color: #E8F0FE;\n",
              "      border: none;\n",
              "      border-radius: 50%;\n",
              "      cursor: pointer;\n",
              "      display: none;\n",
              "      fill: #1967D2;\n",
              "      height: 32px;\n",
              "      padding: 0 0 0 0;\n",
              "      width: 32px;\n",
              "    }\n",
              "\n",
              "    .colab-df-convert:hover {\n",
              "      background-color: #E2EBFA;\n",
              "      box-shadow: 0px 1px 2px rgba(60, 64, 67, 0.3), 0px 1px 3px 1px rgba(60, 64, 67, 0.15);\n",
              "      fill: #174EA6;\n",
              "    }\n",
              "\n",
              "    .colab-df-buttons div {\n",
              "      margin-bottom: 4px;\n",
              "    }\n",
              "\n",
              "    [theme=dark] .colab-df-convert {\n",
              "      background-color: #3B4455;\n",
              "      fill: #D2E3FC;\n",
              "    }\n",
              "\n",
              "    [theme=dark] .colab-df-convert:hover {\n",
              "      background-color: #434B5C;\n",
              "      box-shadow: 0px 1px 3px 1px rgba(0, 0, 0, 0.15);\n",
              "      filter: drop-shadow(0px 1px 2px rgba(0, 0, 0, 0.3));\n",
              "      fill: #FFFFFF;\n",
              "    }\n",
              "  </style>\n",
              "\n",
              "    <script>\n",
              "      const buttonEl =\n",
              "        document.querySelector('#df-aac3c6ee-9065-4ccf-bf96-c8a07ea44218 button.colab-df-convert');\n",
              "      buttonEl.style.display =\n",
              "        google.colab.kernel.accessAllowed ? 'block' : 'none';\n",
              "\n",
              "      async function convertToInteractive(key) {\n",
              "        const element = document.querySelector('#df-aac3c6ee-9065-4ccf-bf96-c8a07ea44218');\n",
              "        const dataTable =\n",
              "          await google.colab.kernel.invokeFunction('convertToInteractive',\n",
              "                                                    [key], {});\n",
              "        if (!dataTable) return;\n",
              "\n",
              "        const docLinkHtml = 'Like what you see? Visit the ' +\n",
              "          '<a target=\"_blank\" href=https://colab.research.google.com/notebooks/data_table.ipynb>data table notebook</a>'\n",
              "          + ' to learn more about interactive tables.';\n",
              "        element.innerHTML = '';\n",
              "        dataTable['output_type'] = 'display_data';\n",
              "        await google.colab.output.renderOutput(dataTable, element);\n",
              "        const docLink = document.createElement('div');\n",
              "        docLink.innerHTML = docLinkHtml;\n",
              "        element.appendChild(docLink);\n",
              "      }\n",
              "    </script>\n",
              "  </div>\n",
              "\n",
              "\n",
              "    <div id=\"df-0f292194-1bc9-4307-bb38-a7b600bf55d1\">\n",
              "      <button class=\"colab-df-quickchart\" onclick=\"quickchart('df-0f292194-1bc9-4307-bb38-a7b600bf55d1')\"\n",
              "                title=\"Suggest charts\"\n",
              "                style=\"display:none;\">\n",
              "\n",
              "<svg xmlns=\"http://www.w3.org/2000/svg\" height=\"24px\"viewBox=\"0 0 24 24\"\n",
              "     width=\"24px\">\n",
              "    <g>\n",
              "        <path d=\"M19 3H5c-1.1 0-2 .9-2 2v14c0 1.1.9 2 2 2h14c1.1 0 2-.9 2-2V5c0-1.1-.9-2-2-2zM9 17H7v-7h2v7zm4 0h-2V7h2v10zm4 0h-2v-4h2v4z\"/>\n",
              "    </g>\n",
              "</svg>\n",
              "      </button>\n",
              "\n",
              "<style>\n",
              "  .colab-df-quickchart {\n",
              "      --bg-color: #E8F0FE;\n",
              "      --fill-color: #1967D2;\n",
              "      --hover-bg-color: #E2EBFA;\n",
              "      --hover-fill-color: #174EA6;\n",
              "      --disabled-fill-color: #AAA;\n",
              "      --disabled-bg-color: #DDD;\n",
              "  }\n",
              "\n",
              "  [theme=dark] .colab-df-quickchart {\n",
              "      --bg-color: #3B4455;\n",
              "      --fill-color: #D2E3FC;\n",
              "      --hover-bg-color: #434B5C;\n",
              "      --hover-fill-color: #FFFFFF;\n",
              "      --disabled-bg-color: #3B4455;\n",
              "      --disabled-fill-color: #666;\n",
              "  }\n",
              "\n",
              "  .colab-df-quickchart {\n",
              "    background-color: var(--bg-color);\n",
              "    border: none;\n",
              "    border-radius: 50%;\n",
              "    cursor: pointer;\n",
              "    display: none;\n",
              "    fill: var(--fill-color);\n",
              "    height: 32px;\n",
              "    padding: 0;\n",
              "    width: 32px;\n",
              "  }\n",
              "\n",
              "  .colab-df-quickchart:hover {\n",
              "    background-color: var(--hover-bg-color);\n",
              "    box-shadow: 0 1px 2px rgba(60, 64, 67, 0.3), 0 1px 3px 1px rgba(60, 64, 67, 0.15);\n",
              "    fill: var(--button-hover-fill-color);\n",
              "  }\n",
              "\n",
              "  .colab-df-quickchart-complete:disabled,\n",
              "  .colab-df-quickchart-complete:disabled:hover {\n",
              "    background-color: var(--disabled-bg-color);\n",
              "    fill: var(--disabled-fill-color);\n",
              "    box-shadow: none;\n",
              "  }\n",
              "\n",
              "  .colab-df-spinner {\n",
              "    border: 2px solid var(--fill-color);\n",
              "    border-color: transparent;\n",
              "    border-bottom-color: var(--fill-color);\n",
              "    animation:\n",
              "      spin 1s steps(1) infinite;\n",
              "  }\n",
              "\n",
              "  @keyframes spin {\n",
              "    0% {\n",
              "      border-color: transparent;\n",
              "      border-bottom-color: var(--fill-color);\n",
              "      border-left-color: var(--fill-color);\n",
              "    }\n",
              "    20% {\n",
              "      border-color: transparent;\n",
              "      border-left-color: var(--fill-color);\n",
              "      border-top-color: var(--fill-color);\n",
              "    }\n",
              "    30% {\n",
              "      border-color: transparent;\n",
              "      border-left-color: var(--fill-color);\n",
              "      border-top-color: var(--fill-color);\n",
              "      border-right-color: var(--fill-color);\n",
              "    }\n",
              "    40% {\n",
              "      border-color: transparent;\n",
              "      border-right-color: var(--fill-color);\n",
              "      border-top-color: var(--fill-color);\n",
              "    }\n",
              "    60% {\n",
              "      border-color: transparent;\n",
              "      border-right-color: var(--fill-color);\n",
              "    }\n",
              "    80% {\n",
              "      border-color: transparent;\n",
              "      border-right-color: var(--fill-color);\n",
              "      border-bottom-color: var(--fill-color);\n",
              "    }\n",
              "    90% {\n",
              "      border-color: transparent;\n",
              "      border-bottom-color: var(--fill-color);\n",
              "    }\n",
              "  }\n",
              "</style>\n",
              "\n",
              "      <script>\n",
              "        async function quickchart(key) {\n",
              "          const quickchartButtonEl =\n",
              "            document.querySelector('#' + key + ' button');\n",
              "          quickchartButtonEl.disabled = true;  // To prevent multiple clicks.\n",
              "          quickchartButtonEl.classList.add('colab-df-spinner');\n",
              "          try {\n",
              "            const charts = await google.colab.kernel.invokeFunction(\n",
              "                'suggestCharts', [key], {});\n",
              "          } catch (error) {\n",
              "            console.error('Error during call to suggestCharts:', error);\n",
              "          }\n",
              "          quickchartButtonEl.classList.remove('colab-df-spinner');\n",
              "          quickchartButtonEl.classList.add('colab-df-quickchart-complete');\n",
              "        }\n",
              "        (() => {\n",
              "          let quickchartButtonEl =\n",
              "            document.querySelector('#df-0f292194-1bc9-4307-bb38-a7b600bf55d1 button');\n",
              "          quickchartButtonEl.style.display =\n",
              "            google.colab.kernel.accessAllowed ? 'block' : 'none';\n",
              "        })();\n",
              "      </script>\n",
              "    </div>\n",
              "\n",
              "    </div>\n",
              "  </div>\n"
            ],
            "text/plain": [
              "   Unnamed: 0      id                          name      producer  nation  \\\n",
              "0           0  137197                        Altair        Altair   Chile   \n",
              "1           1  137198               Altair, Sideral        Altair   Chile   \n",
              "2           2  137199              Baron du Val Red  Baron du Val  France   \n",
              "3           3  137200            Baron du Val White  Baron du Val  France   \n",
              "4           4  137201  Benziger, Cabernet Sauvignon      Benziger     USA   \n",
              "\n",
              "         local1 local2 local3 local4          varieties1  ...    use    abv  \\\n",
              "0  Rapel Valley    NaN    NaN    NaN  Cabernet Sauvignon  ...  Table  14~15   \n",
              "1  Rapel Valley    NaN    NaN    NaN  Cabernet Sauvignon  ...  Table  14~15   \n",
              "2           NaN    NaN    NaN    NaN            Carignan  ...  Table  11~12   \n",
              "3           NaN    NaN    NaN    NaN            Carignan  ...  Table  11~12   \n",
              "4    California    NaN    NaN    NaN  Cabernet Sauvignon  ...  Table  13~14   \n",
              "\n",
              "  degree   sweet   acidity   body   tannin   price  year   ml  \n",
              "0  17~19  SWEET1  ACIDITY4  BODY5  TANNIN4  220000  2014  750  \n",
              "1  16~18  SWEET1  ACIDITY3  BODY4  TANNIN4  110000  2016  750  \n",
              "2  15~17  SWEET2  ACIDITY3  BODY2  TANNIN2       0     0  750  \n",
              "3   9~11  SWEET1  ACIDITY3  BODY2  TANNIN1       0     0  750  \n",
              "4  17~19  SWEET1  ACIDITY3  BODY3  TANNIN4       0  2003  750  \n",
              "\n",
              "[5 rows x 32 columns]"
            ]
          },
          "execution_count": 49,
          "metadata": {},
          "output_type": "execute_result"
        }
      ],
      "source": [
        "# Install dependencies as needed:\n",
        "# pip install kagglehub[pandas-datasets]\n",
        "import kagglehub\n",
        "from kagglehub import KaggleDatasetAdapter\n",
        "\n",
        "# Set the path to the file you'd like to load\n",
        "file_path = \"cleansingWine.csv\"\n",
        "\n",
        "# Load the latest version\n",
        "cleansingWine = kagglehub.load_dataset(\n",
        "  KaggleDatasetAdapter.PANDAS,\n",
        "  \"dev7halo/wine-information\",\n",
        "  file_path,\n",
        "  # Provide any additional arguments like\n",
        "  # sql_query or pandas_kwargs. See the\n",
        "  # documenation for more information:\n",
        "  # https://github.com/Kaggle/kagglehub/blob/main/README.md#kaggledatasetadapterpandas\n",
        ")\n",
        "\n",
        "cleansingWine.head()"
      ]
    },
    {
      "cell_type": "code",
      "execution_count": 50,
      "metadata": {
        "colab": {
          "base_uri": "https://localhost:8080/"
        },
        "id": "lyfdGXJ8KIzt",
        "outputId": "64f3a051-7286-4319-d2a5-a53bd359e239"
      },
      "outputs": [
        {
          "name": "stdout",
          "output_type": "stream",
          "text": [
            "<class 'pandas.core.frame.DataFrame'>\n",
            "RangeIndex: 21605 entries, 0 to 21604\n",
            "Data columns (total 32 columns):\n",
            " #   Column       Non-Null Count  Dtype \n",
            "---  ------       --------------  ----- \n",
            " 0   Unnamed: 0   21605 non-null  int64 \n",
            " 1   id           21605 non-null  int64 \n",
            " 2   name         21605 non-null  object\n",
            " 3   producer     21605 non-null  object\n",
            " 4   nation       21603 non-null  object\n",
            " 5   local1       20705 non-null  object\n",
            " 6   local2       11145 non-null  object\n",
            " 7   local3       3591 non-null   object\n",
            " 8   local4       2 non-null      object\n",
            " 9   varieties1   21256 non-null  object\n",
            " 10  varieties2   7518 non-null   object\n",
            " 11  varieties3   4028 non-null   object\n",
            " 12  varieties4   1330 non-null   object\n",
            " 13  varieties5   379 non-null    object\n",
            " 14  varieties6   105 non-null    object\n",
            " 15  varieties7   31 non-null     object\n",
            " 16  varieties8   18 non-null     object\n",
            " 17  varieties9   7 non-null      object\n",
            " 18  varieties10  6 non-null      object\n",
            " 19  varieties11  5 non-null      object\n",
            " 20  varieties12  4 non-null      object\n",
            " 21  type         21547 non-null  object\n",
            " 22  use          21591 non-null  object\n",
            " 23  abv          14459 non-null  object\n",
            " 24  degree       14460 non-null  object\n",
            " 25  sweet        21603 non-null  object\n",
            " 26  acidity      21592 non-null  object\n",
            " 27  body         21592 non-null  object\n",
            " 28  tannin       21592 non-null  object\n",
            " 29  price        21605 non-null  int64 \n",
            " 30  year         21605 non-null  int64 \n",
            " 31  ml           21605 non-null  int64 \n",
            "dtypes: int64(5), object(27)\n",
            "memory usage: 5.3+ MB\n"
          ]
        }
      ],
      "source": [
        "cleansingWine.info()"
      ]
    },
    {
      "cell_type": "code",
      "execution_count": 51,
      "metadata": {
        "colab": {
          "base_uri": "https://localhost:8080/"
        },
        "id": "kWbpXRRtJgoO",
        "outputId": "4c56eed6-0a05-49d9-e5e6-3a71419c705a"
      },
      "outputs": [
        {
          "name": "stdout",
          "output_type": "stream",
          "text": [
            "12512\n"
          ]
        }
      ],
      "source": [
        "zero_count = (cleansingWine['price'] != 0).sum()\n",
        "print(zero_count)"
      ]
    },
    {
      "cell_type": "code",
      "execution_count": 52,
      "metadata": {
        "id": "ZTvxEm-Ea1f7"
      },
      "outputs": [],
      "source": [
        "wine_df = cleansingWine[cleansingWine['price'] != 0]"
      ]
    },
    {
      "cell_type": "code",
      "execution_count": 53,
      "metadata": {
        "colab": {
          "base_uri": "https://localhost:8080/"
        },
        "id": "0jQhgKzha5mY",
        "outputId": "c907e01e-7777-49fd-adc9-f1c39b35c9f1"
      },
      "outputs": [
        {
          "name": "stdout",
          "output_type": "stream",
          "text": [
            "<class 'pandas.core.frame.DataFrame'>\n",
            "Index: 12512 entries, 0 to 21604\n",
            "Data columns (total 32 columns):\n",
            " #   Column       Non-Null Count  Dtype \n",
            "---  ------       --------------  ----- \n",
            " 0   Unnamed: 0   12512 non-null  int64 \n",
            " 1   id           12512 non-null  int64 \n",
            " 2   name         12512 non-null  object\n",
            " 3   producer     12512 non-null  object\n",
            " 4   nation       12512 non-null  object\n",
            " 5   local1       12046 non-null  object\n",
            " 6   local2       6566 non-null   object\n",
            " 7   local3       2264 non-null   object\n",
            " 8   local4       1 non-null      object\n",
            " 9   varieties1   12346 non-null  object\n",
            " 10  varieties2   4424 non-null   object\n",
            " 11  varieties3   2417 non-null   object\n",
            " 12  varieties4   800 non-null    object\n",
            " 13  varieties5   229 non-null    object\n",
            " 14  varieties6   70 non-null     object\n",
            " 15  varieties7   22 non-null     object\n",
            " 16  varieties8   10 non-null     object\n",
            " 17  varieties9   4 non-null      object\n",
            " 18  varieties10  4 non-null      object\n",
            " 19  varieties11  3 non-null      object\n",
            " 20  varieties12  2 non-null      object\n",
            " 21  type         12488 non-null  object\n",
            " 22  use          12505 non-null  object\n",
            " 23  abv          8457 non-null   object\n",
            " 24  degree       8456 non-null   object\n",
            " 25  sweet        12510 non-null  object\n",
            " 26  acidity      12512 non-null  object\n",
            " 27  body         12512 non-null  object\n",
            " 28  tannin       12512 non-null  object\n",
            " 29  price        12512 non-null  int64 \n",
            " 30  year         12512 non-null  int64 \n",
            " 31  ml           12512 non-null  int64 \n",
            "dtypes: int64(5), object(27)\n",
            "memory usage: 3.2+ MB\n"
          ]
        }
      ],
      "source": [
        "wine_df.info()"
      ]
    },
    {
      "cell_type": "code",
      "execution_count": 54,
      "metadata": {
        "colab": {
          "base_uri": "https://localhost:8080/"
        },
        "id": "xn-cbyUMYO4W",
        "outputId": "4a14ae5a-a800-41c2-feab-8f5b8db2b1cf"
      },
      "outputs": [
        {
          "data": {
            "text/plain": [
              "Index(['Unnamed: 0', 'id', 'name', 'producer', 'nation', 'local1', 'local2',\n",
              "       'local3', 'local4', 'varieties1', 'varieties2', 'varieties3',\n",
              "       'varieties4', 'varieties5', 'varieties6', 'varieties7', 'varieties8',\n",
              "       'varieties9', 'varieties10', 'varieties11', 'varieties12', 'type',\n",
              "       'use', 'abv', 'degree', 'sweet', 'acidity', 'body', 'tannin', 'price',\n",
              "       'year', 'ml'],\n",
              "      dtype='object')"
            ]
          },
          "execution_count": 54,
          "metadata": {},
          "output_type": "execute_result"
        }
      ],
      "source": [
        "cleansingWine.columns"
      ]
    },
    {
      "cell_type": "code",
      "execution_count": 71,
      "metadata": {
        "id": "DOaXYmdnYI7G"
      },
      "outputs": [],
      "source": [
        "columns_to_keep = ['nation', 'producer',\n",
        "       'use', 'sweet', 'acidity', 'body', 'tannin', 'price',\n",
        "       'year', 'ml']"
      ]
    },
    {
      "cell_type": "code",
      "execution_count": 72,
      "metadata": {
        "id": "tmwN_AV1YzMl"
      },
      "outputs": [],
      "source": [
        "wine_df_clean = wine_df[columns_to_keep]"
      ]
    },
    {
      "cell_type": "code",
      "execution_count": 73,
      "metadata": {
        "colab": {
          "base_uri": "https://localhost:8080/"
        },
        "id": "F2-OvXMzDwz9",
        "outputId": "8e61d7ff-875c-445b-cc48-a8ec72cd2502"
      },
      "outputs": [
        {
          "name": "stdout",
          "output_type": "stream",
          "text": [
            "         nation                     producer    use   sweet   acidity   body  \\\n",
            "18139  Portugal               JFaria  Filhos    NaN  SWEET1  ACIDITY1  BODY5   \n",
            "19241   Moldova  Spirits and Distilled Trade    NaN  SWEET1  ACIDITY4  BODY4   \n",
            "19973    France                        Ogier    NaN  SWEET1  ACIDITY4  BODY3   \n",
            "20247    France               Domaine Singla    NaN  SWEET1  ACIDITY3  BODY3   \n",
            "20286     Spain        Bodegas Parra Jimenez    NaN  SWEET1  ACIDITY2  BODY3   \n",
            "21246  Slovenia                  Maro Cellar    NaN  SWEET2  ACIDITY3  BODY3   \n",
            "21247     Italy           Castello di Meleto  Table     NaN  ACIDITY4  BODY4   \n",
            "21327       USA                Havens Winery    NaN  SWEET1  ACIDITY3  BODY3   \n",
            "21347     Italy                        LArca  Table     NaN  ACIDITY3  BODY4   \n",
            "\n",
            "        tannin   price  year   ml  \n",
            "18139  TANNIN1  320000  2009  750  \n",
            "19241  TANNIN1   85000     0  500  \n",
            "19973  TANNIN1  260000  2017  750  \n",
            "20247  TANNIN3   41000  2018  750  \n",
            "20286  TANNIN3   19000  2019  750  \n",
            "21246  TANNIN1   83000  2019  750  \n",
            "21247  TANNIN3   42000  2016  750  \n",
            "21327  TANNIN3   60000  2018  750  \n",
            "21347  TANNIN3   35000  2020  750  \n"
          ]
        }
      ],
      "source": [
        "print(wine_df_clean[wine_df_clean.isnull().any(axis=1)])\n"
      ]
    },
    {
      "cell_type": "code",
      "execution_count": 74,
      "metadata": {
        "id": "pCJC9vfjCv3u"
      },
      "outputs": [],
      "source": [
        "wine_df_clean.loc[18139, 'use'] = 'Etc'\n",
        "wine_df_clean.loc[19241, 'use'] = 'Etc'\n",
        "wine_df_clean.loc[21247, 'sweet'] = 'SWEET1'\n",
        "wine_df_clean.loc[21347, 'sweet'] = 'SWEET1'\n",
        "wine_df_clean.loc[19973, 'use'] = 'Table'\n",
        "wine_df_clean.loc[20247, 'use'] = 'Table'\n",
        "wine_df_clean.loc[20286, 'use'] = 'Table'\n",
        "wine_df_clean.loc[21246, 'use'] = 'Appetizer, Table'\n",
        "wine_df_clean.loc[21327, 'use'] = 'Table'"
      ]
    },
    {
      "cell_type": "code",
      "execution_count": 75,
      "metadata": {
        "colab": {
          "base_uri": "https://localhost:8080/"
        },
        "id": "w5WwwHHJHSeP",
        "outputId": "7e57c7f9-ab7d-47a2-8db5-db4c98b2d17a"
      },
      "outputs": [
        {
          "name": "stdout",
          "output_type": "stream",
          "text": [
            "Empty DataFrame\n",
            "Columns: [nation, producer, use, sweet, acidity, body, tannin, price, year, ml]\n",
            "Index: []\n"
          ]
        }
      ],
      "source": [
        "print(wine_df_clean[wine_df_clean.isnull().any(axis=1)])"
      ]
    },
    {
      "cell_type": "code",
      "execution_count": 76,
      "metadata": {
        "colab": {
          "base_uri": "https://localhost:8080/"
        },
        "id": "dMfblOAnIMUk",
        "outputId": "4906b860-4749-4a7c-80fc-ba561100bb8c"
      },
      "outputs": [
        {
          "name": "stdout",
          "output_type": "stream",
          "text": [
            "                             nation                                producer  \\\n",
            "16                            Italy                         Caviro scaForli   \n",
            "17                            Italy                         Caviro scaForli   \n",
            "40                              USA  Gallo Family Vineyard  EJ Gallo Winery   \n",
            "42                              USA  Gallo Family Vineyard  EJ Gallo Winery   \n",
            "43                              USA  Gallo Family Vineyard  EJ Gallo Winery   \n",
            "...                             ...                                     ...   \n",
            "21569                         Spain                               Murviedro   \n",
            "21596                           USA                        Cannonball Wines   \n",
            "21598                         Italy                              Vallebelbo   \n",
            "21600                        France                    Besserat de Bellefon   \n",
            "21601  the Republic of South Africa                           Leopards Leap   \n",
            "\n",
            "                             use   sweet   acidity   body   tannin   price  \\\n",
            "16                         Table  SWEET3  ACIDITY2  BODY3  TANNIN1    9000   \n",
            "17                         Table  SWEET3  ACIDITY2  BODY3  TANNIN1    9000   \n",
            "40                       Dessert  SWEET4  ACIDITY1  BODY2  TANNIN1   15000   \n",
            "42                       Dessert  SWEET3  ACIDITY1  BODY2  TANNIN1   15000   \n",
            "43                Table, Dessert  SWEET3  ACIDITY2  BODY2  TANNIN1    9900   \n",
            "...                          ...     ...       ...    ...      ...     ...   \n",
            "21569         Appetizer, Dessert  SWEET3  ACIDITY3  BODY1  TANNIN1   17000   \n",
            "21596           Appetizer, Table  SWEET1  ACIDITY4  BODY2  TANNIN1   39000   \n",
            "21598  Appetizer, Table, Dessert  SWEET3  ACIDITY3  BODY2  TANNIN1   20000   \n",
            "21600           Appetizer, Table  SWEET1  ACIDITY5  BODY2  TANNIN1  128000   \n",
            "21601           Appetizer, Table  SWEET1  ACIDITY5  BODY2  TANNIN1   40000   \n",
            "\n",
            "       year    ml  \n",
            "16        0   750  \n",
            "17        0   750  \n",
            "40        0   750  \n",
            "42        0  1500  \n",
            "43        0   750  \n",
            "...     ...   ...  \n",
            "21569     0   750  \n",
            "21596     0   750  \n",
            "21598     0   750  \n",
            "21600     0   750  \n",
            "21601     0   750  \n",
            "\n",
            "[1443 rows x 10 columns]\n"
          ]
        }
      ],
      "source": [
        "print(wine_df_clean[wine_df_clean['year'] == 0])"
      ]
    },
    {
      "cell_type": "code",
      "execution_count": 77,
      "metadata": {
        "id": "r92eHqh9ITzO"
      },
      "outputs": [],
      "source": [
        "wine_df_clean.loc[:,'year'] = wine_df_clean['year'].replace(0, 2020)"
      ]
    },
    {
      "cell_type": "code",
      "execution_count": 78,
      "metadata": {
        "colab": {
          "base_uri": "https://localhost:8080/"
        },
        "id": "uwNoF6nsJej4",
        "outputId": "c70128a9-e730-480d-ad72-9b48bb0443b9"
      },
      "outputs": [
        {
          "name": "stdout",
          "output_type": "stream",
          "text": [
            "Empty DataFrame\n",
            "Columns: [nation, producer, use, sweet, acidity, body, tannin, price, year, ml]\n",
            "Index: []\n"
          ]
        }
      ],
      "source": [
        "print(wine_df_clean[wine_df_clean['year'] == 0])"
      ]
    },
    {
      "cell_type": "code",
      "execution_count": 79,
      "metadata": {
        "colab": {
          "base_uri": "https://localhost:8080/"
        },
        "id": "JgrZ0l_ZK4_n",
        "outputId": "e3498ca2-6fbd-4dc8-b41a-e4595c635e1d"
      },
      "outputs": [
        {
          "data": {
            "text/plain": [
              "3148"
            ]
          },
          "execution_count": 79,
          "metadata": {},
          "output_type": "execute_result"
        }
      ],
      "source": [
        "wine_df['producer'].nunique()"
      ]
    },
    {
      "cell_type": "code",
      "execution_count": 80,
      "metadata": {
        "colab": {
          "base_uri": "https://localhost:8080/"
        },
        "id": "L0oeJfF2ZBAa",
        "outputId": "dda28e71-f443-40d5-828d-c4ed03a0fcb4"
      },
      "outputs": [
        {
          "name": "stdout",
          "output_type": "stream",
          "text": [
            "Empty DataFrame\n",
            "Columns: [nation, producer, use, sweet, acidity, body, tannin, price, year, ml]\n",
            "Index: []\n"
          ]
        }
      ],
      "source": [
        "print(wine_df_clean[wine_df_clean.isnull().any(axis=1)])"
      ]
    },
    {
      "cell_type": "code",
      "execution_count": 81,
      "metadata": {
        "colab": {
          "base_uri": "https://localhost:8080/"
        },
        "id": "NXkCUYbPLzgW",
        "outputId": "8538bca1-2a37-42a6-8fd8-68d0b3107b69"
      },
      "outputs": [
        {
          "name": "stdout",
          "output_type": "stream",
          "text": [
            "<class 'pandas.core.frame.DataFrame'>\n",
            "Index: 12512 entries, 0 to 21604\n",
            "Data columns (total 10 columns):\n",
            " #   Column    Non-Null Count  Dtype \n",
            "---  ------    --------------  ----- \n",
            " 0   nation    12512 non-null  object\n",
            " 1   producer  12512 non-null  object\n",
            " 2   use       12512 non-null  object\n",
            " 3   sweet     12512 non-null  object\n",
            " 4   acidity   12512 non-null  object\n",
            " 5   body      12512 non-null  object\n",
            " 6   tannin    12512 non-null  object\n",
            " 7   price     12512 non-null  int64 \n",
            " 8   year      12512 non-null  int64 \n",
            " 9   ml        12512 non-null  int64 \n",
            "dtypes: int64(3), object(7)\n",
            "memory usage: 1.3+ MB\n"
          ]
        }
      ],
      "source": [
        "wine_df_clean.info()"
      ]
    },
    {
      "cell_type": "markdown",
      "metadata": {},
      "source": [
        "#### 2. Modeling"
      ]
    },
    {
      "cell_type": "code",
      "execution_count": 82,
      "metadata": {
        "id": "BZGw9QTBRaAg"
      },
      "outputs": [],
      "source": [
        "import pandas as pd\n",
        "import numpy as np\n",
        "import matplotlib.pyplot as plt\n",
        "import time\n",
        "from sklearn.model_selection import KFold\n",
        "from sklearn.preprocessing import StandardScaler, OneHotEncoder\n",
        "from sklearn.metrics import mean_squared_error, mean_absolute_error, r2_score\n",
        "from sklearn.compose import ColumnTransformer\n",
        "from sklearn.pipeline import Pipeline\n",
        "\n",
        "from sklearn.linear_model import ElasticNet, Ridge, Lasso\n",
        "from sklearn.ensemble import RandomForestRegressor, AdaBoostRegressor\n",
        "from sklearn.neural_network import MLPRegressor\n",
        "from xgboost import XGBRegressor"
      ]
    },
    {
      "cell_type": "code",
      "execution_count": 83,
      "metadata": {
        "id": "f5dnqILYQHYz"
      },
      "outputs": [],
      "source": [
        "X = wine_df_clean.drop('price', axis=1)\n",
        "y = wine_df_clean['price']"
      ]
    },
    {
      "cell_type": "code",
      "execution_count": 84,
      "metadata": {
        "id": "9t2emAMUUc0S"
      },
      "outputs": [],
      "source": [
        "num_cols = X.select_dtypes(include=['number']).columns.tolist()\n",
        "cat_cols = X.select_dtypes(include=['object', 'category']).columns.tolist()"
      ]
    },
    {
      "cell_type": "code",
      "execution_count": 85,
      "metadata": {
        "colab": {
          "base_uri": "https://localhost:8080/",
          "height": 610
        },
        "id": "QW6FIQgoU-ni",
        "outputId": "a7b3d143-dad3-45e8-ba13-b88f5fb6743f"
      },
      "outputs": [
        {
          "name": "stdout",
          "output_type": "stream",
          "text": [
            "Running CV forever ElasticNet...\n",
            "Running CV forever MLPRegressor...\n",
            "Running CV forever MLPRegressor_2...\n",
            "Running CV forever RandomForest...\n",
            "Running CV forever AdaBoost...\n",
            "Running CV forever XGBoost...\n",
            "Regressor Comparison Results:\n",
            "            Model    RMSE (mean)     MAE (mean)  R2 (mean)     CV Time\n",
            "0    MLPRegressor  220964.341444   88213.647861   0.496577   55.814218\n",
            "1  MLPRegressor_2  236680.609366  101422.221166   0.414082  278.072956\n",
            "2         XGBoost  238974.232779   93075.056250   0.417932    2.781703\n",
            "3    RandomForest  242363.718169   82829.007298   0.398697  359.172372\n",
            "4      ElasticNet  300175.044627  130814.712054   0.083895    3.606618\n",
            "5        AdaBoost  364029.366596  289315.669225  -0.418493    1.963972\n"
          ]
        },
        {
          "data": {
            "image/png": "[encoded data removed]",
            "text/plain": [
              "<Figure size 1400x600 with 1 Axes>"
            ]
          },
          "metadata": {},
          "output_type": "display_data"
        }
      ],
      "source": [
        "# Preprocess\n",
        "preprocessor = ColumnTransformer(\n",
        "    transformers=[\n",
        "        ('num', StandardScaler(), num_cols),\n",
        "        ('cat', OneHotEncoder(handle_unknown='ignore'), cat_cols)\n",
        "    ])\n",
        "cat_only_preprocessor = ColumnTransformer(transformers=[\n",
        "    ('cat', OneHotEncoder(handle_unknown='ignore'), cat_cols)\n",
        "])\n",
        "# Model set\n",
        "models = {\n",
        "    'ElasticNet': Pipeline(\n",
        "        [('preprocessor', preprocessor), ('regressor', ElasticNet(alpha=1.0, l1_ratio=0.5, max_iter=5000))]),\n",
        "    'MLPRegressor': Pipeline(\n",
        "        [('preprocessor', preprocessor), ('regressor', MLPRegressor(hidden_layer_sizes=(128, 64), max_iter=1500, alpha=0.001, learning_rate_init=0.05,learning_rate = 'adaptive', early_stopping=True, random_state=42))]),\n",
        "    'MLPRegressor_2': Pipeline(\n",
        "        [('preprocessor', preprocessor), ('regressor', MLPRegressor(hidden_layer_sizes=(128,), max_iter=1500, alpha=0.001, learning_rate_init=0.05, early_stopping=True, random_state=42))]),\n",
        "    'RandomForest': Pipeline(\n",
        "        [('preprocessor', cat_only_preprocessor), ('regressor', RandomForestRegressor(n_estimators=100, random_state=42))]),\n",
        "    'AdaBoost': Pipeline(\n",
        "        [('preprocessor', cat_only_preprocessor), ('regressor', AdaBoostRegressor(n_estimators=100, random_state=42))]),\n",
        "    'XGBoost': Pipeline(\n",
        "        [('preprocessor', cat_only_preprocessor), ('regressor', XGBRegressor(objective='reg:squarederror', random_state=42))])\n",
        "}\n",
        "\n",
        "# CV\n",
        "kf = KFold(n_splits = 5, shuffle=True, random_state=42)\n",
        "results = []\n",
        "\n",
        "for name, model in models.items():\n",
        "  print(f\"Running CV forever {name}...\")\n",
        "  rmse_list, mae_list, r2_list = [], [], []\n",
        "  start_time = time.time()\n",
        "\n",
        "  for train_idx, test_idx in kf.split(X):\n",
        "    X_train, X_test = X.iloc[train_idx], X.iloc[test_idx]\n",
        "    y_train, y_test = y.iloc[train_idx], y.iloc[test_idx]\n",
        "\n",
        "    model.fit(X_train, y_train)\n",
        "    y_pred = model.predict(X_test)\n",
        "\n",
        "    rmse_list.append(np.sqrt(mean_squared_error(y_test, y_pred)))\n",
        "    mae_list.append(mean_absolute_error(y_test, y_pred))\n",
        "    r2_list.append(r2_score(y_test, y_pred))\n",
        "\n",
        "  elapsed = time.time() - start_time\n",
        "\n",
        "  results.append({\n",
        "    'Model': name,\n",
        "    'RMSE (mean)': np.mean(rmse_list),\n",
        "    'MAE (mean)': np.mean(mae_list),\n",
        "    'R2 (mean)': np.mean(r2_list),\n",
        "    'CV Time': elapsed\n",
        "  })\n",
        "\n",
        "  results_df = pd.DataFrame(results).sort_values(by = 'RMSE (mean)')\n",
        "  results_df.reset_index(drop=True, inplace=True)\n",
        "\n",
        "print(\"Regressor Comparison Results:\")\n",
        "print(results_df)\n",
        "\n",
        "#Viz\n",
        "results_df.plot(x='Model', y=['RMSE (mean)', 'MAE (mean)'], kind='bar', figsize=(14, 6))\n",
        "plt.title('Regressor Comparison')\n",
        "plt.ylabel('Score')\n",
        "plt.grid(axis= 'y', linestyle='--', alpha=0.7)\n",
        "plt.show()\n",
        "\n"
      ]
    },
    {
      "cell_type": "markdown",
      "metadata": {},
      "source": [
        "#### 3. Network Architecture\n",
        "\n",
        "```{r}"
      ]
    },
    {
      "cell_type": "markdown",
      "metadata": {},
      "source": [
        "\n",
        "**MLPRegressor (128, 64)**  \n",
        "Input Layer (number of features)  \n",
        "↓  \n",
        "Dense Layer (128 neurons, ReLU)  \n",
        "↓  \n",
        "Dense Layer (64 neurons, ReLU)  \n",
        "↓  \n",
        "Output Layer (1 neuron, Linear)  \n",
        "\n",
        "---\n",
        "\n",
        "**MLPRegressor_2 (128)**  \n",
        "Input Layer (number of features)  \n",
        "↓  \n",
        "Dense Layer (128 neurons, ReLU)  \n",
        "↓  \n",
        "Output Layer (1 neuron, Linear)\n"
      ]
    }
  ],
  "metadata": {
    "colab": {
      "provenance": []
    },
    "kernelspec": {
      "display_name": "base",
      "language": "python",
      "name": "python3"
    },
    "language_info": {
      "name": "python",
      "version": "3.12.2"
    }
  },
  "nbformat": 4,
  "nbformat_minor": 0
}
