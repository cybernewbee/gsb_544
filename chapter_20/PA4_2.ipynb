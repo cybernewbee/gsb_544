{
  "cells": [
    {
      "cell_type": "markdown",
      "metadata": {},
      "source": [
        "---\n",
        "title: PA 4_2\n",
        "author: Marvin (Wenxiang) Li\n",
        "format:\n",
        "    html:\n",
        "        toc: true\n",
        "        code-fold: true\n",
        "embed-resources: true\n",
        "---"
      ]
    },
    {
      "cell_type": "code",
      "execution_count": 1,
      "metadata": {
        "colab": {
          "base_uri": "https://localhost:8080/",
          "height": 448
        },
        "id": "g6ukBXdvjrFf",
        "outputId": "dca9389a-2ad6-41a5-83c8-6ad3f0b7dd71"
      },
      "outputs": [
        {
          "name": "stderr",
          "output_type": "stream",
          "text": [
            "/Users/marvinlee/Documents/vs_code/gsb_544/gsb544env/lib/python3.12/site-packages/tqdm/auto.py:21: TqdmWarning: IProgress not found. Please update jupyter and ipywidgets. See https://ipywidgets.readthedocs.io/en/stable/user_install.html\n",
            "  from .autonotebook import tqdm as notebook_tqdm\n",
            "/var/folders/m1/tx6ck0f962jd1hq4ch5phg_80000gn/T/ipykernel_8189/494150038.py:10: DeprecationWarning: load_dataset is deprecated and will be removed in a future version.\n",
            "  cleansingWine = kagglehub.load_dataset(\n",
            "/Users/marvinlee/Documents/vs_code/gsb_544/gsb544env/lib/python3.12/site-packages/kagglehub/pandas_datasets.py:91: DtypeWarning: Columns (8,19,20) have mixed types. Specify dtype option on import or set low_memory=False.\n",
            "  result = read_function(\n"
          ]
        },
        {
          "data": {
            "application/vnd.microsoft.datawrangler.viewer.v0+json": {
              "columns": [
                {
                  "name": "index",
                  "rawType": "int64",
                  "type": "integer"
                },
                {
                  "name": "Unnamed: 0",
                  "rawType": "int64",
                  "type": "integer"
                },
                {
                  "name": "id",
                  "rawType": "int64",
                  "type": "integer"
                },
                {
                  "name": "name",
                  "rawType": "object",
                  "type": "string"
                },
                {
                  "name": "producer",
                  "rawType": "object",
                  "type": "string"
                },
                {
                  "name": "nation",
                  "rawType": "object",
                  "type": "string"
                },
                {
                  "name": "local1",
                  "rawType": "object",
                  "type": "unknown"
                },
                {
                  "name": "local2",
                  "rawType": "object",
                  "type": "unknown"
                },
                {
                  "name": "local3",
                  "rawType": "object",
                  "type": "unknown"
                },
                {
                  "name": "local4",
                  "rawType": "object",
                  "type": "unknown"
                },
                {
                  "name": "varieties1",
                  "rawType": "object",
                  "type": "string"
                },
                {
                  "name": "varieties2",
                  "rawType": "object",
                  "type": "unknown"
                },
                {
                  "name": "varieties3",
                  "rawType": "object",
                  "type": "unknown"
                },
                {
                  "name": "varieties4",
                  "rawType": "object",
                  "type": "unknown"
                },
                {
                  "name": "varieties5",
                  "rawType": "object",
                  "type": "unknown"
                },
                {
                  "name": "varieties6",
                  "rawType": "object",
                  "type": "unknown"
                },
                {
                  "name": "varieties7",
                  "rawType": "object",
                  "type": "unknown"
                },
                {
                  "name": "varieties8",
                  "rawType": "object",
                  "type": "unknown"
                },
                {
                  "name": "varieties9",
                  "rawType": "object",
                  "type": "unknown"
                },
                {
                  "name": "varieties10",
                  "rawType": "object",
                  "type": "unknown"
                },
                {
                  "name": "varieties11",
                  "rawType": "object",
                  "type": "unknown"
                },
                {
                  "name": "varieties12",
                  "rawType": "object",
                  "type": "unknown"
                },
                {
                  "name": "type",
                  "rawType": "object",
                  "type": "string"
                },
                {
                  "name": "use",
                  "rawType": "object",
                  "type": "string"
                },
                {
                  "name": "abv",
                  "rawType": "object",
                  "type": "string"
                },
                {
                  "name": "degree",
                  "rawType": "object",
                  "type": "string"
                },
                {
                  "name": "sweet",
                  "rawType": "object",
                  "type": "string"
                },
                {
                  "name": "acidity",
                  "rawType": "object",
                  "type": "string"
                },
                {
                  "name": "body",
                  "rawType": "object",
                  "type": "string"
                },
                {
                  "name": "tannin",
                  "rawType": "object",
                  "type": "string"
                },
                {
                  "name": "price",
                  "rawType": "int64",
                  "type": "integer"
                },
                {
                  "name": "year",
                  "rawType": "int64",
                  "type": "integer"
                },
                {
                  "name": "ml",
                  "rawType": "int64",
                  "type": "integer"
                }
              ],
              "conversionMethod": "pd.DataFrame",
              "ref": "5435f2d9-c559-42d4-8c9d-5353738538cc",
              "rows": [
                [
                  "0",
                  "0",
                  "137197",
                  "Altair",
                  "Altair",
                  "Chile",
                  "Rapel Valley",
                  null,
                  null,
                  null,
                  "Cabernet Sauvignon",
                  "Carmenere",
                  "Merlot",
                  null,
                  null,
                  null,
                  null,
                  null,
                  null,
                  null,
                  null,
                  null,
                  "Red",
                  "Table",
                  "14~15",
                  "17~19",
                  "SWEET1",
                  "ACIDITY4",
                  "BODY5",
                  "TANNIN4",
                  "220000",
                  "2014",
                  "750"
                ],
                [
                  "1",
                  "1",
                  "137198",
                  "Altair, Sideral",
                  "Altair",
                  "Chile",
                  "Rapel Valley",
                  null,
                  null,
                  null,
                  "Cabernet Sauvignon",
                  "Merlot",
                  "Carmenere",
                  "Cabernet Franc",
                  "Syrah & Shiraz",
                  "Petit Verdot",
                  null,
                  null,
                  null,
                  null,
                  null,
                  null,
                  "Red",
                  "Table",
                  "14~15",
                  "16~18",
                  "SWEET1",
                  "ACIDITY3",
                  "BODY4",
                  "TANNIN4",
                  "110000",
                  "2016",
                  "750"
                ],
                [
                  "2",
                  "2",
                  "137199",
                  "Baron du Val Red",
                  "Baron du Val",
                  "France",
                  null,
                  null,
                  null,
                  null,
                  "Carignan",
                  "Cinsault",
                  "Syrah & Shiraz",
                  "Grenache Noir",
                  null,
                  null,
                  null,
                  null,
                  null,
                  null,
                  null,
                  null,
                  "Red",
                  "Table",
                  "11~12",
                  "15~17",
                  "SWEET2",
                  "ACIDITY3",
                  "BODY2",
                  "TANNIN2",
                  "0",
                  "0",
                  "750"
                ],
                [
                  "3",
                  "3",
                  "137200",
                  "Baron du Val White",
                  "Baron du Val",
                  "France",
                  null,
                  null,
                  null,
                  null,
                  "Carignan",
                  "Ugni​ blanc",
                  "Grenache Blanc",
                  "Picpoul",
                  null,
                  null,
                  null,
                  null,
                  null,
                  null,
                  null,
                  null,
                  "White",
                  "Table",
                  "11~12",
                  "9~11",
                  "SWEET1",
                  "ACIDITY3",
                  "BODY2",
                  "TANNIN1",
                  "0",
                  "0",
                  "750"
                ],
                [
                  "4",
                  "4",
                  "137201",
                  "Benziger, Cabernet Sauvignon",
                  "Benziger",
                  "USA",
                  "California",
                  null,
                  null,
                  null,
                  "Cabernet Sauvignon",
                  null,
                  null,
                  null,
                  null,
                  null,
                  null,
                  null,
                  null,
                  null,
                  null,
                  null,
                  "Red",
                  "Table",
                  "13~14",
                  "17~19",
                  "SWEET1",
                  "ACIDITY3",
                  "BODY3",
                  "TANNIN4",
                  "0",
                  "2003",
                  "750"
                ]
              ],
              "shape": {
                "columns": 32,
                "rows": 5
              }
            },
            "text/html": [
              "<div>\n",
              "<style scoped>\n",
              "    .dataframe tbody tr th:only-of-type {\n",
              "        vertical-align: middle;\n",
              "    }\n",
              "\n",
              "    .dataframe tbody tr th {\n",
              "        vertical-align: top;\n",
              "    }\n",
              "\n",
              "    .dataframe thead th {\n",
              "        text-align: right;\n",
              "    }\n",
              "</style>\n",
              "<table border=\"1\" class=\"dataframe\">\n",
              "  <thead>\n",
              "    <tr style=\"text-align: right;\">\n",
              "      <th></th>\n",
              "      <th>Unnamed: 0</th>\n",
              "      <th>id</th>\n",
              "      <th>name</th>\n",
              "      <th>producer</th>\n",
              "      <th>nation</th>\n",
              "      <th>local1</th>\n",
              "      <th>local2</th>\n",
              "      <th>local3</th>\n",
              "      <th>local4</th>\n",
              "      <th>varieties1</th>\n",
              "      <th>...</th>\n",
              "      <th>use</th>\n",
              "      <th>abv</th>\n",
              "      <th>degree</th>\n",
              "      <th>sweet</th>\n",
              "      <th>acidity</th>\n",
              "      <th>body</th>\n",
              "      <th>tannin</th>\n",
              "      <th>price</th>\n",
              "      <th>year</th>\n",
              "      <th>ml</th>\n",
              "    </tr>\n",
              "  </thead>\n",
              "  <tbody>\n",
              "    <tr>\n",
              "      <th>0</th>\n",
              "      <td>0</td>\n",
              "      <td>137197</td>\n",
              "      <td>Altair</td>\n",
              "      <td>Altair</td>\n",
              "      <td>Chile</td>\n",
              "      <td>Rapel Valley</td>\n",
              "      <td>NaN</td>\n",
              "      <td>NaN</td>\n",
              "      <td>NaN</td>\n",
              "      <td>Cabernet Sauvignon</td>\n",
              "      <td>...</td>\n",
              "      <td>Table</td>\n",
              "      <td>14~15</td>\n",
              "      <td>17~19</td>\n",
              "      <td>SWEET1</td>\n",
              "      <td>ACIDITY4</td>\n",
              "      <td>BODY5</td>\n",
              "      <td>TANNIN4</td>\n",
              "      <td>220000</td>\n",
              "      <td>2014</td>\n",
              "      <td>750</td>\n",
              "    </tr>\n",
              "    <tr>\n",
              "      <th>1</th>\n",
              "      <td>1</td>\n",
              "      <td>137198</td>\n",
              "      <td>Altair, Sideral</td>\n",
              "      <td>Altair</td>\n",
              "      <td>Chile</td>\n",
              "      <td>Rapel Valley</td>\n",
              "      <td>NaN</td>\n",
              "      <td>NaN</td>\n",
              "      <td>NaN</td>\n",
              "      <td>Cabernet Sauvignon</td>\n",
              "      <td>...</td>\n",
              "      <td>Table</td>\n",
              "      <td>14~15</td>\n",
              "      <td>16~18</td>\n",
              "      <td>SWEET1</td>\n",
              "      <td>ACIDITY3</td>\n",
              "      <td>BODY4</td>\n",
              "      <td>TANNIN4</td>\n",
              "      <td>110000</td>\n",
              "      <td>2016</td>\n",
              "      <td>750</td>\n",
              "    </tr>\n",
              "    <tr>\n",
              "      <th>2</th>\n",
              "      <td>2</td>\n",
              "      <td>137199</td>\n",
              "      <td>Baron du Val Red</td>\n",
              "      <td>Baron du Val</td>\n",
              "      <td>France</td>\n",
              "      <td>NaN</td>\n",
              "      <td>NaN</td>\n",
              "      <td>NaN</td>\n",
              "      <td>NaN</td>\n",
              "      <td>Carignan</td>\n",
              "      <td>...</td>\n",
              "      <td>Table</td>\n",
              "      <td>11~12</td>\n",
              "      <td>15~17</td>\n",
              "      <td>SWEET2</td>\n",
              "      <td>ACIDITY3</td>\n",
              "      <td>BODY2</td>\n",
              "      <td>TANNIN2</td>\n",
              "      <td>0</td>\n",
              "      <td>0</td>\n",
              "      <td>750</td>\n",
              "    </tr>\n",
              "    <tr>\n",
              "      <th>3</th>\n",
              "      <td>3</td>\n",
              "      <td>137200</td>\n",
              "      <td>Baron du Val White</td>\n",
              "      <td>Baron du Val</td>\n",
              "      <td>France</td>\n",
              "      <td>NaN</td>\n",
              "      <td>NaN</td>\n",
              "      <td>NaN</td>\n",
              "      <td>NaN</td>\n",
              "      <td>Carignan</td>\n",
              "      <td>...</td>\n",
              "      <td>Table</td>\n",
              "      <td>11~12</td>\n",
              "      <td>9~11</td>\n",
              "      <td>SWEET1</td>\n",
              "      <td>ACIDITY3</td>\n",
              "      <td>BODY2</td>\n",
              "      <td>TANNIN1</td>\n",
              "      <td>0</td>\n",
              "      <td>0</td>\n",
              "      <td>750</td>\n",
              "    </tr>\n",
              "    <tr>\n",
              "      <th>4</th>\n",
              "      <td>4</td>\n",
              "      <td>137201</td>\n",
              "      <td>Benziger, Cabernet Sauvignon</td>\n",
              "      <td>Benziger</td>\n",
              "      <td>USA</td>\n",
              "      <td>California</td>\n",
              "      <td>NaN</td>\n",
              "      <td>NaN</td>\n",
              "      <td>NaN</td>\n",
              "      <td>Cabernet Sauvignon</td>\n",
              "      <td>...</td>\n",
              "      <td>Table</td>\n",
              "      <td>13~14</td>\n",
              "      <td>17~19</td>\n",
              "      <td>SWEET1</td>\n",
              "      <td>ACIDITY3</td>\n",
              "      <td>BODY3</td>\n",
              "      <td>TANNIN4</td>\n",
              "      <td>0</td>\n",
              "      <td>2003</td>\n",
              "      <td>750</td>\n",
              "    </tr>\n",
              "  </tbody>\n",
              "</table>\n",
              "<p>5 rows × 32 columns</p>\n",
              "</div>"
            ],
            "text/plain": [
              "   Unnamed: 0      id                          name      producer  nation  \\\n",
              "0           0  137197                        Altair        Altair   Chile   \n",
              "1           1  137198               Altair, Sideral        Altair   Chile   \n",
              "2           2  137199              Baron du Val Red  Baron du Val  France   \n",
              "3           3  137200            Baron du Val White  Baron du Val  France   \n",
              "4           4  137201  Benziger, Cabernet Sauvignon      Benziger     USA   \n",
              "\n",
              "         local1 local2 local3 local4          varieties1  ...    use    abv  \\\n",
              "0  Rapel Valley    NaN    NaN    NaN  Cabernet Sauvignon  ...  Table  14~15   \n",
              "1  Rapel Valley    NaN    NaN    NaN  Cabernet Sauvignon  ...  Table  14~15   \n",
              "2           NaN    NaN    NaN    NaN            Carignan  ...  Table  11~12   \n",
              "3           NaN    NaN    NaN    NaN            Carignan  ...  Table  11~12   \n",
              "4    California    NaN    NaN    NaN  Cabernet Sauvignon  ...  Table  13~14   \n",
              "\n",
              "  degree   sweet   acidity   body   tannin   price  year   ml  \n",
              "0  17~19  SWEET1  ACIDITY4  BODY5  TANNIN4  220000  2014  750  \n",
              "1  16~18  SWEET1  ACIDITY3  BODY4  TANNIN4  110000  2016  750  \n",
              "2  15~17  SWEET2  ACIDITY3  BODY2  TANNIN2       0     0  750  \n",
              "3   9~11  SWEET1  ACIDITY3  BODY2  TANNIN1       0     0  750  \n",
              "4  17~19  SWEET1  ACIDITY3  BODY3  TANNIN4       0  2003  750  \n",
              "\n",
              "[5 rows x 32 columns]"
            ]
          },
          "execution_count": 1,
          "metadata": {},
          "output_type": "execute_result"
        }
      ],
      "source": [
        "# Install dependencies as needed:\n",
        "# pip install kagglehub[pandas-datasets]\n",
        "import kagglehub\n",
        "from kagglehub import KaggleDatasetAdapter\n",
        "\n",
        "# Set the path to the file you'd like to load\n",
        "file_path = \"cleansingWine.csv\"\n",
        "\n",
        "# Load the latest version\n",
        "cleansingWine = kagglehub.load_dataset(\n",
        "  KaggleDatasetAdapter.PANDAS,\n",
        "  \"dev7halo/wine-information\",\n",
        "  file_path,\n",
        "  # Provide any additional arguments like\n",
        "  # sql_query or pandas_kwargs. See the\n",
        "  # documenation for more information:\n",
        "  # https://github.com/Kaggle/kagglehub/blob/main/README.md#kaggledatasetadapterpandas\n",
        ")\n",
        "\n",
        "cleansingWine.head()"
      ]
    },
    {
      "cell_type": "code",
      "execution_count": 2,
      "metadata": {
        "id": "LOlFxr0a2mCM"
      },
      "outputs": [],
      "source": [
        "import pandas as pd\n",
        "import numpy as np\n",
        "import matplotlib.pyplot as plt\n",
        "from pprint import pprint\n",
        "import matplotlib.pyplot as plt\n",
        "import seaborn as sns"
      ]
    },
    {
      "cell_type": "code",
      "execution_count": 3,
      "metadata": {
        "id": "grtdRZ3X2WuR"
      },
      "outputs": [],
      "source": [
        "def dataset_info(df):\n",
        "    print(\"\\n--- Shape of Data ---\")\n",
        "    print(f\"Rows: {df.shape[0]}, Columns: {df.shape[1]}\")\n",
        "\n",
        "    print(\"\\n--- Data Types and Non-Nulls ---\")\n",
        "    print(df.info())\n",
        "\n",
        "    print(\"\\n--- First 5 Rows ---\")\n",
        "    print(df.head())\n",
        "\n",
        "\n",
        "# 2. Missing Values\n",
        "def missing_values_table(df):\n",
        "    missing = df.isnull().sum()\n",
        "    missing_percent = (missing / len(df)) * 100\n",
        "    missing_table = pd.DataFrame({'Missing Values': missing, 'Percent': missing_percent})\n",
        "    missing_table = missing_table[missing_table['Missing Values'] > 0]\n",
        "    missing_table = missing_table.sort_values('Percent', ascending=False)\n",
        "\n",
        "    if missing_table.empty:\n",
        "        print(\"\\nNo missing values detected.\")\n",
        "    else:\n",
        "        print(\"\\n--- Missing Values ---\")\n",
        "        print(missing_table)\n",
        "\n",
        "\n",
        "# 3. Summary Stat\n",
        "def summary_stats(df):\n",
        "    print(\"\\n--- Numerical Features ---\")\n",
        "    print(df.describe())\n",
        "\n",
        "    print(\"\\n--- Categorical Features ---\")\n",
        "    print(df.describe(include=['object']))\n",
        "\n",
        "\n",
        "# 4. Duplicate Check\n",
        "def check_duplicates(df):\n",
        "    duplicates = df.duplicated().sum()\n",
        "    print(f\"\\n--- Duplicates ---\\nDuplicate Rows: {duplicates}\")\n",
        "\n",
        "\n",
        "#  5. Univariate Plots\n",
        "import math\n",
        "\n",
        "def univariate_plots(df):\n",
        "    numeric_cols = df.select_dtypes(include=np.number).columns\n",
        "    categorical_cols = df.select_dtypes(include='object').columns\n",
        "\n",
        "    # Plot numeric distributions (2 per row)\n",
        "    print(\"\\n--- Numeric Distributions ---\")\n",
        "    n = len(numeric_cols)\n",
        "    rows = math.ceil(n / 2)\n",
        "\n",
        "    fig, axes = plt.subplots(rows, 2, figsize=(12, 3 * rows))\n",
        "    axes = axes.flatten()\n",
        "\n",
        "    for i, col in enumerate(numeric_cols):\n",
        "        sns.histplot(df[col].dropna(), kde=True, ax=axes[i])\n",
        "        axes[i].set_title(f'Distribution of {col}')\n",
        "\n",
        "    # Hide empty subplots\n",
        "    for j in range(i + 1, len(axes)):\n",
        "        fig.delaxes(axes[j])\n",
        "\n",
        "    plt.tight_layout()\n",
        "    plt.show()\n",
        "\n",
        "    # Plot categorical counts (2 per row)\n",
        "    #print(\"\\n--- Categorical Counts ---\")\n",
        "    #n = len(categorical_cols)\n",
        "    #rows = math.ceil(n / 2)\n",
        "\n",
        "    #fig, axes = plt.subplots(rows, 2, figsize=(12, 3 * rows))\n",
        "    #axes = axes.flatten()\n",
        "\n",
        "    #for i, col in enumerate(categorical_cols):\n",
        "        #df[col].value_counts().plot(kind='bar', ax=axes[i])\n",
        "        #axes[i].set_title(f'Counts of {col}')\n",
        "\n",
        "    #for j in range(i + 1, len(axes)):\n",
        "        #fig.delaxes(axes[j])\n",
        "\n",
        "    #plt.tight_layout()\n",
        "    #plt.show()\n",
        "\n",
        "\n",
        "\n",
        "# 6. heatmap\n",
        "def correlation_heatmap(df):\n",
        "    numeric_cols = df.select_dtypes(include=np.number)\n",
        "    if numeric_cols.shape[1] > 1:\n",
        "        plt.figure(figsize=(10, 8))\n",
        "        sns.heatmap(numeric_cols.corr(), annot=True, fmt='.2f', cmap='coolwarm')\n",
        "        plt.title('Correlation Heatmap')\n",
        "        plt.show()\n",
        "    else:\n",
        "        print(\"\\nNot enough numeric columns for correlation heatmap.\")\n",
        "\n",
        "\n",
        "# run everything\n",
        "def run_eda(df):\n",
        "    dataset_info(df)\n",
        "    missing_values_table(df)\n",
        "    summary_stats(df)\n",
        "    check_duplicates(df)\n",
        "    univariate_plots(df)\n",
        "    #correlation_heatmap(df)\n",
        "\n",
        "    print(\"\\nEDA Complete!\")\n",
        "\n"
      ]
    },
    {
      "cell_type": "code",
      "execution_count": 4,
      "metadata": {
        "colab": {
          "base_uri": "https://localhost:8080/",
          "height": 1000
        },
        "id": "2xT6ds-k2q3D",
        "outputId": "ccf881fa-1a3d-49aa-90de-e669ad676ec0"
      },
      "outputs": [
        {
          "name": "stdout",
          "output_type": "stream",
          "text": [
            "\n",
            "--- Shape of Data ---\n",
            "Rows: 21605, Columns: 32\n",
            "\n",
            "--- Data Types and Non-Nulls ---\n",
            "<class 'pandas.core.frame.DataFrame'>\n",
            "RangeIndex: 21605 entries, 0 to 21604\n",
            "Data columns (total 32 columns):\n",
            " #   Column       Non-Null Count  Dtype \n",
            "---  ------       --------------  ----- \n",
            " 0   Unnamed: 0   21605 non-null  int64 \n",
            " 1   id           21605 non-null  int64 \n",
            " 2   name         21605 non-null  object\n",
            " 3   producer     21605 non-null  object\n",
            " 4   nation       21603 non-null  object\n",
            " 5   local1       20705 non-null  object\n",
            " 6   local2       11145 non-null  object\n",
            " 7   local3       3591 non-null   object\n",
            " 8   local4       2 non-null      object\n",
            " 9   varieties1   21256 non-null  object\n",
            " 10  varieties2   7518 non-null   object\n",
            " 11  varieties3   4028 non-null   object\n",
            " 12  varieties4   1330 non-null   object\n",
            " 13  varieties5   379 non-null    object\n",
            " 14  varieties6   105 non-null    object\n",
            " 15  varieties7   31 non-null     object\n",
            " 16  varieties8   18 non-null     object\n",
            " 17  varieties9   7 non-null      object\n",
            " 18  varieties10  6 non-null      object\n",
            " 19  varieties11  5 non-null      object\n",
            " 20  varieties12  4 non-null      object\n",
            " 21  type         21547 non-null  object\n",
            " 22  use          21591 non-null  object\n",
            " 23  abv          14459 non-null  object\n",
            " 24  degree       14460 non-null  object\n",
            " 25  sweet        21603 non-null  object\n",
            " 26  acidity      21592 non-null  object\n",
            " 27  body         21592 non-null  object\n",
            " 28  tannin       21592 non-null  object\n",
            " 29  price        21605 non-null  int64 \n",
            " 30  year         21605 non-null  int64 \n",
            " 31  ml           21605 non-null  int64 \n",
            "dtypes: int64(5), object(27)\n",
            "memory usage: 5.3+ MB\n",
            "None\n",
            "\n",
            "--- First 5 Rows ---\n",
            "   Unnamed: 0      id                          name      producer  nation  \\\n",
            "0           0  137197                        Altair        Altair   Chile   \n",
            "1           1  137198               Altair, Sideral        Altair   Chile   \n",
            "2           2  137199              Baron du Val Red  Baron du Val  France   \n",
            "3           3  137200            Baron du Val White  Baron du Val  France   \n",
            "4           4  137201  Benziger, Cabernet Sauvignon      Benziger     USA   \n",
            "\n",
            "         local1 local2 local3 local4          varieties1  ...    use    abv  \\\n",
            "0  Rapel Valley    NaN    NaN    NaN  Cabernet Sauvignon  ...  Table  14~15   \n",
            "1  Rapel Valley    NaN    NaN    NaN  Cabernet Sauvignon  ...  Table  14~15   \n",
            "2           NaN    NaN    NaN    NaN            Carignan  ...  Table  11~12   \n",
            "3           NaN    NaN    NaN    NaN            Carignan  ...  Table  11~12   \n",
            "4    California    NaN    NaN    NaN  Cabernet Sauvignon  ...  Table  13~14   \n",
            "\n",
            "  degree   sweet   acidity   body   tannin   price  year   ml  \n",
            "0  17~19  SWEET1  ACIDITY4  BODY5  TANNIN4  220000  2014  750  \n",
            "1  16~18  SWEET1  ACIDITY3  BODY4  TANNIN4  110000  2016  750  \n",
            "2  15~17  SWEET2  ACIDITY3  BODY2  TANNIN2       0     0  750  \n",
            "3   9~11  SWEET1  ACIDITY3  BODY2  TANNIN1       0     0  750  \n",
            "4  17~19  SWEET1  ACIDITY3  BODY3  TANNIN4       0  2003  750  \n",
            "\n",
            "[5 rows x 32 columns]\n",
            "\n",
            "--- Missing Values ---\n",
            "             Missing Values    Percent\n",
            "local4                21603  99.990743\n",
            "varieties12           21601  99.981486\n",
            "varieties11           21600  99.976857\n",
            "varieties10           21599  99.972229\n",
            "varieties9            21598  99.967600\n",
            "varieties8            21587  99.916686\n",
            "varieties7            21574  99.856515\n",
            "varieties6            21500  99.514001\n",
            "varieties5            21226  98.245776\n",
            "varieties4            20275  93.844018\n",
            "local3                18014  83.378847\n",
            "varieties3            17577  81.356168\n",
            "varieties2            14087  65.202499\n",
            "local2                10460  48.414719\n",
            "abv                    7146  33.075677\n",
            "degree                 7145  33.071048\n",
            "local1                  900   4.165702\n",
            "varieties1              349   1.615367\n",
            "type                     58   0.268456\n",
            "use                      14   0.064800\n",
            "acidity                  13   0.060171\n",
            "body                     13   0.060171\n",
            "tannin                   13   0.060171\n",
            "sweet                     2   0.009257\n",
            "nation                    2   0.009257\n",
            "\n",
            "--- Numerical Features ---\n",
            "         Unnamed: 0             id         price          year            ml\n",
            "count  21605.000000   21605.000000  2.160500e+04  21605.000000  21605.000000\n",
            "mean   10802.000000  153998.163666  9.266349e+04   1769.949502    743.899236\n",
            "std     6236.970619    9200.852348  2.521565e+05    654.831502    145.181162\n",
            "min        0.000000  137197.000000  0.000000e+00      0.000000      0.000000\n",
            "25%     5401.000000  146645.000000  0.000000e+00   2006.000000    750.000000\n",
            "50%    10802.000000  153748.000000  3.000000e+04   2012.000000    750.000000\n",
            "75%    16203.000000  162431.000000  8.900000e+04   2016.000000    750.000000\n",
            "max    21604.000000  168707.000000  8.000000e+06   2020.000000   6000.000000\n",
            "\n",
            "--- Categorical Features ---\n",
            "                   name     producer  nation     local1         local2  \\\n",
            "count             21605        21605   21603      20705          11145   \n",
            "unique            21531         4819      31        209            281   \n",
            "top     Chateau Bel Air  Louis Jadot  France  Bourgogne  Cote de Nuits   \n",
            "freq                  4           84    6949       2493            997   \n",
            "\n",
            "             local3      local4          varieties1 varieties2  \\\n",
            "count          3591           2               21256       7518   \n",
            "unique          161           1                 352        281   \n",
            "top     Napa Valley  Ugni blanc  Cabernet Sauvignon     Merlot   \n",
            "freq            691           2                2816       1221   \n",
            "\n",
            "            varieties3  ... varieties11 varieties12   type    use    abv  \\\n",
            "count             4028  ...           5           4  21547  21591  14459   \n",
            "unique             208  ...           5           4      9     12    184   \n",
            "top     Cabernet Franc  ...      Tannat         Etc    Red  Table   13.5   \n",
            "freq               691  ...           1           1  13853  17907   1825   \n",
            "\n",
            "       degree   sweet   acidity   body   tannin  \n",
            "count   14460   21603     21592  21592    21592  \n",
            "unique     81       5         5      5        5  \n",
            "top     16~18  SWEET1  ACIDITY3  BODY3  TANNIN1  \n",
            "freq     6295   18995     11081   9023     7568  \n",
            "\n",
            "[4 rows x 27 columns]\n",
            "\n",
            "--- Duplicates ---\n",
            "Duplicate Rows: 0\n",
            "\n",
            "--- Numeric Distributions ---\n"
          ]
        },
        {
          "data": {
            "image/png": "[encoded data removed]",
            "text/plain": [
              "<Figure size 1200x900 with 5 Axes>"
            ]
          },
          "metadata": {},
          "output_type": "display_data"
        },
        {
          "name": "stdout",
          "output_type": "stream",
          "text": [
            "\n",
            "EDA Complete!\n"
          ]
        }
      ],
      "source": [
        "run_eda(cleansingWine)"
      ]
    },
    {
      "cell_type": "code",
      "execution_count": 5,
      "metadata": {
        "colab": {
          "base_uri": "https://localhost:8080/"
        },
        "id": "kWbpXRRtJgoO",
        "outputId": "13b6752b-9b49-42f8-ee38-786da31f853b"
      },
      "outputs": [
        {
          "name": "stdout",
          "output_type": "stream",
          "text": [
            "12512\n"
          ]
        }
      ],
      "source": [
        "zero_count = (cleansingWine['price'] != 0).sum()\n",
        "print(zero_count)"
      ]
    },
    {
      "cell_type": "markdown",
      "metadata": {
        "id": "f41MCzH-UD2-"
      },
      "source": [
        "Get rid off 0 values"
      ]
    },
    {
      "cell_type": "code",
      "execution_count": 6,
      "metadata": {
        "id": "ZTvxEm-Ea1f7"
      },
      "outputs": [],
      "source": [
        "wine_df = cleansingWine[cleansingWine['price'] != 0].copy()"
      ]
    },
    {
      "cell_type": "code",
      "execution_count": 7,
      "metadata": {
        "id": "jMIBwF8WTRAS"
      },
      "outputs": [],
      "source": [
        "wine_df = wine_df[wine_df['year'] != 0].copy()"
      ]
    },
    {
      "cell_type": "code",
      "execution_count": 8,
      "metadata": {
        "colab": {
          "base_uri": "https://localhost:8080/"
        },
        "id": "Gh5oSxFbTaPI",
        "outputId": "05ae585c-c5cd-450b-ed49-cbee768d4ef7"
      },
      "outputs": [
        {
          "name": "stdout",
          "output_type": "stream",
          "text": [
            "<class 'pandas.core.frame.DataFrame'>\n",
            "Index: 11069 entries, 0 to 21604\n",
            "Data columns (total 32 columns):\n",
            " #   Column       Non-Null Count  Dtype \n",
            "---  ------       --------------  ----- \n",
            " 0   Unnamed: 0   11069 non-null  int64 \n",
            " 1   id           11069 non-null  int64 \n",
            " 2   name         11069 non-null  object\n",
            " 3   producer     11069 non-null  object\n",
            " 4   nation       11069 non-null  object\n",
            " 5   local1       10846 non-null  object\n",
            " 6   local2       6303 non-null   object\n",
            " 7   local3       2224 non-null   object\n",
            " 8   local4       0 non-null      object\n",
            " 9   varieties1   10937 non-null  object\n",
            " 10  varieties2   3815 non-null   object\n",
            " 11  varieties3   2099 non-null   object\n",
            " 12  varieties4   736 non-null    object\n",
            " 13  varieties5   207 non-null    object\n",
            " 14  varieties6   55 non-null     object\n",
            " 15  varieties7   17 non-null     object\n",
            " 16  varieties8   8 non-null      object\n",
            " 17  varieties9   4 non-null      object\n",
            " 18  varieties10  4 non-null      object\n",
            " 19  varieties11  3 non-null      object\n",
            " 20  varieties12  2 non-null      object\n",
            " 21  type         11055 non-null  object\n",
            " 22  use          11063 non-null  object\n",
            " 23  abv          7388 non-null   object\n",
            " 24  degree       7388 non-null   object\n",
            " 25  sweet        11067 non-null  object\n",
            " 26  acidity      11069 non-null  object\n",
            " 27  body         11069 non-null  object\n",
            " 28  tannin       11069 non-null  object\n",
            " 29  price        11069 non-null  int64 \n",
            " 30  year         11069 non-null  int64 \n",
            " 31  ml           11069 non-null  int64 \n",
            "dtypes: int64(5), object(27)\n",
            "memory usage: 2.8+ MB\n"
          ]
        }
      ],
      "source": [
        "wine_df.info()"
      ]
    },
    {
      "cell_type": "code",
      "execution_count": 9,
      "metadata": {
        "colab": {
          "base_uri": "https://localhost:8080/"
        },
        "id": "xn-cbyUMYO4W",
        "outputId": "7942c856-92ae-4fd9-e8a5-e6860fb27781"
      },
      "outputs": [
        {
          "data": {
            "text/plain": [
              "Index(['Unnamed: 0', 'id', 'name', 'producer', 'nation', 'local1', 'local2',\n",
              "       'local3', 'local4', 'varieties1', 'varieties2', 'varieties3',\n",
              "       'varieties4', 'varieties5', 'varieties6', 'varieties7', 'varieties8',\n",
              "       'varieties9', 'varieties10', 'varieties11', 'varieties12', 'type',\n",
              "       'use', 'abv', 'degree', 'sweet', 'acidity', 'body', 'tannin', 'price',\n",
              "       'year', 'ml'],\n",
              "      dtype='object')"
            ]
          },
          "execution_count": 9,
          "metadata": {},
          "output_type": "execute_result"
        }
      ],
      "source": [
        "cleansingWine.columns"
      ]
    },
    {
      "cell_type": "code",
      "execution_count": 10,
      "metadata": {
        "id": "DOaXYmdnYI7G"
      },
      "outputs": [],
      "source": [
        "columns_to_keep = ['nation', 'local1', 'varieties1',\n",
        "       'use', 'sweet', 'acidity', 'body', 'tannin', 'price',\n",
        "       'year', 'ml']"
      ]
    },
    {
      "cell_type": "code",
      "execution_count": 11,
      "metadata": {
        "id": "tmwN_AV1YzMl"
      },
      "outputs": [],
      "source": [
        "wine_df_clean = wine_df[columns_to_keep]"
      ]
    },
    {
      "cell_type": "code",
      "execution_count": 12,
      "metadata": {
        "colab": {
          "base_uri": "https://localhost:8080/"
        },
        "id": "F2-OvXMzDwz9",
        "outputId": "446f381b-e828-469d-e3fb-d280bc1980d2"
      },
      "outputs": [
        {
          "name": "stdout",
          "output_type": "stream",
          "text": [
            "         nation              local1          varieties1                 use  \\\n",
            "400      Canada  Cabernet Sauvignon                 NaN               Table   \n",
            "671    Portugal               Douro                 NaN               Table   \n",
            "679       Spain                 NaN            Garnacha               Table   \n",
            "680       Spain                 NaN            Garnacha               Table   \n",
            "1041     France  Cabernet Sauvignon                 NaN               Table   \n",
            "...         ...                 ...                 ...                 ...   \n",
            "21247     Italy             Toscana          Sangiovese               Table   \n",
            "21327       USA          California  Cabernet Sauvignon                 NaN   \n",
            "21346   Austria                 NaN                 NaN    Appetizer, Table   \n",
            "21347     Italy              Puglia          Negroamaro               Table   \n",
            "21477     Italy                 NaN               Blend  Appetizer, Dessert   \n",
            "\n",
            "        sweet   acidity   body   tannin    price  year   ml  \n",
            "400    SWEET1  ACIDITY4  BODY3  TANNIN3    90000  2013  750  \n",
            "671    SWEET1  ACIDITY3  BODY4  TANNIN3    54000  2013  750  \n",
            "679    SWEET1  ACIDITY4  BODY4  TANNIN5   220000  2018  750  \n",
            "680    SWEET1  ACIDITY3  BODY5  TANNIN4  2300000  2019  750  \n",
            "1041   SWEET1  ACIDITY3  BODY4  TANNIN3    28000  2003  750  \n",
            "...       ...       ...    ...      ...      ...   ...  ...  \n",
            "21247     NaN  ACIDITY4  BODY4  TANNIN3    42000  2016  750  \n",
            "21327  SWEET1  ACIDITY3  BODY3  TANNIN3    60000  2018  750  \n",
            "21346  SWEET1  ACIDITY5  BODY2  TANNIN1   100000  2017  750  \n",
            "21347     NaN  ACIDITY3  BODY4  TANNIN3    35000  2020  750  \n",
            "21477  SWEET3  ACIDITY3  BODY1  TANNIN1    40000  2020  750  \n",
            "\n",
            "[356 rows x 11 columns]\n"
          ]
        }
      ],
      "source": [
        "print(wine_df_clean[wine_df_clean.isnull().any(axis=1)])\n"
      ]
    },
    {
      "cell_type": "markdown",
      "metadata": {
        "id": "7VC7LFavTnRx"
      },
      "source": [
        "Filling missing info based on actual wine infomation"
      ]
    },
    {
      "cell_type": "code",
      "execution_count": 13,
      "metadata": {
        "id": "pCJC9vfjCv3u"
      },
      "outputs": [],
      "source": [
        "wine_df_clean.loc[18139, 'use'] = 'Etc'\n",
        "wine_df_clean.loc[19973, 'use'] = 'Table'\n",
        "wine_df_clean.loc[20247, 'use'] = 'Table'\n",
        "wine_df_clean.loc[20286, 'use'] = 'Table'\n",
        "wine_df_clean.loc[21246, 'use'] = 'Appetizer, Table'\n",
        "wine_df_clean.loc[21327, 'use'] = 'Table'\n",
        "wine_df_clean.loc[21247, 'sweet'] = 'SWEET1'\n",
        "wine_df_clean.loc[21347, 'sweet'] = 'SWEET1'"
      ]
    },
    {
      "cell_type": "code",
      "execution_count": 14,
      "metadata": {
        "colab": {
          "base_uri": "https://localhost:8080/"
        },
        "id": "w5WwwHHJHSeP",
        "outputId": "d6c3af98-c4c3-4171-d5ee-3f136f98f2ca"
      },
      "outputs": [
        {
          "name": "stdout",
          "output_type": "stream",
          "text": [
            "                             nation              local1 varieties1  \\\n",
            "400                          Canada  Cabernet Sauvignon        NaN   \n",
            "671                        Portugal               Douro        NaN   \n",
            "679                           Spain                 NaN   Garnacha   \n",
            "680                           Spain                 NaN   Garnacha   \n",
            "1041                         France  Cabernet Sauvignon        NaN   \n",
            "...                             ...                 ...        ...   \n",
            "20961  the Republic of South Africa        Chenin Blanc        NaN   \n",
            "20962  the Republic of South Africa        Chenin Blanc        NaN   \n",
            "21042                         Spain             Penedes        NaN   \n",
            "21346                       Austria                 NaN        NaN   \n",
            "21477                         Italy                 NaN      Blend   \n",
            "\n",
            "                      use   sweet   acidity   body   tannin    price  year  \\\n",
            "400                 Table  SWEET1  ACIDITY4  BODY3  TANNIN3    90000  2013   \n",
            "671                 Table  SWEET1  ACIDITY3  BODY4  TANNIN3    54000  2013   \n",
            "679                 Table  SWEET1  ACIDITY4  BODY4  TANNIN5   220000  2018   \n",
            "680                 Table  SWEET1  ACIDITY3  BODY5  TANNIN4  2300000  2019   \n",
            "1041                Table  SWEET1  ACIDITY3  BODY4  TANNIN3    28000  2003   \n",
            "...                   ...     ...       ...    ...      ...      ...   ...   \n",
            "20961    Appetizer, Table  SWEET1  ACIDITY3  BODY2  TANNIN1    40000  2020   \n",
            "20962    Appetizer, Table  SWEET1  ACIDITY3  BODY3  TANNIN1    55000  2018   \n",
            "21042    Appetizer, Table  SWEET1  ACIDITY5  BODY2  TANNIN1    90000  2018   \n",
            "21346    Appetizer, Table  SWEET1  ACIDITY5  BODY2  TANNIN1   100000  2017   \n",
            "21477  Appetizer, Dessert  SWEET3  ACIDITY3  BODY1  TANNIN1    40000  2020   \n",
            "\n",
            "        ml  \n",
            "400    750  \n",
            "671    750  \n",
            "679    750  \n",
            "680    750  \n",
            "1041   750  \n",
            "...    ...  \n",
            "20961  750  \n",
            "20962  750  \n",
            "21042  750  \n",
            "21346  750  \n",
            "21477  750  \n",
            "\n",
            "[350 rows x 11 columns]\n",
            "Empty DataFrame\n",
            "Columns: [nation, local1, varieties1, use, sweet, acidity, body, tannin, price, year, ml]\n",
            "Index: []\n"
          ]
        }
      ],
      "source": [
        "print(wine_df_clean[wine_df_clean.isnull().any(axis=1)])\n",
        "print(wine_df_clean[wine_df_clean['year'] == 0])"
      ]
    },
    {
      "cell_type": "code",
      "execution_count": 15,
      "metadata": {
        "colab": {
          "base_uri": "https://localhost:8080/"
        },
        "id": "49NOSgrT6kP6",
        "outputId": "ddb36b0d-ab9c-44b7-b364-1842ce9335ee"
      },
      "outputs": [
        {
          "data": {
            "text/plain": [
              "array(['SWEET1', 'SWEET2', 'SWEET5', 'SWEET3', 'SWEET4'], dtype=object)"
            ]
          },
          "execution_count": 15,
          "metadata": {},
          "output_type": "execute_result"
        }
      ],
      "source": [
        "wine_df_clean['sweet'].unique()"
      ]
    },
    {
      "cell_type": "code",
      "execution_count": 16,
      "metadata": {
        "colab": {
          "base_uri": "https://localhost:8080/"
        },
        "id": "BJgiWz544-QS",
        "outputId": "7693e860-97e6-4823-e88b-57b7354f5a1d"
      },
      "outputs": [],
      "source": [
        "wine_df_clean = wine_df_clean.copy()\n",
        "wine_df_clean.loc[:, 'sweet_num'] = wine_df_clean['sweet'].astype(str).str.extract(r'(\\d+)')[0].astype(int)\n",
        "wine_df_clean.loc[:, 'acidity_num'] = wine_df_clean['acidity'].astype(str).str.extract(r'(\\d+)')[0].astype(int)\n",
        "wine_df_clean.loc[:, 'body_num'] = wine_df_clean['body'].astype(str).str.extract(r'(\\d+)')[0].astype(int)\n",
        "wine_df_clean.loc[:, 'tannin_num'] = wine_df_clean['tannin'].astype(str).str.extract(r'(\\d+)')[0].astype(int)"
      ]
    },
    {
      "cell_type": "code",
      "execution_count": 17,
      "metadata": {
        "id": "vcLuJUhluHWW"
      },
      "outputs": [],
      "source": [
        "wine_df_clean = wine_df_clean.fillna(value={'local1': 'Unknown', 'varieties1': 'Unknown'})\n"
      ]
    },
    {
      "cell_type": "code",
      "execution_count": 18,
      "metadata": {
        "colab": {
          "base_uri": "https://localhost:8080/"
        },
        "id": "NXkCUYbPLzgW",
        "outputId": "1125a7ac-2946-44d2-e66b-9ad462b4f122"
      },
      "outputs": [
        {
          "name": "stdout",
          "output_type": "stream",
          "text": [
            "<class 'pandas.core.frame.DataFrame'>\n",
            "Index: 11069 entries, 0 to 21604\n",
            "Data columns (total 15 columns):\n",
            " #   Column       Non-Null Count  Dtype \n",
            "---  ------       --------------  ----- \n",
            " 0   nation       11069 non-null  object\n",
            " 1   local1       11069 non-null  object\n",
            " 2   varieties1   11069 non-null  object\n",
            " 3   use          11069 non-null  object\n",
            " 4   sweet        11069 non-null  object\n",
            " 5   acidity      11069 non-null  object\n",
            " 6   body         11069 non-null  object\n",
            " 7   tannin       11069 non-null  object\n",
            " 8   price        11069 non-null  int64 \n",
            " 9   year         11069 non-null  int64 \n",
            " 10  ml           11069 non-null  int64 \n",
            " 11  sweet_num    11069 non-null  int64 \n",
            " 12  acidity_num  11069 non-null  int64 \n",
            " 13  body_num     11069 non-null  int64 \n",
            " 14  tannin_num   11069 non-null  int64 \n",
            "dtypes: int64(7), object(8)\n",
            "memory usage: 1.6+ MB\n"
          ]
        }
      ],
      "source": [
        "wine_df_clean.info()"
      ]
    },
    {
      "cell_type": "code",
      "execution_count": 19,
      "metadata": {
        "id": "BZGw9QTBRaAg"
      },
      "outputs": [],
      "source": [
        "import tensorflow as tf\n",
        "from tensorflow import keras\n",
        "from tensorflow.keras import layers\n",
        "from sklearn import preprocessing\n",
        "\n",
        "import os\n",
        "import pandas as pd\n",
        "import numpy as np\n",
        "import matplotlib.pyplot as plt\n",
        "from sklearn.metrics import mean_squared_error, mean_absolute_error, r2_score, root_mean_squared_error\n",
        "from sklearn.preprocessing import StandardScaler, OneHotEncoder, PolynomialFeatures, LabelEncoder\n",
        "from sklearn.compose import ColumnTransformer, make_column_selector\n",
        "from sklearn.pipeline import Pipeline\n",
        "from sklearn.model_selection import train_test_split\n",
        "from tensorflow.keras.utils import plot_model\n",
        "from IPython.display import Image"
      ]
    },
    {
      "cell_type": "code",
      "execution_count": 20,
      "metadata": {
        "id": "f5dnqILYQHYz"
      },
      "outputs": [],
      "source": [
        "wine_df_clean['log_price'] = np.log(wine_df_clean['price'])\n",
        "X = wine_df_clean.drop(['price', 'log_price', 'sweet', 'acidity', 'body', 'tannin'], axis=1)\n",
        "y = wine_df_clean['log_price'].astype('float32')"
      ]
    },
    {
      "cell_type": "code",
      "execution_count": 21,
      "metadata": {
        "colab": {
          "base_uri": "https://localhost:8080/"
        },
        "id": "Uak1aUuV_nqG",
        "outputId": "7414d1db-5a80-4e68-956a-360fe05dfea1"
      },
      "outputs": [
        {
          "data": {
            "text/plain": [
              "(11069, 10)"
            ]
          },
          "execution_count": 21,
          "metadata": {},
          "output_type": "execute_result"
        }
      ],
      "source": [
        "X.shape"
      ]
    },
    {
      "cell_type": "code",
      "execution_count": 22,
      "metadata": {
        "id": "9t2emAMUUc0S"
      },
      "outputs": [],
      "source": [
        "num_cols = X.select_dtypes(include=['number']).columns.tolist()\n",
        "cat_cols = X.select_dtypes(include=['object', 'category']).columns.tolist()"
      ]
    },
    {
      "cell_type": "code",
      "execution_count": 23,
      "metadata": {
        "id": "5xDQSqGuvbMj"
      },
      "outputs": [],
      "source": [
        "preprocessor = ColumnTransformer(transformers=[\n",
        "    ('num', StandardScaler(), num_cols),\n",
        "    ('cat', OneHotEncoder(handle_unknown='ignore', drop = 'first'), cat_cols)\n",
        "])"
      ]
    },
    {
      "cell_type": "code",
      "execution_count": 24,
      "metadata": {
        "id": "F_Ox6UFH0Q5A"
      },
      "outputs": [],
      "source": [
        "X_processed = preprocessor.fit_transform(X)\n",
        "X_train, X_test, y_train, y_test = train_test_split(X_processed, y, test_size=0.2, random_state=42)"
      ]
    },
    {
      "cell_type": "code",
      "execution_count": 25,
      "metadata": {
        "id": "QlAbVIpOUjHq"
      },
      "outputs": [],
      "source": [
        "from tensorflow.keras.callbacks import EarlyStopping\n",
        "\n",
        "early_stop = EarlyStopping(\n",
        "    monitor='val_loss',\n",
        "    patience=15,\n",
        "    restore_best_weights=True\n",
        ")"
      ]
    },
    {
      "cell_type": "code",
      "execution_count": 26,
      "metadata": {
        "id": "UJDmSmz10Vqf"
      },
      "outputs": [
        {
          "name": "stderr",
          "output_type": "stream",
          "text": [
            "2025-05-07 21:47:16.968735: I metal_plugin/src/device/metal_device.cc:1154] Metal device set to: Apple M2\n",
            "2025-05-07 21:47:16.968761: I metal_plugin/src/device/metal_device.cc:296] systemMemory: 16.00 GB\n",
            "2025-05-07 21:47:16.968765: I metal_plugin/src/device/metal_device.cc:313] maxCacheSize: 5.33 GB\n",
            "2025-05-07 21:47:16.968781: I tensorflow/core/common_runtime/pluggable_device/pluggable_device_factory.cc:305] Could not identify NUMA node of platform GPU ID 0, defaulting to 0. Your kernel may not have been built with NUMA support.\n",
            "2025-05-07 21:47:16.968793: I tensorflow/core/common_runtime/pluggable_device/pluggable_device_factory.cc:271] Created TensorFlow device (/job:localhost/replica:0/task:0/device:GPU:0 with 0 MB memory) -> physical PluggableDevice (device: 0, name: METAL, pci bus id: <undefined>)\n"
          ]
        }
      ],
      "source": [
        "input1 = keras.Input(shape=(X_train.shape[1],))\n",
        "x1 = layers.Dense(128, activation='relu')(input1)\n",
        "x1 = layers.Dense(64, activation='relu')(x1)\n",
        "x1 = layers.Dense(16, activation='relu')(x1)\n",
        "output1 = layers.Dense(1, activation='linear')(x1)\n",
        "model1 = keras.Model(inputs=input1, outputs=output1)"
      ]
    },
    {
      "cell_type": "code",
      "execution_count": 27,
      "metadata": {
        "colab": {
          "base_uri": "https://localhost:8080/",
          "height": 298
        },
        "id": "Eud6n-BrmuHk",
        "outputId": "18e0d9b4-ece9-41d2-a763-27207a77eaf4"
      },
      "outputs": [
        {
          "data": {
            "text/html": [
              "<pre style=\"white-space:pre;overflow-x:auto;line-height:normal;font-family:Menlo,'DejaVu Sans Mono',consolas,'Courier New',monospace\"><span style=\"font-weight: bold\">Model: \"functional\"</span>\n",
              "</pre>\n"
            ],
            "text/plain": [
              "\u001b[1mModel: \"functional\"\u001b[0m\n"
            ]
          },
          "metadata": {},
          "output_type": "display_data"
        },
        {
          "data": {
            "text/html": [
              "<pre style=\"white-space:pre;overflow-x:auto;line-height:normal;font-family:Menlo,'DejaVu Sans Mono',consolas,'Courier New',monospace\">┏━━━━━━━━━━━━━━━━━━━━━━━━━━━━━━━━━┳━━━━━━━━━━━━━━━━━━━━━━━━┳━━━━━━━━━━━━━━━┓\n",
              "┃<span style=\"font-weight: bold\"> Layer (type)                    </span>┃<span style=\"font-weight: bold\"> Output Shape           </span>┃<span style=\"font-weight: bold\">       Param # </span>┃\n",
              "┡━━━━━━━━━━━━━━━━━━━━━━━━━━━━━━━━━╇━━━━━━━━━━━━━━━━━━━━━━━━╇━━━━━━━━━━━━━━━┩\n",
              "│ input_layer (<span style=\"color: #0087ff; text-decoration-color: #0087ff\">InputLayer</span>)        │ (<span style=\"color: #00d7ff; text-decoration-color: #00d7ff\">None</span>, <span style=\"color: #00af00; text-decoration-color: #00af00\">462</span>)            │             <span style=\"color: #00af00; text-decoration-color: #00af00\">0</span> │\n",
              "├─────────────────────────────────┼────────────────────────┼───────────────┤\n",
              "│ dense (<span style=\"color: #0087ff; text-decoration-color: #0087ff\">Dense</span>)                   │ (<span style=\"color: #00d7ff; text-decoration-color: #00d7ff\">None</span>, <span style=\"color: #00af00; text-decoration-color: #00af00\">128</span>)            │        <span style=\"color: #00af00; text-decoration-color: #00af00\">59,264</span> │\n",
              "├─────────────────────────────────┼────────────────────────┼───────────────┤\n",
              "│ dense_1 (<span style=\"color: #0087ff; text-decoration-color: #0087ff\">Dense</span>)                 │ (<span style=\"color: #00d7ff; text-decoration-color: #00d7ff\">None</span>, <span style=\"color: #00af00; text-decoration-color: #00af00\">64</span>)             │         <span style=\"color: #00af00; text-decoration-color: #00af00\">8,256</span> │\n",
              "├─────────────────────────────────┼────────────────────────┼───────────────┤\n",
              "│ dense_2 (<span style=\"color: #0087ff; text-decoration-color: #0087ff\">Dense</span>)                 │ (<span style=\"color: #00d7ff; text-decoration-color: #00d7ff\">None</span>, <span style=\"color: #00af00; text-decoration-color: #00af00\">16</span>)             │         <span style=\"color: #00af00; text-decoration-color: #00af00\">1,040</span> │\n",
              "├─────────────────────────────────┼────────────────────────┼───────────────┤\n",
              "│ dense_3 (<span style=\"color: #0087ff; text-decoration-color: #0087ff\">Dense</span>)                 │ (<span style=\"color: #00d7ff; text-decoration-color: #00d7ff\">None</span>, <span style=\"color: #00af00; text-decoration-color: #00af00\">1</span>)              │            <span style=\"color: #00af00; text-decoration-color: #00af00\">17</span> │\n",
              "└─────────────────────────────────┴────────────────────────┴───────────────┘\n",
              "</pre>\n"
            ],
            "text/plain": [
              "┏━━━━━━━━━━━━━━━━━━━━━━━━━━━━━━━━━┳━━━━━━━━━━━━━━━━━━━━━━━━┳━━━━━━━━━━━━━━━┓\n",
              "┃\u001b[1m \u001b[0m\u001b[1mLayer (type)                   \u001b[0m\u001b[1m \u001b[0m┃\u001b[1m \u001b[0m\u001b[1mOutput Shape          \u001b[0m\u001b[1m \u001b[0m┃\u001b[1m \u001b[0m\u001b[1m      Param #\u001b[0m\u001b[1m \u001b[0m┃\n",
              "┡━━━━━━━━━━━━━━━━━━━━━━━━━━━━━━━━━╇━━━━━━━━━━━━━━━━━━━━━━━━╇━━━━━━━━━━━━━━━┩\n",
              "│ input_layer (\u001b[38;5;33mInputLayer\u001b[0m)        │ (\u001b[38;5;45mNone\u001b[0m, \u001b[38;5;34m462\u001b[0m)            │             \u001b[38;5;34m0\u001b[0m │\n",
              "├─────────────────────────────────┼────────────────────────┼───────────────┤\n",
              "│ dense (\u001b[38;5;33mDense\u001b[0m)                   │ (\u001b[38;5;45mNone\u001b[0m, \u001b[38;5;34m128\u001b[0m)            │        \u001b[38;5;34m59,264\u001b[0m │\n",
              "├─────────────────────────────────┼────────────────────────┼───────────────┤\n",
              "│ dense_1 (\u001b[38;5;33mDense\u001b[0m)                 │ (\u001b[38;5;45mNone\u001b[0m, \u001b[38;5;34m64\u001b[0m)             │         \u001b[38;5;34m8,256\u001b[0m │\n",
              "├─────────────────────────────────┼────────────────────────┼───────────────┤\n",
              "│ dense_2 (\u001b[38;5;33mDense\u001b[0m)                 │ (\u001b[38;5;45mNone\u001b[0m, \u001b[38;5;34m16\u001b[0m)             │         \u001b[38;5;34m1,040\u001b[0m │\n",
              "├─────────────────────────────────┼────────────────────────┼───────────────┤\n",
              "│ dense_3 (\u001b[38;5;33mDense\u001b[0m)                 │ (\u001b[38;5;45mNone\u001b[0m, \u001b[38;5;34m1\u001b[0m)              │            \u001b[38;5;34m17\u001b[0m │\n",
              "└─────────────────────────────────┴────────────────────────┴───────────────┘\n"
            ]
          },
          "metadata": {},
          "output_type": "display_data"
        },
        {
          "data": {
            "text/html": [
              "<pre style=\"white-space:pre;overflow-x:auto;line-height:normal;font-family:Menlo,'DejaVu Sans Mono',consolas,'Courier New',monospace\"><span style=\"font-weight: bold\"> Total params: </span><span style=\"color: #00af00; text-decoration-color: #00af00\">68,577</span> (267.88 KB)\n",
              "</pre>\n"
            ],
            "text/plain": [
              "\u001b[1m Total params: \u001b[0m\u001b[38;5;34m68,577\u001b[0m (267.88 KB)\n"
            ]
          },
          "metadata": {},
          "output_type": "display_data"
        },
        {
          "data": {
            "text/html": [
              "<pre style=\"white-space:pre;overflow-x:auto;line-height:normal;font-family:Menlo,'DejaVu Sans Mono',consolas,'Courier New',monospace\"><span style=\"font-weight: bold\"> Trainable params: </span><span style=\"color: #00af00; text-decoration-color: #00af00\">68,577</span> (267.88 KB)\n",
              "</pre>\n"
            ],
            "text/plain": [
              "\u001b[1m Trainable params: \u001b[0m\u001b[38;5;34m68,577\u001b[0m (267.88 KB)\n"
            ]
          },
          "metadata": {},
          "output_type": "display_data"
        },
        {
          "data": {
            "text/html": [
              "<pre style=\"white-space:pre;overflow-x:auto;line-height:normal;font-family:Menlo,'DejaVu Sans Mono',consolas,'Courier New',monospace\"><span style=\"font-weight: bold\"> Non-trainable params: </span><span style=\"color: #00af00; text-decoration-color: #00af00\">0</span> (0.00 B)\n",
              "</pre>\n"
            ],
            "text/plain": [
              "\u001b[1m Non-trainable params: \u001b[0m\u001b[38;5;34m0\u001b[0m (0.00 B)\n"
            ]
          },
          "metadata": {},
          "output_type": "display_data"
        }
      ],
      "source": [
        "model1.summary()"
      ]
    },
    {
      "cell_type": "code",
      "execution_count": 31,
      "metadata": {
        "colab": {
          "base_uri": "https://localhost:8080/"
        },
        "id": "QI5eK0qkm-QR",
        "outputId": "502c15fa-51ff-4662-c75d-7a69e96c0274"
      },
      "outputs": [
        {
          "name": "stdout",
          "output_type": "stream",
          "text": [
            "Epoch 1/100\n"
          ]
        },
        {
          "name": "stderr",
          "output_type": "stream",
          "text": [
            "2025-05-07 21:47:17.824980: I tensorflow/core/grappler/optimizers/custom_graph_optimizer_registry.cc:117] Plugin optimizer for device_type GPU is enabled.\n"
          ]
        },
        {
          "name": "stdout",
          "output_type": "stream",
          "text": [
            "\u001b[1m125/125\u001b[0m \u001b[32m━━━━━━━━━━━━━━━━━━━━\u001b[0m\u001b[37m\u001b[0m \u001b[1m4s\u001b[0m 15ms/step - loss: 54.1813 - mae: 6.0818 - mse: 54.1813 - val_loss: 0.9816 - val_mae: 0.7063 - val_mse: 0.9816\n",
            "Epoch 2/100\n",
            "\u001b[1m125/125\u001b[0m \u001b[32m━━━━━━━━━━━━━━━━━━━━\u001b[0m\u001b[37m\u001b[0m \u001b[1m1s\u001b[0m 10ms/step - loss: 0.7943 - mae: 0.6638 - mse: 0.7943 - val_loss: 0.8262 - val_mae: 0.6293 - val_mse: 0.8262\n",
            "Epoch 3/100\n",
            "\u001b[1m125/125\u001b[0m \u001b[32m━━━━━━━━━━━━━━━━━━━━\u001b[0m\u001b[37m\u001b[0m \u001b[1m1s\u001b[0m 10ms/step - loss: 0.6823 - mae: 0.6029 - mse: 0.6823 - val_loss: 0.9470 - val_mae: 0.6197 - val_mse: 0.9470\n",
            "Epoch 4/100\n",
            "\u001b[1m125/125\u001b[0m \u001b[32m━━━━━━━━━━━━━━━━━━━━\u001b[0m\u001b[37m\u001b[0m \u001b[1m1s\u001b[0m 9ms/step - loss: 0.6170 - mae: 0.5730 - mse: 0.6170 - val_loss: 0.6266 - val_mae: 0.5674 - val_mse: 0.6266\n",
            "Epoch 5/100\n",
            "\u001b[1m125/125\u001b[0m \u001b[32m━━━━━━━━━━━━━━━━━━━━\u001b[0m\u001b[37m\u001b[0m \u001b[1m1s\u001b[0m 9ms/step - loss: 0.5586 - mae: 0.5423 - mse: 0.5586 - val_loss: 0.6466 - val_mae: 0.5786 - val_mse: 0.6466\n",
            "Epoch 6/100\n",
            "\u001b[1m125/125\u001b[0m \u001b[32m━━━━━━━━━━━━━━━━━━━━\u001b[0m\u001b[37m\u001b[0m \u001b[1m1s\u001b[0m 9ms/step - loss: 0.5221 - mae: 0.5264 - mse: 0.5221 - val_loss: 0.6056 - val_mae: 0.5659 - val_mse: 0.6056\n",
            "Epoch 7/100\n",
            "\u001b[1m125/125\u001b[0m \u001b[32m━━━━━━━━━━━━━━━━━━━━\u001b[0m\u001b[37m\u001b[0m \u001b[1m1s\u001b[0m 10ms/step - loss: 0.5404 - mae: 0.5457 - mse: 0.5404 - val_loss: 0.6138 - val_mae: 0.5816 - val_mse: 0.6138\n",
            "Epoch 8/100\n",
            "\u001b[1m125/125\u001b[0m \u001b[32m━━━━━━━━━━━━━━━━━━━━\u001b[0m\u001b[37m\u001b[0m \u001b[1m1s\u001b[0m 10ms/step - loss: 0.5274 - mae: 0.5447 - mse: 0.5274 - val_loss: 0.6206 - val_mae: 0.5712 - val_mse: 0.6206\n",
            "Epoch 9/100\n",
            "\u001b[1m125/125\u001b[0m \u001b[32m━━━━━━━━━━━━━━━━━━━━\u001b[0m\u001b[37m\u001b[0m \u001b[1m1s\u001b[0m 10ms/step - loss: 0.8070 - mae: 0.6491 - mse: 0.8070 - val_loss: 0.5958 - val_mae: 0.5654 - val_mse: 0.5958\n",
            "Epoch 10/100\n",
            "\u001b[1m125/125\u001b[0m \u001b[32m━━━━━━━━━━━━━━━━━━━━\u001b[0m\u001b[37m\u001b[0m \u001b[1m1s\u001b[0m 10ms/step - loss: 0.7607 - mae: 0.6577 - mse: 0.7607 - val_loss: 0.6471 - val_mae: 0.5907 - val_mse: 0.6471\n",
            "Epoch 11/100\n",
            "\u001b[1m125/125\u001b[0m \u001b[32m━━━━━━━━━━━━━━━━━━━━\u001b[0m\u001b[37m\u001b[0m \u001b[1m1s\u001b[0m 11ms/step - loss: 0.5889 - mae: 0.5779 - mse: 0.5889 - val_loss: 0.6036 - val_mae: 0.5688 - val_mse: 0.6036\n",
            "Epoch 12/100\n",
            "\u001b[1m125/125\u001b[0m \u001b[32m━━━━━━━━━━━━━━━━━━━━\u001b[0m\u001b[37m\u001b[0m \u001b[1m1s\u001b[0m 10ms/step - loss: 1.8121 - mae: 0.9089 - mse: 1.8121 - val_loss: 0.6791 - val_mae: 0.6158 - val_mse: 0.6791\n",
            "Epoch 13/100\n",
            "\u001b[1m125/125\u001b[0m \u001b[32m━━━━━━━━━━━━━━━━━━━━\u001b[0m\u001b[37m\u001b[0m \u001b[1m1s\u001b[0m 10ms/step - loss: 0.5555 - mae: 0.5555 - mse: 0.5555 - val_loss: 3.3714 - val_mae: 0.7225 - val_mse: 3.3714\n",
            "Epoch 14/100\n",
            "\u001b[1m125/125\u001b[0m \u001b[32m━━━━━━━━━━━━━━━━━━━━\u001b[0m\u001b[37m\u001b[0m \u001b[1m1s\u001b[0m 10ms/step - loss: 1.0530 - mae: 0.7493 - mse: 1.0530 - val_loss: 1.5855 - val_mae: 0.6815 - val_mse: 1.5855\n",
            "Epoch 15/100\n",
            "\u001b[1m125/125\u001b[0m \u001b[32m━━━━━━━━━━━━━━━━━━━━\u001b[0m\u001b[37m\u001b[0m \u001b[1m1s\u001b[0m 10ms/step - loss: 3.6804 - mae: 1.2224 - mse: 3.6804 - val_loss: 0.8077 - val_mae: 0.6766 - val_mse: 0.8077\n",
            "Epoch 16/100\n",
            "\u001b[1m125/125\u001b[0m \u001b[32m━━━━━━━━━━━━━━━━━━━━\u001b[0m\u001b[37m\u001b[0m \u001b[1m1s\u001b[0m 10ms/step - loss: 0.8633 - mae: 0.7027 - mse: 0.8633 - val_loss: 0.8170 - val_mae: 0.6158 - val_mse: 0.8170\n",
            "Epoch 17/100\n",
            "\u001b[1m125/125\u001b[0m \u001b[32m━━━━━━━━━━━━━━━━━━━━\u001b[0m\u001b[37m\u001b[0m \u001b[1m1s\u001b[0m 10ms/step - loss: 1.7423 - mae: 0.8281 - mse: 1.7423 - val_loss: 2.0603 - val_mae: 1.0144 - val_mse: 2.0603\n",
            "Epoch 18/100\n",
            "\u001b[1m125/125\u001b[0m \u001b[32m━━━━━━━━━━━━━━━━━━━━\u001b[0m\u001b[37m\u001b[0m \u001b[1m1s\u001b[0m 10ms/step - loss: 0.8501 - mae: 0.6766 - mse: 0.8501 - val_loss: 2.1149 - val_mae: 0.7174 - val_mse: 2.1149\n",
            "Epoch 19/100\n",
            "\u001b[1m125/125\u001b[0m \u001b[32m━━━━━━━━━━━━━━━━━━━━\u001b[0m\u001b[37m\u001b[0m \u001b[1m1s\u001b[0m 10ms/step - loss: 0.7375 - mae: 0.6400 - mse: 0.7375 - val_loss: 29.1751 - val_mae: 4.2922 - val_mse: 29.1751\n",
            "Epoch 20/100\n",
            "\u001b[1m125/125\u001b[0m \u001b[32m━━━━━━━━━━━━━━━━━━━━\u001b[0m\u001b[37m\u001b[0m \u001b[1m1s\u001b[0m 10ms/step - loss: 21.1504 - mae: 2.8932 - mse: 21.1504 - val_loss: 2.0880 - val_mae: 0.9329 - val_mse: 2.0880\n",
            "Epoch 21/100\n",
            "\u001b[1m125/125\u001b[0m \u001b[32m━━━━━━━━━━━━━━━━━━━━\u001b[0m\u001b[37m\u001b[0m \u001b[1m1s\u001b[0m 11ms/step - loss: 1.2731 - mae: 0.8204 - mse: 1.2731 - val_loss: 0.7176 - val_mae: 0.6268 - val_mse: 0.7176\n",
            "Epoch 22/100\n",
            "\u001b[1m125/125\u001b[0m \u001b[32m━━━━━━━━━━━━━━━━━━━━\u001b[0m\u001b[37m\u001b[0m \u001b[1m1s\u001b[0m 10ms/step - loss: 0.5410 - mae: 0.5563 - mse: 0.5410 - val_loss: 0.7006 - val_mae: 0.6278 - val_mse: 0.7006\n",
            "Epoch 23/100\n",
            "\u001b[1m125/125\u001b[0m \u001b[32m━━━━━━━━━━━━━━━━━━━━\u001b[0m\u001b[37m\u001b[0m \u001b[1m1s\u001b[0m 10ms/step - loss: 0.6173 - mae: 0.5888 - mse: 0.6173 - val_loss: 0.9540 - val_mae: 0.7241 - val_mse: 0.9540\n",
            "Epoch 24/100\n",
            "\u001b[1m125/125\u001b[0m \u001b[32m━━━━━━━━━━━━━━━━━━━━\u001b[0m\u001b[37m\u001b[0m \u001b[1m1s\u001b[0m 10ms/step - loss: 1.2764 - mae: 0.8040 - mse: 1.2764 - val_loss: 0.6401 - val_mae: 0.5964 - val_mse: 0.6401\n"
          ]
        }
      ],
      "source": [
        "model1.compile(\n",
        "    loss='mse',\n",
        "    optimizer='adam',\n",
        "    metrics=['mse', 'mae'])\n",
        "history1 = model1.fit(X_train, y_train, batch_size = 64, callbacks=[early_stop], epochs=100, validation_split =0.1)"
      ]
    },
    {
      "cell_type": "code",
      "execution_count": 32,
      "metadata": {
        "colab": {
          "base_uri": "https://localhost:8080/",
          "height": 487
        },
        "id": "ILz9eu4enbtB",
        "outputId": "e3b3c3fa-0ce3-46f3-aa4b-1887cc522776"
      },
      "outputs": [
        {
          "data": {
            "image/png": "[encoded data removed]",
            "text/plain": [
              "<Figure size 640x480 with 1 Axes>"
            ]
          },
          "metadata": {},
          "output_type": "display_data"
        }
      ],
      "source": [
        "import matplotlib.pyplot as plt\n",
        "\n",
        "plt.plot(history1.history['loss'], label='Train Loss')\n",
        "plt.plot(history1.history['val_loss'], label='Val Loss')\n",
        "plt.title('Training and Validation Loss')\n",
        "plt.xlabel('Epoch')\n",
        "plt.ylabel('Loss')\n",
        "plt.legend()\n",
        "plt.grid(True, linestyle='--', alpha=0.5)\n",
        "plt.tight_layout()\n",
        "plt.show()\n"
      ]
    },
    {
      "cell_type": "code",
      "execution_count": 33,
      "metadata": {
        "colab": {
          "base_uri": "https://localhost:8080/"
        },
        "id": "HiAgsEripkDt",
        "outputId": "037904c5-747f-4c5b-cf2c-847768f6294e"
      },
      "outputs": [
        {
          "name": "stdout",
          "output_type": "stream",
          "text": [
            "\u001b[1m70/70\u001b[0m \u001b[32m━━━━━━━━━━━━━━━━━━━━\u001b[0m\u001b[37m\u001b[0m \u001b[1m1s\u001b[0m 9ms/step - loss: 0.5885 - mae: 0.5683 - mse: 0.5885\n",
            "Test MSE: 0.6103\n",
            "Test MAE: 0.6103\n",
            "Test RMSE: 0.5722\n"
          ]
        }
      ],
      "source": [
        "scores = model1.evaluate(X_test, y_test)\n",
        "print(f\"Test MSE: {scores[0]:.4f}\")\n",
        "print(f\"Test MAE: {scores[1]:.4f}\")\n",
        "print(f\"Test RMSE: {scores[2]:.4f}\")"
      ]
    },
    {
      "cell_type": "code",
      "execution_count": 34,
      "metadata": {
        "colab": {
          "base_uri": "https://localhost:8080/"
        },
        "id": "X3L-sM211fDD",
        "outputId": "89f259a4-de21-4dd0-d08f-e4c570523896"
      },
      "outputs": [
        {
          "name": "stdout",
          "output_type": "stream",
          "text": [
            "\u001b[1m70/70\u001b[0m \u001b[32m━━━━━━━━━━━━━━━━━━━━\u001b[0m\u001b[37m\u001b[0m \u001b[1m0s\u001b[0m 3ms/step\n",
            "Test RMSE Norm: 269540.1250\n",
            "Test MSE Norm: 72651882496.0000\n",
            "Test MAE Norm: 99376.4766\n",
            "Test R2 Norm: 0.1670\n"
          ]
        }
      ],
      "source": [
        "y_pred_log = model1.predict(X_test)\n",
        "y_pred_norm = np.exp(y_pred_log.flatten())\n",
        "y_true = np.exp(y_test)\n",
        "\n",
        "mse = mean_squared_error(y_true, y_pred_norm)\n",
        "rmse = root_mean_squared_error(y_true, y_pred_norm)\n",
        "mae = mean_absolute_error(y_true, y_pred_norm)\n",
        "r2 = r2_score(y_true, y_pred_norm)\n",
        "print(f\"Test RMSE Norm: {rmse:.4f}\")\n",
        "print(f\"Test MSE Norm: {mse:.4f}\")\n",
        "print(f\"Test MAE Norm: {mae:.4f}\")\n",
        "print(f\"Test R2 Norm: {r2:.4f}\")"
      ]
    },
    {
      "cell_type": "code",
      "execution_count": 35,
      "metadata": {
        "id": "UWnsAUtCNsP6"
      },
      "outputs": [],
      "source": [
        "input2 = keras.Input(shape=(X_train.shape[1],))\n",
        "x2 = layers.Dense(128, activation='relu')(input2)\n",
        "output2 = layers.Dense(1, activation='linear')(x2)  # for binary classification\n",
        "model2 = keras.Model(inputs=input2, outputs=output2)"
      ]
    },
    {
      "cell_type": "code",
      "execution_count": 57,
      "metadata": {},
      "outputs": [
        {
          "data": {
            "text/html": [
              "<pre style=\"white-space:pre;overflow-x:auto;line-height:normal;font-family:Menlo,'DejaVu Sans Mono',consolas,'Courier New',monospace\"><span style=\"font-weight: bold\">Model: \"functional_1\"</span>\n",
              "</pre>\n"
            ],
            "text/plain": [
              "\u001b[1mModel: \"functional_1\"\u001b[0m\n"
            ]
          },
          "metadata": {},
          "output_type": "display_data"
        },
        {
          "data": {
            "text/html": [
              "<pre style=\"white-space:pre;overflow-x:auto;line-height:normal;font-family:Menlo,'DejaVu Sans Mono',consolas,'Courier New',monospace\">┏━━━━━━━━━━━━━━━━━━━━━━━━━━━━━━━━━┳━━━━━━━━━━━━━━━━━━━━━━━━┳━━━━━━━━━━━━━━━┓\n",
              "┃<span style=\"font-weight: bold\"> Layer (type)                    </span>┃<span style=\"font-weight: bold\"> Output Shape           </span>┃<span style=\"font-weight: bold\">       Param # </span>┃\n",
              "┡━━━━━━━━━━━━━━━━━━━━━━━━━━━━━━━━━╇━━━━━━━━━━━━━━━━━━━━━━━━╇━━━━━━━━━━━━━━━┩\n",
              "│ input_layer_1 (<span style=\"color: #0087ff; text-decoration-color: #0087ff\">InputLayer</span>)      │ (<span style=\"color: #00d7ff; text-decoration-color: #00d7ff\">None</span>, <span style=\"color: #00af00; text-decoration-color: #00af00\">462</span>)            │             <span style=\"color: #00af00; text-decoration-color: #00af00\">0</span> │\n",
              "├─────────────────────────────────┼────────────────────────┼───────────────┤\n",
              "│ dense_4 (<span style=\"color: #0087ff; text-decoration-color: #0087ff\">Dense</span>)                 │ (<span style=\"color: #00d7ff; text-decoration-color: #00d7ff\">None</span>, <span style=\"color: #00af00; text-decoration-color: #00af00\">128</span>)            │        <span style=\"color: #00af00; text-decoration-color: #00af00\">59,264</span> │\n",
              "├─────────────────────────────────┼────────────────────────┼───────────────┤\n",
              "│ dense_5 (<span style=\"color: #0087ff; text-decoration-color: #0087ff\">Dense</span>)                 │ (<span style=\"color: #00d7ff; text-decoration-color: #00d7ff\">None</span>, <span style=\"color: #00af00; text-decoration-color: #00af00\">1</span>)              │           <span style=\"color: #00af00; text-decoration-color: #00af00\">129</span> │\n",
              "└─────────────────────────────────┴────────────────────────┴───────────────┘\n",
              "</pre>\n"
            ],
            "text/plain": [
              "┏━━━━━━━━━━━━━━━━━━━━━━━━━━━━━━━━━┳━━━━━━━━━━━━━━━━━━━━━━━━┳━━━━━━━━━━━━━━━┓\n",
              "┃\u001b[1m \u001b[0m\u001b[1mLayer (type)                   \u001b[0m\u001b[1m \u001b[0m┃\u001b[1m \u001b[0m\u001b[1mOutput Shape          \u001b[0m\u001b[1m \u001b[0m┃\u001b[1m \u001b[0m\u001b[1m      Param #\u001b[0m\u001b[1m \u001b[0m┃\n",
              "┡━━━━━━━━━━━━━━━━━━━━━━━━━━━━━━━━━╇━━━━━━━━━━━━━━━━━━━━━━━━╇━━━━━━━━━━━━━━━┩\n",
              "│ input_layer_1 (\u001b[38;5;33mInputLayer\u001b[0m)      │ (\u001b[38;5;45mNone\u001b[0m, \u001b[38;5;34m462\u001b[0m)            │             \u001b[38;5;34m0\u001b[0m │\n",
              "├─────────────────────────────────┼────────────────────────┼───────────────┤\n",
              "│ dense_4 (\u001b[38;5;33mDense\u001b[0m)                 │ (\u001b[38;5;45mNone\u001b[0m, \u001b[38;5;34m128\u001b[0m)            │        \u001b[38;5;34m59,264\u001b[0m │\n",
              "├─────────────────────────────────┼────────────────────────┼───────────────┤\n",
              "│ dense_5 (\u001b[38;5;33mDense\u001b[0m)                 │ (\u001b[38;5;45mNone\u001b[0m, \u001b[38;5;34m1\u001b[0m)              │           \u001b[38;5;34m129\u001b[0m │\n",
              "└─────────────────────────────────┴────────────────────────┴───────────────┘\n"
            ]
          },
          "metadata": {},
          "output_type": "display_data"
        },
        {
          "data": {
            "text/html": [
              "<pre style=\"white-space:pre;overflow-x:auto;line-height:normal;font-family:Menlo,'DejaVu Sans Mono',consolas,'Courier New',monospace\"><span style=\"font-weight: bold\"> Total params: </span><span style=\"color: #00af00; text-decoration-color: #00af00\">178,181</span> (696.02 KB)\n",
              "</pre>\n"
            ],
            "text/plain": [
              "\u001b[1m Total params: \u001b[0m\u001b[38;5;34m178,181\u001b[0m (696.02 KB)\n"
            ]
          },
          "metadata": {},
          "output_type": "display_data"
        },
        {
          "data": {
            "text/html": [
              "<pre style=\"white-space:pre;overflow-x:auto;line-height:normal;font-family:Menlo,'DejaVu Sans Mono',consolas,'Courier New',monospace\"><span style=\"font-weight: bold\"> Trainable params: </span><span style=\"color: #00af00; text-decoration-color: #00af00\">59,393</span> (232.00 KB)\n",
              "</pre>\n"
            ],
            "text/plain": [
              "\u001b[1m Trainable params: \u001b[0m\u001b[38;5;34m59,393\u001b[0m (232.00 KB)\n"
            ]
          },
          "metadata": {},
          "output_type": "display_data"
        },
        {
          "data": {
            "text/html": [
              "<pre style=\"white-space:pre;overflow-x:auto;line-height:normal;font-family:Menlo,'DejaVu Sans Mono',consolas,'Courier New',monospace\"><span style=\"font-weight: bold\"> Non-trainable params: </span><span style=\"color: #00af00; text-decoration-color: #00af00\">0</span> (0.00 B)\n",
              "</pre>\n"
            ],
            "text/plain": [
              "\u001b[1m Non-trainable params: \u001b[0m\u001b[38;5;34m0\u001b[0m (0.00 B)\n"
            ]
          },
          "metadata": {},
          "output_type": "display_data"
        },
        {
          "data": {
            "text/html": [
              "<pre style=\"white-space:pre;overflow-x:auto;line-height:normal;font-family:Menlo,'DejaVu Sans Mono',consolas,'Courier New',monospace\"><span style=\"font-weight: bold\"> Optimizer params: </span><span style=\"color: #00af00; text-decoration-color: #00af00\">118,788</span> (464.02 KB)\n",
              "</pre>\n"
            ],
            "text/plain": [
              "\u001b[1m Optimizer params: \u001b[0m\u001b[38;5;34m118,788\u001b[0m (464.02 KB)\n"
            ]
          },
          "metadata": {},
          "output_type": "display_data"
        }
      ],
      "source": [
        "model2.summary()"
      ]
    },
    {
      "cell_type": "code",
      "execution_count": 36,
      "metadata": {
        "colab": {
          "base_uri": "https://localhost:8080/"
        },
        "id": "mbmOBvHhOzbC",
        "outputId": "d5548b81-5b58-4009-b31f-c74dec1ee1a3"
      },
      "outputs": [
        {
          "name": "stdout",
          "output_type": "stream",
          "text": [
            "Epoch 1/100\n",
            "\u001b[1m63/63\u001b[0m \u001b[32m━━━━━━━━━━━━━━━━━━━━\u001b[0m\u001b[37m\u001b[0m \u001b[1m2s\u001b[0m 12ms/step - loss: 105.7553 - mae: 10.1696 - mse: 105.7553 - val_loss: 39.4462 - val_mae: 6.1803 - val_mse: 39.4462\n",
            "Epoch 2/100\n",
            "\u001b[1m63/63\u001b[0m \u001b[32m━━━━━━━━━━━━━━━━━━━━\u001b[0m\u001b[37m\u001b[0m \u001b[1m0s\u001b[0m 8ms/step - loss: 24.5066 - mae: 4.6259 - mse: 24.5066 - val_loss: 2.2699 - val_mae: 1.0860 - val_mse: 2.2699\n",
            "Epoch 3/100\n",
            "\u001b[1m63/63\u001b[0m \u001b[32m━━━━━━━━━━━━━━━━━━━━\u001b[0m\u001b[37m\u001b[0m \u001b[1m0s\u001b[0m 8ms/step - loss: 1.6082 - mae: 0.9463 - mse: 1.6082 - val_loss: 1.2277 - val_mae: 0.8092 - val_mse: 1.2277\n",
            "Epoch 4/100\n",
            "\u001b[1m63/63\u001b[0m \u001b[32m━━━━━━━━━━━━━━━━━━━━\u001b[0m\u001b[37m\u001b[0m \u001b[1m1s\u001b[0m 9ms/step - loss: 1.0146 - mae: 0.7628 - mse: 1.0146 - val_loss: 1.0192 - val_mae: 0.7168 - val_mse: 1.0192\n",
            "Epoch 5/100\n",
            "\u001b[1m63/63\u001b[0m \u001b[32m━━━━━━━━━━━━━━━━━━━━\u001b[0m\u001b[37m\u001b[0m \u001b[1m1s\u001b[0m 9ms/step - loss: 0.8395 - mae: 0.6902 - mse: 0.8395 - val_loss: 0.9040 - val_mae: 0.6726 - val_mse: 0.9040\n",
            "Epoch 6/100\n",
            "\u001b[1m63/63\u001b[0m \u001b[32m━━━━━━━━━━━━━━━━━━━━\u001b[0m\u001b[37m\u001b[0m \u001b[1m1s\u001b[0m 8ms/step - loss: 0.7295 - mae: 0.6378 - mse: 0.7295 - val_loss: 0.8314 - val_mae: 0.6448 - val_mse: 0.8314\n",
            "Epoch 7/100\n",
            "\u001b[1m63/63\u001b[0m \u001b[32m━━━━━━━━━━━━━━━━━━━━\u001b[0m\u001b[37m\u001b[0m \u001b[1m1s\u001b[0m 9ms/step - loss: 0.6754 - mae: 0.6144 - mse: 0.6754 - val_loss: 0.7846 - val_mae: 0.6272 - val_mse: 0.7846\n",
            "Epoch 8/100\n",
            "\u001b[1m63/63\u001b[0m \u001b[32m━━━━━━━━━━━━━━━━━━━━\u001b[0m\u001b[37m\u001b[0m \u001b[1m1s\u001b[0m 8ms/step - loss: 0.6307 - mae: 0.5963 - mse: 0.6307 - val_loss: 0.7490 - val_mae: 0.6146 - val_mse: 0.7490\n",
            "Epoch 9/100\n",
            "\u001b[1m63/63\u001b[0m \u001b[32m━━━━━━━━━━━━━━━━━━━━\u001b[0m\u001b[37m\u001b[0m \u001b[1m1s\u001b[0m 8ms/step - loss: 0.6028 - mae: 0.5750 - mse: 0.6028 - val_loss: 0.7242 - val_mae: 0.6056 - val_mse: 0.7242\n",
            "Epoch 10/100\n",
            "\u001b[1m63/63\u001b[0m \u001b[32m━━━━━━━━━━━━━━━━━━━━\u001b[0m\u001b[37m\u001b[0m \u001b[1m1s\u001b[0m 8ms/step - loss: 0.5857 - mae: 0.5702 - mse: 0.5857 - val_loss: 0.7040 - val_mae: 0.6001 - val_mse: 0.7040\n",
            "Epoch 11/100\n",
            "\u001b[1m63/63\u001b[0m \u001b[32m━━━━━━━━━━━━━━━━━━━━\u001b[0m\u001b[37m\u001b[0m \u001b[1m1s\u001b[0m 8ms/step - loss: 0.5727 - mae: 0.5599 - mse: 0.5727 - val_loss: 0.6845 - val_mae: 0.5932 - val_mse: 0.6845\n",
            "Epoch 12/100\n",
            "\u001b[1m63/63\u001b[0m \u001b[32m━━━━━━━━━━━━━━━━━━━━\u001b[0m\u001b[37m\u001b[0m \u001b[1m1s\u001b[0m 8ms/step - loss: 0.5332 - mae: 0.5456 - mse: 0.5332 - val_loss: 0.6720 - val_mae: 0.5878 - val_mse: 0.6720\n",
            "Epoch 13/100\n",
            "\u001b[1m63/63\u001b[0m \u001b[32m━━━━━━━━━━━━━━━━━━━━\u001b[0m\u001b[37m\u001b[0m \u001b[1m1s\u001b[0m 8ms/step - loss: 0.5481 - mae: 0.5534 - mse: 0.5481 - val_loss: 0.6605 - val_mae: 0.5825 - val_mse: 0.6605\n",
            "Epoch 14/100\n",
            "\u001b[1m63/63\u001b[0m \u001b[32m━━━━━━━━━━━━━━━━━━━━\u001b[0m\u001b[37m\u001b[0m \u001b[1m1s\u001b[0m 9ms/step - loss: 0.5289 - mae: 0.5417 - mse: 0.5289 - val_loss: 0.6519 - val_mae: 0.5795 - val_mse: 0.6519\n",
            "Epoch 15/100\n",
            "\u001b[1m63/63\u001b[0m \u001b[32m━━━━━━━━━━━━━━━━━━━━\u001b[0m\u001b[37m\u001b[0m \u001b[1m1s\u001b[0m 8ms/step - loss: 0.5356 - mae: 0.5432 - mse: 0.5356 - val_loss: 0.6420 - val_mae: 0.5772 - val_mse: 0.6420\n",
            "Epoch 16/100\n",
            "\u001b[1m63/63\u001b[0m \u001b[32m━━━━━━━━━━━━━━━━━━━━\u001b[0m\u001b[37m\u001b[0m \u001b[1m0s\u001b[0m 8ms/step - loss: 0.5256 - mae: 0.5380 - mse: 0.5256 - val_loss: 0.6391 - val_mae: 0.5731 - val_mse: 0.6391\n",
            "Epoch 17/100\n",
            "\u001b[1m63/63\u001b[0m \u001b[32m━━━━━━━━━━━━━━━━━━━━\u001b[0m\u001b[37m\u001b[0m \u001b[1m0s\u001b[0m 7ms/step - loss: 0.4935 - mae: 0.5237 - mse: 0.4935 - val_loss: 0.6344 - val_mae: 0.5687 - val_mse: 0.6344\n",
            "Epoch 18/100\n",
            "\u001b[1m63/63\u001b[0m \u001b[32m━━━━━━━━━━━━━━━━━━━━\u001b[0m\u001b[37m\u001b[0m \u001b[1m0s\u001b[0m 8ms/step - loss: 0.5078 - mae: 0.5306 - mse: 0.5078 - val_loss: 0.6286 - val_mae: 0.5686 - val_mse: 0.6286\n",
            "Epoch 19/100\n",
            "\u001b[1m63/63\u001b[0m \u001b[32m━━━━━━━━━━━━━━━━━━━━\u001b[0m\u001b[37m\u001b[0m \u001b[1m1s\u001b[0m 8ms/step - loss: 0.4902 - mae: 0.5227 - mse: 0.4902 - val_loss: 0.6269 - val_mae: 0.5681 - val_mse: 0.6269\n",
            "Epoch 20/100\n",
            "\u001b[1m63/63\u001b[0m \u001b[32m━━━━━━━━━━━━━━━━━━━━\u001b[0m\u001b[37m\u001b[0m \u001b[1m1s\u001b[0m 8ms/step - loss: 0.4959 - mae: 0.5239 - mse: 0.4959 - val_loss: 0.6222 - val_mae: 0.5638 - val_mse: 0.6222\n",
            "Epoch 21/100\n",
            "\u001b[1m63/63\u001b[0m \u001b[32m━━━━━━━━━━━━━━━━━━━━\u001b[0m\u001b[37m\u001b[0m \u001b[1m0s\u001b[0m 8ms/step - loss: 0.4897 - mae: 0.5230 - mse: 0.4897 - val_loss: 0.6200 - val_mae: 0.5660 - val_mse: 0.6200\n",
            "Epoch 22/100\n",
            "\u001b[1m63/63\u001b[0m \u001b[32m━━━━━━━━━━━━━━━━━━━━\u001b[0m\u001b[37m\u001b[0m \u001b[1m1s\u001b[0m 9ms/step - loss: 0.4915 - mae: 0.5230 - mse: 0.4915 - val_loss: 0.6244 - val_mae: 0.5662 - val_mse: 0.6244\n",
            "Epoch 23/100\n",
            "\u001b[1m63/63\u001b[0m \u001b[32m━━━━━━━━━━━━━━━━━━━━\u001b[0m\u001b[37m\u001b[0m \u001b[1m1s\u001b[0m 8ms/step - loss: 0.4734 - mae: 0.5129 - mse: 0.4734 - val_loss: 0.6175 - val_mae: 0.5623 - val_mse: 0.6175\n",
            "Epoch 24/100\n",
            "\u001b[1m63/63\u001b[0m \u001b[32m━━━━━━━━━━━━━━━━━━━━\u001b[0m\u001b[37m\u001b[0m \u001b[1m1s\u001b[0m 9ms/step - loss: 0.4842 - mae: 0.5164 - mse: 0.4842 - val_loss: 0.6188 - val_mae: 0.5605 - val_mse: 0.6188\n",
            "Epoch 25/100\n",
            "\u001b[1m63/63\u001b[0m \u001b[32m━━━━━━━━━━━━━━━━━━━━\u001b[0m\u001b[37m\u001b[0m \u001b[1m0s\u001b[0m 8ms/step - loss: 0.4665 - mae: 0.5099 - mse: 0.4665 - val_loss: 0.6163 - val_mae: 0.5624 - val_mse: 0.6163\n",
            "Epoch 26/100\n",
            "\u001b[1m63/63\u001b[0m \u001b[32m━━━━━━━━━━━━━━━━━━━━\u001b[0m\u001b[37m\u001b[0m \u001b[1m1s\u001b[0m 8ms/step - loss: 0.4744 - mae: 0.5114 - mse: 0.4744 - val_loss: 0.6121 - val_mae: 0.5606 - val_mse: 0.6121\n",
            "Epoch 27/100\n",
            "\u001b[1m63/63\u001b[0m \u001b[32m━━━━━━━━━━━━━━━━━━━━\u001b[0m\u001b[37m\u001b[0m \u001b[1m1s\u001b[0m 8ms/step - loss: 0.4538 - mae: 0.5064 - mse: 0.4538 - val_loss: 0.6172 - val_mae: 0.5625 - val_mse: 0.6172\n",
            "Epoch 28/100\n",
            "\u001b[1m63/63\u001b[0m \u001b[32m━━━━━━━━━━━━━━━━━━━━\u001b[0m\u001b[37m\u001b[0m \u001b[1m1s\u001b[0m 8ms/step - loss: 0.4707 - mae: 0.5103 - mse: 0.4707 - val_loss: 0.6097 - val_mae: 0.5576 - val_mse: 0.6097\n",
            "Epoch 29/100\n",
            "\u001b[1m63/63\u001b[0m \u001b[32m━━━━━━━━━━━━━━━━━━━━\u001b[0m\u001b[37m\u001b[0m \u001b[1m1s\u001b[0m 8ms/step - loss: 0.4460 - mae: 0.4998 - mse: 0.4460 - val_loss: 0.6161 - val_mae: 0.5630 - val_mse: 0.6161\n",
            "Epoch 30/100\n",
            "\u001b[1m63/63\u001b[0m \u001b[32m━━━━━━━━━━━━━━━━━━━━\u001b[0m\u001b[37m\u001b[0m \u001b[1m0s\u001b[0m 8ms/step - loss: 0.4571 - mae: 0.5041 - mse: 0.4571 - val_loss: 0.6084 - val_mae: 0.5566 - val_mse: 0.6084\n",
            "Epoch 31/100\n",
            "\u001b[1m63/63\u001b[0m \u001b[32m━━━━━━━━━━━━━━━━━━━━\u001b[0m\u001b[37m\u001b[0m \u001b[1m0s\u001b[0m 7ms/step - loss: 0.4519 - mae: 0.5011 - mse: 0.4519 - val_loss: 0.6169 - val_mae: 0.5609 - val_mse: 0.6169\n",
            "Epoch 32/100\n",
            "\u001b[1m63/63\u001b[0m \u001b[32m━━━━━━━━━━━━━━━━━━━━\u001b[0m\u001b[37m\u001b[0m \u001b[1m0s\u001b[0m 7ms/step - loss: 0.4655 - mae: 0.5099 - mse: 0.4655 - val_loss: 0.6198 - val_mae: 0.5597 - val_mse: 0.6198\n",
            "Epoch 33/100\n",
            "\u001b[1m63/63\u001b[0m \u001b[32m━━━━━━━━━━━━━━━━━━━━\u001b[0m\u001b[37m\u001b[0m \u001b[1m0s\u001b[0m 8ms/step - loss: 0.4668 - mae: 0.5104 - mse: 0.4668 - val_loss: 0.6079 - val_mae: 0.5565 - val_mse: 0.6079\n",
            "Epoch 34/100\n",
            "\u001b[1m63/63\u001b[0m \u001b[32m━━━━━━━━━━━━━━━━━━━━\u001b[0m\u001b[37m\u001b[0m \u001b[1m0s\u001b[0m 7ms/step - loss: 0.4535 - mae: 0.5051 - mse: 0.4535 - val_loss: 0.6221 - val_mae: 0.5643 - val_mse: 0.6221\n",
            "Epoch 35/100\n",
            "\u001b[1m63/63\u001b[0m \u001b[32m━━━━━━━━━━━━━━━━━━━━\u001b[0m\u001b[37m\u001b[0m \u001b[1m1s\u001b[0m 8ms/step - loss: 0.4620 - mae: 0.5084 - mse: 0.4620 - val_loss: 0.6168 - val_mae: 0.5569 - val_mse: 0.6168\n",
            "Epoch 36/100\n",
            "\u001b[1m63/63\u001b[0m \u001b[32m━━━━━━━━━━━━━━━━━━━━\u001b[0m\u001b[37m\u001b[0m \u001b[1m1s\u001b[0m 8ms/step - loss: 0.4636 - mae: 0.5042 - mse: 0.4636 - val_loss: 0.6098 - val_mae: 0.5570 - val_mse: 0.6098\n",
            "Epoch 37/100\n",
            "\u001b[1m63/63\u001b[0m \u001b[32m━━━━━━━━━━━━━━━━━━━━\u001b[0m\u001b[37m\u001b[0m \u001b[1m0s\u001b[0m 8ms/step - loss: 0.4517 - mae: 0.4973 - mse: 0.4517 - val_loss: 0.6355 - val_mae: 0.5721 - val_mse: 0.6355\n",
            "Epoch 38/100\n",
            "\u001b[1m63/63\u001b[0m \u001b[32m━━━━━━━━━━━━━━━━━━━━\u001b[0m\u001b[37m\u001b[0m \u001b[1m1s\u001b[0m 9ms/step - loss: 0.4457 - mae: 0.4992 - mse: 0.4457 - val_loss: 0.6076 - val_mae: 0.5539 - val_mse: 0.6076\n",
            "Epoch 39/100\n",
            "\u001b[1m63/63\u001b[0m \u001b[32m━━━━━━━━━━━━━━━━━━━━\u001b[0m\u001b[37m\u001b[0m \u001b[1m1s\u001b[0m 8ms/step - loss: 0.4397 - mae: 0.4939 - mse: 0.4397 - val_loss: 0.6254 - val_mae: 0.5595 - val_mse: 0.6254\n",
            "Epoch 40/100\n",
            "\u001b[1m63/63\u001b[0m \u001b[32m━━━━━━━━━━━━━━━━━━━━\u001b[0m\u001b[37m\u001b[0m \u001b[1m1s\u001b[0m 8ms/step - loss: 0.4326 - mae: 0.4917 - mse: 0.4326 - val_loss: 0.6292 - val_mae: 0.5590 - val_mse: 0.6292\n",
            "Epoch 41/100\n",
            "\u001b[1m63/63\u001b[0m \u001b[32m━━━━━━━━━━━━━━━━━━━━\u001b[0m\u001b[37m\u001b[0m \u001b[1m1s\u001b[0m 9ms/step - loss: 0.4579 - mae: 0.5063 - mse: 0.4579 - val_loss: 0.6124 - val_mae: 0.5609 - val_mse: 0.6124\n",
            "Epoch 42/100\n",
            "\u001b[1m63/63\u001b[0m \u001b[32m━━━━━━━━━━━━━━━━━━━━\u001b[0m\u001b[37m\u001b[0m \u001b[1m1s\u001b[0m 8ms/step - loss: 0.4202 - mae: 0.4902 - mse: 0.4202 - val_loss: 0.6115 - val_mae: 0.5601 - val_mse: 0.6115\n",
            "Epoch 43/100\n",
            "\u001b[1m63/63\u001b[0m \u001b[32m━━━━━━━━━━━━━━━━━━━━\u001b[0m\u001b[37m\u001b[0m \u001b[1m1s\u001b[0m 8ms/step - loss: 0.4272 - mae: 0.4885 - mse: 0.4272 - val_loss: 0.6058 - val_mae: 0.5525 - val_mse: 0.6058\n",
            "Epoch 44/100\n",
            "\u001b[1m63/63\u001b[0m \u001b[32m━━━━━━━━━━━━━━━━━━━━\u001b[0m\u001b[37m\u001b[0m \u001b[1m1s\u001b[0m 9ms/step - loss: 0.4470 - mae: 0.5003 - mse: 0.4470 - val_loss: 0.6209 - val_mae: 0.5564 - val_mse: 0.6209\n",
            "Epoch 45/100\n",
            "\u001b[1m63/63\u001b[0m \u001b[32m━━━━━━━━━━━━━━━━━━━━\u001b[0m\u001b[37m\u001b[0m \u001b[1m1s\u001b[0m 8ms/step - loss: 0.4261 - mae: 0.4874 - mse: 0.4261 - val_loss: 0.6196 - val_mae: 0.5610 - val_mse: 0.6196\n",
            "Epoch 46/100\n",
            "\u001b[1m63/63\u001b[0m \u001b[32m━━━━━━━━━━━━━━━━━━━━\u001b[0m\u001b[37m\u001b[0m \u001b[1m1s\u001b[0m 8ms/step - loss: 0.4353 - mae: 0.4948 - mse: 0.4353 - val_loss: 0.6067 - val_mae: 0.5573 - val_mse: 0.6067\n",
            "Epoch 47/100\n",
            "\u001b[1m63/63\u001b[0m \u001b[32m━━━━━━━━━━━━━━━━━━━━\u001b[0m\u001b[37m\u001b[0m \u001b[1m1s\u001b[0m 8ms/step - loss: 0.4301 - mae: 0.4935 - mse: 0.4301 - val_loss: 0.6228 - val_mae: 0.5624 - val_mse: 0.6228\n",
            "Epoch 48/100\n",
            "\u001b[1m63/63\u001b[0m \u001b[32m━━━━━━━━━━━━━━━━━━━━\u001b[0m\u001b[37m\u001b[0m \u001b[1m1s\u001b[0m 8ms/step - loss: 0.4278 - mae: 0.4952 - mse: 0.4278 - val_loss: 0.6127 - val_mae: 0.5527 - val_mse: 0.6127\n",
            "Epoch 49/100\n",
            "\u001b[1m63/63\u001b[0m \u001b[32m━━━━━━━━━━━━━━━━━━━━\u001b[0m\u001b[37m\u001b[0m \u001b[1m1s\u001b[0m 8ms/step - loss: 0.4429 - mae: 0.4958 - mse: 0.4429 - val_loss: 0.6072 - val_mae: 0.5581 - val_mse: 0.6072\n",
            "Epoch 50/100\n",
            "\u001b[1m63/63\u001b[0m \u001b[32m━━━━━━━━━━━━━━━━━━━━\u001b[0m\u001b[37m\u001b[0m \u001b[1m1s\u001b[0m 8ms/step - loss: 0.4217 - mae: 0.4883 - mse: 0.4217 - val_loss: 0.6144 - val_mae: 0.5586 - val_mse: 0.6144\n",
            "Epoch 51/100\n",
            "\u001b[1m63/63\u001b[0m \u001b[32m━━━━━━━━━━━━━━━━━━━━\u001b[0m\u001b[37m\u001b[0m \u001b[1m1s\u001b[0m 8ms/step - loss: 0.4306 - mae: 0.4948 - mse: 0.4306 - val_loss: 0.6186 - val_mae: 0.5607 - val_mse: 0.6186\n",
            "Epoch 52/100\n",
            "\u001b[1m63/63\u001b[0m \u001b[32m━━━━━━━━━━━━━━━━━━━━\u001b[0m\u001b[37m\u001b[0m \u001b[1m1s\u001b[0m 8ms/step - loss: 0.4290 - mae: 0.4905 - mse: 0.4290 - val_loss: 0.6255 - val_mae: 0.5579 - val_mse: 0.6255\n",
            "Epoch 53/100\n",
            "\u001b[1m63/63\u001b[0m \u001b[32m━━━━━━━━━━━━━━━━━━━━\u001b[0m\u001b[37m\u001b[0m \u001b[1m1s\u001b[0m 8ms/step - loss: 0.4245 - mae: 0.4908 - mse: 0.4245 - val_loss: 0.6082 - val_mae: 0.5499 - val_mse: 0.6082\n",
            "Epoch 54/100\n",
            "\u001b[1m63/63\u001b[0m \u001b[32m━━━━━━━━━━━━━━━━━━━━\u001b[0m\u001b[37m\u001b[0m \u001b[1m1s\u001b[0m 8ms/step - loss: 0.4065 - mae: 0.4836 - mse: 0.4065 - val_loss: 0.6230 - val_mae: 0.5631 - val_mse: 0.6230\n",
            "Epoch 55/100\n",
            "\u001b[1m63/63\u001b[0m \u001b[32m━━━━━━━━━━━━━━━━━━━━\u001b[0m\u001b[37m\u001b[0m \u001b[1m1s\u001b[0m 8ms/step - loss: 0.4209 - mae: 0.4887 - mse: 0.4209 - val_loss: 0.6113 - val_mae: 0.5574 - val_mse: 0.6113\n",
            "Epoch 56/100\n",
            "\u001b[1m63/63\u001b[0m \u001b[32m━━━━━━━━━━━━━━━━━━━━\u001b[0m\u001b[37m\u001b[0m \u001b[1m1s\u001b[0m 8ms/step - loss: 0.4152 - mae: 0.4854 - mse: 0.4152 - val_loss: 0.6758 - val_mae: 0.5568 - val_mse: 0.6758\n",
            "Epoch 57/100\n",
            "\u001b[1m63/63\u001b[0m \u001b[32m━━━━━━━━━━━━━━━━━━━━\u001b[0m\u001b[37m\u001b[0m \u001b[1m1s\u001b[0m 8ms/step - loss: 0.4201 - mae: 0.4929 - mse: 0.4201 - val_loss: 0.6543 - val_mae: 0.5664 - val_mse: 0.6543\n",
            "Epoch 58/100\n",
            "\u001b[1m63/63\u001b[0m \u001b[32m━━━━━━━━━━━━━━━━━━━━\u001b[0m\u001b[37m\u001b[0m \u001b[1m1s\u001b[0m 8ms/step - loss: 0.4212 - mae: 0.4894 - mse: 0.4212 - val_loss: 0.6102 - val_mae: 0.5549 - val_mse: 0.6102\n"
          ]
        }
      ],
      "source": [
        "model2.compile(\n",
        "    loss='mse',\n",
        "    optimizer='adam',\n",
        "    metrics=['mse', 'mae'])\n",
        "history2 = model2.fit(X_train, y_train, batch_size = 128, callbacks=[early_stop], epochs=100, validation_split =0.1)"
      ]
    },
    {
      "cell_type": "code",
      "execution_count": 37,
      "metadata": {
        "colab": {
          "base_uri": "https://localhost:8080/",
          "height": 487
        },
        "id": "2N9RqR_7PVuD",
        "outputId": "8a3a3c61-a22c-4d15-cf8a-2af5a7d8a89d"
      },
      "outputs": [
        {
          "data": {
            "image/png": "[encoded data removed]",
            "text/plain": [
              "<Figure size 640x480 with 1 Axes>"
            ]
          },
          "metadata": {},
          "output_type": "display_data"
        }
      ],
      "source": [
        "import matplotlib.pyplot as plt\n",
        "\n",
        "plt.plot(history2.history['loss'], label='Train Loss')\n",
        "plt.plot(history2.history['val_loss'], label='Val Loss')\n",
        "plt.title('Training and Validation Loss')\n",
        "plt.xlabel('Epoch')\n",
        "plt.ylabel('Loss')\n",
        "plt.legend()\n",
        "plt.grid(True, linestyle='--', alpha=0.5)\n",
        "plt.tight_layout()\n",
        "plt.show()"
      ]
    },
    {
      "cell_type": "code",
      "execution_count": 38,
      "metadata": {
        "colab": {
          "base_uri": "https://localhost:8080/"
        },
        "id": "F1gGZMilUQSb",
        "outputId": "f5190f0c-c76a-4536-fa78-9c3b4da0a2cb"
      },
      "outputs": [
        {
          "name": "stdout",
          "output_type": "stream",
          "text": [
            "\u001b[1m70/70\u001b[0m \u001b[32m━━━━━━━━━━━━━━━━━━━━\u001b[0m\u001b[37m\u001b[0m \u001b[1m0s\u001b[0m 4ms/step - loss: 0.5854 - mae: 0.5511 - mse: 0.5854\n",
            "Test MSE: 0.5778\n",
            "Test MAE: 0.5778\n",
            "Test RMSE: 0.5532\n"
          ]
        }
      ],
      "source": [
        "scores2 = model2.evaluate(X_test, y_test)\n",
        "print(f\"Test MSE: {scores2[0]:.4f}\")\n",
        "print(f\"Test MAE: {scores2[1]:.4f}\")\n",
        "print(f\"Test RMSE: {scores2[2]:.4f}\")"
      ]
    },
    {
      "cell_type": "code",
      "execution_count": 39,
      "metadata": {
        "colab": {
          "base_uri": "https://localhost:8080/"
        },
        "id": "Eg-EUZhfWPdu",
        "outputId": "b387b5d1-0977-4347-bcbd-87814b903a9f"
      },
      "outputs": [
        {
          "name": "stdout",
          "output_type": "stream",
          "text": [
            "\u001b[1m70/70\u001b[0m \u001b[32m━━━━━━━━━━━━━━━━━━━━\u001b[0m\u001b[37m\u001b[0m \u001b[1m0s\u001b[0m 3ms/step\n",
            "Test RMSE Norm: 257638.4531\n",
            "Test MSE Norm: 66377576448.0000\n",
            "Test MAE Norm: 94862.5000\n",
            "Test R2 Norm: 0.2389\n"
          ]
        }
      ],
      "source": [
        "y_pred_log2 = model2.predict(X_test)\n",
        "y_pred_norm2 = np.exp(y_pred_log2.flatten())\n",
        "y_true = np.exp(y_test)\n",
        "\n",
        "mse2 = mean_squared_error(y_true, y_pred_norm2)\n",
        "rmse2 = root_mean_squared_error(y_true, y_pred_norm2)\n",
        "mae2 = mean_absolute_error(y_true, y_pred_norm2)\n",
        "r22 = r2_score(y_true, y_pred_norm2)\n",
        "print(f\"Test RMSE Norm: {rmse2:.4f}\")\n",
        "print(f\"Test MSE Norm: {mse2:.4f}\")\n",
        "print(f\"Test MAE Norm: {mae2:.4f}\")\n",
        "print(f\"Test R2 Norm: {r22:.4f}\")"
      ]
    },
    {
      "cell_type": "code",
      "execution_count": 40,
      "metadata": {
        "id": "5jXOqSHtYL2r"
      },
      "outputs": [],
      "source": [
        "input3 = keras.Input(shape=(X_train.shape[1],))\n",
        "x3 = layers.Dense(128, activation='tanh')(input3)\n",
        "output3 = layers.Dense(1, activation='linear')(x3)  # for binary classification\n",
        "model3 = keras.Model(inputs=input3, outputs=output3)"
      ]
    },
    {
      "cell_type": "code",
      "execution_count": 41,
      "metadata": {
        "colab": {
          "base_uri": "https://localhost:8080/"
        },
        "id": "SvvqPQ7gYV_E",
        "outputId": "4e2615ef-9e97-4821-9216-1f59b784873a"
      },
      "outputs": [
        {
          "name": "stdout",
          "output_type": "stream",
          "text": [
            "Epoch 1/100\n",
            "\u001b[1m63/63\u001b[0m \u001b[32m━━━━━━━━━━━━━━━━━━━━\u001b[0m\u001b[37m\u001b[0m \u001b[1m1s\u001b[0m 12ms/step - loss: 104.5294 - mae: 10.1118 - mse: 104.5294 - val_loss: 32.7003 - val_mae: 5.6192 - val_mse: 32.7003\n",
            "Epoch 2/100\n",
            "\u001b[1m63/63\u001b[0m \u001b[32m━━━━━━━━━━━━━━━━━━━━\u001b[0m\u001b[37m\u001b[0m \u001b[1m1s\u001b[0m 8ms/step - loss: 18.1067 - mae: 3.8780 - mse: 18.1067 - val_loss: 1.5188 - val_mae: 0.8517 - val_mse: 1.5188\n",
            "Epoch 3/100\n",
            "\u001b[1m63/63\u001b[0m \u001b[32m━━━━━━━━━━━━━━━━━━━━\u001b[0m\u001b[37m\u001b[0m \u001b[1m1s\u001b[0m 8ms/step - loss: 1.1075 - mae: 0.8071 - mse: 1.1075 - val_loss: 1.1140 - val_mae: 0.7395 - val_mse: 1.1140\n",
            "Epoch 4/100\n",
            "\u001b[1m63/63\u001b[0m \u001b[32m━━━━━━━━━━━━━━━━━━━━\u001b[0m\u001b[37m\u001b[0m \u001b[1m1s\u001b[0m 8ms/step - loss: 0.8565 - mae: 0.7052 - mse: 0.8565 - val_loss: 0.9422 - val_mae: 0.6801 - val_mse: 0.9422\n",
            "Epoch 5/100\n",
            "\u001b[1m63/63\u001b[0m \u001b[32m━━━━━━━━━━━━━━━━━━━━\u001b[0m\u001b[37m\u001b[0m \u001b[1m1s\u001b[0m 8ms/step - loss: 0.7346 - mae: 0.6481 - mse: 0.7346 - val_loss: 0.8374 - val_mae: 0.6439 - val_mse: 0.8374\n",
            "Epoch 6/100\n",
            "\u001b[1m63/63\u001b[0m \u001b[32m━━━━━━━━━━━━━━━━━━━━\u001b[0m\u001b[37m\u001b[0m \u001b[1m1s\u001b[0m 8ms/step - loss: 0.6180 - mae: 0.5970 - mse: 0.6180 - val_loss: 0.7717 - val_mae: 0.6243 - val_mse: 0.7717\n",
            "Epoch 7/100\n",
            "\u001b[1m63/63\u001b[0m \u001b[32m━━━━━━━━━━━━━━━━━━━━\u001b[0m\u001b[37m\u001b[0m \u001b[1m1s\u001b[0m 9ms/step - loss: 0.5923 - mae: 0.5813 - mse: 0.5923 - val_loss: 0.7294 - val_mae: 0.6100 - val_mse: 0.7294\n",
            "Epoch 8/100\n",
            "\u001b[1m63/63\u001b[0m \u001b[32m━━━━━━━━━━━━━━━━━━━━\u001b[0m\u001b[37m\u001b[0m \u001b[1m1s\u001b[0m 8ms/step - loss: 0.5397 - mae: 0.5596 - mse: 0.5397 - val_loss: 0.7009 - val_mae: 0.6002 - val_mse: 0.7009\n",
            "Epoch 9/100\n",
            "\u001b[1m63/63\u001b[0m \u001b[32m━━━━━━━━━━━━━━━━━━━━\u001b[0m\u001b[37m\u001b[0m \u001b[1m1s\u001b[0m 8ms/step - loss: 0.5296 - mae: 0.5487 - mse: 0.5296 - val_loss: 0.6790 - val_mae: 0.5919 - val_mse: 0.6790\n",
            "Epoch 10/100\n",
            "\u001b[1m63/63\u001b[0m \u001b[32m━━━━━━━━━━━━━━━━━━━━\u001b[0m\u001b[37m\u001b[0m \u001b[1m1s\u001b[0m 8ms/step - loss: 0.5195 - mae: 0.5437 - mse: 0.5195 - val_loss: 0.6617 - val_mae: 0.5836 - val_mse: 0.6617\n",
            "Epoch 11/100\n",
            "\u001b[1m63/63\u001b[0m \u001b[32m━━━━━━━━━━━━━━━━━━━━\u001b[0m\u001b[37m\u001b[0m \u001b[1m1s\u001b[0m 9ms/step - loss: 0.4972 - mae: 0.5345 - mse: 0.4972 - val_loss: 0.6513 - val_mae: 0.5798 - val_mse: 0.6513\n",
            "Epoch 12/100\n",
            "\u001b[1m63/63\u001b[0m \u001b[32m━━━━━━━━━━━━━━━━━━━━\u001b[0m\u001b[37m\u001b[0m \u001b[1m1s\u001b[0m 8ms/step - loss: 0.4848 - mae: 0.5280 - mse: 0.4848 - val_loss: 0.6409 - val_mae: 0.5739 - val_mse: 0.6409\n",
            "Epoch 13/100\n",
            "\u001b[1m63/63\u001b[0m \u001b[32m━━━━━━━━━━━━━━━━━━━━\u001b[0m\u001b[37m\u001b[0m \u001b[1m1s\u001b[0m 8ms/step - loss: 0.4960 - mae: 0.5292 - mse: 0.4960 - val_loss: 0.6349 - val_mae: 0.5715 - val_mse: 0.6349\n",
            "Epoch 14/100\n",
            "\u001b[1m63/63\u001b[0m \u001b[32m━━━━━━━━━━━━━━━━━━━━\u001b[0m\u001b[37m\u001b[0m \u001b[1m1s\u001b[0m 9ms/step - loss: 0.4835 - mae: 0.5237 - mse: 0.4835 - val_loss: 0.6307 - val_mae: 0.5666 - val_mse: 0.6307\n",
            "Epoch 15/100\n",
            "\u001b[1m63/63\u001b[0m \u001b[32m━━━━━━━━━━━━━━━━━━━━\u001b[0m\u001b[37m\u001b[0m \u001b[1m1s\u001b[0m 8ms/step - loss: 0.4724 - mae: 0.5184 - mse: 0.4724 - val_loss: 0.6257 - val_mae: 0.5656 - val_mse: 0.6257\n",
            "Epoch 16/100\n",
            "\u001b[1m63/63\u001b[0m \u001b[32m━━━━━━━━━━━━━━━━━━━━\u001b[0m\u001b[37m\u001b[0m \u001b[1m1s\u001b[0m 9ms/step - loss: 0.4639 - mae: 0.5163 - mse: 0.4639 - val_loss: 0.6214 - val_mae: 0.5623 - val_mse: 0.6214\n",
            "Epoch 17/100\n",
            "\u001b[1m63/63\u001b[0m \u001b[32m━━━━━━━━━━━━━━━━━━━━\u001b[0m\u001b[37m\u001b[0m \u001b[1m1s\u001b[0m 8ms/step - loss: 0.4704 - mae: 0.5161 - mse: 0.4704 - val_loss: 0.6180 - val_mae: 0.5607 - val_mse: 0.6180\n",
            "Epoch 18/100\n",
            "\u001b[1m63/63\u001b[0m \u001b[32m━━━━━━━━━━━━━━━━━━━━\u001b[0m\u001b[37m\u001b[0m \u001b[1m1s\u001b[0m 8ms/step - loss: 0.4791 - mae: 0.5191 - mse: 0.4791 - val_loss: 0.6147 - val_mae: 0.5593 - val_mse: 0.6147\n",
            "Epoch 19/100\n",
            "\u001b[1m63/63\u001b[0m \u001b[32m━━━━━━━━━━━━━━━━━━━━\u001b[0m\u001b[37m\u001b[0m \u001b[1m1s\u001b[0m 8ms/step - loss: 0.4589 - mae: 0.5079 - mse: 0.4589 - val_loss: 0.6112 - val_mae: 0.5576 - val_mse: 0.6112\n",
            "Epoch 20/100\n",
            "\u001b[1m63/63\u001b[0m \u001b[32m━━━━━━━━━━━━━━━━━━━━\u001b[0m\u001b[37m\u001b[0m \u001b[1m1s\u001b[0m 8ms/step - loss: 0.4695 - mae: 0.5118 - mse: 0.4695 - val_loss: 0.6153 - val_mae: 0.5568 - val_mse: 0.6153\n",
            "Epoch 21/100\n",
            "\u001b[1m63/63\u001b[0m \u001b[32m━━━━━━━━━━━━━━━━━━━━\u001b[0m\u001b[37m\u001b[0m \u001b[1m1s\u001b[0m 8ms/step - loss: 0.4633 - mae: 0.5097 - mse: 0.4633 - val_loss: 0.6155 - val_mae: 0.5589 - val_mse: 0.6155\n",
            "Epoch 22/100\n",
            "\u001b[1m63/63\u001b[0m \u001b[32m━━━━━━━━━━━━━━━━━━━━\u001b[0m\u001b[37m\u001b[0m \u001b[1m1s\u001b[0m 8ms/step - loss: 0.4473 - mae: 0.4996 - mse: 0.4473 - val_loss: 0.6140 - val_mae: 0.5557 - val_mse: 0.6140\n",
            "Epoch 23/100\n",
            "\u001b[1m63/63\u001b[0m \u001b[32m━━━━━━━━━━━━━━━━━━━━\u001b[0m\u001b[37m\u001b[0m \u001b[1m1s\u001b[0m 9ms/step - loss: 0.4329 - mae: 0.4975 - mse: 0.4329 - val_loss: 0.6094 - val_mae: 0.5559 - val_mse: 0.6094\n",
            "Epoch 24/100\n",
            "\u001b[1m63/63\u001b[0m \u001b[32m━━━━━━━━━━━━━━━━━━━━\u001b[0m\u001b[37m\u001b[0m \u001b[1m1s\u001b[0m 8ms/step - loss: 0.4558 - mae: 0.5087 - mse: 0.4558 - val_loss: 0.6165 - val_mae: 0.5586 - val_mse: 0.6165\n",
            "Epoch 25/100\n",
            "\u001b[1m63/63\u001b[0m \u001b[32m━━━━━━━━━━━━━━━━━━━━\u001b[0m\u001b[37m\u001b[0m \u001b[1m1s\u001b[0m 8ms/step - loss: 0.4398 - mae: 0.4957 - mse: 0.4398 - val_loss: 0.6089 - val_mae: 0.5541 - val_mse: 0.6089\n",
            "Epoch 26/100\n",
            "\u001b[1m63/63\u001b[0m \u001b[32m━━━━━━━━━━━━━━━━━━━━\u001b[0m\u001b[37m\u001b[0m \u001b[1m1s\u001b[0m 8ms/step - loss: 0.4439 - mae: 0.4992 - mse: 0.4439 - val_loss: 0.6087 - val_mae: 0.5538 - val_mse: 0.6087\n",
            "Epoch 27/100\n",
            "\u001b[1m63/63\u001b[0m \u001b[32m━━━━━━━━━━━━━━━━━━━━\u001b[0m\u001b[37m\u001b[0m \u001b[1m1s\u001b[0m 8ms/step - loss: 0.4327 - mae: 0.4921 - mse: 0.4327 - val_loss: 0.6146 - val_mae: 0.5535 - val_mse: 0.6146\n",
            "Epoch 28/100\n",
            "\u001b[1m63/63\u001b[0m \u001b[32m━━━━━━━━━━━━━━━━━━━━\u001b[0m\u001b[37m\u001b[0m \u001b[1m1s\u001b[0m 8ms/step - loss: 0.4304 - mae: 0.4911 - mse: 0.4304 - val_loss: 0.6159 - val_mae: 0.5579 - val_mse: 0.6159\n",
            "Epoch 29/100\n",
            "\u001b[1m63/63\u001b[0m \u001b[32m━━━━━━━━━━━━━━━━━━━━\u001b[0m\u001b[37m\u001b[0m \u001b[1m1s\u001b[0m 8ms/step - loss: 0.4510 - mae: 0.4988 - mse: 0.4510 - val_loss: 0.6101 - val_mae: 0.5507 - val_mse: 0.6101\n",
            "Epoch 30/100\n",
            "\u001b[1m63/63\u001b[0m \u001b[32m━━━━━━━━━━━━━━━━━━━━\u001b[0m\u001b[37m\u001b[0m \u001b[1m1s\u001b[0m 8ms/step - loss: 0.4269 - mae: 0.4896 - mse: 0.4269 - val_loss: 0.6113 - val_mae: 0.5536 - val_mse: 0.6113\n",
            "Epoch 31/100\n",
            "\u001b[1m63/63\u001b[0m \u001b[32m━━━━━━━━━━━━━━━━━━━━\u001b[0m\u001b[37m\u001b[0m \u001b[1m1s\u001b[0m 8ms/step - loss: 0.4379 - mae: 0.4966 - mse: 0.4379 - val_loss: 0.6040 - val_mae: 0.5507 - val_mse: 0.6040\n",
            "Epoch 32/100\n",
            "\u001b[1m63/63\u001b[0m \u001b[32m━━━━━━━━━━━━━━━━━━━━\u001b[0m\u001b[37m\u001b[0m \u001b[1m1s\u001b[0m 8ms/step - loss: 0.4320 - mae: 0.4929 - mse: 0.4320 - val_loss: 0.6090 - val_mae: 0.5521 - val_mse: 0.6090\n",
            "Epoch 33/100\n",
            "\u001b[1m63/63\u001b[0m \u001b[32m━━━━━━━━━━━━━━━━━━━━\u001b[0m\u001b[37m\u001b[0m \u001b[1m1s\u001b[0m 8ms/step - loss: 0.4324 - mae: 0.4952 - mse: 0.4324 - val_loss: 0.6098 - val_mae: 0.5540 - val_mse: 0.6098\n",
            "Epoch 34/100\n",
            "\u001b[1m63/63\u001b[0m \u001b[32m━━━━━━━━━━━━━━━━━━━━\u001b[0m\u001b[37m\u001b[0m \u001b[1m1s\u001b[0m 8ms/step - loss: 0.4375 - mae: 0.4951 - mse: 0.4375 - val_loss: 0.6086 - val_mae: 0.5505 - val_mse: 0.6086\n",
            "Epoch 35/100\n",
            "\u001b[1m63/63\u001b[0m \u001b[32m━━━━━━━━━━━━━━━━━━━━\u001b[0m\u001b[37m\u001b[0m \u001b[1m1s\u001b[0m 8ms/step - loss: 0.4416 - mae: 0.4976 - mse: 0.4416 - val_loss: 0.6071 - val_mae: 0.5500 - val_mse: 0.6071\n",
            "Epoch 36/100\n",
            "\u001b[1m63/63\u001b[0m \u001b[32m━━━━━━━━━━━━━━━━━━━━\u001b[0m\u001b[37m\u001b[0m \u001b[1m1s\u001b[0m 8ms/step - loss: 0.4173 - mae: 0.4847 - mse: 0.4173 - val_loss: 0.6079 - val_mae: 0.5514 - val_mse: 0.6079\n",
            "Epoch 37/100\n",
            "\u001b[1m63/63\u001b[0m \u001b[32m━━━━━━━━━━━━━━━━━━━━\u001b[0m\u001b[37m\u001b[0m \u001b[1m1s\u001b[0m 8ms/step - loss: 0.4406 - mae: 0.4967 - mse: 0.4406 - val_loss: 0.6133 - val_mae: 0.5534 - val_mse: 0.6133\n",
            "Epoch 38/100\n",
            "\u001b[1m63/63\u001b[0m \u001b[32m━━━━━━━━━━━━━━━━━━━━\u001b[0m\u001b[37m\u001b[0m \u001b[1m1s\u001b[0m 9ms/step - loss: 0.4377 - mae: 0.4967 - mse: 0.4377 - val_loss: 0.6109 - val_mae: 0.5522 - val_mse: 0.6109\n",
            "Epoch 39/100\n",
            "\u001b[1m63/63\u001b[0m \u001b[32m━━━━━━━━━━━━━━━━━━━━\u001b[0m\u001b[37m\u001b[0m \u001b[1m1s\u001b[0m 8ms/step - loss: 0.4171 - mae: 0.4869 - mse: 0.4171 - val_loss: 0.6106 - val_mae: 0.5521 - val_mse: 0.6106\n",
            "Epoch 40/100\n",
            "\u001b[1m63/63\u001b[0m \u001b[32m━━━━━━━━━━━━━━━━━━━━\u001b[0m\u001b[37m\u001b[0m \u001b[1m1s\u001b[0m 8ms/step - loss: 0.4267 - mae: 0.4871 - mse: 0.4267 - val_loss: 0.6204 - val_mae: 0.5536 - val_mse: 0.6204\n",
            "Epoch 41/100\n",
            "\u001b[1m63/63\u001b[0m \u001b[32m━━━━━━━━━━━━━━━━━━━━\u001b[0m\u001b[37m\u001b[0m \u001b[1m1s\u001b[0m 8ms/step - loss: 0.4140 - mae: 0.4818 - mse: 0.4140 - val_loss: 0.6034 - val_mae: 0.5475 - val_mse: 0.6034\n",
            "Epoch 42/100\n",
            "\u001b[1m63/63\u001b[0m \u001b[32m━━━━━━━━━━━━━━━━━━━━\u001b[0m\u001b[37m\u001b[0m \u001b[1m1s\u001b[0m 8ms/step - loss: 0.4140 - mae: 0.4812 - mse: 0.4140 - val_loss: 0.6098 - val_mae: 0.5488 - val_mse: 0.6098\n",
            "Epoch 43/100\n",
            "\u001b[1m63/63\u001b[0m \u001b[32m━━━━━━━━━━━━━━━━━━━━\u001b[0m\u001b[37m\u001b[0m \u001b[1m1s\u001b[0m 8ms/step - loss: 0.4121 - mae: 0.4806 - mse: 0.4121 - val_loss: 0.6032 - val_mae: 0.5482 - val_mse: 0.6032\n",
            "Epoch 44/100\n",
            "\u001b[1m63/63\u001b[0m \u001b[32m━━━━━━━━━━━━━━━━━━━━\u001b[0m\u001b[37m\u001b[0m \u001b[1m1s\u001b[0m 8ms/step - loss: 0.4005 - mae: 0.4754 - mse: 0.4005 - val_loss: 0.6085 - val_mae: 0.5496 - val_mse: 0.6085\n",
            "Epoch 45/100\n",
            "\u001b[1m63/63\u001b[0m \u001b[32m━━━━━━━━━━━━━━━━━━━━\u001b[0m\u001b[37m\u001b[0m \u001b[1m1s\u001b[0m 8ms/step - loss: 0.4122 - mae: 0.4829 - mse: 0.4122 - val_loss: 0.6170 - val_mae: 0.5502 - val_mse: 0.6170\n",
            "Epoch 46/100\n",
            "\u001b[1m63/63\u001b[0m \u001b[32m━━━━━━━━━━━━━━━━━━━━\u001b[0m\u001b[37m\u001b[0m \u001b[1m1s\u001b[0m 8ms/step - loss: 0.4169 - mae: 0.4859 - mse: 0.4169 - val_loss: 0.6187 - val_mae: 0.5550 - val_mse: 0.6187\n",
            "Epoch 47/100\n",
            "\u001b[1m63/63\u001b[0m \u001b[32m━━━━━━━━━━━━━━━━━━━━\u001b[0m\u001b[37m\u001b[0m \u001b[1m1s\u001b[0m 8ms/step - loss: 0.4261 - mae: 0.4895 - mse: 0.4261 - val_loss: 0.6100 - val_mae: 0.5525 - val_mse: 0.6100\n",
            "Epoch 48/100\n",
            "\u001b[1m63/63\u001b[0m \u001b[32m━━━━━━━━━━━━━━━━━━━━\u001b[0m\u001b[37m\u001b[0m \u001b[1m1s\u001b[0m 8ms/step - loss: 0.3971 - mae: 0.4693 - mse: 0.3971 - val_loss: 0.6189 - val_mae: 0.5522 - val_mse: 0.6189\n",
            "Epoch 49/100\n",
            "\u001b[1m63/63\u001b[0m \u001b[32m━━━━━━━━━━━━━━━━━━━━\u001b[0m\u001b[37m\u001b[0m \u001b[1m1s\u001b[0m 8ms/step - loss: 0.4036 - mae: 0.4767 - mse: 0.4036 - val_loss: 0.6070 - val_mae: 0.5484 - val_mse: 0.6070\n",
            "Epoch 50/100\n",
            "\u001b[1m63/63\u001b[0m \u001b[32m━━━━━━━━━━━━━━━━━━━━\u001b[0m\u001b[37m\u001b[0m \u001b[1m1s\u001b[0m 8ms/step - loss: 0.3931 - mae: 0.4735 - mse: 0.3931 - val_loss: 0.6166 - val_mae: 0.5520 - val_mse: 0.6166\n",
            "Epoch 51/100\n",
            "\u001b[1m63/63\u001b[0m \u001b[32m━━━━━━━━━━━━━━━━━━━━\u001b[0m\u001b[37m\u001b[0m \u001b[1m1s\u001b[0m 8ms/step - loss: 0.4020 - mae: 0.4755 - mse: 0.4020 - val_loss: 0.6069 - val_mae: 0.5483 - val_mse: 0.6069\n",
            "Epoch 52/100\n",
            "\u001b[1m63/63\u001b[0m \u001b[32m━━━━━━━━━━━━━━━━━━━━\u001b[0m\u001b[37m\u001b[0m \u001b[1m1s\u001b[0m 9ms/step - loss: 0.4157 - mae: 0.4829 - mse: 0.4157 - val_loss: 0.6131 - val_mae: 0.5455 - val_mse: 0.6131\n",
            "Epoch 53/100\n",
            "\u001b[1m63/63\u001b[0m \u001b[32m━━━━━━━━━━━━━━━━━━━━\u001b[0m\u001b[37m\u001b[0m \u001b[1m1s\u001b[0m 8ms/step - loss: 0.4007 - mae: 0.4752 - mse: 0.4007 - val_loss: 0.6012 - val_mae: 0.5462 - val_mse: 0.6012\n",
            "Epoch 54/100\n",
            "\u001b[1m63/63\u001b[0m \u001b[32m━━━━━━━━━━━━━━━━━━━━\u001b[0m\u001b[37m\u001b[0m \u001b[1m1s\u001b[0m 8ms/step - loss: 0.3971 - mae: 0.4741 - mse: 0.3971 - val_loss: 0.5982 - val_mae: 0.5396 - val_mse: 0.5982\n",
            "Epoch 55/100\n",
            "\u001b[1m63/63\u001b[0m \u001b[32m━━━━━━━━━━━━━━━━━━━━\u001b[0m\u001b[37m\u001b[0m \u001b[1m1s\u001b[0m 8ms/step - loss: 0.3990 - mae: 0.4733 - mse: 0.3990 - val_loss: 0.6020 - val_mae: 0.5437 - val_mse: 0.6020\n",
            "Epoch 56/100\n",
            "\u001b[1m63/63\u001b[0m \u001b[32m━━━━━━━━━━━━━━━━━━━━\u001b[0m\u001b[37m\u001b[0m \u001b[1m1s\u001b[0m 9ms/step - loss: 0.4027 - mae: 0.4780 - mse: 0.4027 - val_loss: 0.5973 - val_mae: 0.5411 - val_mse: 0.5973\n",
            "Epoch 57/100\n",
            "\u001b[1m63/63\u001b[0m \u001b[32m━━━━━━━━━━━━━━━━━━━━\u001b[0m\u001b[37m\u001b[0m \u001b[1m1s\u001b[0m 8ms/step - loss: 0.3857 - mae: 0.4664 - mse: 0.3857 - val_loss: 0.6040 - val_mae: 0.5472 - val_mse: 0.6040\n",
            "Epoch 58/100\n",
            "\u001b[1m63/63\u001b[0m \u001b[32m━━━━━━━━━━━━━━━━━━━━\u001b[0m\u001b[37m\u001b[0m \u001b[1m1s\u001b[0m 8ms/step - loss: 0.4041 - mae: 0.4741 - mse: 0.4041 - val_loss: 0.6084 - val_mae: 0.5436 - val_mse: 0.6084\n",
            "Epoch 59/100\n",
            "\u001b[1m63/63\u001b[0m \u001b[32m━━━━━━━━━━━━━━━━━━━━\u001b[0m\u001b[37m\u001b[0m \u001b[1m1s\u001b[0m 8ms/step - loss: 0.3866 - mae: 0.4670 - mse: 0.3866 - val_loss: 0.5923 - val_mae: 0.5386 - val_mse: 0.5923\n",
            "Epoch 60/100\n",
            "\u001b[1m63/63\u001b[0m \u001b[32m━━━━━━━━━━━━━━━━━━━━\u001b[0m\u001b[37m\u001b[0m \u001b[1m1s\u001b[0m 8ms/step - loss: 0.3967 - mae: 0.4684 - mse: 0.3967 - val_loss: 0.6014 - val_mae: 0.5391 - val_mse: 0.6014\n",
            "Epoch 61/100\n",
            "\u001b[1m63/63\u001b[0m \u001b[32m━━━━━━━━━━━━━━━━━━━━\u001b[0m\u001b[37m\u001b[0m \u001b[1m1s\u001b[0m 8ms/step - loss: 0.3787 - mae: 0.4590 - mse: 0.3787 - val_loss: 0.6014 - val_mae: 0.5389 - val_mse: 0.6014\n",
            "Epoch 62/100\n",
            "\u001b[1m63/63\u001b[0m \u001b[32m━━━━━━━━━━━━━━━━━━━━\u001b[0m\u001b[37m\u001b[0m \u001b[1m1s\u001b[0m 9ms/step - loss: 0.3914 - mae: 0.4679 - mse: 0.3914 - val_loss: 0.6056 - val_mae: 0.5462 - val_mse: 0.6056\n",
            "Epoch 63/100\n",
            "\u001b[1m63/63\u001b[0m \u001b[32m━━━━━━━━━━━━━━━━━━━━\u001b[0m\u001b[37m\u001b[0m \u001b[1m1s\u001b[0m 8ms/step - loss: 0.3851 - mae: 0.4670 - mse: 0.3851 - val_loss: 0.6068 - val_mae: 0.5438 - val_mse: 0.6068\n",
            "Epoch 64/100\n",
            "\u001b[1m63/63\u001b[0m \u001b[32m━━━━━━━━━━━━━━━━━━━━\u001b[0m\u001b[37m\u001b[0m \u001b[1m1s\u001b[0m 8ms/step - loss: 0.3710 - mae: 0.4594 - mse: 0.3710 - val_loss: 0.6041 - val_mae: 0.5443 - val_mse: 0.6041\n",
            "Epoch 65/100\n",
            "\u001b[1m63/63\u001b[0m \u001b[32m━━━━━━━━━━━━━━━━━━━━\u001b[0m\u001b[37m\u001b[0m \u001b[1m1s\u001b[0m 8ms/step - loss: 0.3735 - mae: 0.4617 - mse: 0.3735 - val_loss: 0.6017 - val_mae: 0.5343 - val_mse: 0.6017\n",
            "Epoch 66/100\n",
            "\u001b[1m63/63\u001b[0m \u001b[32m━━━━━━━━━━━━━━━━━━━━\u001b[0m\u001b[37m\u001b[0m \u001b[1m1s\u001b[0m 8ms/step - loss: 0.3974 - mae: 0.4728 - mse: 0.3974 - val_loss: 0.6029 - val_mae: 0.5373 - val_mse: 0.6029\n",
            "Epoch 67/100\n",
            "\u001b[1m63/63\u001b[0m \u001b[32m━━━━━━━━━━━━━━━━━━━━\u001b[0m\u001b[37m\u001b[0m \u001b[1m1s\u001b[0m 8ms/step - loss: 0.3644 - mae: 0.4545 - mse: 0.3644 - val_loss: 0.6181 - val_mae: 0.5434 - val_mse: 0.6181\n",
            "Epoch 68/100\n",
            "\u001b[1m63/63\u001b[0m \u001b[32m━━━━━━━━━━━━━━━━━━━━\u001b[0m\u001b[37m\u001b[0m \u001b[1m1s\u001b[0m 9ms/step - loss: 0.3788 - mae: 0.4606 - mse: 0.3788 - val_loss: 0.6088 - val_mae: 0.5439 - val_mse: 0.6088\n",
            "Epoch 69/100\n",
            "\u001b[1m63/63\u001b[0m \u001b[32m━━━━━━━━━━━━━━━━━━━━\u001b[0m\u001b[37m\u001b[0m \u001b[1m1s\u001b[0m 8ms/step - loss: 0.3809 - mae: 0.4629 - mse: 0.3809 - val_loss: 0.6050 - val_mae: 0.5371 - val_mse: 0.6050\n",
            "Epoch 70/100\n",
            "\u001b[1m63/63\u001b[0m \u001b[32m━━━━━━━━━━━━━━━━━━━━\u001b[0m\u001b[37m\u001b[0m \u001b[1m1s\u001b[0m 8ms/step - loss: 0.3821 - mae: 0.4670 - mse: 0.3821 - val_loss: 0.5954 - val_mae: 0.5360 - val_mse: 0.5954\n",
            "Epoch 71/100\n",
            "\u001b[1m63/63\u001b[0m \u001b[32m━━━━━━━━━━━━━━━━━━━━\u001b[0m\u001b[37m\u001b[0m \u001b[1m1s\u001b[0m 9ms/step - loss: 0.3789 - mae: 0.4618 - mse: 0.3789 - val_loss: 0.5948 - val_mae: 0.5389 - val_mse: 0.5948\n",
            "Epoch 72/100\n",
            "\u001b[1m63/63\u001b[0m \u001b[32m━━━━━━━━━━━━━━━━━━━━\u001b[0m\u001b[37m\u001b[0m \u001b[1m1s\u001b[0m 8ms/step - loss: 0.3792 - mae: 0.4685 - mse: 0.3792 - val_loss: 0.5898 - val_mae: 0.5338 - val_mse: 0.5898\n",
            "Epoch 73/100\n",
            "\u001b[1m63/63\u001b[0m \u001b[32m━━━━━━━━━━━━━━━━━━━━\u001b[0m\u001b[37m\u001b[0m \u001b[1m1s\u001b[0m 8ms/step - loss: 0.3756 - mae: 0.4601 - mse: 0.3756 - val_loss: 0.6115 - val_mae: 0.5363 - val_mse: 0.6115\n",
            "Epoch 74/100\n",
            "\u001b[1m63/63\u001b[0m \u001b[32m━━━━━━━━━━━━━━━━━━━━\u001b[0m\u001b[37m\u001b[0m \u001b[1m1s\u001b[0m 8ms/step - loss: 0.3683 - mae: 0.4573 - mse: 0.3683 - val_loss: 0.5984 - val_mae: 0.5363 - val_mse: 0.5984\n",
            "Epoch 75/100\n",
            "\u001b[1m63/63\u001b[0m \u001b[32m━━━━━━━━━━━━━━━━━━━━\u001b[0m\u001b[37m\u001b[0m \u001b[1m1s\u001b[0m 8ms/step - loss: 0.3640 - mae: 0.4548 - mse: 0.3640 - val_loss: 0.6010 - val_mae: 0.5372 - val_mse: 0.6010\n",
            "Epoch 76/100\n",
            "\u001b[1m63/63\u001b[0m \u001b[32m━━━━━━━━━━━━━━━━━━━━\u001b[0m\u001b[37m\u001b[0m \u001b[1m1s\u001b[0m 8ms/step - loss: 0.3655 - mae: 0.4533 - mse: 0.3655 - val_loss: 0.6005 - val_mae: 0.5417 - val_mse: 0.6005\n",
            "Epoch 77/100\n",
            "\u001b[1m63/63\u001b[0m \u001b[32m━━━━━━━━━━━━━━━━━━━━\u001b[0m\u001b[37m\u001b[0m \u001b[1m1s\u001b[0m 8ms/step - loss: 0.3734 - mae: 0.4608 - mse: 0.3734 - val_loss: 0.6106 - val_mae: 0.5367 - val_mse: 0.6106\n",
            "Epoch 78/100\n",
            "\u001b[1m63/63\u001b[0m \u001b[32m━━━━━━━━━━━━━━━━━━━━\u001b[0m\u001b[37m\u001b[0m \u001b[1m1s\u001b[0m 8ms/step - loss: 0.3700 - mae: 0.4548 - mse: 0.3700 - val_loss: 0.6046 - val_mae: 0.5387 - val_mse: 0.6046\n",
            "Epoch 79/100\n",
            "\u001b[1m63/63\u001b[0m \u001b[32m━━━━━━━━━━━━━━━━━━━━\u001b[0m\u001b[37m\u001b[0m \u001b[1m1s\u001b[0m 8ms/step - loss: 0.3564 - mae: 0.4496 - mse: 0.3564 - val_loss: 0.6050 - val_mae: 0.5405 - val_mse: 0.6050\n",
            "Epoch 80/100\n",
            "\u001b[1m63/63\u001b[0m \u001b[32m━━━━━━━━━━━━━━━━━━━━\u001b[0m\u001b[37m\u001b[0m \u001b[1m1s\u001b[0m 8ms/step - loss: 0.3614 - mae: 0.4529 - mse: 0.3614 - val_loss: 0.6108 - val_mae: 0.5345 - val_mse: 0.6108\n",
            "Epoch 81/100\n",
            "\u001b[1m63/63\u001b[0m \u001b[32m━━━━━━━━━━━━━━━━━━━━\u001b[0m\u001b[37m\u001b[0m \u001b[1m1s\u001b[0m 8ms/step - loss: 0.3528 - mae: 0.4451 - mse: 0.3528 - val_loss: 0.6046 - val_mae: 0.5475 - val_mse: 0.6046\n",
            "Epoch 82/100\n",
            "\u001b[1m63/63\u001b[0m \u001b[32m━━━━━━━━━━━━━━━━━━━━\u001b[0m\u001b[37m\u001b[0m \u001b[1m1s\u001b[0m 8ms/step - loss: 0.3585 - mae: 0.4488 - mse: 0.3585 - val_loss: 0.6151 - val_mae: 0.5394 - val_mse: 0.6151\n",
            "Epoch 83/100\n",
            "\u001b[1m63/63\u001b[0m \u001b[32m━━━━━━━━━━━━━━━━━━━━\u001b[0m\u001b[37m\u001b[0m \u001b[1m1s\u001b[0m 8ms/step - loss: 0.3626 - mae: 0.4520 - mse: 0.3626 - val_loss: 0.6030 - val_mae: 0.5365 - val_mse: 0.6030\n",
            "Epoch 84/100\n",
            "\u001b[1m63/63\u001b[0m \u001b[32m━━━━━━━━━━━━━━━━━━━━\u001b[0m\u001b[37m\u001b[0m \u001b[1m1s\u001b[0m 8ms/step - loss: 0.3446 - mae: 0.4393 - mse: 0.3446 - val_loss: 0.5900 - val_mae: 0.5331 - val_mse: 0.5900\n",
            "Epoch 85/100\n",
            "\u001b[1m63/63\u001b[0m \u001b[32m━━━━━━━━━━━━━━━━━━━━\u001b[0m\u001b[37m\u001b[0m \u001b[1m1s\u001b[0m 8ms/step - loss: 0.3725 - mae: 0.4600 - mse: 0.3725 - val_loss: 0.5967 - val_mae: 0.5366 - val_mse: 0.5967\n",
            "Epoch 86/100\n",
            "\u001b[1m63/63\u001b[0m \u001b[32m━━━━━━━━━━━━━━━━━━━━\u001b[0m\u001b[37m\u001b[0m \u001b[1m1s\u001b[0m 8ms/step - loss: 0.3595 - mae: 0.4514 - mse: 0.3595 - val_loss: 0.6006 - val_mae: 0.5372 - val_mse: 0.6006\n",
            "Epoch 87/100\n",
            "\u001b[1m63/63\u001b[0m \u001b[32m━━━━━━━━━━━━━━━━━━━━\u001b[0m\u001b[37m\u001b[0m \u001b[1m1s\u001b[0m 8ms/step - loss: 0.3623 - mae: 0.4482 - mse: 0.3623 - val_loss: 0.6008 - val_mae: 0.5309 - val_mse: 0.6008\n"
          ]
        }
      ],
      "source": [
        "model3.compile(\n",
        "    optimizer='adam',\n",
        "    loss='mse',\n",
        "    metrics=['mae', 'mse']\n",
        ")\n",
        "history3 = model3.fit(X_train, y_train, batch_size = 128, callbacks=[early_stop], epochs=100, validation_split =0.1)"
      ]
    },
    {
      "cell_type": "code",
      "execution_count": 42,
      "metadata": {
        "colab": {
          "base_uri": "https://localhost:8080/",
          "height": 487
        },
        "id": "m6VOCVjMYuuI",
        "outputId": "eec3a3ff-a70f-40b8-db1d-af347d85ff14"
      },
      "outputs": [
        {
          "data": {
            "image/png": "[encoded data removed]",
            "text/plain": [
              "<Figure size 640x480 with 1 Axes>"
            ]
          },
          "metadata": {},
          "output_type": "display_data"
        }
      ],
      "source": [
        "plt.plot(history3.history['loss'], label='Train Loss')\n",
        "plt.plot(history3.history['val_loss'], label='Val Loss')\n",
        "plt.title('Training and Validation Loss')\n",
        "plt.xlabel('Epoch')\n",
        "plt.ylabel('Loss')\n",
        "plt.legend()\n",
        "plt.grid(True, linestyle='--', alpha=0.5)\n",
        "plt.tight_layout()\n",
        "plt.show()"
      ]
    },
    {
      "cell_type": "code",
      "execution_count": 43,
      "metadata": {
        "colab": {
          "base_uri": "https://localhost:8080/"
        },
        "id": "MYrvcE1iY12a",
        "outputId": "4fa151f5-8fae-4d2f-b552-5115a4920adf"
      },
      "outputs": [
        {
          "name": "stdout",
          "output_type": "stream",
          "text": [
            "\u001b[1m70/70\u001b[0m \u001b[32m━━━━━━━━━━━━━━━━━━━━\u001b[0m\u001b[37m\u001b[0m \u001b[1m0s\u001b[0m 4ms/step - loss: 0.5653 - mae: 0.5276 - mse: 0.5653\n",
            "Test MSE: 0.5385\n",
            "Test MAE: 0.5244\n",
            "Test RMSE: 0.5385\n",
            "\u001b[1m70/70\u001b[0m \u001b[32m━━━━━━━━━━━━━━━━━━━━\u001b[0m\u001b[37m\u001b[0m \u001b[1m0s\u001b[0m 3ms/step\n",
            "Test RMSE Norm: 251098.1719\n",
            "Test MSE Norm: 63050289152.0000\n",
            "Test MAE Norm: 90648.0781\n",
            "Test R2 Norm: 0.2771\n"
          ]
        }
      ],
      "source": [
        "scores3 = model3.evaluate(X_test, y_test)\n",
        "print(f\"Test MSE: {scores3[0]:.4f}\")\n",
        "print(f\"Test MAE: {scores3[1]:.4f}\")\n",
        "print(f\"Test RMSE: {scores3[2]:.4f}\")\n",
        "y_pred_log3 = model3.predict(X_test)\n",
        "y_pred_norm3 = np.exp(y_pred_log3.flatten())\n",
        "y_true = np.exp(y_test)\n",
        "\n",
        "mse3 = mean_squared_error(y_true, y_pred_norm3)\n",
        "rmse3 = root_mean_squared_error(y_true, y_pred_norm3)\n",
        "mae3 = mean_absolute_error(y_true, y_pred_norm3)\n",
        "r23 = r2_score(y_true, y_pred_norm3)\n",
        "print(f\"Test RMSE Norm: {rmse3:.4f}\")\n",
        "print(f\"Test MSE Norm: {mse3:.4f}\")\n",
        "print(f\"Test MAE Norm: {mae3:.4f}\")\n",
        "print(f\"Test R2 Norm: {r23:.4f}\")"
      ]
    },
    {
      "cell_type": "code",
      "execution_count": 44,
      "metadata": {
        "id": "j2hBWkxCgBrt"
      },
      "outputs": [],
      "source": [
        "from sklearn.metrics import classification_report, confusion_matrix, ConfusionMatrixDisplay"
      ]
    },
    {
      "cell_type": "code",
      "execution_count": 45,
      "metadata": {
        "id": "VLYEH08ZaweD"
      },
      "outputs": [],
      "source": [
        "X2 = wine_df_clean.drop(['nation', 'log_price', 'local1'], axis=1)\n",
        "y2 = wine_df_clean['nation']"
      ]
    },
    {
      "cell_type": "code",
      "execution_count": 46,
      "metadata": {
        "id": "Ac14ZqgRbRmm"
      },
      "outputs": [],
      "source": [
        "le = LabelEncoder()\n",
        "y2 = le.fit_transform(y2)"
      ]
    },
    {
      "cell_type": "code",
      "execution_count": 47,
      "metadata": {
        "id": "UnFsryUicQyG"
      },
      "outputs": [],
      "source": [
        "num_cols2 = X2.select_dtypes(include=['number']).columns.tolist()\n",
        "cat_cols2 = X2.select_dtypes(include=['object', 'category']).columns.tolist()\n",
        "preprocessor2 = ColumnTransformer(transformers=[\n",
        "    ('num', StandardScaler(), num_cols2),\n",
        "    ('cat', OneHotEncoder(handle_unknown='ignore', drop = 'first'), cat_cols2)\n",
        "])"
      ]
    },
    {
      "cell_type": "code",
      "execution_count": 48,
      "metadata": {
        "id": "Hmvzfl7Ib1Wq"
      },
      "outputs": [],
      "source": [
        "X2_processed = preprocessor2.fit_transform(X2)\n",
        "X_train2, X_test2, y_train2, y_test2 = train_test_split(X2_processed, y2, test_size=0.2, random_state=42)"
      ]
    },
    {
      "cell_type": "code",
      "execution_count": 49,
      "metadata": {
        "colab": {
          "base_uri": "https://localhost:8080/"
        },
        "id": "Reiw4xhjeuic",
        "outputId": "a6ae332b-21bd-4743-ae68-d0f93457c553"
      },
      "outputs": [
        {
          "data": {
            "text/plain": [
              "27"
            ]
          },
          "execution_count": 49,
          "metadata": {},
          "output_type": "execute_result"
        }
      ],
      "source": [
        "num_classes = len(np.unique(y_train2))\n",
        "num_classes"
      ]
    },
    {
      "cell_type": "code",
      "execution_count": 50,
      "metadata": {
        "id": "yQPixf8zbmA6"
      },
      "outputs": [],
      "source": [
        "#construct the model\n",
        "inputs4 = keras.Input(shape=(X_train2.shape[1],))\n",
        "x4 = layers.Dense(128, activation = 'relu')(inputs4)\n",
        "x4 = layers.Dense(64, activation = 'relu')(x4)\n",
        "x4 = layers.Dense(32, activation = 'relu')(x4)\n",
        "outputs4 = layers.Dense(num_classes, activation='softmax')(x4)\n",
        "model4 = keras.Model(inputs=inputs4, outputs=outputs4)"
      ]
    },
    {
      "cell_type": "code",
      "execution_count": 51,
      "metadata": {
        "colab": {
          "base_uri": "https://localhost:8080/"
        },
        "id": "QgfHSJaLdJv1",
        "outputId": "b6ca4bca-e61f-44f8-f366-f04514c0fcf9"
      },
      "outputs": [
        {
          "name": "stdout",
          "output_type": "stream",
          "text": [
            "Epoch 1/100\n"
          ]
        },
        {
          "name": "stderr",
          "output_type": "stream",
          "text": [
            "/Users/marvinlee/Documents/vs_code/gsb_544/gsb544env/lib/python3.12/site-packages/keras/src/backend/tensorflow/nn.py:708: UserWarning: \"`sparse_categorical_crossentropy` received `from_logits=True`, but the `output` argument was produced by a Softmax activation and thus does not represent logits. Was this intended?\n",
            "  output, from_logits = _get_logits(\n"
          ]
        },
        {
          "name": "stdout",
          "output_type": "stream",
          "text": [
            "\u001b[1m63/63\u001b[0m \u001b[32m━━━━━━━━━━━━━━━━━━━━\u001b[0m\u001b[37m\u001b[0m \u001b[1m2s\u001b[0m 13ms/step - accuracy: 0.2649 - loss: 2.5324 - val_accuracy: 0.4233 - val_loss: 1.7387\n",
            "Epoch 2/100\n",
            "\u001b[1m63/63\u001b[0m \u001b[32m━━━━━━━━━━━━━━━━━━━━\u001b[0m\u001b[37m\u001b[0m \u001b[1m1s\u001b[0m 8ms/step - accuracy: 0.4846 - loss: 1.6599 - val_accuracy: 0.5564 - val_loss: 1.4773\n",
            "Epoch 3/100\n",
            "\u001b[1m63/63\u001b[0m \u001b[32m━━━━━━━━━━━━━━━━━━━━\u001b[0m\u001b[37m\u001b[0m \u001b[1m1s\u001b[0m 8ms/step - accuracy: 0.5669 - loss: 1.3979 - val_accuracy: 0.5688 - val_loss: 1.4127\n",
            "Epoch 4/100\n",
            "\u001b[1m63/63\u001b[0m \u001b[32m━━━━━━━━━━━━━━━━━━━━\u001b[0m\u001b[37m\u001b[0m \u001b[1m1s\u001b[0m 8ms/step - accuracy: 0.5833 - loss: 1.3088 - val_accuracy: 0.5700 - val_loss: 1.3572\n",
            "Epoch 5/100\n",
            "\u001b[1m63/63\u001b[0m \u001b[32m━━━━━━━━━━━━━━━━━━━━\u001b[0m\u001b[37m\u001b[0m \u001b[1m0s\u001b[0m 8ms/step - accuracy: 0.5954 - loss: 1.2616 - val_accuracy: 0.5914 - val_loss: 1.3515\n",
            "Epoch 6/100\n",
            "\u001b[1m63/63\u001b[0m \u001b[32m━━━━━━━━━━━━━━━━━━━━\u001b[0m\u001b[37m\u001b[0m \u001b[1m1s\u001b[0m 9ms/step - accuracy: 0.5979 - loss: 1.2460 - val_accuracy: 0.5835 - val_loss: 1.3548\n",
            "Epoch 7/100\n",
            "\u001b[1m63/63\u001b[0m \u001b[32m━━━━━━━━━━━━━━━━━━━━\u001b[0m\u001b[37m\u001b[0m \u001b[1m1s\u001b[0m 9ms/step - accuracy: 0.6018 - loss: 1.2323 - val_accuracy: 0.6106 - val_loss: 1.3330\n",
            "Epoch 8/100\n",
            "\u001b[1m63/63\u001b[0m \u001b[32m━━━━━━━━━━━━━━━━━━━━\u001b[0m\u001b[37m\u001b[0m \u001b[1m1s\u001b[0m 8ms/step - accuracy: 0.6153 - loss: 1.2066 - val_accuracy: 0.5745 - val_loss: 1.3533\n",
            "Epoch 9/100\n",
            "\u001b[1m63/63\u001b[0m \u001b[32m━━━━━━━━━━━━━━━━━━━━\u001b[0m\u001b[37m\u001b[0m \u001b[1m1s\u001b[0m 8ms/step - accuracy: 0.6008 - loss: 1.2336 - val_accuracy: 0.5384 - val_loss: 1.5262\n",
            "Epoch 10/100\n",
            "\u001b[1m63/63\u001b[0m \u001b[32m━━━━━━━━━━━━━━━━━━━━\u001b[0m\u001b[37m\u001b[0m \u001b[1m1s\u001b[0m 9ms/step - accuracy: 0.5774 - loss: 1.2814 - val_accuracy: 0.5113 - val_loss: 1.6633\n",
            "Epoch 11/100\n",
            "\u001b[1m63/63\u001b[0m \u001b[32m━━━━━━━━━━━━━━━━━━━━\u001b[0m\u001b[37m\u001b[0m \u001b[1m1s\u001b[0m 8ms/step - accuracy: 0.5769 - loss: 1.3402 - val_accuracy: 0.5237 - val_loss: 1.6766\n",
            "Epoch 12/100\n",
            "\u001b[1m63/63\u001b[0m \u001b[32m━━━━━━━━━━━━━━━━━━━━\u001b[0m\u001b[37m\u001b[0m \u001b[1m1s\u001b[0m 8ms/step - accuracy: 0.5733 - loss: 1.3737 - val_accuracy: 0.4695 - val_loss: 2.1153\n",
            "Epoch 13/100\n",
            "\u001b[1m63/63\u001b[0m \u001b[32m━━━━━━━━━━━━━━━━━━━━\u001b[0m\u001b[37m\u001b[0m \u001b[1m1s\u001b[0m 8ms/step - accuracy: 0.5436 - loss: 1.5672 - val_accuracy: 0.4797 - val_loss: 2.0567\n",
            "Epoch 14/100\n",
            "\u001b[1m63/63\u001b[0m \u001b[32m━━━━━━━━━━━━━━━━━━━━\u001b[0m\u001b[37m\u001b[0m \u001b[1m1s\u001b[0m 8ms/step - accuracy: 0.5228 - loss: 1.7792 - val_accuracy: 0.4436 - val_loss: 2.7656\n",
            "Epoch 15/100\n",
            "\u001b[1m63/63\u001b[0m \u001b[32m━━━━━━━━━━━━━━━━━━━━\u001b[0m\u001b[37m\u001b[0m \u001b[1m1s\u001b[0m 8ms/step - accuracy: 0.4910 - loss: 2.0685 - val_accuracy: 0.5045 - val_loss: 2.1014\n",
            "Epoch 16/100\n",
            "\u001b[1m63/63\u001b[0m \u001b[32m━━━━━━━━━━━━━━━━━━━━\u001b[0m\u001b[37m\u001b[0m \u001b[1m1s\u001b[0m 8ms/step - accuracy: 0.4777 - loss: 2.3536 - val_accuracy: 0.5090 - val_loss: 2.0268\n",
            "Epoch 17/100\n",
            "\u001b[1m63/63\u001b[0m \u001b[32m━━━━━━━━━━━━━━━━━━━━\u001b[0m\u001b[37m\u001b[0m \u001b[1m1s\u001b[0m 8ms/step - accuracy: 0.4577 - loss: 2.9144 - val_accuracy: 0.4007 - val_loss: 4.1963\n",
            "Epoch 18/100\n",
            "\u001b[1m63/63\u001b[0m \u001b[32m━━━━━━━━━━━━━━━━━━━━\u001b[0m\u001b[37m\u001b[0m \u001b[1m1s\u001b[0m 8ms/step - accuracy: 0.4452 - loss: 3.4893 - val_accuracy: 0.2878 - val_loss: 5.7745\n",
            "Epoch 19/100\n",
            "\u001b[1m63/63\u001b[0m \u001b[32m━━━━━━━━━━━━━━━━━━━━\u001b[0m\u001b[37m\u001b[0m \u001b[1m1s\u001b[0m 8ms/step - accuracy: 0.4054 - loss: 4.5278 - val_accuracy: 0.3962 - val_loss: 7.2297\n",
            "Epoch 20/100\n",
            "\u001b[1m63/63\u001b[0m \u001b[32m━━━━━━━━━━━━━━━━━━━━\u001b[0m\u001b[37m\u001b[0m \u001b[1m1s\u001b[0m 9ms/step - accuracy: 0.3801 - loss: 5.5330 - val_accuracy: 0.3251 - val_loss: 7.3255\n",
            "Epoch 21/100\n",
            "\u001b[1m63/63\u001b[0m \u001b[32m━━━━━━━━━━━━━━━━━━━━\u001b[0m\u001b[37m\u001b[0m \u001b[1m1s\u001b[0m 8ms/step - accuracy: 0.3481 - loss: 7.0995 - val_accuracy: 0.3183 - val_loss: 14.6545\n",
            "Epoch 22/100\n",
            "\u001b[1m63/63\u001b[0m \u001b[32m━━━━━━━━━━━━━━━━━━━━\u001b[0m\u001b[37m\u001b[0m \u001b[1m1s\u001b[0m 8ms/step - accuracy: 0.3350 - loss: 9.0799 - val_accuracy: 0.3239 - val_loss: 11.1425\n",
            "70/70 - 1s - 9ms/step - accuracy: 0.6107 - loss: 1.3027\n"
          ]
        }
      ],
      "source": [
        "model4.compile(\n",
        "    loss=keras.losses.SparseCategoricalCrossentropy(from_logits=True),\n",
        "    optimizer=keras.optimizers.RMSprop(),\n",
        "    metrics=[\"accuracy\"],\n",
        ")\n",
        "\n",
        "history4 = model4.fit(X_train2, y_train2, batch_size = 128, callbacks=[early_stop], epochs=100, validation_split=0.1)\n",
        "\n",
        "scores = model4.evaluate(X_test2, y_test2, verbose=2)"
      ]
    },
    {
      "cell_type": "code",
      "execution_count": 52,
      "metadata": {
        "colab": {
          "base_uri": "https://localhost:8080/"
        },
        "id": "MWSU2ztUfvw3",
        "outputId": "2a790507-88a6-4ad7-8b53-ec445e0cde2f"
      },
      "outputs": [
        {
          "name": "stdout",
          "output_type": "stream",
          "text": [
            "\u001b[1m70/70\u001b[0m \u001b[32m━━━━━━━━━━━━━━━━━━━━\u001b[0m\u001b[37m\u001b[0m \u001b[1m0s\u001b[0m 3ms/step\n",
            "              precision    recall  f1-score   support\n",
            "\n",
            "           0       0.69      0.39      0.50        56\n",
            "           1       0.34      0.18      0.23       125\n",
            "           2       0.00      0.00      0.00        11\n",
            "           4       0.43      0.50      0.46         6\n",
            "           5       0.40      0.50      0.44       217\n",
            "           8       0.58      0.84      0.69       705\n",
            "           9       0.00      0.00      0.00         5\n",
            "          10       0.75      0.82      0.79        40\n",
            "          11       1.00      0.14      0.25         7\n",
            "          12       0.50      0.50      0.50         4\n",
            "          14       0.88      0.78      0.83       368\n",
            "          15       0.00      0.00      0.00         2\n",
            "          17       0.00      0.00      0.00         3\n",
            "          18       0.38      0.09      0.14        35\n",
            "          19       0.00      0.00      0.00        17\n",
            "          20       0.00      0.00      0.00         3\n",
            "          21       0.00      0.00      0.00        10\n",
            "          22       0.80      0.75      0.77       167\n",
            "          23       0.00      0.00      0.00         1\n",
            "          24       0.55      0.40      0.46       376\n",
            "          26       0.86      0.11      0.19        56\n",
            "\n",
            "    accuracy                           0.61      2214\n",
            "   macro avg       0.39      0.29      0.30      2214\n",
            "weighted avg       0.61      0.61      0.59      2214\n",
            "\n"
          ]
        },
        {
          "name": "stderr",
          "output_type": "stream",
          "text": [
            "/Users/marvinlee/Documents/vs_code/gsb_544/gsb544env/lib/python3.12/site-packages/sklearn/metrics/_classification.py:1565: UndefinedMetricWarning: Precision is ill-defined and being set to 0.0 in labels with no predicted samples. Use `zero_division` parameter to control this behavior.\n",
            "  _warn_prf(average, modifier, f\"{metric.capitalize()} is\", len(result))\n",
            "/Users/marvinlee/Documents/vs_code/gsb_544/gsb544env/lib/python3.12/site-packages/sklearn/metrics/_classification.py:1565: UndefinedMetricWarning: Precision is ill-defined and being set to 0.0 in labels with no predicted samples. Use `zero_division` parameter to control this behavior.\n",
            "  _warn_prf(average, modifier, f\"{metric.capitalize()} is\", len(result))\n",
            "/Users/marvinlee/Documents/vs_code/gsb_544/gsb544env/lib/python3.12/site-packages/sklearn/metrics/_classification.py:1565: UndefinedMetricWarning: Precision is ill-defined and being set to 0.0 in labels with no predicted samples. Use `zero_division` parameter to control this behavior.\n",
            "  _warn_prf(average, modifier, f\"{metric.capitalize()} is\", len(result))\n"
          ]
        }
      ],
      "source": [
        "y_pred_proba4 = model4.predict(X_test2)\n",
        "y_pred_class4 = np.argmax(y_pred_proba4, axis=1)\n",
        "print(classification_report(y_test2, y_pred_class4))"
      ]
    },
    {
      "cell_type": "code",
      "execution_count": 53,
      "metadata": {
        "colab": {
          "base_uri": "https://localhost:8080/",
          "height": 651
        },
        "id": "KyyHcazfgMl6",
        "outputId": "b98db4ab-ebef-48a7-dad2-9b90cccbeb8c"
      },
      "outputs": [
        {
          "data": {
            "image/png": "[encoded data removed]",
            "text/plain": [
              "<Figure size 640x480 with 2 Axes>"
            ]
          },
          "metadata": {},
          "output_type": "display_data"
        }
      ],
      "source": [
        "# Get unique classes in test set (sorted for consistent plotting)\n",
        "present_classes = np.unique(y_test2)\n",
        "\n",
        "# Build confusion matrix using only present labels\n",
        "cm4 = confusion_matrix(y_test2, y_pred_class4, labels=present_classes)\n",
        "\n",
        "# Optional: decode labels if using LabelEncoder\n",
        "label_names = le.inverse_transform(present_classes) if 'le' in globals() else present_classes\n",
        "\n",
        "# Display\n",
        "\n",
        "disp = ConfusionMatrixDisplay(confusion_matrix=cm4, display_labels=label_names)\n",
        "disp.plot(cmap=plt.cm.Blues)\n",
        "plt.title(\"Confusion Matrix (Filtered Classes)\")\n",
        "plt.xticks(rotation=90)\n",
        "plt.show()\n"
      ]
    },
    {
      "cell_type": "code",
      "execution_count": 54,
      "metadata": {
        "colab": {
          "base_uri": "https://localhost:8080/"
        },
        "id": "jpArLRhP6oK7",
        "outputId": "04e83fd2-aae1-487c-8c33-9f1b277af94f"
      },
      "outputs": [
        {
          "name": "stdout",
          "output_type": "stream",
          "text": [
            "Epoch 1/100\n"
          ]
        },
        {
          "name": "stderr",
          "output_type": "stream",
          "text": [
            "/Users/marvinlee/Documents/vs_code/gsb_544/gsb544env/lib/python3.12/site-packages/keras/src/backend/tensorflow/nn.py:708: UserWarning: \"`sparse_categorical_crossentropy` received `from_logits=True`, but the `output` argument was produced by a Softmax activation and thus does not represent logits. Was this intended?\n",
            "  output, from_logits = _get_logits(\n"
          ]
        },
        {
          "name": "stdout",
          "output_type": "stream",
          "text": [
            "\u001b[1m63/63\u001b[0m \u001b[32m━━━━━━━━━━━━━━━━━━━━\u001b[0m\u001b[37m\u001b[0m \u001b[1m1s\u001b[0m 10ms/step - accuracy: 0.2745 - loss: 2.6713 - val_accuracy: 0.4865 - val_loss: 1.7342\n",
            "Epoch 2/100\n",
            "\u001b[1m63/63\u001b[0m \u001b[32m━━━━━━━━━━━━━━━━━━━━\u001b[0m\u001b[37m\u001b[0m \u001b[1m0s\u001b[0m 7ms/step - accuracy: 0.4840 - loss: 1.7035 - val_accuracy: 0.5429 - val_loss: 1.5197\n",
            "Epoch 3/100\n",
            "\u001b[1m63/63\u001b[0m \u001b[32m━━━━━━━━━━━━━━━━━━━━\u001b[0m\u001b[37m\u001b[0m \u001b[1m0s\u001b[0m 6ms/step - accuracy: 0.5597 - loss: 1.4622 - val_accuracy: 0.5926 - val_loss: 1.3973\n",
            "Epoch 4/100\n",
            "\u001b[1m63/63\u001b[0m \u001b[32m━━━━━━━━━━━━━━━━━━━━\u001b[0m\u001b[37m\u001b[0m \u001b[1m0s\u001b[0m 7ms/step - accuracy: 0.5941 - loss: 1.3193 - val_accuracy: 0.5937 - val_loss: 1.3305\n",
            "Epoch 5/100\n",
            "\u001b[1m63/63\u001b[0m \u001b[32m━━━━━━━━━━━━━━━━━━━━\u001b[0m\u001b[37m\u001b[0m \u001b[1m0s\u001b[0m 6ms/step - accuracy: 0.6124 - loss: 1.2458 - val_accuracy: 0.5982 - val_loss: 1.2905\n",
            "Epoch 6/100\n",
            "\u001b[1m63/63\u001b[0m \u001b[32m━━━━━━━━━━━━━━━━━━━━\u001b[0m\u001b[37m\u001b[0m \u001b[1m0s\u001b[0m 7ms/step - accuracy: 0.6133 - loss: 1.1977 - val_accuracy: 0.6117 - val_loss: 1.2756\n",
            "Epoch 7/100\n",
            "\u001b[1m63/63\u001b[0m \u001b[32m━━━━━━━━━━━━━━━━━━━━\u001b[0m\u001b[37m\u001b[0m \u001b[1m0s\u001b[0m 7ms/step - accuracy: 0.6172 - loss: 1.1748 - val_accuracy: 0.6129 - val_loss: 1.2582\n",
            "Epoch 8/100\n",
            "\u001b[1m63/63\u001b[0m \u001b[32m━━━━━━━━━━━━━━━━━━━━\u001b[0m\u001b[37m\u001b[0m \u001b[1m0s\u001b[0m 7ms/step - accuracy: 0.6184 - loss: 1.1685 - val_accuracy: 0.6129 - val_loss: 1.2521\n",
            "Epoch 9/100\n",
            "\u001b[1m63/63\u001b[0m \u001b[32m━━━━━━━━━━━━━━━━━━━━\u001b[0m\u001b[37m\u001b[0m \u001b[1m0s\u001b[0m 7ms/step - accuracy: 0.6224 - loss: 1.1322 - val_accuracy: 0.6050 - val_loss: 1.2435\n",
            "Epoch 10/100\n",
            "\u001b[1m63/63\u001b[0m \u001b[32m━━━━━━━━━━━━━━━━━━━━\u001b[0m\u001b[37m\u001b[0m \u001b[1m0s\u001b[0m 7ms/step - accuracy: 0.6235 - loss: 1.1429 - val_accuracy: 0.5892 - val_loss: 1.2370\n",
            "Epoch 11/100\n",
            "\u001b[1m63/63\u001b[0m \u001b[32m━━━━━━━━━━━━━━━━━━━━\u001b[0m\u001b[37m\u001b[0m \u001b[1m0s\u001b[0m 7ms/step - accuracy: 0.6241 - loss: 1.1310 - val_accuracy: 0.5926 - val_loss: 1.2283\n",
            "Epoch 12/100\n",
            "\u001b[1m63/63\u001b[0m \u001b[32m━━━━━━━━━━━━━━━━━━━━\u001b[0m\u001b[37m\u001b[0m \u001b[1m0s\u001b[0m 7ms/step - accuracy: 0.6323 - loss: 1.0970 - val_accuracy: 0.6151 - val_loss: 1.2205\n",
            "Epoch 13/100\n",
            "\u001b[1m63/63\u001b[0m \u001b[32m━━━━━━━━━━━━━━━━━━━━\u001b[0m\u001b[37m\u001b[0m \u001b[1m0s\u001b[0m 7ms/step - accuracy: 0.6312 - loss: 1.1026 - val_accuracy: 0.6196 - val_loss: 1.2167\n",
            "Epoch 14/100\n",
            "\u001b[1m63/63\u001b[0m \u001b[32m━━━━━━━━━━━━━━━━━━━━\u001b[0m\u001b[37m\u001b[0m \u001b[1m0s\u001b[0m 7ms/step - accuracy: 0.6236 - loss: 1.1020 - val_accuracy: 0.6196 - val_loss: 1.2131\n",
            "Epoch 15/100\n",
            "\u001b[1m63/63\u001b[0m \u001b[32m━━━━━━━━━━━━━━━━━━━━\u001b[0m\u001b[37m\u001b[0m \u001b[1m0s\u001b[0m 8ms/step - accuracy: 0.6357 - loss: 1.0900 - val_accuracy: 0.6309 - val_loss: 1.2114\n",
            "Epoch 16/100\n",
            "\u001b[1m63/63\u001b[0m \u001b[32m━━━━━━━━━━━━━━━━━━━━\u001b[0m\u001b[37m\u001b[0m \u001b[1m0s\u001b[0m 7ms/step - accuracy: 0.6386 - loss: 1.0804 - val_accuracy: 0.6208 - val_loss: 1.2023\n",
            "Epoch 17/100\n",
            "\u001b[1m63/63\u001b[0m \u001b[32m━━━━━━━━━━━━━━━━━━━━\u001b[0m\u001b[37m\u001b[0m \u001b[1m0s\u001b[0m 7ms/step - accuracy: 0.6387 - loss: 1.0853 - val_accuracy: 0.6151 - val_loss: 1.2022\n",
            "Epoch 18/100\n",
            "\u001b[1m63/63\u001b[0m \u001b[32m━━━━━━━━━━━━━━━━━━━━\u001b[0m\u001b[37m\u001b[0m \u001b[1m0s\u001b[0m 6ms/step - accuracy: 0.6333 - loss: 1.0759 - val_accuracy: 0.6309 - val_loss: 1.2047\n",
            "Epoch 19/100\n",
            "\u001b[1m63/63\u001b[0m \u001b[32m━━━━━━━━━━━━━━━━━━━━\u001b[0m\u001b[37m\u001b[0m \u001b[1m0s\u001b[0m 7ms/step - accuracy: 0.6455 - loss: 1.0403 - val_accuracy: 0.6242 - val_loss: 1.2163\n",
            "Epoch 20/100\n",
            "\u001b[1m63/63\u001b[0m \u001b[32m━━━━━━━━━━━━━━━━━━━━\u001b[0m\u001b[37m\u001b[0m \u001b[1m0s\u001b[0m 8ms/step - accuracy: 0.6420 - loss: 1.0657 - val_accuracy: 0.6275 - val_loss: 1.2004\n",
            "Epoch 21/100\n",
            "\u001b[1m63/63\u001b[0m \u001b[32m━━━━━━━━━━━━━━━━━━━━\u001b[0m\u001b[37m\u001b[0m \u001b[1m1s\u001b[0m 8ms/step - accuracy: 0.6410 - loss: 1.0533 - val_accuracy: 0.6230 - val_loss: 1.1961\n",
            "Epoch 22/100\n",
            "\u001b[1m63/63\u001b[0m \u001b[32m━━━━━━━━━━━━━━━━━━━━\u001b[0m\u001b[37m\u001b[0m \u001b[1m1s\u001b[0m 8ms/step - accuracy: 0.6404 - loss: 1.0532 - val_accuracy: 0.6016 - val_loss: 1.2017\n",
            "Epoch 23/100\n",
            "\u001b[1m63/63\u001b[0m \u001b[32m━━━━━━━━━━━━━━━━━━━━\u001b[0m\u001b[37m\u001b[0m \u001b[1m1s\u001b[0m 8ms/step - accuracy: 0.6481 - loss: 1.0487 - val_accuracy: 0.6129 - val_loss: 1.1956\n",
            "Epoch 24/100\n",
            "\u001b[1m63/63\u001b[0m \u001b[32m━━━━━━━━━━━━━━━━━━━━\u001b[0m\u001b[37m\u001b[0m \u001b[1m1s\u001b[0m 8ms/step - accuracy: 0.6381 - loss: 1.0442 - val_accuracy: 0.6140 - val_loss: 1.1959\n",
            "Epoch 25/100\n",
            "\u001b[1m63/63\u001b[0m \u001b[32m━━━━━━━━━━━━━━━━━━━━\u001b[0m\u001b[37m\u001b[0m \u001b[1m0s\u001b[0m 7ms/step - accuracy: 0.6366 - loss: 1.0599 - val_accuracy: 0.6151 - val_loss: 1.1983\n",
            "Epoch 26/100\n",
            "\u001b[1m63/63\u001b[0m \u001b[32m━━━━━━━━━━━━━━━━━━━━\u001b[0m\u001b[37m\u001b[0m \u001b[1m0s\u001b[0m 7ms/step - accuracy: 0.6459 - loss: 1.0355 - val_accuracy: 0.6163 - val_loss: 1.1925\n",
            "Epoch 27/100\n",
            "\u001b[1m63/63\u001b[0m \u001b[32m━━━━━━━━━━━━━━━━━━━━\u001b[0m\u001b[37m\u001b[0m \u001b[1m0s\u001b[0m 7ms/step - accuracy: 0.6558 - loss: 1.0168 - val_accuracy: 0.6106 - val_loss: 1.1940\n",
            "Epoch 28/100\n",
            "\u001b[1m63/63\u001b[0m \u001b[32m━━━━━━━━━━━━━━━━━━━━\u001b[0m\u001b[37m\u001b[0m \u001b[1m0s\u001b[0m 7ms/step - accuracy: 0.6532 - loss: 1.0074 - val_accuracy: 0.6208 - val_loss: 1.1919\n",
            "Epoch 29/100\n",
            "\u001b[1m63/63\u001b[0m \u001b[32m━━━━━━━━━━━━━━━━━━━━\u001b[0m\u001b[37m\u001b[0m \u001b[1m0s\u001b[0m 6ms/step - accuracy: 0.6480 - loss: 1.0308 - val_accuracy: 0.6038 - val_loss: 1.1887\n",
            "Epoch 30/100\n",
            "\u001b[1m63/63\u001b[0m \u001b[32m━━━━━━━━━━━━━━━━━━━━\u001b[0m\u001b[37m\u001b[0m \u001b[1m0s\u001b[0m 7ms/step - accuracy: 0.6417 - loss: 1.0479 - val_accuracy: 0.5982 - val_loss: 1.1888\n",
            "Epoch 31/100\n",
            "\u001b[1m63/63\u001b[0m \u001b[32m━━━━━━━━━━━━━━━━━━━━\u001b[0m\u001b[37m\u001b[0m \u001b[1m0s\u001b[0m 6ms/step - accuracy: 0.6431 - loss: 1.0270 - val_accuracy: 0.6174 - val_loss: 1.1884\n",
            "Epoch 32/100\n",
            "\u001b[1m63/63\u001b[0m \u001b[32m━━━━━━━━━━━━━━━━━━━━\u001b[0m\u001b[37m\u001b[0m \u001b[1m0s\u001b[0m 6ms/step - accuracy: 0.6447 - loss: 1.0371 - val_accuracy: 0.6072 - val_loss: 1.1900\n",
            "Epoch 33/100\n",
            "\u001b[1m63/63\u001b[0m \u001b[32m━━━━━━━━━━━━━━━━━━━━\u001b[0m\u001b[37m\u001b[0m \u001b[1m0s\u001b[0m 7ms/step - accuracy: 0.6487 - loss: 1.0386 - val_accuracy: 0.6140 - val_loss: 1.1872\n",
            "Epoch 34/100\n",
            "\u001b[1m63/63\u001b[0m \u001b[32m━━━━━━━━━━━━━━━━━━━━\u001b[0m\u001b[37m\u001b[0m \u001b[1m0s\u001b[0m 7ms/step - accuracy: 0.6432 - loss: 1.0337 - val_accuracy: 0.6242 - val_loss: 1.1824\n",
            "Epoch 35/100\n",
            "\u001b[1m63/63\u001b[0m \u001b[32m━━━━━━━━━━━━━━━━━━━━\u001b[0m\u001b[37m\u001b[0m \u001b[1m0s\u001b[0m 6ms/step - accuracy: 0.6448 - loss: 1.0320 - val_accuracy: 0.6208 - val_loss: 1.1849\n",
            "Epoch 36/100\n",
            "\u001b[1m63/63\u001b[0m \u001b[32m━━━━━━━━━━━━━━━━━━━━\u001b[0m\u001b[37m\u001b[0m \u001b[1m0s\u001b[0m 6ms/step - accuracy: 0.6490 - loss: 1.0348 - val_accuracy: 0.6242 - val_loss: 1.1894\n",
            "Epoch 37/100\n",
            "\u001b[1m63/63\u001b[0m \u001b[32m━━━━━━━━━━━━━━━━━━━━\u001b[0m\u001b[37m\u001b[0m \u001b[1m0s\u001b[0m 6ms/step - accuracy: 0.6396 - loss: 1.0439 - val_accuracy: 0.6264 - val_loss: 1.1839\n",
            "Epoch 38/100\n",
            "\u001b[1m63/63\u001b[0m \u001b[32m━━━━━━━━━━━━━━━━━━━━\u001b[0m\u001b[37m\u001b[0m \u001b[1m0s\u001b[0m 6ms/step - accuracy: 0.6530 - loss: 1.0204 - val_accuracy: 0.6174 - val_loss: 1.1791\n",
            "Epoch 39/100\n",
            "\u001b[1m63/63\u001b[0m \u001b[32m━━━━━━━━━━━━━━━━━━━━\u001b[0m\u001b[37m\u001b[0m \u001b[1m0s\u001b[0m 7ms/step - accuracy: 0.6484 - loss: 1.0097 - val_accuracy: 0.6287 - val_loss: 1.1913\n",
            "Epoch 40/100\n",
            "\u001b[1m63/63\u001b[0m \u001b[32m━━━━━━━━━━━━━━━━━━━━\u001b[0m\u001b[37m\u001b[0m \u001b[1m0s\u001b[0m 7ms/step - accuracy: 0.6510 - loss: 1.0161 - val_accuracy: 0.6196 - val_loss: 1.1829\n",
            "Epoch 41/100\n",
            "\u001b[1m63/63\u001b[0m \u001b[32m━━━━━━━━━━━━━━━━━━━━\u001b[0m\u001b[37m\u001b[0m \u001b[1m0s\u001b[0m 7ms/step - accuracy: 0.6489 - loss: 1.0250 - val_accuracy: 0.6298 - val_loss: 1.1929\n",
            "Epoch 42/100\n",
            "\u001b[1m63/63\u001b[0m \u001b[32m━━━━━━━━━━━━━━━━━━━━\u001b[0m\u001b[37m\u001b[0m \u001b[1m0s\u001b[0m 7ms/step - accuracy: 0.6467 - loss: 1.0237 - val_accuracy: 0.6151 - val_loss: 1.1879\n",
            "Epoch 43/100\n",
            "\u001b[1m63/63\u001b[0m \u001b[32m━━━━━━━━━━━━━━━━━━━━\u001b[0m\u001b[37m\u001b[0m \u001b[1m0s\u001b[0m 7ms/step - accuracy: 0.6433 - loss: 1.0203 - val_accuracy: 0.6242 - val_loss: 1.1851\n",
            "Epoch 44/100\n",
            "\u001b[1m63/63\u001b[0m \u001b[32m━━━━━━━━━━━━━━━━━━━━\u001b[0m\u001b[37m\u001b[0m \u001b[1m0s\u001b[0m 7ms/step - accuracy: 0.6418 - loss: 1.0286 - val_accuracy: 0.6185 - val_loss: 1.1876\n",
            "Epoch 45/100\n",
            "\u001b[1m63/63\u001b[0m \u001b[32m━━━━━━━━━━━━━━━━━━━━\u001b[0m\u001b[37m\u001b[0m \u001b[1m0s\u001b[0m 7ms/step - accuracy: 0.6430 - loss: 1.0248 - val_accuracy: 0.6151 - val_loss: 1.1980\n",
            "Epoch 46/100\n",
            "\u001b[1m63/63\u001b[0m \u001b[32m━━━━━━━━━━━━━━━━━━━━\u001b[0m\u001b[37m\u001b[0m \u001b[1m0s\u001b[0m 7ms/step - accuracy: 0.6535 - loss: 1.0069 - val_accuracy: 0.6287 - val_loss: 1.1849\n",
            "Epoch 47/100\n",
            "\u001b[1m63/63\u001b[0m \u001b[32m━━━━━━━━━━━━━━━━━━━━\u001b[0m\u001b[37m\u001b[0m \u001b[1m0s\u001b[0m 7ms/step - accuracy: 0.6607 - loss: 1.0087 - val_accuracy: 0.6151 - val_loss: 1.1800\n",
            "Epoch 48/100\n",
            "\u001b[1m63/63\u001b[0m \u001b[32m━━━━━━━━━━━━━━━━━━━━\u001b[0m\u001b[37m\u001b[0m \u001b[1m1s\u001b[0m 8ms/step - accuracy: 0.6515 - loss: 1.0054 - val_accuracy: 0.6163 - val_loss: 1.1872\n",
            "Epoch 49/100\n",
            "\u001b[1m63/63\u001b[0m \u001b[32m━━━━━━━━━━━━━━━━━━━━\u001b[0m\u001b[37m\u001b[0m \u001b[1m0s\u001b[0m 7ms/step - accuracy: 0.6485 - loss: 1.0181 - val_accuracy: 0.6264 - val_loss: 1.1923\n",
            "Epoch 50/100\n",
            "\u001b[1m63/63\u001b[0m \u001b[32m━━━━━━━━━━━━━━━━━━━━\u001b[0m\u001b[37m\u001b[0m \u001b[1m0s\u001b[0m 7ms/step - accuracy: 0.6560 - loss: 1.0056 - val_accuracy: 0.5971 - val_loss: 1.1982\n",
            "Epoch 51/100\n",
            "\u001b[1m63/63\u001b[0m \u001b[32m━━━━━━━━━━━━━━━━━━━━\u001b[0m\u001b[37m\u001b[0m \u001b[1m0s\u001b[0m 6ms/step - accuracy: 0.6463 - loss: 1.0315 - val_accuracy: 0.6106 - val_loss: 1.1900\n",
            "Epoch 52/100\n",
            "\u001b[1m63/63\u001b[0m \u001b[32m━━━━━━━━━━━━━━━━━━━━\u001b[0m\u001b[37m\u001b[0m \u001b[1m0s\u001b[0m 7ms/step - accuracy: 0.6465 - loss: 1.0273 - val_accuracy: 0.6242 - val_loss: 1.1926\n",
            "Epoch 53/100\n",
            "\u001b[1m63/63\u001b[0m \u001b[32m━━━━━━━━━━━━━━━━━━━━\u001b[0m\u001b[37m\u001b[0m \u001b[1m0s\u001b[0m 6ms/step - accuracy: 0.6525 - loss: 1.0154 - val_accuracy: 0.6061 - val_loss: 1.1943\n",
            "70/70 - 0s - 5ms/step - accuracy: 0.6206 - loss: 1.1421\n"
          ]
        }
      ],
      "source": [
        "#construct the model\n",
        "inputs5 = keras.Input(shape=(X_train2.shape[1],))\n",
        "x5 = layers.Dense(128, activation = 'relu')(inputs5)\n",
        "outputs5 = layers.Dense(num_classes, activation='softmax')(x5)\n",
        "model5 = keras.Model(inputs=inputs5, outputs=outputs5)\n",
        "model5.compile(\n",
        "    loss=keras.losses.SparseCategoricalCrossentropy(from_logits=True),\n",
        "    optimizer=keras.optimizers.RMSprop(),\n",
        "    metrics=[\"accuracy\"],\n",
        ")\n",
        "\n",
        "history5 = model5.fit(X_train2, y_train2, batch_size = 128, callbacks=[early_stop], epochs=100, validation_split=0.1)\n",
        "\n",
        "scores5 = model5.evaluate(X_test2, y_test2, verbose=2)"
      ]
    },
    {
      "cell_type": "code",
      "execution_count": 55,
      "metadata": {
        "colab": {
          "base_uri": "https://localhost:8080/"
        },
        "id": "UWw2hXg17SwO",
        "outputId": "97b9deaf-0fb3-435a-8a51-6668109525b7"
      },
      "outputs": [
        {
          "name": "stdout",
          "output_type": "stream",
          "text": [
            "\u001b[1m70/70\u001b[0m \u001b[32m━━━━━━━━━━━━━━━━━━━━\u001b[0m\u001b[37m\u001b[0m \u001b[1m0s\u001b[0m 3ms/step\n",
            "              precision    recall  f1-score   support\n",
            "\n",
            "           0       0.71      0.48      0.57        56\n",
            "           1       0.38      0.24      0.29       125\n",
            "           2       0.83      0.45      0.59        11\n",
            "           4       0.67      0.67      0.67         6\n",
            "           5       0.44      0.47      0.45       217\n",
            "           8       0.58      0.79      0.67       705\n",
            "           9       1.00      0.40      0.57         5\n",
            "          10       0.76      0.88      0.81        40\n",
            "          11       0.80      0.57      0.67         7\n",
            "          12       1.00      0.75      0.86         4\n",
            "          14       0.88      0.82      0.85       368\n",
            "          15       0.00      0.00      0.00         2\n",
            "          17       0.00      0.00      0.00         3\n",
            "          18       0.38      0.17      0.24        35\n",
            "          19       0.58      0.41      0.48        17\n",
            "          20       0.00      0.00      0.00         3\n",
            "          21       0.00      0.00      0.00        10\n",
            "          22       0.96      0.77      0.85       167\n",
            "          23       0.00      0.00      0.00         1\n",
            "          24       0.50      0.40      0.44       376\n",
            "          26       0.61      0.30      0.40        56\n",
            "\n",
            "    accuracy                           0.62      2214\n",
            "   macro avg       0.53      0.41      0.45      2214\n",
            "weighted avg       0.62      0.62      0.61      2214\n",
            "\n"
          ]
        },
        {
          "name": "stderr",
          "output_type": "stream",
          "text": [
            "/Users/marvinlee/Documents/vs_code/gsb_544/gsb544env/lib/python3.12/site-packages/sklearn/metrics/_classification.py:1565: UndefinedMetricWarning: Precision is ill-defined and being set to 0.0 in labels with no predicted samples. Use `zero_division` parameter to control this behavior.\n",
            "  _warn_prf(average, modifier, f\"{metric.capitalize()} is\", len(result))\n",
            "/Users/marvinlee/Documents/vs_code/gsb_544/gsb544env/lib/python3.12/site-packages/sklearn/metrics/_classification.py:1565: UndefinedMetricWarning: Precision is ill-defined and being set to 0.0 in labels with no predicted samples. Use `zero_division` parameter to control this behavior.\n",
            "  _warn_prf(average, modifier, f\"{metric.capitalize()} is\", len(result))\n",
            "/Users/marvinlee/Documents/vs_code/gsb_544/gsb544env/lib/python3.12/site-packages/sklearn/metrics/_classification.py:1565: UndefinedMetricWarning: Precision is ill-defined and being set to 0.0 in labels with no predicted samples. Use `zero_division` parameter to control this behavior.\n",
            "  _warn_prf(average, modifier, f\"{metric.capitalize()} is\", len(result))\n"
          ]
        }
      ],
      "source": [
        "y_pred_proba5 = model5.predict(X_test2)\n",
        "y_pred_class5 = np.argmax(y_pred_proba5, axis=1)\n",
        "print(classification_report(y_test2, y_pred_class5))"
      ]
    },
    {
      "cell_type": "code",
      "execution_count": 56,
      "metadata": {
        "colab": {
          "base_uri": "https://localhost:8080/",
          "height": 651
        },
        "id": "-1jhKXLV7YY3",
        "outputId": "fc0c4929-3c60-48cc-b17d-de99c3e4a854"
      },
      "outputs": [
        {
          "data": {
            "image/png": "[encoded data removed]",
            "text/plain": [
              "<Figure size 640x480 with 2 Axes>"
            ]
          },
          "metadata": {},
          "output_type": "display_data"
        }
      ],
      "source": [
        "# Get unique classes in test set (sorted for consistent plotting)\n",
        "present_classes = np.unique(y_test2)\n",
        "\n",
        "# Build confusion matrix using only present labels\n",
        "cm5 = confusion_matrix(y_test2, y_pred_class5, labels=present_classes)\n",
        "\n",
        "# Optional: decode labels if using LabelEncoder\n",
        "label_names = le.inverse_transform(present_classes) if 'le' in globals() else present_classes\n",
        "\n",
        "# Display\n",
        "\n",
        "disp = ConfusionMatrixDisplay(confusion_matrix=cm5, display_labels=label_names)\n",
        "disp.plot(cmap=plt.cm.Blues)\n",
        "plt.title(\"Confusion Matrix (Filtered Classes)\")\n",
        "plt.xticks(rotation=90)\n",
        "plt.show()"
      ]
    },
    {
      "cell_type": "markdown",
      "metadata": {
        "id": "FejtdITS8DyP"
      },
      "source": [
        "**Model Summary**\n",
        "- Overall, the features don't have much prediting power in terms of price and nations.\n",
        "- For price, the data is long tail. There are outliners like 8,000,000 won.\n",
        "- For nation, the target is extrmely discrete with limit features to distinguish them besides local1. Local 1, if used, makes the analysis meaningles since it is basically nation itself.  \n",
        "- Reduing layer does not reduce the model performance."
      ]
    }
  ],
  "metadata": {
    "colab": {
      "provenance": []
    },
    "kernelspec": {
      "display_name": "gsb544env",
      "language": "python",
      "name": "python3"
    },
    "language_info": {
      "codemirror_mode": {
        "name": "ipython",
        "version": 3
      },
      "file_extension": ".py",
      "mimetype": "text/x-python",
      "name": "python",
      "nbconvert_exporter": "python",
      "pygments_lexer": "ipython3",
      "version": "3.12.4"
    }
  },
  "nbformat": 4,
  "nbformat_minor": 0
}
