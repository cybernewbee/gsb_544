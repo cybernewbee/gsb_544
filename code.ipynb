{
 "cells": [
  {
   "cell_type": "markdown",
   "metadata": {},
   "source": [
    "\n",
    "## manupulation\n",
    "\n",
    "### glimse\n",
    "df_name.head()\n",
    "df_name.info()\n",
    "\n",
    "### select a column\n",
    "df_name[\"column\"]\n",
    "df_name.loc[:, \"column\"]\n",
    "df_name.column # not good\n",
    "df_name.loc[:, [\"column\", \"column2\"]] # the second bracket idicates a list\n",
    "\n",
    "### filter \n",
    "df_name.iloc[[k, n+1]]\n",
    "df_titanic.iloc[k:n+1]\n",
    "\n",
    "#### bolean masking\n",
    "df_name[df_name[\"column\"] > 30]\n",
    "df_name[df_name[\"column\"] critria]\n",
    "df_name[(df_name[\"column\"] critria1) & (df_titanic[\"column2\"] == critria2)]\n",
    "df_name[(df_name[\"column\"] critria1) | (df_titanic[\"column2\"] == critria2)]\n",
    "\n",
    "### sorting \n",
    "\n",
    "\n",
    "## p9\n",
    "\n",
    "### scale\n",
    "scale_y_reverse()\n",
    "scale_\n",
    "\n"
   ]
  }
 ],
 "metadata": {
  "language_info": {
   "name": "python"
  }
 },
 "nbformat": 4,
 "nbformat_minor": 2
}
