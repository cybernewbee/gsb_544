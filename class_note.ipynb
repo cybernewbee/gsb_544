{
 "cells": [
  {
   "cell_type": "markdown",
   "metadata": {},
   "source": [
    "### bar\n",
    "one categorical variable x; optional categorical y\n",
    "### box plot \n",
    "optional categorical variable x, categorical y; mean; quantile\n",
    "### histogram\n",
    "one numerical variable x; optional categorical y; distrubituion; exploration\n",
    "bins = \n",
    "### density\n",
    "one numerical variable x; optional categorical y; looking at the range of x \n",
    "### scatter plot\n",
    "one numerical variable x; one numerical y; \n",
    "### line plot\n",
    "\n",
    "\n"
   ]
  }
 ],
 "metadata": {
  "language_info": {
   "name": "python"
  }
 },
 "nbformat": 4,
 "nbformat_minor": 2
}
