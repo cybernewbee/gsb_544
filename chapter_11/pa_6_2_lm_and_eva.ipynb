{
  "cells": [
    {
      "cell_type": "markdown",
      "metadata": {},
      "source": [
        "---\n",
        "title: PA 6.2 \n",
        "author: Marvin (Wenxiang) Li\n",
        "format:\n",
        "    html:\n",
        "        toc: true\n",
        "        code-fold: true\n",
        "embed-resources: true        \n",
        "---"
      ]
    },
    {
      "cell_type": "markdown",
      "metadata": {
        "id": "FdLoheP-mrxn"
      },
      "source": [
        "# Palmer Penguins Modeling\n",
        "\n",
        "Import the Palmer Penguins dataset and print out the first few rows.\n",
        "\n",
        "Suppose we want to predict `bill_depth_mm` using the other variables in the dataset.\n",
        "\n",
        "**Dummify** all variables that require this."
      ]
    },
    {
      "cell_type": "code",
      "execution_count": 2,
      "metadata": {
        "id": "GSysglBi9KEe"
      },
      "outputs": [],
      "source": [
        "import palmerpenguins as p\n",
        "import numpy as np\n",
        "import pandas as pd"
      ]
    },
    {
      "cell_type": "code",
      "execution_count": 3,
      "metadata": {
        "colab": {
          "base_uri": "https://localhost:8080/",
          "height": 206
        },
        "id": "TTNPyijr9D_7",
        "outputId": "718418bd-a808-4e2a-e3c7-32ed11f85e24"
      },
      "outputs": [
        {
          "data": {
            "text/html": [
              "<div>\n",
              "<style scoped>\n",
              "    .dataframe tbody tr th:only-of-type {\n",
              "        vertical-align: middle;\n",
              "    }\n",
              "\n",
              "    .dataframe tbody tr th {\n",
              "        vertical-align: top;\n",
              "    }\n",
              "\n",
              "    .dataframe thead th {\n",
              "        text-align: right;\n",
              "    }\n",
              "</style>\n",
              "<table border=\"1\" class=\"dataframe\">\n",
              "  <thead>\n",
              "    <tr style=\"text-align: right;\">\n",
              "      <th></th>\n",
              "      <th>species</th>\n",
              "      <th>island</th>\n",
              "      <th>bill_length_mm</th>\n",
              "      <th>bill_depth_mm</th>\n",
              "      <th>flipper_length_mm</th>\n",
              "      <th>body_mass_g</th>\n",
              "      <th>sex</th>\n",
              "      <th>year</th>\n",
              "    </tr>\n",
              "  </thead>\n",
              "  <tbody>\n",
              "    <tr>\n",
              "      <th>0</th>\n",
              "      <td>Adelie</td>\n",
              "      <td>Torgersen</td>\n",
              "      <td>39.1</td>\n",
              "      <td>18.7</td>\n",
              "      <td>181.0</td>\n",
              "      <td>3750.0</td>\n",
              "      <td>male</td>\n",
              "      <td>2007</td>\n",
              "    </tr>\n",
              "    <tr>\n",
              "      <th>1</th>\n",
              "      <td>Adelie</td>\n",
              "      <td>Torgersen</td>\n",
              "      <td>39.5</td>\n",
              "      <td>17.4</td>\n",
              "      <td>186.0</td>\n",
              "      <td>3800.0</td>\n",
              "      <td>female</td>\n",
              "      <td>2007</td>\n",
              "    </tr>\n",
              "    <tr>\n",
              "      <th>2</th>\n",
              "      <td>Adelie</td>\n",
              "      <td>Torgersen</td>\n",
              "      <td>40.3</td>\n",
              "      <td>18.0</td>\n",
              "      <td>195.0</td>\n",
              "      <td>3250.0</td>\n",
              "      <td>female</td>\n",
              "      <td>2007</td>\n",
              "    </tr>\n",
              "    <tr>\n",
              "      <th>3</th>\n",
              "      <td>Adelie</td>\n",
              "      <td>Torgersen</td>\n",
              "      <td>36.7</td>\n",
              "      <td>19.3</td>\n",
              "      <td>193.0</td>\n",
              "      <td>3450.0</td>\n",
              "      <td>female</td>\n",
              "      <td>2007</td>\n",
              "    </tr>\n",
              "    <tr>\n",
              "      <th>4</th>\n",
              "      <td>Adelie</td>\n",
              "      <td>Torgersen</td>\n",
              "      <td>39.3</td>\n",
              "      <td>20.6</td>\n",
              "      <td>190.0</td>\n",
              "      <td>3650.0</td>\n",
              "      <td>male</td>\n",
              "      <td>2007</td>\n",
              "    </tr>\n",
              "  </tbody>\n",
              "</table>\n",
              "</div>"
            ],
            "text/plain": [
              "  species     island  bill_length_mm  bill_depth_mm  flipper_length_mm  \\\n",
              "0  Adelie  Torgersen            39.1           18.7              181.0   \n",
              "1  Adelie  Torgersen            39.5           17.4              186.0   \n",
              "2  Adelie  Torgersen            40.3           18.0              195.0   \n",
              "3  Adelie  Torgersen            36.7           19.3              193.0   \n",
              "4  Adelie  Torgersen            39.3           20.6              190.0   \n",
              "\n",
              "   body_mass_g     sex  year  \n",
              "0       3750.0    male  2007  \n",
              "1       3800.0  female  2007  \n",
              "2       3250.0  female  2007  \n",
              "3       3450.0  female  2007  \n",
              "4       3650.0    male  2007  "
            ]
          },
          "execution_count": 3,
          "metadata": {},
          "output_type": "execute_result"
        }
      ],
      "source": [
        "penguins = p.load_penguins()\n",
        "penguins = penguins.dropna().reset_index(drop=True) # must reset index to match dummy variables\n",
        "penguins.head()"
      ]
    },
    {
      "cell_type": "markdown",
      "metadata": {
        "id": "TT1MVgaKm_gX"
      },
      "source": [
        "Let's use the other variables to predict `bill_depth_mm`. Prepare your data and fit the following models on a training dataset subset of the entire dataset:\n",
        "\n",
        "* Four different models, each containing a different set of predictor variables\n",
        "\n",
        "Create a plot like the right plot of Fig 1. in our `Model Validation` chapter with the training and test error plotted for each of your four models.\n",
        "\n",
        "Which of your models was best?"
      ]
    },
    {
      "cell_type": "code",
      "execution_count": 4,
      "metadata": {
        "id": "9yPWmxW35le9"
      },
      "outputs": [],
      "source": [
        "from sklearn.compose import ColumnTransformer\n",
        "from sklearn.linear_model import LinearRegression\n",
        "from sklearn.pipeline import Pipeline\n",
        "from sklearn.preprocessing import OneHotEncoder, StandardScaler, PolynomialFeatures\n",
        "from sklearn.model_selection import train_test_split"
      ]
    },
    {
      "cell_type": "code",
      "execution_count": 5,
      "metadata": {
        "id": "M6f7JWZTm6tn"
      },
      "outputs": [],
      "source": [
        "# Picking independent variables\n",
        "X = penguins.drop(\"bill_depth_mm\", axis = 1)\n",
        "y = penguins[\"bill_depth_mm\"]\n",
        "# Split the data\n",
        "X_train, X_test, y_train, y_test = train_test_split(X, y, test_size=0.2, random_state=42)"
      ]
    },
    {
      "cell_type": "markdown",
      "metadata": {
        "id": "TQQ6soMATd54"
      },
      "source": [
        "- Check X_train"
      ]
    },
    {
      "cell_type": "code",
      "execution_count": 6,
      "metadata": {
        "colab": {
          "base_uri": "https://localhost:8080/",
          "height": 143
        },
        "id": "s7gSaBtdTcWG",
        "outputId": "f68deda8-821d-457c-9a6d-5b0f13f08a10"
      },
      "outputs": [
        {
          "data": {
            "text/html": [
              "<div>\n",
              "<style scoped>\n",
              "    .dataframe tbody tr th:only-of-type {\n",
              "        vertical-align: middle;\n",
              "    }\n",
              "\n",
              "    .dataframe tbody tr th {\n",
              "        vertical-align: top;\n",
              "    }\n",
              "\n",
              "    .dataframe thead th {\n",
              "        text-align: right;\n",
              "    }\n",
              "</style>\n",
              "<table border=\"1\" class=\"dataframe\">\n",
              "  <thead>\n",
              "    <tr style=\"text-align: right;\">\n",
              "      <th></th>\n",
              "      <th>species</th>\n",
              "      <th>island</th>\n",
              "      <th>bill_length_mm</th>\n",
              "      <th>flipper_length_mm</th>\n",
              "      <th>body_mass_g</th>\n",
              "      <th>sex</th>\n",
              "      <th>year</th>\n",
              "    </tr>\n",
              "  </thead>\n",
              "  <tbody>\n",
              "    <tr>\n",
              "      <th>224</th>\n",
              "      <td>Gentoo</td>\n",
              "      <td>Biscoe</td>\n",
              "      <td>49.1</td>\n",
              "      <td>212.0</td>\n",
              "      <td>4625.0</td>\n",
              "      <td>female</td>\n",
              "      <td>2009</td>\n",
              "    </tr>\n",
              "    <tr>\n",
              "      <th>78</th>\n",
              "      <td>Adelie</td>\n",
              "      <td>Dream</td>\n",
              "      <td>37.3</td>\n",
              "      <td>191.0</td>\n",
              "      <td>3350.0</td>\n",
              "      <td>female</td>\n",
              "      <td>2008</td>\n",
              "    </tr>\n",
              "    <tr>\n",
              "      <th>295</th>\n",
              "      <td>Chinstrap</td>\n",
              "      <td>Dream</td>\n",
              "      <td>40.9</td>\n",
              "      <td>187.0</td>\n",
              "      <td>3200.0</td>\n",
              "      <td>female</td>\n",
              "      <td>2008</td>\n",
              "    </tr>\n",
              "  </tbody>\n",
              "</table>\n",
              "</div>"
            ],
            "text/plain": [
              "       species  island  bill_length_mm  flipper_length_mm  body_mass_g  \\\n",
              "224     Gentoo  Biscoe            49.1              212.0       4625.0   \n",
              "78      Adelie   Dream            37.3              191.0       3350.0   \n",
              "295  Chinstrap   Dream            40.9              187.0       3200.0   \n",
              "\n",
              "        sex  year  \n",
              "224  female  2009  \n",
              "78   female  2008  \n",
              "295  female  2008  "
            ]
          },
          "execution_count": 6,
          "metadata": {},
          "output_type": "execute_result"
        }
      ],
      "source": [
        "X_train.head(3)"
      ]
    },
    {
      "cell_type": "markdown",
      "metadata": {
        "id": "TSg-lQEGi6of"
      },
      "source": [
        "- Model 1  y = body_mass + sex"
      ]
    },
    {
      "cell_type": "code",
      "execution_count": 7,
      "metadata": {
        "id": "MCDbFfeooAEg"
      },
      "outputs": [],
      "source": [
        "# Model y = body_mass + sex\n",
        "ct1 = ColumnTransformer(\n",
        "  [\n",
        "    (\"dummify\", OneHotEncoder(drop='first', sparse_output = False), [\"sex\"]),\n",
        "    (\"standardize\", StandardScaler(), [\"body_mass_g\"])\n",
        "  ],\n",
        "  remainder = \"drop\"\n",
        ")\n",
        "# pipeline\n",
        "lr_pipeline1 = Pipeline([\n",
        "    (\"preprocessor\", ct1),  # First step: scale and dummy\n",
        "    (\"regressor\", LinearRegression())  # Second step: apply linear regression\n",
        "])"
      ]
    },
    {
      "cell_type": "code",
      "execution_count": 8,
      "metadata": {
        "id": "dfsJzvQv6Bus"
      },
      "outputs": [],
      "source": [
        "lr_pipeline1.fit(X_train, y_train)\n",
        "train_pred = lr_pipeline1.predict(X_train)\n",
        "test_pred = lr_pipeline1.predict(X_test)"
      ]
    },
    {
      "cell_type": "code",
      "execution_count": 9,
      "metadata": {
        "id": "GAOitPiLDp8d"
      },
      "outputs": [],
      "source": [
        "from sklearn.metrics import root_mean_squared_error, mean_squared_error, r2_score"
      ]
    },
    {
      "cell_type": "code",
      "execution_count": 10,
      "metadata": {
        "colab": {
          "base_uri": "https://localhost:8080/",
          "height": 89
        },
        "id": "h6Yp1qyCVZND",
        "outputId": "f39a9ad0-7306-4108-f1fb-165da9c67ae9"
      },
      "outputs": [
        {
          "data": {
            "text/html": [
              "<div>\n",
              "<style scoped>\n",
              "    .dataframe tbody tr th:only-of-type {\n",
              "        vertical-align: middle;\n",
              "    }\n",
              "\n",
              "    .dataframe tbody tr th {\n",
              "        vertical-align: top;\n",
              "    }\n",
              "\n",
              "    .dataframe thead th {\n",
              "        text-align: right;\n",
              "    }\n",
              "</style>\n",
              "<table border=\"1\" class=\"dataframe\">\n",
              "  <thead>\n",
              "    <tr style=\"text-align: right;\">\n",
              "      <th></th>\n",
              "      <th>model</th>\n",
              "      <th>num_of_features</th>\n",
              "      <th>train_mse</th>\n",
              "      <th>test_mse</th>\n",
              "      <th>r2_train</th>\n",
              "      <th>r2_test</th>\n",
              "      <th>rmse_train</th>\n",
              "      <th>rmse_test</th>\n",
              "    </tr>\n",
              "  </thead>\n",
              "  <tbody>\n",
              "    <tr>\n",
              "      <th>0</th>\n",
              "      <td>model 1</td>\n",
              "      <td>2</td>\n",
              "      <td>1.398068</td>\n",
              "      <td>1.70616</td>\n",
              "      <td>0.638063</td>\n",
              "      <td>0.540367</td>\n",
              "      <td>1.182399</td>\n",
              "      <td>1.3062</td>\n",
              "    </tr>\n",
              "  </tbody>\n",
              "</table>\n",
              "</div>"
            ],
            "text/plain": [
              "     model  num_of_features  train_mse  test_mse  r2_train   r2_test  \\\n",
              "0  model 1                2   1.398068   1.70616  0.638063  0.540367   \n",
              "\n",
              "   rmse_train  rmse_test  \n",
              "0    1.182399     1.3062  "
            ]
          },
          "execution_count": 10,
          "metadata": {},
          "output_type": "execute_result"
        }
      ],
      "source": [
        "# Calculate evaluation metrics\n",
        "result1 = pd.DataFrame([{\n",
        "        \"model\": \"model 1\",\n",
        "        \"num_of_features\": ct1.fit_transform(X_train).shape[1],\n",
        "        \"train_mse\": mean_squared_error(y_train, train_pred),\n",
        "        \"test_mse\": mean_squared_error(y_test, test_pred),\n",
        "        \"r2_train\": r2_score(y_train, train_pred),\n",
        "        \"r2_test\": r2_score(y_test, test_pred),\n",
        "        \"rmse_train\": root_mean_squared_error(y_train, train_pred),\n",
        "        \"rmse_test\": root_mean_squared_error(y_test, test_pred)\n",
        "  }])\n",
        "result1"
      ]
    },
    {
      "cell_type": "markdown",
      "metadata": {
        "id": "gRGe6jaWk25F"
      },
      "source": [
        "- Model 2 y = body_mass + species + flipper_length_mm\n"
      ]
    },
    {
      "cell_type": "code",
      "execution_count": 37,
      "metadata": {
        "id": "ERzm0v6rk8X_"
      },
      "outputs": [],
      "source": [
        "# Model y = body_mass + species + flipper_length_mm\n",
        "ct2 = ColumnTransformer(\n",
        "  [\n",
        "    (\"dummify\", OneHotEncoder(drop='first', sparse_output = False), [\"species\"]),\n",
        "    (\"standardize\", StandardScaler(), [\"body_mass_g\",\"flipper_length_mm\"])\n",
        "  ],\n",
        "  remainder = \"drop\"\n",
        ")\n",
        "# pipeline\n",
        "lr_pipeline2 = Pipeline([\n",
        "    (\"preprocessor\", ct2),  # First step: scale and dummy\n",
        "    (\"regressor\", LinearRegression())  # Second step: apply linear regression\n",
        "])"
      ]
    },
    {
      "cell_type": "code",
      "execution_count": 38,
      "metadata": {
        "id": "9iV06SyslMRS"
      },
      "outputs": [],
      "source": [
        "lr_pipeline2.fit(X_train, y_train)\n",
        "train_pred2 = lr_pipeline2.predict(X_train)\n",
        "test_pred2 = lr_pipeline2.predict(X_test)"
      ]
    },
    {
      "cell_type": "code",
      "execution_count": 39,
      "metadata": {
        "colab": {
          "base_uri": "https://localhost:8080/",
          "height": 89
        },
        "id": "COIJ8Rv0lRpf",
        "outputId": "7a832c9a-95dd-449f-b00a-aaccd91d16c6"
      },
      "outputs": [
        {
          "data": {
            "text/html": [
              "<div>\n",
              "<style scoped>\n",
              "    .dataframe tbody tr th:only-of-type {\n",
              "        vertical-align: middle;\n",
              "    }\n",
              "\n",
              "    .dataframe tbody tr th {\n",
              "        vertical-align: top;\n",
              "    }\n",
              "\n",
              "    .dataframe thead th {\n",
              "        text-align: right;\n",
              "    }\n",
              "</style>\n",
              "<table border=\"1\" class=\"dataframe\">\n",
              "  <thead>\n",
              "    <tr style=\"text-align: right;\">\n",
              "      <th></th>\n",
              "      <th>model</th>\n",
              "      <th>num_of_features</th>\n",
              "      <th>train_mse</th>\n",
              "      <th>test_mse</th>\n",
              "      <th>r2_train</th>\n",
              "      <th>r2_test</th>\n",
              "      <th>rmse_train</th>\n",
              "      <th>rmse_test</th>\n",
              "    </tr>\n",
              "  </thead>\n",
              "  <tbody>\n",
              "    <tr>\n",
              "      <th>0</th>\n",
              "      <td>model 2</td>\n",
              "      <td>4</td>\n",
              "      <td>0.665424</td>\n",
              "      <td>1.003254</td>\n",
              "      <td>0.827733</td>\n",
              "      <td>0.729727</td>\n",
              "      <td>0.815735</td>\n",
              "      <td>1.001626</td>\n",
              "    </tr>\n",
              "  </tbody>\n",
              "</table>\n",
              "</div>"
            ],
            "text/plain": [
              "     model  num_of_features  train_mse  test_mse  r2_train   r2_test  \\\n",
              "0  model 2                4   0.665424  1.003254  0.827733  0.729727   \n",
              "\n",
              "   rmse_train  rmse_test  \n",
              "0    0.815735   1.001626  "
            ]
          },
          "execution_count": 39,
          "metadata": {},
          "output_type": "execute_result"
        }
      ],
      "source": [
        "# Calculate evaluation metrics\n",
        "result2 = pd.DataFrame([{\n",
        "        \"model\": \"model 2\",\n",
        "        \"num_of_features\": ct2.fit_transform(X_train).shape[1],\n",
        "        \"train_mse\": mean_squared_error(y_train, train_pred2),\n",
        "        \"test_mse\": mean_squared_error(y_test, test_pred2),\n",
        "        \"r2_train\": r2_score(y_train, train_pred2),\n",
        "        \"r2_test\": r2_score(y_test, test_pred2),\n",
        "        \"rmse_train\": root_mean_squared_error(y_train, train_pred2),\n",
        "        \"rmse_test\": root_mean_squared_error(y_test, test_pred2)\n",
        "  }])\n",
        "result2"
      ]
    },
    {
      "cell_type": "markdown",
      "metadata": {
        "id": "vZnOumL3AvMu"
      },
      "source": [
        "- Model 3 body_mass*sex"
      ]
    },
    {
      "cell_type": "code",
      "execution_count": 25,
      "metadata": {
        "colab": {
          "base_uri": "https://localhost:8080/"
        },
        "id": "HRtb-ulrZAx0",
        "outputId": "a1fb672c-ed80-47de-9f8f-58cd74332a7b"
      },
      "outputs": [
        {
          "name": "stdout",
          "output_type": "stream",
          "text": [
            "     dummify__sex_male  standardize__body_mass_g\n",
            "224                0.0                  0.484684\n"
          ]
        }
      ],
      "source": [
        "# Model y = body_mass*sex\n",
        "ct3 = ColumnTransformer(\n",
        "  [(\"dummify\", OneHotEncoder(drop='first', sparse_output = False), [\"sex\"]),\n",
        "   (\"standardize\", StandardScaler(), [\"body_mass_g\"])\n",
        "  ],\n",
        "  remainder = \"drop\"\n",
        ").set_output(transform = \"pandas\")\n",
        "ct3_transformed = ct3.fit_transform(X_train)\n",
        "print(ct3_transformed[:1])"
      ]
    },
    {
      "cell_type": "code",
      "execution_count": 26,
      "metadata": {
        "colab": {
          "base_uri": "https://localhost:8080/"
        },
        "id": "Lc297QEtfm-e",
        "outputId": "3274a83f-e3d0-411b-a57e-58117a298142"
      },
      "outputs": [
        {
          "name": "stdout",
          "output_type": "stream",
          "text": [
            "     interaction__standardize__body_mass_g  interaction__dummify__sex_male  \\\n",
            "224                               0.484684                             0.0   \n",
            "78                               -1.090219                             0.0   \n",
            "295                              -1.275502                             0.0   \n",
            "\n",
            "     interaction__standardize__body_mass_g dummify__sex_male  \n",
            "224                                                0.0        \n",
            "78                                                -0.0        \n",
            "295                                               -0.0        \n"
          ]
        }
      ],
      "source": [
        "ct3_inter = ColumnTransformer(\n",
        "  [\n",
        "    (\"interaction\", PolynomialFeatures(interaction_only=True, include_bias=False), [\"standardize__body_mass_g\", \"dummify__sex_male\"]),\n",
        "  ],\n",
        "  remainder = \"drop\"\n",
        ").set_output(transform = \"pandas\")\n",
        "ct3_inter_transformed = ct3_inter.fit_transform(ct3_transformed)\n",
        "print(ct3_inter_transformed[0:3])"
      ]
    },
    {
      "cell_type": "code",
      "execution_count": 29,
      "metadata": {
        "id": "mmvp2KAJjhyk"
      },
      "outputs": [],
      "source": [
        "# pipeline\n",
        "lr_pipeline3 = Pipeline([\n",
        "    (\"preprocessor\", ct3),\n",
        "    (\"interacton\", ct3_inter),                            # First step: scale and dummy\n",
        "    (\"regressor\", LinearRegression())  # Second step: apply linear regression\n",
        "])"
      ]
    },
    {
      "cell_type": "code",
      "execution_count": 30,
      "metadata": {
        "colab": {
          "base_uri": "https://localhost:8080/",
          "height": 89
        },
        "id": "Pyu_FqDUi-_V",
        "outputId": "ac60d66e-fd00-40f2-bca7-ccc0770150b8"
      },
      "outputs": [
        {
          "data": {
            "text/html": [
              "<div>\n",
              "<style scoped>\n",
              "    .dataframe tbody tr th:only-of-type {\n",
              "        vertical-align: middle;\n",
              "    }\n",
              "\n",
              "    .dataframe tbody tr th {\n",
              "        vertical-align: top;\n",
              "    }\n",
              "\n",
              "    .dataframe thead th {\n",
              "        text-align: right;\n",
              "    }\n",
              "</style>\n",
              "<table border=\"1\" class=\"dataframe\">\n",
              "  <thead>\n",
              "    <tr style=\"text-align: right;\">\n",
              "      <th></th>\n",
              "      <th>model</th>\n",
              "      <th>num_of_features</th>\n",
              "      <th>train_mse</th>\n",
              "      <th>test_mse</th>\n",
              "      <th>r2_train</th>\n",
              "      <th>r2_test</th>\n",
              "      <th>rmse_train</th>\n",
              "      <th>rmse_test</th>\n",
              "    </tr>\n",
              "  </thead>\n",
              "  <tbody>\n",
              "    <tr>\n",
              "      <th>0</th>\n",
              "      <td>model 3</td>\n",
              "      <td>3</td>\n",
              "      <td>1.392711</td>\n",
              "      <td>1.695057</td>\n",
              "      <td>0.63945</td>\n",
              "      <td>0.543358</td>\n",
              "      <td>1.180132</td>\n",
              "      <td>1.301943</td>\n",
              "    </tr>\n",
              "  </tbody>\n",
              "</table>\n",
              "</div>"
            ],
            "text/plain": [
              "     model  num_of_features  train_mse  test_mse  r2_train   r2_test  \\\n",
              "0  model 3                3   1.392711  1.695057   0.63945  0.543358   \n",
              "\n",
              "   rmse_train  rmse_test  \n",
              "0    1.180132   1.301943  "
            ]
          },
          "execution_count": 30,
          "metadata": {},
          "output_type": "execute_result"
        }
      ],
      "source": [
        "lr_pipeline3.fit(X_train, y_train)\n",
        "train_pred3 = lr_pipeline3.predict(X_train)\n",
        "test_pred3 = lr_pipeline3.predict(X_test)\n",
        "result3 = pd.DataFrame([{\n",
        "        \"model\": \"model 3\",\n",
        "        \"num_of_features\": ct3_inter_transformed.shape[1],\n",
        "        \"train_mse\": mean_squared_error(y_train, train_pred3),\n",
        "        \"test_mse\": mean_squared_error(y_test, test_pred3),\n",
        "        \"r2_train\": r2_score(y_train, train_pred3),\n",
        "        \"r2_test\": r2_score(y_test, test_pred3),\n",
        "        \"rmse_train\": root_mean_squared_error(y_train, train_pred3),\n",
        "        \"rmse_test\": root_mean_squared_error(y_test, test_pred3)\n",
        "  }])\n",
        "result3"
      ]
    },
    {
      "cell_type": "markdown",
      "metadata": {
        "id": "hX6sup_OltMg"
      },
      "source": [
        "- Model 4 # Model y = body_mass + speices island + sex\n"
      ]
    },
    {
      "cell_type": "code",
      "execution_count": 31,
      "metadata": {
        "colab": {
          "base_uri": "https://localhost:8080/"
        },
        "id": "ki6uZG18lxrB",
        "outputId": "d6d4442d-10e9-4946-a8ea-2d0dd62f4a20"
      },
      "outputs": [
        {
          "name": "stdout",
          "output_type": "stream",
          "text": [
            "     dummify__species_Chinstrap  dummify__species_Gentoo  dummify__sex_male  \\\n",
            "224                         0.0                      1.0                0.0   \n",
            "\n",
            "     dummify__island_Dream  dummify__island_Torgersen  \\\n",
            "224                    0.0                        0.0   \n",
            "\n",
            "     standardize__body_mass_g  \n",
            "224                  0.484684  \n"
          ]
        }
      ],
      "source": [
        "# Model y = body_mass + speices island + sex\n",
        "ct4 = ColumnTransformer(\n",
        "  [(\"dummify\", OneHotEncoder(drop='first', sparse_output = False), [\"species\", \"sex\", \"island\"]),\n",
        "   (\"standardize\", StandardScaler(), [\"body_mass_g\"])\n",
        "  ],\n",
        "  remainder = \"drop\"\n",
        ").set_output(transform = \"pandas\")\n",
        "ct4_transformed = ct4.fit_transform(X_train)\n",
        "print(ct4_transformed[:1])"
      ]
    },
    {
      "cell_type": "code",
      "execution_count": 32,
      "metadata": {
        "id": "JVDBdidgq-Th"
      },
      "outputs": [],
      "source": [
        "# pipeline\n",
        "lr_pipeline4 = Pipeline([\n",
        "    (\"preprocessor\", ct4),\n",
        "    (\"regressor\", LinearRegression())  # Second step: apply linear regression\n",
        "])"
      ]
    },
    {
      "cell_type": "code",
      "execution_count": 33,
      "metadata": {
        "colab": {
          "base_uri": "https://localhost:8080/",
          "height": 89
        },
        "id": "DyPa7FterD6b",
        "outputId": "86d33f4b-f472-4ec6-8016-6428d9b4b133"
      },
      "outputs": [
        {
          "data": {
            "text/html": [
              "<div>\n",
              "<style scoped>\n",
              "    .dataframe tbody tr th:only-of-type {\n",
              "        vertical-align: middle;\n",
              "    }\n",
              "\n",
              "    .dataframe tbody tr th {\n",
              "        vertical-align: top;\n",
              "    }\n",
              "\n",
              "    .dataframe thead th {\n",
              "        text-align: right;\n",
              "    }\n",
              "</style>\n",
              "<table border=\"1\" class=\"dataframe\">\n",
              "  <thead>\n",
              "    <tr style=\"text-align: right;\">\n",
              "      <th></th>\n",
              "      <th>model</th>\n",
              "      <th>num_of_features</th>\n",
              "      <th>train_mse</th>\n",
              "      <th>test_mse</th>\n",
              "      <th>r2_train</th>\n",
              "      <th>r2_test</th>\n",
              "      <th>rmse_train</th>\n",
              "      <th>rmse_test</th>\n",
              "    </tr>\n",
              "  </thead>\n",
              "  <tbody>\n",
              "    <tr>\n",
              "      <th>0</th>\n",
              "      <td>model 4</td>\n",
              "      <td>6</td>\n",
              "      <td>0.563447</td>\n",
              "      <td>0.916249</td>\n",
              "      <td>0.854133</td>\n",
              "      <td>0.753166</td>\n",
              "      <td>0.750631</td>\n",
              "      <td>0.957209</td>\n",
              "    </tr>\n",
              "  </tbody>\n",
              "</table>\n",
              "</div>"
            ],
            "text/plain": [
              "     model  num_of_features  train_mse  test_mse  r2_train   r2_test  \\\n",
              "0  model 4                6   0.563447  0.916249  0.854133  0.753166   \n",
              "\n",
              "   rmse_train  rmse_test  \n",
              "0    0.750631   0.957209  "
            ]
          },
          "execution_count": 33,
          "metadata": {},
          "output_type": "execute_result"
        }
      ],
      "source": [
        "lr_pipeline4.fit(X_train, y_train)\n",
        "train_pred4 = lr_pipeline4.predict(X_train)\n",
        "test_pred4 = lr_pipeline4.predict(X_test)\n",
        "result4 = pd.DataFrame([{\n",
        "        \"model\": \"model 4\",\n",
        "        \"num_of_features\": ct4_inter_transformed.shape[1],\n",
        "        \"train_mse\": mean_squared_error(y_train, train_pred4),\n",
        "        \"test_mse\": mean_squared_error(y_test, test_pred4),\n",
        "        \"r2_train\": r2_score(y_train, train_pred4),\n",
        "        \"r2_test\": r2_score(y_test, test_pred4),\n",
        "        \"rmse_train\": root_mean_squared_error(y_train, train_pred4),\n",
        "        \"rmse_test\": root_mean_squared_error(y_test, test_pred4)\n",
        "  }])\n",
        "result4"
      ]
    },
    {
      "cell_type": "code",
      "execution_count": 40,
      "metadata": {
        "colab": {
          "base_uri": "https://localhost:8080/",
          "height": 175
        },
        "id": "TDktgAN7rUH0",
        "outputId": "f4179d26-5a01-48c9-fe28-aa676f125edd"
      },
      "outputs": [
        {
          "data": {
            "text/html": [
              "<div>\n",
              "<style scoped>\n",
              "    .dataframe tbody tr th:only-of-type {\n",
              "        vertical-align: middle;\n",
              "    }\n",
              "\n",
              "    .dataframe tbody tr th {\n",
              "        vertical-align: top;\n",
              "    }\n",
              "\n",
              "    .dataframe thead th {\n",
              "        text-align: right;\n",
              "    }\n",
              "</style>\n",
              "<table border=\"1\" class=\"dataframe\">\n",
              "  <thead>\n",
              "    <tr style=\"text-align: right;\">\n",
              "      <th></th>\n",
              "      <th>model</th>\n",
              "      <th>num_of_features</th>\n",
              "      <th>train_mse</th>\n",
              "      <th>test_mse</th>\n",
              "      <th>r2_train</th>\n",
              "      <th>r2_test</th>\n",
              "      <th>rmse_train</th>\n",
              "      <th>rmse_test</th>\n",
              "    </tr>\n",
              "  </thead>\n",
              "  <tbody>\n",
              "    <tr>\n",
              "      <th>0</th>\n",
              "      <td>model 1</td>\n",
              "      <td>2</td>\n",
              "      <td>1.398068</td>\n",
              "      <td>1.706160</td>\n",
              "      <td>0.638063</td>\n",
              "      <td>0.540367</td>\n",
              "      <td>1.182399</td>\n",
              "      <td>1.306200</td>\n",
              "    </tr>\n",
              "    <tr>\n",
              "      <th>1</th>\n",
              "      <td>model 2</td>\n",
              "      <td>4</td>\n",
              "      <td>0.665424</td>\n",
              "      <td>1.003254</td>\n",
              "      <td>0.827733</td>\n",
              "      <td>0.729727</td>\n",
              "      <td>0.815735</td>\n",
              "      <td>1.001626</td>\n",
              "    </tr>\n",
              "    <tr>\n",
              "      <th>2</th>\n",
              "      <td>model 3</td>\n",
              "      <td>3</td>\n",
              "      <td>1.392711</td>\n",
              "      <td>1.695057</td>\n",
              "      <td>0.639450</td>\n",
              "      <td>0.543358</td>\n",
              "      <td>1.180132</td>\n",
              "      <td>1.301943</td>\n",
              "    </tr>\n",
              "    <tr>\n",
              "      <th>3</th>\n",
              "      <td>model 4</td>\n",
              "      <td>6</td>\n",
              "      <td>0.563447</td>\n",
              "      <td>0.916249</td>\n",
              "      <td>0.854133</td>\n",
              "      <td>0.753166</td>\n",
              "      <td>0.750631</td>\n",
              "      <td>0.957209</td>\n",
              "    </tr>\n",
              "  </tbody>\n",
              "</table>\n",
              "</div>"
            ],
            "text/plain": [
              "     model  num_of_features  train_mse  test_mse  r2_train   r2_test  \\\n",
              "0  model 1                2   1.398068  1.706160  0.638063  0.540367   \n",
              "1  model 2                4   0.665424  1.003254  0.827733  0.729727   \n",
              "2  model 3                3   1.392711  1.695057  0.639450  0.543358   \n",
              "3  model 4                6   0.563447  0.916249  0.854133  0.753166   \n",
              "\n",
              "   rmse_train  rmse_test  \n",
              "0    1.182399   1.306200  \n",
              "1    0.815735   1.001626  \n",
              "2    1.180132   1.301943  \n",
              "3    0.750631   0.957209  "
            ]
          },
          "execution_count": 40,
          "metadata": {},
          "output_type": "execute_result"
        }
      ],
      "source": [
        "model_selected = pd.concat([result1, result2, result3, result4], ignore_index=True)\n",
        "model_selected"
      ]
    },
    {
      "cell_type": "code",
      "execution_count": 41,
      "metadata": {
        "id": "nIe0HorWryc7"
      },
      "outputs": [],
      "source": [
        "# ploting\n",
        "import plotnine as p9"
      ]
    },
    {
      "cell_type": "code",
      "execution_count": 42,
      "metadata": {
        "colab": {
          "base_uri": "https://localhost:8080/",
          "height": 497
        },
        "id": "eJGB9uUotlau",
        "outputId": "19b8c369-c282-45fd-f618-233e8483ea09"
      },
      "outputs": [
        {
          "data": {
            "image/png": "[encoded data removed]"
          },
          "metadata": {
            "image/png": {
              "height": 480,
              "width": 640
            }
          },
          "output_type": "display_data"
        }
      ],
      "source": [
        "(p9.ggplot(model_selected, p9.aes(x='num_of_features')) +\n",
        "         p9.geom_line(p9.aes(y='test_mse'), color='green', size=1.2) +\n",
        "         p9.geom_line(p9.aes(y='train_mse'), color='red', size=1.2)   # Regression line\n",
        "        )\n"
      ]
    }
  ],
  "metadata": {
    "colab": {
      "provenance": []
    },
    "kernelspec": {
      "display_name": "base",
      "language": "python",
      "name": "python3"
    },
    "language_info": {
      "codemirror_mode": {
        "name": "ipython",
        "version": 3
      },
      "file_extension": ".py",
      "mimetype": "text/x-python",
      "name": "python",
      "nbconvert_exporter": "python",
      "pygments_lexer": "ipython3",
      "version": "3.12.4"
    }
  },
  "nbformat": 4,
  "nbformat_minor": 0
}
